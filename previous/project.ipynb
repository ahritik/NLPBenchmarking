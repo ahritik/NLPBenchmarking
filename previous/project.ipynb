{
 "cells": [
  {
   "cell_type": "code",
   "execution_count": 13,
   "id": "8473696d",
   "metadata": {},
   "outputs": [
    {
     "name": "stdout",
     "output_type": "stream",
     "text": [
      "2.7.0+cu118\n",
      "True\n",
      "11.8\n",
      "2.2.5\n"
     ]
    }
   ],
   "source": [
    "import torch\n",
    "import numpy\n",
    "print(torch.__version__)\n",
    "print(torch.cuda.is_available())\n",
    "print(torch.version.cuda)\n",
    "print(numpy.__version__)"
   ]
  },
  {
   "cell_type": "code",
   "execution_count": 3,
   "id": "c6442e26",
   "metadata": {},
   "outputs": [
    {
     "name": "stdout",
     "output_type": "stream",
     "text": [
      "d:\\torch_env\\lib\\site-packages\\numpy\\__init__.py\n",
      "<class 'numpy.ndarray'>\n"
     ]
    }
   ],
   "source": [
    "import numpy as np\n",
    "print(np.__file__)\n",
    "print(np.ndarray)"
   ]
  },
  {
   "cell_type": "code",
   "execution_count": 14,
   "id": "09e5d1dd",
   "metadata": {},
   "outputs": [],
   "source": [
    "import os\n",
    "\n",
    "# Set Hugging Face cache directories to D: drive\n",
    "os.environ['TRANSFORMERS_CACHE'] = 'D:/huggingface/cache/transformers'\n",
    "os.environ['HF_DATASETS_CACHE'] = 'D:/huggingface/cache/datasets'\n",
    "os.environ['HF_METRICS_CACHE'] = 'D:/huggingface/cache/metrics'\n",
    "os.environ['HF_HOME'] = 'D:/huggingface/cache/home'"
   ]
  },
  {
   "cell_type": "code",
   "execution_count": 10,
   "id": "8a7b84cc",
   "metadata": {},
   "outputs": [],
   "source": [
    "torch.cuda.empty_cache()   "
   ]
  },
  {
   "cell_type": "code",
   "execution_count": 26,
   "id": "98a24a90",
   "metadata": {},
   "outputs": [
    {
     "name": "stderr",
     "output_type": "stream",
     "text": [
      "Loading checkpoint shards: 100%|██████████| 2/2 [01:16<00:00, 38.36s/it]\n"
     ]
    }
   ],
   "source": [
    "from transformers import AutoModelForCausalLM, AutoTokenizer, BitsAndBytesConfig\n",
    "\n",
    "bnb_config = BitsAndBytesConfig(\n",
    "    load_in_8bit=True,  # or use `load_in_4bit=True`\n",
    "    llm_int8_threshold=6.0,\n",
    "    llm_int8_skip_modules=None,\n",
    "    bnb_8bit_compute_dtype=torch.float16,\n",
    "    device_map=\"auto\"\n",
    ")\n",
    "\n",
    "model = AutoModelForCausalLM.from_pretrained(\n",
    "    \"ibm-granite/granite-3.3-2b-instruct\",  # or your model\n",
    "    quantization_config=bnb_config,\n",
    "    torch_dtype=torch.float16\n",
    ")\n"
   ]
  },
  {
   "cell_type": "code",
   "execution_count": null,
   "id": "cf18307a",
   "metadata": {},
   "outputs": [
    {
     "name": "stdout",
     "output_type": "stream",
     "text": [
      "{'': 0}\n"
     ]
    },
    {
     "data": {
      "text/plain": [
       "device(type='cuda', index=0)"
      ]
     },
     "execution_count": 6,
     "metadata": {},
     "output_type": "execute_result"
    }
   ],
   "source": [
    "print(model.hf_device_map)\n",
    "next(model.parameters()).device"
   ]
  },
  {
   "cell_type": "code",
   "execution_count": null,
   "id": "029f1b6f",
   "metadata": {},
   "outputs": [
    {
     "name": "stderr",
     "output_type": "stream",
     "text": [
      "  0%|          | 0/2043 [00:00<?, ?it/s]"
     ]
    },
    {
     "name": "stdout",
     "output_type": "stream",
     "text": [
      "[\"Question: Urogenital Diaphragm is made up of the following, except:\\nA. Deep transverse Perineus\\nB. Perinial membrane\\nC. Colle's fascia\\nD. Sphincter Urethrae\\nChoose the correct option (A, B, C, or D):\", 'Question: Child with Type I Diabetes. What is the advised time for fundus examinations from the time of diagnosis?\\nA. After 5 years\\nB. After 2 years\\nC. After 10 years\\nD. At the time of diagnosis\\nChoose the correct option (A, B, C, or D):', 'Question: Most sensitive test for H pylori is-\\nA. Fecal antigen test\\nB. Biopsy urease test\\nC. Serological test\\nD. Urea breath test\\nChoose the correct option (A, B, C, or D):', 'Question: Ligation of the common hepatic aery will compromise blood flow in\\nA. Right and Left gastric aery\\nB. Right gastric and sho gastric aeries\\nC. Right gastroepiploic and sho gastric aeries\\nD. Right gastric and right gastroepiploic aery\\nChoose the correct option (A, B, C, or D):', 'Question: Typhoid investigation of choice in 1st week\\nA. Blood culture\\nB. Widal test\\nC. Stool culture\\nD. Urine culture\\nChoose the correct option (A, B, C, or D):', 'Question: Perforation of stomach is more common due to ingestion of -\\nA. Nitric acid\\nB. Sulphuric acid\\nC. Hydrochloric acid\\nD. Carbolic acid\\nChoose the correct option (A, B, C, or D):', 'Question: Brown tumour is seen in\\nA. Hyperparathyroidism\\nB. Hypoparathyroidism\\nC. Hypothyroidism\\nD. Hypehyroidism\\nChoose the correct option (A, B, C, or D):', 'Question: The technique for accurate quantification of gene expression is\\nA. Nohern blot\\nB. PCR\\nC. Real-Time Reverse Transcriptase PCR\\nD. Reverse Transcriptase PCR\\nChoose the correct option (A, B, C, or D):', 'Question: A patient presents to the doctor with diplopia when looking towards the right. On examination, he is unable to move his right eye laterally past the midline. Damage to which of these nerves would produce this clinical presentation?\\nA. Abducent nerve\\nB. Trochlear nerve\\nC. Optic nerve\\nD. Oculomotor nerve\\nChoose the correct option (A, B, C, or D):', 'Question: The arrow marked structure is which part of corpus callosum:\\nA. Rostrum\\nB. Genu\\nC. Body\\nD. Splenium\\nChoose the correct option (A, B, C, or D):', 'Question: Cytosolic cytochrome C plays an impoant function in -\\nA. Apoptosis\\nB. Cell necrosis\\nC. Electron transpo chain\\nD. Cell division\\nChoose the correct option (A, B, C, or D):', 'Question: Trigeminal nerve has how many nucleus?\\nA. 2\\nB. 3\\nC. 4\\nD. 5\\nChoose the correct option (A, B, C, or D):', 'Question: The deformity of tibia in triple deformity of the knee is?\\nA. Extension, Posterior subluxation & external rotation\\nB. Flexion, posterior subluxation & external rotation\\nC. Flexion, posterior subluxation & internal rotation\\nD. Extension, Anterior subluxation & internal rotation\\nChoose the correct option (A, B, C, or D):', 'Question: What is the most common site of origin of thrombotic pulmonary emboli?\\nA. Deep leg veins\\nB. Lumen of left ventricle\\nC. Lumen of right ventricle\\nD. Mesenteric veins\\nChoose the correct option (A, B, C, or D):', 'Question: Which of the following nipple discharge is most probably; physiological:\\nA. B/L spontaneous discharge\\nB. B/L milky discharge with squeezing from multiple ducts\\nC. U/L bloody discharge\\nD. U/L bloody discharge with squeezing from a single duct\\nChoose the correct option (A, B, C, or D):', 'Question: Hallmark of breast malignancy on mammography?\\nA. Low density lesion\\nB. Smooth margins\\nC. Clusters of microcalcification\\nD. Popcorn calcification\\nChoose the correct option (A, B, C, or D):']\n"
     ]
    },
    {
     "name": "stderr",
     "output_type": "stream",
     "text": [
      "  0%|          | 1/2043 [00:01<56:56,  1.67s/it]"
     ]
    },
    {
     "name": "stdout",
     "output_type": "stream",
     "text": [
      "['Question: Computed Tomography (CT scan) is least accurate for diagnosts of:\\nA. 1cm size Aneurysm in the Hepatic Aery\\nB. 1cm size Lymph node inthe para-aoic region\\nC. 1cm size Mass in the tail of pancreas\\nD. 1cm size Gall stones\\nChoose the correct option (A, B, C, or D):', 'Question: NO is synthesized by -\\nA. Uracil\\nB. Aspartate\\nC. Guanosine\\nD. Arginine\\nChoose the correct option (A, B, C, or D):', 'Question: The serum concentration of which of the following human Ig is maximum:\\nA. IgG\\nB. IgA\\nC. IgM\\nD. IgD\\nChoose the correct option (A, B, C, or D):', 'Question: Arlts line is seen in\\nA. Vernal keratoconjunctis\\nB. Pterygium\\nC. Ocular pemphigoid\\nD. Trachoma\\nChoose the correct option (A, B, C, or D):', \"Question: A young male patient presents with complete rectal prolapse. The surgery of choice is\\nA. Abdominal rectopexy\\nB. Delerom's procedure\\nC. Anterior resection\\nD. Goodsall's procedure\\nChoose the correct option (A, B, C, or D):\", 'Question: The drug that inhibits uterine contractility and cause pulmonary edema is:\\nA. Ritodrine\\nB. Nifedipine\\nC. Indomethacin\\nD. Atosiban\\nChoose the correct option (A, B, C, or D):', 'Question: Influenzae virus belongs to which family?\\nA. Paramyxovirus\\nB. Orthomyxovirus\\nC. Bunyaviridae\\nD. Togaviridae\\nChoose the correct option (A, B, C, or D):', 'Question: Several weeks after surgical dissection of her left axilla for the removal of lymph nodes for staging and treatment of her breast cancer, a 32-year-old woman was told by her general physician that she had \"winging\" of her left scapula when she pushed against resistance during her physical examination. She told the physician that she had also experienced difficulty lately in raising her right arm above her head when she was combing her hair. In a subsequent consult visit with her surgeon, she was told that a nerve was accidentally injured during the diagnostic surgical procedure and that this produced her scapular abnormality and inability to raise her arm normally. What was the origin of this nerve?\\nA. The upper trunk of her brachial plexus\\nB. The posterior division of the middle trunk\\nC. Roots of the brachial plexus\\nD. The posterior cord of the brachial plexus\\nChoose the correct option (A, B, C, or D):', 'Question: Post transplant lymphoma is ?\\nA. T cell\\nB. B cell\\nC. Null cell\\nD. NK cell\\nChoose the correct option (A, B, C, or D):', 'Question: The following insulin can be given intravenously?\\nA. Protamine zinc insulin\\nB. Ultra lente insulin\\nC. Semi lente insulin\\nD. Regular insulin\\nChoose the correct option (A, B, C, or D):', 'Question: Megaloblastic anemia, glossitis, pharyngeal ulcers, and impaired immunity. For each disorder above, select the dietary deficiency that is likely to be responsible.\\nA. Folate deficiency\\nB. Thiamine deficiency\\nC. Niacin deficiency\\nD. Vitamin D deficiency\\nChoose the correct option (A, B, C, or D):', 'Question: Tamsulosin belongs to\\nA. 5a-reductase inhibitors\\nB. a1a receptor blockers\\nC. a1a receptor agonist\\nD. 5a-transferase inhibitors\\nChoose the correct option (A, B, C, or D):', 'Question: A patient with H. Pylori infection is treated with drugs. The best method to detect presence of residual H.Pylori infection in this person is which of the following?\\nA. Rapid urease test\\nB. Urea breath test\\nC. Endoscopy and biopsy\\nD. Serum anti H.Pylori titre\\nChoose the correct option (A, B, C, or D):', 'Question: BRCA-1 postive women have ____% increased risk of breast carcinoma\\nA. 10\\nB. 20\\nC. 40\\nD. 60\\nChoose the correct option (A, B, C, or D):', 'Question: Structures in the portal triad are all except:\\nA. Hepatic artery\\nB. Hepatic vein\\nC. Portal vein\\nD. Bile duct\\nChoose the correct option (A, B, C, or D):', 'Question: Enzyme used in PCR is ?\\nA. Reverse transcriptase\\nB. Tag polymerase\\nC. RNA polymerase\\nD. None\\nChoose the correct option (A, B, C, or D):']\n"
     ]
    },
    {
     "name": "stderr",
     "output_type": "stream",
     "text": [
      "  0%|          | 2/2043 [00:03<1:00:04,  1.77s/it]"
     ]
    },
    {
     "name": "stdout",
     "output_type": "stream",
     "text": [
      "['Question: In depression , there is deficiency of:\\nA. 5-HT\\nB. Acetylcholine\\nC. Dopamine\\nD. GABA\\nChoose the correct option (A, B, C, or D):', 'Question: Drug commonly used in t/t of endometriosis -\\nA. LH\\nB. GnRH analogues\\nC. MPA\\nD. FSH\\nChoose the correct option (A, B, C, or D):', 'Question: The physiological change occurs in a cardiac muscle cell when there is plateau phase of action potential is:\\nA. Influx of Na\\nB. Influx of Ca2+\\nC. Influx of K+\\nD. Closure of voltage gated K channels\\nChoose the correct option (A, B, C, or D):', 'Question: Multiple painful ulcers over glans without in duration is suggestive of –\\nA. LGV\\nB. Granuloma inguinale\\nC. Chancroid\\nD. 2° syphilis\\nChoose the correct option (A, B, C, or D):', 'Question: Which view is best for viewing hollow viscus perforation\\nA. Erect\\nB. Supine\\nC. Right lateral\\nD. Left lateral\\nChoose the correct option (A, B, C, or D):', 'Question: Initial treatment of keloid\\nA. Topical steroid\\nB. Intralesional steroid\\nC. Excision\\nD. Radiotherapy\\nChoose the correct option (A, B, C, or D):', 'Question: Edema feet is not a feature of:\\nA. Conn syndrome\\nB. Hypothyroid\\nC. CHF\\nD. Nephrotic syndrome\\nChoose the correct option (A, B, C, or D):', 'Question: Ash leaf maculae is found in :\\nA. Tuberous sclerosis\\nB. Neurofibromatosis\\nC. Lymphangioma\\nD. None\\nChoose the correct option (A, B, C, or D):', 'Question: The commonest valvular manifestation of acute as well as previous rheumatic carditis is\\nA. Mitral stenosis\\nB. Mitral regurgitation\\nC. Aoic stenosis\\nD. Aoic regurgitation\\nChoose the correct option (A, B, C, or D):', 'Question: In peripheral tissues which of the following contains substance P:\\nA. Plasma cell\\nB. Mast cell\\nC. Nerve terminal\\nD. Vascular endothelium\\nChoose the correct option (A, B, C, or D):', 'Question: A 43-year-old woman with chronic alcoholism presents with shortness of breath and edema. On examination, her blood pressure is 100/60 mm Hg, pulse 110/min, JVP is 8 cm, the cardiac apex is displaced and enlarged, there are bilateral inspiratory crackles, and there is pedal edema.For the patient with vitamin deficiency or excess, select the most likely diagnosis\\nA. niacin\\nB. thiamine\\nC. pyridoxine\\nD. vitamin C\\nChoose the correct option (A, B, C, or D):', 'Question: In exocrine pancreatic cancer, the commonest tumour marker to be elevated as -\\nA. CA-125\\nB. CEA\\nC. CA-15-3\\nD. CA-19-9\\nChoose the correct option (A, B, C, or D):', \"Question: `NALGONDA technique' is used in -\\nA. Endemic-fluorosis\\nB. Epidemic-dropsy\\nC. Endemic-ascites\\nD. Ncurolathyrisin\\nChoose the correct option (A, B, C, or D):\", 'Question: Post moem stiffening is called: March 2005\\nA. Putrefaction\\nB. Rigor mois\\nC. Livor mois\\nD. Mummification\\nChoose the correct option (A, B, C, or D):', \"Question: Werner's syndrome (multiple endocrine neoplasia type I) is characterised by all of the following except -\\nA. Tumours of anterior pituitary\\nB. Tumours of parathyroids\\nC. Pancreatic adenomas\\nD. Phaeochromocytoma\\nChoose the correct option (A, B, C, or D):\", 'Question: Renal threshold for glycosuria\\nA. 100 mg/dl\\nB. 180 mg/dl\\nC. 300 mg/dl\\nD. 350 mg/dl\\nChoose the correct option (A, B, C, or D):']\n"
     ]
    },
    {
     "name": "stderr",
     "output_type": "stream",
     "text": [
      "  0%|          | 3/2043 [00:04<53:16,  1.57s/it]  "
     ]
    },
    {
     "name": "stdout",
     "output_type": "stream",
     "text": [
      "['Question: Bulls eye retinopathy is seen in toxicity of-\\nA. Quinine\\nB. Tobacco\\nC. Ethanol\\nD. Chloroquine\\nChoose the correct option (A, B, C, or D):', 'Question: The following are indications for performing thoracotomy after blunt injury of the chest, except\\nA. 1000 ml drainage after placing intercostal tube\\nB. Continuous bleeding through intercostal tube of more than 200 ml/hour for three or more hours\\nC. Cardiac tamponade\\nD. Rib fracture\\nChoose the correct option (A, B, C, or D):', 'Question: True regarding colovesical fistula\\nA. Most commonly presents with pneumaturia\\nB. Most commonly caused by colonic cancer\\nC. More common in females\\nD. Readily diagnosed on barium enema\\nChoose the correct option (A, B, C, or D):', 'Question: All of the following are true about lateral cutaneous nerve EXCEPT:\\nA. Supplies skin over the lateral skin of thigh\\nB. Supplies skin over the medial aspect of thigh\\nC. Arises from L2 and L3\\nD. It is a purely sensory nerve\\nChoose the correct option (A, B, C, or D):', 'Question: Persistant vomiting most likely causes -a) Hyperkalemiab) Acidic urine excretionc) Hypochloraemiad) Hyperventilation.\\nA. a\\nB. c\\nC. bc\\nD. ad\\nChoose the correct option (A, B, C, or D):', 'Question: Which of the following lesion is least likely to be eccentric?\\nA. GCT\\nB. Simple bone cyst\\nC. Osteochondroma\\nD. Aneurysmal bone cyst\\nChoose the correct option (A, B, C, or D):', 'Question: Decreased vascularity of fibroid is seen with :\\nA. GnRH agonist\\nB. Danazol\\nC. Mifepristone\\nD. All\\nChoose the correct option (A, B, C, or D):', 'Question: A 19-year-old man is brought to the emergency department with a stab wound at the base of the neck (zone I) (Figure below). The most important concern for patients with such injuries is which of the following?For the purpose of evaluating penetrating injuries, the neck is divided into three zones. Zone I is below the clavicles and is also known and the thoracic outlet. Zone II is located between the clavicles and hyoid bone, and Zone III is above the hyoid.\\nA. Upper extremity ischemia\\nB. Cerebral infarction\\nC. Exsanguinating hemorrhage\\nD. Mediastinitis\\nChoose the correct option (A, B, C, or D):', 'Question: Which is not a content of inguinal canal -\\nA. Spermatic cord\\nB. Ilioinguinal nerve\\nC. Genital branch of genitofemoral nerve\\nD. Inferior epigastric artery\\nChoose the correct option (A, B, C, or D):', 'Question: Which of the following ophthalmological anomaly is seen in WAGR syndrome\\nA. Lens coloboma\\nB. Retinitis pigmentosa\\nC. Aniridia\\nD. Trabeculodysgenesis\\nChoose the correct option (A, B, C, or D):', 'Question: ACTH is produced by which of the following Bronchogenic carcinomas\\nA. Adenocarcinoma\\nB. Small cell carcinoma\\nC. Squamous cell carcinoma\\nD. Branchoalveolar carcinoma\\nChoose the correct option (A, B, C, or D):', 'Question: Rubrospinal tract influences -\\nA. Posture and balance\\nB. Valuntary activity\\nC. Vestibuloocular stimuli\\nD. All of the above\\nChoose the correct option (A, B, C, or D):', 'Question: Long term potentiation means\\nA. Enhancement of signal transmission\\nB. Increased number of receptors\\nC. Increased number of neurons\\nD. Increased muscle tone\\nChoose the correct option (A, B, C, or D):', 'Question: Fasciotomy- all of the following are cut except\\nA. Skin\\nB. Superficial fascia\\nC. Deep fascia\\nD. Muscles\\nChoose the correct option (A, B, C, or D):', 'Question: Identical twins can be differentiated by:-\\nA. Finger print\\nB. DNA fingerprinting\\nC. Blood grouping\\nD. Age\\nChoose the correct option (A, B, C, or D):', 'Question: Paradoxical splitting of second hea sound Heard in\\nA. RBBB\\nB. ASD\\nC. VSD\\nD. LBBB\\nChoose the correct option (A, B, C, or D):']\n"
     ]
    },
    {
     "name": "stderr",
     "output_type": "stream",
     "text": [
      "  0%|          | 4/2043 [00:06<56:52,  1.67s/it]"
     ]
    },
    {
     "name": "stdout",
     "output_type": "stream",
     "text": [
      "['Question: Little finger of hand corresponds to which of the following dermatomes:\\nA. C6\\nB. C7\\nC. C8\\nD. T1\\nChoose the correct option (A, B, C, or D):', 'Question: Human fibroblast cell line is used for cultivation of ?\\nA. Adenovirus\\nB. Poliovirus\\nC. HIV\\nD. Measles\\nChoose the correct option (A, B, C, or D):', \"Question: Patients with 'Hemophilia A' have bleeding disorder because of -\\nA. Lack of platelet aggregation\\nB. Lack of reaction accelerator during activation of factor X in coagulation cascade\\nC. Neutralization of antithrombin III\\nD. Release of Thromboxane A2\\nChoose the correct option (A, B, C, or D):\", 'Question: Not true about tubercular bacilli -\\nA. Facultative anaerobe\\nB. Discovered by Robert Koch\\nC. Gram positive\\nD. Has thick cell wall\\nChoose the correct option (A, B, C, or D):', 'Question: Atopic dermatitis is diagnosed by –\\nA. Patch test\\nB. Wood lamp\\nC. Clinical examination\\nD. IgE\\nChoose the correct option (A, B, C, or D):', 'Question: Colour vision is with the help of:\\nA. Rods\\nB. Cones\\nC. Cortex\\nD. Optic disc\\nChoose the correct option (A, B, C, or D):', 'Question: A 23 yr. old female came with arthritis, Malar rash, oral ulcers, serositis (pleuritis or pericarditis). The likely investigation to be positive is\\nA. Anti nuclear antibody\\nB. Anti collagen antibody\\nC. Anti epithelial antibody\\nD. Antigen antibody complexes\\nChoose the correct option (A, B, C, or D):', 'Question: Coagulative necrosis is commonly seen in all except:\\nA. Tuberculosis\\nB. Encephalitis\\nC. Sarcoidosis\\nD. Wet gangrene\\nChoose the correct option (A, B, C, or D):', 'Question: Bruxism is -\\nA. Walking during sleep\\nB. Nocturnal enuresis\\nC. Grinding of teeth during sleep\\nD. Sleep apnoea\\nChoose the correct option (A, B, C, or D):', \"Question: Which of the following are the slowly adapting mechan- oreceptors present in the skin that are very sensitive to perpendicular indentation?\\nA. Pacinian corpuscles\\nB. Meissner's corpuscles\\nC. Merkel discs\\nD. Ruffini end organs\\nChoose the correct option (A, B, C, or D):\", 'Question: All the following are contents of sub-occipital triangle, except -\\nA. Vertebral artery\\nB. Dorsal ramus of C1 nerve\\nC. Suboccipital plexus of vein\\nD. Occipital artery\\nChoose the correct option (A, B, C, or D):', \"Question: Which of the following feature on second trimester ultrasound is not a marker of Down's\\nA. Single umbilical aery\\nB. Choroid plexus cyst\\nC. Diaphragmatic hernia\\nD. Duodenal atresia\\nChoose the correct option (A, B, C, or D):\", 'Question: A young boy, Rahul presents with massive hemetemesis. He had fever for 15 days few days back which was treated with few drugs. Clinical examination reveal moderate splenomegaly). No other history is positive) Probable diagnosis is:\\nA. Drug induced gastritis\\nB. Oesophageal tear\\nC. Bleeding duodenal ulcer\\nD. Oesophageal varices\\nChoose the correct option (A, B, C, or D):', 'Question: Most common type of shoulder dislocation is:March 2011\\nA. Posterior\\nB. Anterior\\nC. Inferior\\nD. Superior\\nChoose the correct option (A, B, C, or D):', \"Question: Bechet's disease is characterized by:\\nA. Hypopyon\\nB. Hyphema\\nC. Subconjuctival hemmorrhage\\nD. Scleritis\\nChoose the correct option (A, B, C, or D):\", 'Question: Central anticholinergics are used in treatment of all except-\\nA. Akathisia\\nB. Parkinsonism\\nC. Acute dystonia\\nD. Neuroleptic malignant syndrome\\nChoose the correct option (A, B, C, or D):']\n"
     ]
    },
    {
     "name": "stderr",
     "output_type": "stream",
     "text": [
      "  0%|          | 5/2043 [00:07<50:52,  1.50s/it]"
     ]
    },
    {
     "name": "stdout",
     "output_type": "stream",
     "text": [
      "['Question: A 32-year-old woman is evaluated in the clinic for symptoms of polyuria and polydipsia. She has no significant past medical history and her only medication is the oral contraceptive pill.Her physical examination is entirely normal. Urine and serum biochemistry investigations are suggestive of central diabetes insipidus (DI). Which of the following is the most likely finding on magnetic resonance imaging (MRT) of the brain?\\nA. hypothalamic tumor\\nB. hyperintense signals in the cerebral cortex\\nC. agenesis of the corpus callosum\\nD. lack of hyperintense signals from the posterior pituitary\\nChoose the correct option (A, B, C, or D):', 'Question: Bastio surgery for refractory LV hyperophy is:\\nA. Patch repair\\nB. MR repair\\nC. Ventriculectomy\\nD. Ventriculoplasty\\nChoose the correct option (A, B, C, or D):', 'Question: Obesity in a child of age 2 years is defined as:\\nA. Weight for height more than double of expected\\nB. Weight for age more than double of expected\\nC. BMI >30\\nD. BMI >95th percentile\\nChoose the correct option (A, B, C, or D):', 'Question: A 32-year-old male is a known hypertensive and is being planned for cholecystectomy. Which of the following anaesthetic agents is contraindicated in this person?\\nA. Propofol\\nB. Ketamine\\nC. Midazolam\\nD. Etomidate\\nChoose the correct option (A, B, C, or D):', 'Question: Methysergide is banned as it causes ?\\nA. Pulmonary fibrosis\\nB. Pleural effusion\\nC. Syncope\\nD. Myocarditis\\nChoose the correct option (A, B, C, or D):', 'Question: Methylergometrine is used in the prophylaxis of\\nA. Migraine\\nB. Postpartum hemorrhage\\nC. PIH\\nD. None of the above\\nChoose the correct option (A, B, C, or D):', 'Question: Treatment of Bipolar disorder includes:\\nA. Anti-depressant drugs\\nB. Lithium carbonate\\nC. ECT\\nD. All\\nChoose the correct option (A, B, C, or D):', 'Question: Which of the following hallucinations is pathognomonic of schizophrenia -\\nA. Auditory hallucinations commanding the patient\\nB. Auditory hallucinations giving running commentry\\nC. Auditory hallucinations criticizing the patient\\nD. Auditory hallucinations talking to patient\\nChoose the correct option (A, B, C, or D):', 'Question: A 9-year-old girl presents with menarche. History reveals thelarche at the age of 7 years and adrenarche at the age of 8 years- the M/C cause of this condition in girls is:\\nA. Idiopathic\\nB. Gonadal tumor\\nC. Mc cure albright syndrome\\nD. Hypothyroidism\\nChoose the correct option (A, B, C, or D):', 'Question: After an injury to an axon, the subsequent degeneration of all axonal fibres distal to the injury, all fibres proximal to the injury are unaffected, this type of degeneration is known as:\\nA. Retrograde degeneration.\\nB. Wallerian degeneration.\\nC. Transneuronal degeneration.\\nD. None\\nChoose the correct option (A, B, C, or D):', 'Question: Drug-induced colitis is most frequently associated with\\nA. Neomycin\\nB. Vancomycin\\nC. Clindamycin\\nD. Chloramphenicol\\nChoose the correct option (A, B, C, or D):', 'Question: A 45 year old male has multiple grouped vesicular lesions present on the TN segment dermatome associated with pain. The most likely diagnosis is\\nA. Herpes zoster\\nB. Dermatitis herpetiformis\\nC. Herpes simplex\\nD. Scabies\\nChoose the correct option (A, B, C, or D):', 'Question: Cold water is not used for ear cleaning because\\nA. It will make the wax hard\\nB. Damage to tympanic membrane\\nC. Caloric stimulation caused by cold water\\nD. It will cause infection\\nChoose the correct option (A, B, C, or D):', 'Question: A patient Secta is diagnosed to be having iron deficiency anemia. The agent that can be used to improve the absorption of iron is:\\nA. Antacids\\nB. Tetracyclines\\nC. Phosphates\\nD. Ascorbic acid\\nChoose the correct option (A, B, C, or D):', 'Question: A 38 year old woman with a history of multiple sexual paners is most at risk for which of the following?\\nA. Bladder carcinoma\\nB. Cervical carcinoma\\nC. Endometrial carcinoma\\nD. Ovarian carcinoma\\nChoose the correct option (A, B, C, or D):', \"Question: A 60 year old male presented to the emergency with breathlessness, facial swelling and dilated veins on the chest wall. The most common cause is:\\nA. Thymoma\\nB. Lung cancer\\nC. Hodgkin's lymphoma\\nD. Superior vena caval obstruction\\nChoose the correct option (A, B, C, or D):\"]\n"
     ]
    },
    {
     "name": "stderr",
     "output_type": "stream",
     "text": [
      "  0%|          | 6/2043 [00:09<50:03,  1.47s/it]"
     ]
    },
    {
     "name": "stdout",
     "output_type": "stream",
     "text": [
      "['Question: Delusion is not seen in -\\nA. Depression\\nB. Anxiety\\nC. Schizophrenia\\nD. Mania\\nChoose the correct option (A, B, C, or D):', 'Question: \"Double bubble\" sign with absent distal bowel air shadows on X-ray abdomen is characteristic of\\nA. Duodenal webs\\nB. Duodenal atresia\\nC. CHPS\\nD. All of the above\\nChoose the correct option (A, B, C, or D):', 'Question: What is deficient in exclusively breast fed baby ?\\nA. Vitamin B\\nB. Vitamin A\\nC. Vitamin C\\nD. Proteins\\nChoose the correct option (A, B, C, or D):', 'Question: Early diagnosis of acute hepatitis-B infection is made by-\\nA. Presence of HbeAg in serum\\nB. Presence of IgM anti-Hbc in serum\\nC. Presence HbsAg in serum\\nD. Presence of IgG anti-HBc in serum\\nChoose the correct option (A, B, C, or D):', 'Question: Hara-kiri is death by\\nA. Stab in the neck\\nB. Stab in the thorax\\nC. Stab in the abdomen\\nD. Stab in wrist\\nChoose the correct option (A, B, C, or D):', 'Question: In submandibular gland excision all of the following nerves may be affected except\\nA. Lingual nerve\\nB. Hypoglossal nerve\\nC. Glossopharyngeal nerve\\nD. Mandibular division of trigeminal nerve\\nChoose the correct option (A, B, C, or D):', 'Question: Which of the following disease is transmitted by phlebotomus argentipes -\\nA. Epidemic typhus\\nB. Kala-azar\\nC. Relapsing fever\\nD. Trench fever\\nChoose the correct option (A, B, C, or D):', 'Question: The dose of Dapsone at which it does not cause hemolysis?\\nA. 50mg\\nB. 200mg\\nC. 300mg\\nD. 500mg\\nChoose the correct option (A, B, C, or D):', 'Question: Capsid of viral structure is-\\nA. Extracellular infectious particle\\nB. Protein coat around nucleic acid\\nC. Envelop around a virus\\nD. None of the above\\nChoose the correct option (A, B, C, or D):', 'Question: A 23-year-old man presents with fever, weight loss, malaise, abdominal pain and myalgias. Workup reveals that the patient has polyaeritis nodosa. Which of the following is associated with this form of vasculitis?\\nA. Arsenic\\nB. Chlamydia pneumonia\\nC. Hepatitis B virus\\nD. Human immunodeficiency virus\\nChoose the correct option (A, B, C, or D):', 'Question: Graft for myringoplasty-\\nA. Temporalis fascia\\nB. IIiacus fascia\\nC. Colles fascia\\nD. Iliotibial band\\nChoose the correct option (A, B, C, or D):', 'Question: Auzpitz sign is seen in -\\nA. Psoriasis\\nB. LichenPlanus\\nC. Alopeciaaerata\\nD. Lichensclerosus\\nChoose the correct option (A, B, C, or D):', 'Question: True about CLL is -a) Can present as acute leukaemiab) Diagnosed in routine blood testc) Leukocytosisd) More T lymphocytes seen\\nA. bc\\nB. c\\nC. ac\\nD. ad\\nChoose the correct option (A, B, C, or D):', 'Question: Moth eaten bone is seen in which of the following ?\\nA. Osteoid osteoma\\nB. Multiple myeloma\\nC. Eosinophilic granuloma\\nD. Chondromyxoid fibroma\\nChoose the correct option (A, B, C, or D):', 'Question: A patient with multiple myeloma and serum ca2+15mg/dl ; the treatment -a) Oral pamidronateb) Less than 15mg/dl serum calcium dose not causes symptomsc) Mithramycind) Glucocorticoids\\nA. abc\\nB. acd\\nC. bc\\nD. bde\\nChoose the correct option (A, B, C, or D):', 'Question: A 68-year-old male musician presents to the emergency department with a sudden onset of colicky abdominal pain and massive vomiting of 4-hour duration. Examination shows an elevated WBC of 13,200 with a HCT of 45%. Electrolytes and blood urea nitrogen (BUN) are normal. An erect film of the abdomen reveals dilatation of the stomach with distended loops of bowel. What is his clinical diagnosis?\\nA. Complete proximal intestinal obstruction\\nB. Incomplete proximal intestinal obstruction\\nC. Complete ileal obstruction\\nD. Incomplete ileal obstruction\\nChoose the correct option (A, B, C, or D):']\n"
     ]
    },
    {
     "name": "stderr",
     "output_type": "stream",
     "text": [
      "  0%|          | 7/2043 [00:10<49:37,  1.46s/it]"
     ]
    },
    {
     "name": "stdout",
     "output_type": "stream",
     "text": [
      "['Question: Mandibular complete denture should cover retromolar pad because\\nA. More surface area gives better retention\\nB. Provides border seal\\nC. Resists movement of denture base\\nD. All of the above\\nChoose the correct option (A, B, C, or D):', 'Question: All of the following muscles of tongue are supplied by hypoglossal nerve, EXCEPT?\\nA. Palatoglossus\\nB. Genioglossus\\nC. Geniohyoid\\nD. None of the above\\nChoose the correct option (A, B, C, or D):', 'Question: Hemagglutinin, (Anti-A and Anti-B) are which type of antibodies?\\nA. IgG\\nB. IgM\\nC. IgA\\nD. IgE\\nChoose the correct option (A, B, C, or D):', 'Question: Which of the following method is used for HIV pre-test and post-test counselling?\\nA. Individual approach\\nB. Group approach\\nC. Mass media\\nD. All of the above\\nChoose the correct option (A, B, C, or D):', 'Question: A patient tries to make a fist but the index and middle finger remain partially extended. The nerve most probably involved is\\nA. Median nerve\\nB. Musculo-cutaneous nerve\\nC. Radial nerve\\nD. Ulnar nerve\\nChoose the correct option (A, B, C, or D):', 'Question: 30 year old female comes with visual defects, breast engorgement and Amenorrhea. Investigation of choice is\\nA. CT brain\\nB. Serum prolactin\\nC. Biopsy\\nD. Mr angiography\\nChoose the correct option (A, B, C, or D):', 'Question: A 50-year-old male with 2 diabetes mellitus is found to have 24-hour urinary albumin of 250 mg. Which of the following drugs may be used to retard the progression of the renal disease -\\nA. Hydrochlorthiazide\\nB. Enalapril\\nC. Amiloride\\nD. Aspirin\\nChoose the correct option (A, B, C, or D):', 'Question: Preferred method of contraception for a female with family H/O ovarian cancer :\\nA. POP\\nB. Cu IUCD\\nC. OCP\\nD. Barrier method\\nChoose the correct option (A, B, C, or D):', \"Question: Most common differential diagnosis for appendicitis in children is\\nA. Gastroenteritis\\nB. Mesentric lymphadenopathy\\nC. Intussusception\\nD. Meckel's diveiculitis\\nChoose the correct option (A, B, C, or D):\", 'Question: Which of the following drugs is to be immediately stopped in a patient of diabetes with HTN and serum creatinine level of 5.6 mg?\\nA. Metformin\\nB. Insulin\\nC. Metoprolol\\nD. Linagliptin\\nChoose the correct option (A, B, C, or D):', 'Question: Large unilateral hypopigmented lesion on right trunk and arm in female. Which of the following best explain the etiology for it?\\nA. Autoimmune hypothesis\\nB. Neurogenic hypothesis\\nC. Genetic factors\\nD. Self destruct theory of Lerner\\nChoose the correct option (A, B, C, or D):', \"Question: The layer of the cornea once destroyed does not regenerate is:\\nA. Epithelium\\nB. Bowman's membrane\\nC. Descemet's membrane\\nD. All of the above\\nChoose the correct option (A, B, C, or D):\", 'Question: A 59-year-old man complains of progressive weakness. He reports that his stools are very dark. Physical examination demonstrates fullness in the right lower quadrant. Laboratory studies show iron deficiency anemia, with a serum hemoglobin level of 7.4 g/dL. Stool specimens are positive for occult blood. Colonoscopy discloses an ulcerating lesion of the cecum. Which of the following serum tumor markers is most likely to be useful for following this patient after surgery?\\nA. Alpha-fetoprotein\\nB. Carcinoembryonic antigen\\nC. Chorionic gonadotropin\\nD. Chromogranin\\nChoose the correct option (A, B, C, or D):', 'Question: Succinylcholine is sho acting due to\\nA. Rapid excretion\\nB. Poor absorption\\nC. Rapid hydrolysis\\nD. None of the above\\nChoose the correct option (A, B, C, or D):', 'Question: Gas most commonly used in laparoscopy is\\nA. CO2\\nB. SO2\\nC. N2\\nD. O2\\nChoose the correct option (A, B, C, or D):', 'Question: Absolute Contraindication for the Use of OCPs is:\\nA. Thromboembolism\\nB. Hypeension\\nC. Diabetes\\nD. Epilepsy\\nChoose the correct option (A, B, C, or D):']\n"
     ]
    },
    {
     "name": "stderr",
     "output_type": "stream",
     "text": [
      "  0%|          | 8/2043 [00:12<50:09,  1.48s/it]"
     ]
    },
    {
     "name": "stdout",
     "output_type": "stream",
     "text": [
      "['Question: Magnesium sulphate potentiates the hypotensive action of -\\nA. Methyldopa\\nB. Nifedipine\\nC. Enalapril\\nD. Hydralazine\\nChoose the correct option (A, B, C, or D):', 'Question: A new born girl not passed meconium for 48 hrs, has abdominal distention and vomiting, Initial investigation of choice would be\\nA. Manometry\\nB. Genotyping for cystic fibrosis\\nC. Lower GI contrast study\\nD. Serum trypsin immunoblot\\nChoose the correct option (A, B, C, or D):', 'Question: Non Oliguric Acute Renal Failure is typically associated with\\nA. Aminoglycoside toxicity\\nB. Contrast Induced Nephrotoxity\\nC. Hemolytic Uremic syndrome\\nD. Glomerulonephritis\\nChoose the correct option (A, B, C, or D):', 'Question: Heberden done denotes involvement of\\nA. Distal inetrphalangeal joint\\nB. Proximal interphalangel joint\\nC. Metacarpophalangeal joint\\nD. Metatarsophalangeal joint\\nChoose the correct option (A, B, C, or D):', 'Question: The chestnut coloured fungal cells known as muriform bodies are seen in:\\nA. Sporotrichosis\\nB. Phaeohyphomycosis\\nC. Chromoblastomycosis\\nD. Lobomycosis\\nChoose the correct option (A, B, C, or D):', 'Question: All of the following skin changes are associated with Diabetes Mellitus except\\nA. Acanthosis Nigricans\\nB. Granuloma annulare\\nC. Necrobiosis lipiodica\\nD. Salmon patch\\nChoose the correct option (A, B, C, or D):', \"Question: A young boy presented with high fever shows clinical features suggestive of Legionnaires' Disease. Treatment of choice is:\\nA. Amoxicillin\\nB. Azithromycin\\nC. Penicillin\\nD. Streptomycin\\nChoose the correct option (A, B, C, or D):\", 'Question: Which of the following is not a specific somatoform disorders?.\\nA. Somatization disorder\\nB. Fibromyalgia\\nC. Chronic fatigue syndrome\\nD. Irritable bowel syndrome\\nChoose the correct option (A, B, C, or D):', 'Question: Fluoride helps in\\nA. Vision\\nB. Dentition\\nC. Myelinaon\\nD. Joint stability\\nChoose the correct option (A, B, C, or D):', 'Question: The epithelium is absent in lens on\\nA. Anterior surface\\nB. Posterior surface\\nC. Anterior pole\\nD. At zonular attachment\\nChoose the correct option (A, B, C, or D):', 'Question: Systemic infection is caused by all fungi except\\nA. Cryptococcus\\nB. Histoplasma\\nC. Dermatophytes\\nD. Paracoccidioides\\nChoose the correct option (A, B, C, or D):', 'Question: Which cyclooxygenase plays a role in maintaining GI mucosal integrity?\\nA. Cyclooxygenase 1\\nB. Cyclooxygenase 2\\nC. Cyclooxygenase 3\\nD. Cyclooxygenase 4\\nChoose the correct option (A, B, C, or D):', 'Question: Bruxism is: NEET 13\\nA. Walking during sleep\\nB. Nocturnal enuresis\\nC. Grinding of teeth during sleep\\nD. Sleep apnea\\nChoose the correct option (A, B, C, or D):', \"Question: Absence of corkscrew glands is seen in\\nA. Halban's disease\\nB. Polycystic ovarian disease\\nC. Irregular ripening\\nD. Metropathia hemorrhagica\\nChoose the correct option (A, B, C, or D):\", 'Question: In HIV window period indicates:\\nA. Time period between infection and onset of first symptoms\\nB. Time period between infection and detection of antibodies against HIV\\nC. Time period between infection and minimum multiplication of the organism\\nD. Time period between infection and maximum multiplication of the organism\\nChoose the correct option (A, B, C, or D):', 'Question: Early age of sex is risk factor for\\nA. Carcinoma cervix\\nB. Carcinoma vulva\\nC. Carcinoma vagina\\nD. Carcinoma ovary\\nChoose the correct option (A, B, C, or D):']\n"
     ]
    },
    {
     "name": "stderr",
     "output_type": "stream",
     "text": [
      "  0%|          | 9/2043 [00:13<45:34,  1.34s/it]"
     ]
    },
    {
     "name": "stdout",
     "output_type": "stream",
     "text": [
      "['Question: Pressure volume loop is shifted to left side in\\nA. Aortic regurgitation\\nB. Mitral regurgitation\\nC. Aortic stenosis\\nD. Congestive cardiac failure\\nChoose the correct option (A, B, C, or D):', 'Question: A 15-year-old girl in a rural community has swollen, painful lymph nodes in her right axilla. Physical examination reveals multiple scratches on her right arm with a papule associated with one of the scratch marks. She states that the scratches occurred about 5 days ago. What type of animal is the most likely source of the infection?\\nA. Cat or kitten\\nB. Chicken\\nC. Dog or puppy\\nD. Horse\\nChoose the correct option (A, B, C, or D):', 'Question: Spleen projects into the following space of peritoneal cavity:\\nA. Greater sac\\nB. Paracolic gutter\\nC. Left subhepatic space\\nD. Infracolic compament\\nChoose the correct option (A, B, C, or D):', 'Question: Phocomelia is best described as:\\nA. Defect in development of long bones\\nB. Defect in development of flat bones\\nC. Defect in intramembranous ossification\\nD. Defect in cartilage replacement by bones\\nChoose the correct option (A, B, C, or D):', 'Question: Bird beak appearance on barium swallow study is seen in -\\nA. Achlasia cardia\\nB. Carcinoma esophagus\\nC. Hiatus hernia\\nD. Diffuse esophageal spasm\\nChoose the correct option (A, B, C, or D):', 'Question: The symptoms of Hyperparathyroidism include -\\nA. Constipation & muscle weakness\\nB. Anorexia & weight loss\\nC. Polydipsia & polyuria\\nD. All of the above\\nChoose the correct option (A, B, C, or D):', 'Question: Bradykinin Causes -\\nA. Vasoconstriction\\nB. Pain at the site of inflammation\\nC. Bronchodilatation\\nD. Decreased Vascular permeability\\nChoose the correct option (A, B, C, or D):', 'Question: True statement regarding Atrioventricular block with atrial tachycardia is -\\nA. Seen in WPW syndrome\\nB. Is a complication of pacemaker\\nC. Can occur in normal person occasionally.\\nD. Seen in Digitalis toxicity with K+ depletion\\nChoose the correct option (A, B, C, or D):', 'Question: Most common site of myositis ossificans ?\\nA. Knee\\nB. Elbow\\nC. Shoulder\\nD. Wrist\\nChoose the correct option (A, B, C, or D):', 'Question: Alcohol in substrate inducer for which gene?\\nA. Pol III gene\\nB. Myc Oncogene\\nC. P53\\nD. NF1\\nChoose the correct option (A, B, C, or D):', \"Question: True about Barret's esophagus -a) Premalignantb) Predispose to sq. cell Cac) Can be diagnosed by seeing under endoscoped) Biopsy is necessary to diagnosee) Stricture may be present in high esophagus\\nA. bce\\nB. bde\\nC. abcd\\nD. acde\\nChoose the correct option (A, B, C, or D):\", 'Question: Best approach to study a rare disease is:\\nA. Case control study\\nB. Cross-sectional study\\nC. Cohort study\\nD. Clinical trial\\nChoose the correct option (A, B, C, or D):', 'Question: Characteristic Symptom in induced psychotic disorder is\\nA. Insomnia\\nB. Profound mood disturbance\\nC. Accepting delusions of other person\\nD. Suicidal Ideation\\nChoose the correct option (A, B, C, or D):', 'Question: A patient has complaint of seeing coloured holoes in the evening and blurring of vision for last few days with normal 10P :\\nA. Prodromal phase of acute angle closure glaucoma\\nB. Acute angle closure glaucoma\\nC. Chronic glaucoma\\nD. Epidemic dropsy\\nChoose the correct option (A, B, C, or D):', \"Question: Dyskeratosis is seen in:\\nA. Pemphigus vulgaris\\nB. Bullous Pemphigoid\\nC. Darier's disease\\nD. Hailey-Hailey disease\\nChoose the correct option (A, B, C, or D):\", 'Question: Which of the following is NOT a branch of intracranial part of Internal carotid artery(103 - BDC- 3) 4th edition\\nA. Anterior communicating\\nB. Anterior cerebral\\nC. Middle cerebral\\nD. Posterior communicating\\nChoose the correct option (A, B, C, or D):']\n"
     ]
    },
    {
     "name": "stderr",
     "output_type": "stream",
     "text": [
      "  0%|          | 10/2043 [00:14<44:01,  1.30s/it]"
     ]
    },
    {
     "name": "stdout",
     "output_type": "stream",
     "text": [
      "['Question: With help of the drug shown below, serotonin is synthesized from which of the following precursor amino acid?\\nA. Tryptophan\\nB. Glycine\\nC. Threonine\\nD. Methionine\\nChoose the correct option (A, B, C, or D):', 'Question: Which of the following is silent thyroiditis?\\nA. Acute thyroiditis\\nB. Subacute thyroiditis\\nC. Hashimoto thyroiditis\\nD. Post-paum thyroiditis\\nChoose the correct option (A, B, C, or D):', 'Question: Thrombosis of the Superior branch of middle cerebral aery leads to:\\nA. Motor aphasia\\nB. Urinary retention\\nC. Bitemporal hemianopia\\nD. Grasp reflex\\nChoose the correct option (A, B, C, or D):', 'Question: The most sensitive index for renal tubular function is :\\nA. Specific gravity of urine\\nB. Blood urea\\nC. GFR\\nD. Creatinine clearance\\nChoose the correct option (A, B, C, or D):', 'Question: Characteristic feature of Rheumatic carditis is ?\\nA. Pericarditis\\nB. Endocarditis\\nC. Myocarditis\\nD. Pancarditis\\nChoose the correct option (A, B, C, or D):', 'Question: Which of the following is true about hypothermia during anesthesia?\\nA. Beneficial to patients\\nB. Prevented by giving warm fluids\\nC. Body looses heat mainly by conduction\\nD. Always occur irrespective of the type of anesthesia\\nChoose the correct option (A, B, C, or D):', 'Question: Which of the following is RNA with catalytic activity?\\nA. Ribonuclease P\\nB. Peptidyl transferase\\nC. Sn RNA\\nD. All of the above\\nChoose the correct option (A, B, C, or D):', \"Question: Wernicke's encephalopathy occurs due to deficiency of\\nA. Vitamin B1\\nB. Vitamin B2\\nC. Vitamin B6\\nD. Vitamin B12\\nChoose the correct option (A, B, C, or D):\", 'Question: Deltoid ligament is attached to all except\\nA. Medial malleolus\\nB. Talus\\nC. Calcaneum\\nD. Lateral malleolus\\nChoose the correct option (A, B, C, or D):', 'Question: Acute osteomyelitis can best be distinguished from soft tissue infection by –\\nA. Clinical examination\\nB. X–Ray\\nC. CT scan\\nD. MRI\\nChoose the correct option (A, B, C, or D):', 'Question: Acute Osteomylitis in children most commonly affects-\\nA. Metaphysis\\nB. Diaphysis\\nC. Epiphysis\\nD. Physis\\nChoose the correct option (A, B, C, or D):', 'Question: Commonest cause of non - engagement at term, in primi is:\\nA. CPD\\nB. Hydramnios\\nC. Brow presentation\\nD. Breech\\nChoose the correct option (A, B, C, or D):', \"Question: Drug used for Buerger's disease\\nA. Propranolol\\nB. Xanthinol nicotinate\\nC. GTN\\nD. All the above\\nChoose the correct option (A, B, C, or D):\", 'Question: Cutaneous infection due to exogenous exposure to TB bacilli in a person who is already sensitized by previous exposure to TB leads to:\\nA. Lupus vulgaris\\nB. TB chancre\\nC. Erythema induratum\\nD. TB veruccosa cutis\\nChoose the correct option (A, B, C, or D):', 'Question: Which lesion displays an ill-defined border?\\nA. Periapical cyst\\nB. Sclerosing osteitis\\nC. Soft tissue capsule\\nD. Multiple myeloma\\nChoose the correct option (A, B, C, or D):', 'Question: In a 2 months old infant undergoing surgery for biliary atresia, you would avoid one of the following anaesthetic\\nA. Thiopentone\\nB. Halothane\\nC. Propofol.\\nD. Sevoflurane\\nChoose the correct option (A, B, C, or D):']\n"
     ]
    },
    {
     "name": "stderr",
     "output_type": "stream",
     "text": [
      "  1%|          | 11/2043 [00:15<43:14,  1.28s/it]"
     ]
    },
    {
     "name": "stdout",
     "output_type": "stream",
     "text": [
      "['Question: Skin grafting done on wound following major skin taken from twin brother:\\nA. Isograft\\nB. Allograft\\nC. Autograft\\nD. Xenograft\\nChoose the correct option (A, B, C, or D):', 'Question: N. gonorrhea causes -\\nA. Urethritis\\nB. Salpingitis\\nC. Conjunctivitis\\nD. All\\nChoose the correct option (A, B, C, or D):', 'Question: Not true about rt. kidney is -\\nA. Rt. kidney is preferred over the left for transplantation\\nB. It is lower than the left kidney\\nC. Rt. renal vein is shorter than the left\\nD. Rt. kidney is related to the duodenum\\nChoose the correct option (A, B, C, or D):', 'Question: Acetazolamide can be used in all except\\nA. Epilepsy\\nB. Cute mountain sickness\\nC. Cirrhosis\\nD. Glaucoma\\nChoose the correct option (A, B, C, or D):', 'Question: In erythema migrans, which papilla of tongue are absent:\\nA. Fungiform\\nB. Foliate\\nC. Filliform\\nD. Circumvallate\\nChoose the correct option (A, B, C, or D):', 'Question: Lymphatic drainage of ovary?\\nA. Deep inguinal\\nB. Superficial inguinal\\nC. Obturator\\nD. Paraaoic\\nChoose the correct option (A, B, C, or D):', 'Question: Ahritis involving DIP, PIP, 1st carpometacarpal with sparing of MCP and wrist joints is typical of:\\nA. Osteoahritis\\nB. Rheumatoid ahritis\\nC. Ankylosing spondylitis\\nD. Psoriatic ahritis\\nChoose the correct option (A, B, C, or D):', 'Question: In oogenesis, which of the following events occurs immediately following the completions of meiosis II?\\nA. Degeneration of the zona pellucida\\nB. Sperm penetration of the corona radiata\\nC. Formation of a female pronucleus\\nD. Appearance of the blastocyst\\nChoose the correct option (A, B, C, or D):', 'Question: Venous return to hea during quiet standing is facilitated by all of the following factors, except\\nA. Calfmuscle contraction during standing\\nB. Valves in perforators\\nC. Sleeve of deep fascia\\nD. Gravitational ihcrease in aerial pressure\\nChoose the correct option (A, B, C, or D):', 'Question: A 12 year old boy presents with hemetemesis, malena and mild splenomegaly. There is no obvious jaundice or ascitis. The most likely diagnosis is:\\nA. EHPVO\\nB. NCPF\\nC. Cirrhosis\\nD. Malaria with DIC\\nChoose the correct option (A, B, C, or D):', 'Question: Which of the following is universal donor blood group -\\nA. A\\nB. B\\nC. AB\\nD. O\\nChoose the correct option (A, B, C, or D):', 'Question: A 45 yr old female complains of progressive lower limb weakness, spasticity, urinary hesitancy. MRI shows intradural enhancing mass lesion. MOST likely diagnosis is:\\nA. Dermoid cyst\\nB. Intradural lipoma\\nC. Neuroepithelial cyst\\nD. Meningioma\\nChoose the correct option (A, B, C, or D):', 'Question: A man has just received his fourth DUI citation. The judge orders an alcohol dependency program complete with a medication that makes him have nausea and vomiting if he drinks alcohol while taking the medication. The drug-induced illness is caused by the buildup of which one of the following?\\nA. Ethanol\\nB. Acetaldehyde\\nC. Acetate\\nD. Acetyl-CoA\\nChoose the correct option (A, B, C, or D):', 'Question: Middle part of jugular foramen transmits all of the following cranial nerves except:\\nA. Glossopharyngeal nerve\\nB. Vagus nerve\\nC. Hypoglossal nerve\\nD. Accessory nerve.\\nChoose the correct option (A, B, C, or D):', 'Question: Early childhood caries or baby bottle tooth decay is usually seen in the age group of _____ month old child?\\nA. 18-36\\nB. 24-36\\nC. 18-Jun\\nD. 18-Dec\\nChoose the correct option (A, B, C, or D):', 'Question: Which one of the following is not included in the treatment of malignant melanoma?\\nA. Radiation\\nB. Surgical excision\\nC. Chemotherapy\\nD. Immunotherapy\\nChoose the correct option (A, B, C, or D):']\n"
     ]
    },
    {
     "name": "stderr",
     "output_type": "stream",
     "text": [
      "  1%|          | 12/2043 [00:16<41:42,  1.23s/it]"
     ]
    },
    {
     "name": "stdout",
     "output_type": "stream",
     "text": [
      "['Question: The only neuron in retina showing action potentials are\\nA. Rods and cones\\nB. Bipolar cells\\nC. Amacrine cells\\nD. Ganglion cells\\nChoose the correct option (A, B, C, or D):', 'Question: Cavernous hemangioma is characterized by:\\nA. Reticulated popcorn like configuration\\nB. Well defined nidus\\nC. Well defined aerial feeder\\nD. Phlebectasis\\nChoose the correct option (A, B, C, or D):', 'Question: Which flexor muscle is attached to hook of hamate?\\nA. Flexor pollicis brevis\\nB. Flexor pollicis longus\\nC. Flexor digiti minimi\\nD. Flexor carpi ulnaris\\nChoose the correct option (A, B, C, or D):', 'Question: Spleen is derived from -\\nA. Ventral mesogastrium\\nB. Dorsal mesogastrium\\nC. Septum transversorium\\nD. Allantois\\nChoose the correct option (A, B, C, or D):', 'Question: Best way to confirm that no stones are left back in the CBD?\\nA. Choledochoscope\\nB. Palpation\\nC. Cholangiogram\\nD. ERCP\\nChoose the correct option (A, B, C, or D):', \"Question: Which of the following is a precancerous condition of cancer stomach?\\nA. Peptic ulcer\\nB. Chronic gastric atrophy\\nC. Achalasia cardia\\nD. Curling's Ulcer\\nChoose the correct option (A, B, C, or D):\", 'Question: Following are the normal features in temporomandibular joint except\\nA. Joint sound\\nB. Pain while opening the mouth\\nC. Deviation of the mouth in opposite while opening the mouth in eccentric movements\\nD. None of the above\\nChoose the correct option (A, B, C, or D):', 'Question: Confirmatory test for syphilis -\\nA. VDRL\\nB. FTA-ABS\\nC. RPQ\\nD. None\\nChoose the correct option (A, B, C, or D):', \"Question: Whitnall's Tubercle is present in\\nA. Lateral wall of Orbit\\nB. Medial wall of Orbit\\nC. Roof of Orbit\\nD. Floor of Orbit\\nChoose the correct option (A, B, C, or D):\", 'Question: Golgi tendon apparatus conveys message to cns, depends upon\\nA. Tension in muscle\\nB. Length of muscle\\nC. Rapaidity of contraction\\nD. Blood supply\\nChoose the correct option (A, B, C, or D):', 'Question: FRC is volume of air in lung after ?\\nA. Maximal inspiration\\nB. Maximal expiration\\nC. Normal inspiration\\nD. Normal expiration\\nChoose the correct option (A, B, C, or D):', 'Question: An infant presented with erythematous lesions on cheek and extensor aspect of upper and lower limbs. There is a family history of Asthma. The probable diagnosis is:\\nA. Air borne contact dermatitis\\nB. Atopic dermatitis\\nC. Seborraehic dermatitis\\nD. Infectious eczematoid dermatitis\\nChoose the correct option (A, B, C, or D):', 'Question: Microbiological waste should be segregated in which color bag:\\nA. Yellow\\nB. Red\\nC. Blue\\nD. Black\\nChoose the correct option (A, B, C, or D):', 'Question: Which of the following is a dynamic cause of intestinal obstruction: March 2011\\nA. Gall stone\\nB. Paralytic ileus\\nC. Mesenteric vascular obstruction\\nD. Ogilvie syndrome\\nChoose the correct option (A, B, C, or D):', 'Question: Which of the following is not a rapidly growing atypical mycobacteria causing lung infections -\\nA. M. chelonae\\nB. M.fortuitum\\nC. M.abscessus\\nD. M.kansasii\\nChoose the correct option (A, B, C, or D):', 'Question: Pulmonary plethora is seen in ?\\nA. TAPVC\\nB. TOF\\nC. EBSTIEN ANAMOLY\\nD. TRICUSPID ATRESIA\\nChoose the correct option (A, B, C, or D):']\n"
     ]
    },
    {
     "name": "stderr",
     "output_type": "stream",
     "text": [
      "  1%|          | 13/2043 [00:17<40:02,  1.18s/it]"
     ]
    },
    {
     "name": "stdout",
     "output_type": "stream",
     "text": [
      "['Question: A 40-year-old patient presents with an inability to keep the arm in contact with the chest. When the arm is forcibly brought into contact with the chest there is winging of the scapula. There is a history of repeated intramuscular injections into the deltoid muscle. What is the diagnosis?\\nA. Serratus anterior muscle palsy\\nB. Poliomyelitis\\nC. Deltoid contracture\\nD. Neglected anterior dislocation of shoulder\\nChoose the correct option (A, B, C, or D):', 'Question: Most common site of metastasis for Breast Carcinoma is\\nA. Thoracic veebra\\nB. Pelvis\\nC. Femur\\nD. Lumbar veebra\\nChoose the correct option (A, B, C, or D):', 'Question: Life-threatening intravascular hemolysis, due to a toxin with lecithinase activity, occurs with sepsis due to:\\nA. Pseudomonas\\nB. Babesia\\nC. Parvovirus B 19\\nD. Clostridium perfringens\\nChoose the correct option (A, B, C, or D):', 'Question: Inspiratory stridor is found in what kind of lesions\\nA. Supraglottic\\nB. Subglottic\\nC. Tracheal\\nD. Bronchus\\nChoose the correct option (A, B, C, or D):', 'Question: Which class of antifungals inhibits the synthesis of the fungal cell wall\\nA. Polyene macrolides\\nB. Echinocandins\\nC. Azoles\\nD. Allylamines\\nChoose the correct option (A, B, C, or D):', 'Question: The following structures are felt on per rectal examination except\\nA. Bulb of penis\\nB. Ureter\\nC. Anorectal ring\\nD. Urogenital diaphragm\\nChoose the correct option (A, B, C, or D):', 'Question: The commonest valvular lesion in SLE-related cardiac disease is-\\nA. Tricuspid regurgitation\\nB. Mitral regurgitation\\nC. Mitral stenosis\\nD. Aoic regurgitation\\nChoose the correct option (A, B, C, or D):', 'Question: Most common epithelial tumor of lacrimal gland:-\\nA. Adenoid cystic carcinoma\\nB. Pleomorphic adenoma\\nC. Squamous cell carcinoma\\nD. Non hodgkins lymphoma\\nChoose the correct option (A, B, C, or D):', 'Question: Digoxin acts by inhibiting:\\nA. Na K ATPase\\nB. Ca channel\\nC. K channel\\nD. Adenyl cyclase\\nChoose the correct option (A, B, C, or D):', 'Question: Skin test based on neutralization reaction is/are -\\nA. Casoni test\\nB. Lepromin test\\nC. Tuberculin test\\nD. Schick test\\nChoose the correct option (A, B, C, or D):', 'Question: Treatment of choice for Eale’s disease\\nA. Corticosteroids\\nB. Antibiotics\\nC. Antihistaminics\\nD. Surgery\\nChoose the correct option (A, B, C, or D):', 'Question: Most common site of lentigo maligna subtype of malignant melanoma is ?\\nA. Palms & soles\\nB. Trunk\\nC. Face\\nD. Buttocks\\nChoose the correct option (A, B, C, or D):', 'Question: Foaming liver is seen in -\\nA. Organophosphorus Poisoning\\nB. Actinomycosis\\nC. Gas gangrene\\nD. Anthrax\\nChoose the correct option (A, B, C, or D):', 'Question: A patient presents with intermittent headache. On examination there is hypeension and a thyroid nodule. Which of the following steps is to be taken next -\\nA. Urine HIAA levels\\nB. Urine VMA and aspiration of the thyroickiodule\\nC. Ultrasound abdomen\\nD. Echocardiography\\nChoose the correct option (A, B, C, or D):', 'Question: Low molecular weight heparin mainly inhibits which factor: September 2009\\nA. Factor Ilia\\nB. Factor VIIIa\\nC. Factor Xa\\nD. Factor XIIa\\nChoose the correct option (A, B, C, or D):', 'Question: Exarticulation of teeth means:\\nA. Intrusion\\nB. Extrusion\\nC. Sublimation\\nD. Avulsion\\nChoose the correct option (A, B, C, or D):']\n"
     ]
    },
    {
     "name": "stderr",
     "output_type": "stream",
     "text": [
      "  1%|          | 14/2043 [00:19<40:18,  1.19s/it]"
     ]
    },
    {
     "name": "stdout",
     "output_type": "stream",
     "text": [
      "['Question: Serotonin is sexreted by\\nA. Leukocytes\\nB. RBCs\\nC. Platelets\\nD. Vessel wall\\nChoose the correct option (A, B, C, or D):', 'Question: A 9 year old girl is presenting with non productive cough and mild stridor for 2.5 months duration. Patient is improving but suddenly developed wheeze, productive cough, mild fever and on X-ray hyperlucency is seen and PFT shows obstructive curve. The MOST probable diagnosis is?\\nA. Bronchiolitis obliterans\\nB. Hemosiderosis\\nC. Pulmonary alveolar microlithiasis\\nD. Follicular bronchitis\\nChoose the correct option (A, B, C, or D):', 'Question: Which of the following is best suited for detection of calculi in the submandibular gland?\\nA. Lower true occlusal\\nB. Lower topographic occlusal\\nC. Lower oblique occlusal Vertex occlusal\\nD. Vertex occlusal\\nChoose the correct option (A, B, C, or D):', 'Question: Posterior capsulotomy after cataract is done using\\nA. Argon Laser\\nB. Nd YAg\\nC. Holmium\\nD. Diode laser\\nChoose the correct option (A, B, C, or D):', 'Question: Microalbuminuria is defined as albumin\\nA. <30 microgms/24 hrs. urine collection\\nB. 30-300 microgms/24 hrs. urine collection\\nC. 300-550 microgms/24 hrs. urine collection\\nD. >550 microgms/24 hrs. urine collection\\nChoose the correct option (A, B, C, or D):', \"Question: Which of the following is an autosomal dominant disorder?\\nA. Duchenes muscular dystrophy\\nB. Fragile X syndrome\\nC. Fanconi's syndrome\\nD. Hutington's chorea\\nChoose the correct option (A, B, C, or D):\", 'Question: Best advantage of doing transcranial Doppler ultrasound?\\nA. Detect AV malformation\\nB. Detect emboli\\nC. Detect vasopasm\\nD. Detect brain blood vessels stenosis\\nChoose the correct option (A, B, C, or D):', 'Question: Trimming and fuher modification of N-linked glycoproteins takes place at\\nA. Golgi apparatus\\nB. Endoplasmic reticulum\\nC. Peroxisomes\\nD. Lysosomes\\nChoose the correct option (A, B, C, or D):', 'Question: Patient is on autocoids for 1 year complains of severe pain epigasrium relieved iv antacids now complains of pain in right iliac fossa and epigastrium with fever and loss of liver dullness diagnosis\\nA. Duodenal perforation\\nB. Diveiculitis\\nC. Gastroenteritis\\nD. Enteric perforation\\nChoose the correct option (A, B, C, or D):', 'Question: Tongue muscles are derived from -\\nA. Occipital somites\\nB. Pharyngeal pouch\\nC. Hypobranchial emminence\\nD. Neural crest Palate\\nChoose the correct option (A, B, C, or D):', 'Question: After 3 wks of duration pancreatic pseudocyst 5 cm in size should be managed by which method\\nA. Cystogastrostomy\\nB. Needle aspiration\\nC. External drainage\\nD. USG and follow up\\nChoose the correct option (A, B, C, or D):', 'Question: A 3-year-old male child presents with multiple laryngeal papillomas with hoarse voice and slight airway distress. Papillomas are involving the glottis. The best treatment is:\\nA. Tracheostomy and observation\\nB. Steroids\\nC. Interferon therapy\\nD. Microlaryngoscopy and excision\\nChoose the correct option (A, B, C, or D):', 'Question: Gout is a disorder of-\\nA. Purine metabolism\\nB. Pyriniidine metabolism\\nC. Ketone metabolism\\nD. Protein metabolism\\nChoose the correct option (A, B, C, or D):', 'Question: The most common site of lymphangiosarcoma is\\nA. Liver\\nB. Spleen\\nC. Post mastectomy edema of arm\\nD. Retroperitoenum\\nChoose the correct option (A, B, C, or D):', 'Question: Most common tumor of vertebral spine in adults\\nA. Secondary deposits\\nB. Multiple myeloma\\nC. Lymphoma\\nD. Hemangioma\\nChoose the correct option (A, B, C, or D):', 'Question: General visceral fibres do not supply\\nA. Smooth muscles\\nB. Skeletal muscles\\nC. Cardiac muscles\\nD. Glands\\nChoose the correct option (A, B, C, or D):']\n"
     ]
    },
    {
     "name": "stderr",
     "output_type": "stream",
     "text": [
      "  1%|          | 15/2043 [00:20<42:55,  1.27s/it]"
     ]
    },
    {
     "name": "stdout",
     "output_type": "stream",
     "text": [
      "[\"Question: An infant born at 35 weeks' gestation to a mother with no prenatal care is noted to be jittery and irritable, and is having difficulty feeding. You note coarse tremors on examination. The nurses repo a high-pitched cry and note several episodes of diarrhea and emesis. You suspect the infant is withdrawing from\\nA. Alcohol\\nB. Marijuana\\nC. Heroin\\nD. Cocaine\\nChoose the correct option (A, B, C, or D):\", \"Question: Which of the following is a definite indication for systemic steroids in rheumatoid ahritis?\\nA. a) Mononeuritis multiplex\\nB. b) Carpel tunnel syndrome\\nC. c) Lung involvement\\nD. Both 'a' & 'c'\\nChoose the correct option (A, B, C, or D):\", 'Question: Which of the following amino acid can produce oxaloacetate directly in a single reaction?\\nA. Alanine\\nB. Cysteine\\nC. Threonine\\nD. Aspaate\\nChoose the correct option (A, B, C, or D):', 'Question: Blunt injury abdomen, patient was hemodynamically stable, next investigation\\nA. X-ray abdomen\\nB. Barium smallow\\nC. FAST\\nD. DPL\\nChoose the correct option (A, B, C, or D):', 'Question: Which element is required by phosphofructokinase?\\nA. Magnesium\\nB. Inorganic phosphate\\nC. Manganese\\nD. Copper\\nChoose the correct option (A, B, C, or D):', 'Question: A 50 year old male chronic smoker complaints of hoarseness of voice for the past 4 months. Microlaryngoscopic biopsy shows it to be keratosis of the larynx. All are suggested treatment modalities for this condition, EXCEPT:\\nA. Stop smoking\\nB. Laser vaporizer\\nC. Paial laryngectomy\\nD. Stripping of vocal cord\\nChoose the correct option (A, B, C, or D):', 'Question: CRP increases in all EXCEPT:\\nA. Osteoarthritis\\nB. Rheumatoid arthritis\\nC. Reactive arthritis\\nD. Psoriatic arthritis\\nChoose the correct option (A, B, C, or D):', 'Question: Right anterior oblique view of chest X–ray true is/are – a) Cassette near right shoulderb) Cassette near left shoulderc) Arch of Aorta best seend) Left atrial enlargement can be diagnosede) Mitral & tricuspid valves better seen\\nA. ad\\nB. c\\nC. ac\\nD. ab\\nChoose the correct option (A, B, C, or D):', 'Question: Which of the following is not used for thrombo prophylaxis\\nA. Heparin\\nB. Warfarin\\nC. Antithrombin 3\\nD. Aspirin\\nChoose the correct option (A, B, C, or D):', 'Question: The triad of diabetes, gallstones and steatorrhoea is associated with which one of the following tumours?\\nA. Gastrinomas\\nB. Somatostationomas\\nC. VIPomas\\nD. Glucagonomas\\nChoose the correct option (A, B, C, or D):', 'Question: Coartaction of aorta is associated with -\\nA. VSD\\nB. PDA\\nC. Bicuspid aortic valve\\nD. None of above\\nChoose the correct option (A, B, C, or D):', \"Question: Most common form of leptospirosis:\\nA. Weil's disease\\nB. Icteric form\\nC. Hepatorenal form\\nD. Anicteric form\\nChoose the correct option (A, B, C, or D):\", 'Question: Which of the following drugs is used for the prophylaxis of migraine but not for angina pectoris\\nA. Verapamnil\\nB. Diltiazem\\nC. Flunarizine\\nD. Amlodipine\\nChoose the correct option (A, B, C, or D):', 'Question: Which of the following scoring system is used to see chest involvement in Sarcoidosis?\\nA. Brasfield scoring system\\nB. Wisconsin scoring system\\nC. Shwachman-Kulczycki scoring system\\nD. Scadding scoring system\\nChoose the correct option (A, B, C, or D):', \"Question: Not a cause of primary amenorrhea-\\nA. Turner's syndrome\\nB. Kallmann syndrome\\nC. Asherman's syndrome\\nD. Rokitansky syndrome\\nChoose the correct option (A, B, C, or D):\", 'Question: A 20 month old female child is brought for routine check-up. Complete blood count (CBC) shows moderate neutropenia. Child looks healthy, eats well and within expected parameters for age and sex. Other parameters of blood count are within normal range expected for age. Family history is unremarkable. CBC after 1 and 2 weeks shows same results. Bone marrow examination is normal. Next step\\nA. Corticosteroid administration\\nB. Multivitamin administration\\nC. Watch and wait strategy\\nD. Antibiotics to prevent infection\\nChoose the correct option (A, B, C, or D):']\n"
     ]
    },
    {
     "name": "stderr",
     "output_type": "stream",
     "text": [
      "  1%|          | 16/2043 [00:21<43:38,  1.29s/it]"
     ]
    },
    {
     "name": "stdout",
     "output_type": "stream",
     "text": [
      "['Question: Fracture scaphoid is usually seen in:\\nA. Elderly male\\nB. Elderly postmenopausal female\\nC. Young active adult\\nD. Children\\nChoose the correct option (A, B, C, or D):', 'Question: Following is a type of physical uicaria -\\nA. Dermographism\\nB. Uicaria pigmenthosa\\nC. Uicaria vasculitis\\nD. Auto-immune uicaria\\nChoose the correct option (A, B, C, or D):', 'Question: A 20 yrs old young girl, presents with history of rapidly developing hirsutism and Amenorrhea with change in voice. To establish a diagnosis you would like to proceed with which of the following tests in blood:\\nA. 17-OH progesterone\\nB. DHEA\\nC. Testosterone\\nD. LH +FSH estimation\\nChoose the correct option (A, B, C, or D):', 'Question: Disease caused by virus of family of RNA paramyxovirus, with incubation period of 14-21 days with high secondary attack rate with most common complication of aseptic meningitis. Live attenuated vaccine is available for disease with strain JeryII Lynn strain. Name of disease is?\\nA. Measles\\nB. Mumps\\nC. Rubella\\nD. Chicken pox\\nChoose the correct option (A, B, C, or D):', 'Question: All of the following are hormonal agents used against breast cancer except -\\nA. Latrazole\\nB. Exemestane\\nC. Taxol\\nD. Tamoxifen\\nChoose the correct option (A, B, C, or D):', 'Question: All are true about Renal tubular acidosis except.\\nA. Impaired acid production\\nB. Impaired bicarbonate resorption\\nC. Inability to acidify urine\\nD. Nephrolithiasis\\nChoose the correct option (A, B, C, or D):', 'Question: All of the following are the classical presentation of Cranioverebral junction anomalies except\\nA. Pyramidal signs\\nB. Low hairline\\nC. Sho neck\\nD. Pupillary asymmetry\\nChoose the correct option (A, B, C, or D):', 'Question: Diabetes melitus is diagnosed if fasting blood glucose is ?\\nA. >100\\nB. >126\\nC. >110\\nD. >116\\nChoose the correct option (A, B, C, or D):', 'Question: All of the following nutritional assessment methods indicate inadequate nutrition except -\\nA. Hb < 11.5 g/dl during 3rd trimester of pregnancy\\nB. Increased 1-4 year moality rate\\nC. Bih weight < 2500 gm\\nD. Decreased weight for height\\nChoose the correct option (A, B, C, or D):', 'Question: A 65 year old woman after total knee implant surgery complains of calf pain and swelling in the leg from last 2 days. Later she\\ncomplains of breathlessness and dies suddenly in the ward. Probable cause?\\nA. Myocardial infarction\\nB. Pulmonary embolism\\nC. Stroke\\nD. ARDS\\nChoose the correct option (A, B, C, or D):', 'Question: A patient with recent onset primary generalized epilepsy, develops drug reaction and skin rash and neutropenia due to phenytoin sodium. The most appropriate course of action is:\\nA. Shift to sodium valproate\\nB. Shift to clonazepam\\nC. Shift to ethosuximide\\nD. Restart phenytoin after 2 weeks\\nChoose the correct option (A, B, C, or D):', 'Question: Methicillin-resistant S. aureus (MRSA) was isolated from 7 patients in a 14-bed intensive care unit. All patients were isolated and the unit closed to any more admissions. Which one of the following reasons best explains these rigorous methods to control MRSA?\\nA. MRSA is inherently more virulent than other staphylococci\\nB. The alternative for treatment of MRSA is vancomycin, an expensive and potentially toxic antibiotic\\nC. MRSA causes toxic shock syndrome\\nD. MRSA spreads more rapidly from patient to patient than antibiotic-susceptible staphylococci do\\nChoose the correct option (A, B, C, or D):', 'Question: Eutrophication of water bodies is mainly caused by -\\nA. Carbonates and oxides\\nB. Hydrocarbons and mentals\\nC. Carbonates and sulphates\\nD. Phosphates and nitrate\\nChoose the correct option (A, B, C, or D):', 'Question: Chronic Hemolysis from which of the following conditions may be associated with iron deficiency:\\nA. Paroxysmal cold Haemoglobinuria\\nB. Thalassemia\\nC. Hereditary spherocytosis\\nD. G 6PD deficiency\\nChoose the correct option (A, B, C, or D):', 'Question: Characteristic lesion of scabies is -\\nA. Burrow\\nB. Fissure\\nC. Vesicle\\nD. Papule\\nChoose the correct option (A, B, C, or D):', 'Question: Ridge lap design of ponticis indicated for the replacement\\nof a\\nA. Maxillary first molar\\nB. Maxillary central incisor\\nC. Mandibular first molar\\nD. Mandibular second premolar\\nChoose the correct option (A, B, C, or D):']\n"
     ]
    },
    {
     "name": "stderr",
     "output_type": "stream",
     "text": [
      "  1%|          | 17/2043 [00:23<46:14,  1.37s/it]"
     ]
    },
    {
     "name": "stdout",
     "output_type": "stream",
     "text": [
      "['Question: Many rashes and skin lesions can be found first in the newborn period. For each of the descriptions listed below, select the most likely diagnosis. Each lettered option may be used once, more than once, or not at all. An adolescent boy complains of a splotchy red rash on the nape of his neck, discovered when he had his head shaved for football season.The rash seems to become more prominent with exercise or emotion. His mother notes that he has had the rash since infancy, but that it became invisible as hair grew. He had a similar rash on his eyelids that resolved in the newborn period.\\nA. Sebaceous nevus\\nB. Salmon patch\\nC. Neonatal acne\\nD. Pustular melanosis\\nChoose the correct option (A, B, C, or D):', 'Question: For detection of intrinsic pathway of coagulation which one is used?\\nA. aPTT\\nB. PT\\nC. BT\\nD. CT\\nChoose the correct option (A, B, C, or D):', 'Question: A 50 years old male with 2 diabetes mellitus is found to have 24 hour urinary albumin of 250 mg. Which of the following drugs may be used to retard progression of renal disease -\\nA. Hydrochlohiazide\\nB. Enalapril\\nC. Amiloride\\nD. Aspirin\\nChoose the correct option (A, B, C, or D):', 'Question: Distal colitis with respect to ulcerative colitis refers to:\\nA. Proctitis\\nB. Left sided colon distal to splenic flexure is only involved\\nC. Mid transverse colitis\\nD. None of the above\\nChoose the correct option (A, B, C, or D):', 'Question: H4-biopterin (tetrahydrobiopterin) is required for metabolism of\\nA. Arginine\\nB. Lysine\\nC. Phenylalanine\\nD. Tryptophane\\nChoose the correct option (A, B, C, or D):', 'Question: Rigor mortis in fetus is:\\nA. Usually not seen before 7 months\\nB. Seen in upper limb & not in lower limb\\nC. Seen in lower limb & not in upper limb\\nD. Established but too faint to be appreciated\\nChoose the correct option (A, B, C, or D):', 'Question: Recurrent ischaemic events following thrombosis have been pathophysiologically linked to\\nA. Antibodies to thrombolytic agents\\nB. Fibrinopeptide A\\nC. Lipoprotein A\\nD. Triglycerides\\nChoose the correct option (A, B, C, or D):', 'Question: Which of the following drug can cause cartilage damage in children ?\\nA. Cotrimoxazole\\nB. Penicillin\\nC. Ciprofloxacin\\nD. Metronidazole\\nChoose the correct option (A, B, C, or D):', 'Question: Telecanthus is:\\nA. Narrow medial epicanthus\\nB. Widely separated medial orbital wall\\nC. Lateral epicanthal fold thickened\\nD. Increases in intercanthal distance with normal interpupillary distance\\nChoose the correct option (A, B, C, or D):', 'Question: A patient was advised Treadmill test, but he had lost both his limbs and then he was advised a stress test. The drug used for this test is:\\nA. Dopexamine\\nB. Dopamine\\nC. Dobutamine\\nD. Dipevefrine\\nChoose the correct option (A, B, C, or D):', \"Question: The presence of multiple cavities in the lung with hematuria is suggestive of-\\nA. Wegener's granulomatosis\\nB. Tuberculosis\\nC. Renal cell carcinoma\\nD. Systemic lupus erythematosus (SLE)\\nChoose the correct option (A, B, C, or D):\", 'Question: True about Atosiban:\\nA. is an oxytocin receptor antagonist\\nB. is an progesterone receptor antagonist\\nC. is least effective in inhibiting preterm uterine contractions\\nD. is a anti-tocolytic drug\\nChoose the correct option (A, B, C, or D):', 'Question: An extracted tooth is discarded in which bag?\\nA. Yellow\\nB. Red\\nC. Black\\nD. Blue\\nChoose the correct option (A, B, C, or D):', 'Question: The Vitamin A supplement administered in “Prevention of nutritional blindness in children programme” contains\\nA. 25,000 IU/ml\\nB. 3 lakh IU/ml\\nC. 1 lakh IU/ml\\nD. 5 lakh IU/ml\\nChoose the correct option (A, B, C, or D):', 'Question: Immunostimulant used for the treatment of malignant Melanoma Norma is\\nA. Levamisol\\nB. BCG\\nC. Aldesleukin\\nD. Methotrexate\\nChoose the correct option (A, B, C, or D):', 'Question: What could be the possible diagnosis as per the given X-ray?\\nA. Osgood schattler disease\\nB. Pellegrinl Stieda lesion\\nC. SLAP tear\\nD. Segond Fracture\\nChoose the correct option (A, B, C, or D):']\n"
     ]
    },
    {
     "name": "stderr",
     "output_type": "stream",
     "text": [
      "  1%|          | 18/2043 [00:25<50:16,  1.49s/it]"
     ]
    },
    {
     "name": "stdout",
     "output_type": "stream",
     "text": [
      "[\"Question: True regarding predisposing factors for penile carcinoma are all except: March 2012, March 2013 (e)\\nA. Paget's disease\\nB. Genital was\\nC. Circumcision\\nD. Leucoplakia\\nChoose the correct option (A, B, C, or D):\", 'Question: A neonate presenting with ascites is diagnosed having urinary ascites. What is the most common cause:\\nA. Bilateral PUJ obstruction\\nB. Infant polycystic kidney disease\\nC. Posterior urethral valve\\nD. Meatal stenosis\\nChoose the correct option (A, B, C, or D):', \"Question: A 30 year old farmer presents with the features of high fever, painful inguinal lymphadenopathy, vomiting and diarrhoea with hypotension. Which of the following stain will be helpful in making the diagnosis?\\nA. Wayson's stain\\nB. Neisser stain\\nC. Albes stain\\nD. McFadyean's stain\\nChoose the correct option (A, B, C, or D):\", 'Question: A person is said to be mentally retarded when IQ is-\\nA. < 100\\nB. <90\\nC. <80\\nD. <70\\nChoose the correct option (A, B, C, or D):', 'Question: Best for systemic aspergillosus infection ?\\nA. Ketoconazole\\nB. Itraconazole\\nC. Fluconazole\\nD. Flucytocine\\nChoose the correct option (A, B, C, or D):', 'Question: The principal vector of dengue virus-\\nA. Anopheles culicifacies\\nB. Aedes aegypti\\nC. Anopheles stephensi\\nD. Culex molestus\\nChoose the correct option (A, B, C, or D):', 'Question: In Epidemic dropsy disease, toxin is:-\\nA. Ergot toxin\\nB. Sanguinarine\\nC. BOAA\\nD. Alkaloids\\nChoose the correct option (A, B, C, or D):', 'Question: A female presented with long standing nasal obstruction. She also complaints about comments from her friends telling about foul smell coming from her nose which she could not recognise. On evaluation, atrophic rhinitis is diagnosed. What can be the etiology in this patient to develop secondary atrophic rhinitis?\\nA. Chronic sinusitis\\nB. Nasal trauma\\nC. Oropharyngeal cancer\\nD. Strong hereditary factors\\nChoose the correct option (A, B, C, or D):', 'Question: A 42-year old female presents with the\\xa0complaint of bleeding gums for the past 20\\xa0days. Intra-oral examination shows thickened and friable gums. Also, she has\\xa0hepatosplenomegaly with generalized non tender lymphadenopathy. The blood\\xa0 count reveals: Hemoglobin 11.4 g/dl, Platelet count 90,000/mm3, WBC count 4600/mm3. The bone marrow biopsy shows 100% cellularity, with many large blasts that are peroxidase negative and nonspeciﬁc esterase positive. Which of the following is the most likely diagnosis for this patient?\\nA. Acute lymphoblastic leukemia\\nB. Acute megakaryocytic leukemia\\nC. Acute promyelocytic leukemia\\nD. Acute monocytic leukemia\\nChoose the correct option (A, B, C, or D):', 'Question: Osteomeatal complex(OMC) connects:\\nA. Nasal cavity with maxillary sinus\\nB. Nasal cavity with sphenoid sinus\\nC. The two nasal cavities\\nD. Ethmoidal sinus with ethmoidal bulla\\nChoose the correct option (A, B, C, or D):', 'Question: OPV bivalent vaccine contains -\\nA. Polio virus 1 & 3\\nB. Polio virus 1 & 2\\nC. Polio virus 2 & 3\\nD. None\\nChoose the correct option (A, B, C, or D):', 'Question: Which of the following is the classical CSF finding seen in TBM?\\nA. Increased protein, decreased sugar, increased lymphocytes\\nB. Increased protein, sugar and lymphocytes\\nC. Decreased protein, increased sugar and lymphocytes\\nD. Increased sugar, protein and neutrophils\\nChoose the correct option (A, B, C, or D):', \"Question: Winter bottom's sign in sleeping sickness refers to-\\nA. Unilateral conjunctivitis\\nB. Posterior cervical lymphadenopathy\\nC. Narcolepsy\\nD. Transient erythema\\nChoose the correct option (A, B, C, or D):\", 'Question: Clostridium difficile causes -\\nA. Pseudomembranous colitis\\nB. Nosocomical diarrhea\\nC. Gas gangrene\\nD. Food poisoning\\nChoose the correct option (A, B, C, or D):', 'Question: The muscle of hand that contains a sesamoid bone is\\nA. Flexor pollicis brevis\\nB. Flexor pollicis longus\\nC. Opponens pollicis\\nD. Adductor pollicis\\nChoose the correct option (A, B, C, or D):', \"Question: A 70-year-old man has smoked for years despite a chronic productive cough. One day, he notices blood in his sputum and goes to see his physician. A chest x-ray reveals a mass in the left lung, which is biopsied during a fiberoptic bronchoscopy. Assuming that this patient's cancer is etiologically related to his smoking, which of the following diagnoses are most likely to be returned by the pathology laboratory?\\nA. Adenocarcinoma or bronchioloalveolar carcinoma\\nB. Adenocarcinoma or small cell carcinoma\\nC. Bronchioloalveolar carcinoma or small cell carcinoma\\nD. Small cell carcinoma or squamous cell carcinoma\\nChoose the correct option (A, B, C, or D):\"]\n"
     ]
    },
    {
     "name": "stderr",
     "output_type": "stream",
     "text": [
      "  1%|          | 19/2043 [00:26<52:57,  1.57s/it]"
     ]
    },
    {
     "name": "stdout",
     "output_type": "stream",
     "text": [
      "['Question: Which of the following exocrine glandular ducts are not obstructed in cystic fibrosis:\\nA. Pancreas\\nB. Lung\\nC. Sweat gland\\nD. All of above\\nChoose the correct option (A, B, C, or D):', 'Question: Long connective tissue papillae and keratinized epithelia are a feature of these parts of oral mucosa\\nA. gingiva and alveolar mucosa\\nB. hard palate and gingiva\\nC. buccal and alveolar mucosa\\nD. hard and soft palate\\nChoose the correct option (A, B, C, or D):', 'Question: Distal interphalangeal joints are involved in all except ?\\nA. Psoriatic ahritis\\nB. Rheumatoid ahritis\\nC. Reactive ahritis\\nD. Osteoahritis\\nChoose the correct option (A, B, C, or D):', 'Question: Occult thyroid malignancy with nodal metastasis is seen in -\\nA. Medullary carcinoma\\nB. Follicular ca\\nC. Papillary ca\\nD. Anaplastic ca\\nChoose the correct option (A, B, C, or D):', 'Question: In which type of nerve fibers is conduction blocked maximally by pressure\\nA. A alpha\\nB. A beta\\nC. A gamma\\nD. C\\nChoose the correct option (A, B, C, or D):', 'Question: Which of the following decreases affinity of oxygen with hemoglobin?\\nA. Decreased H+ ions\\nB. 2,3 BPG\\nC. Decrease in temperature\\nD. Decreased sorbitol\\nChoose the correct option (A, B, C, or D):', 'Question: Non-septate hyphae with a tendency to branch at 90 degree angle is characteristic of:\\nA. Mucormycosis\\nB. Aspergillosis\\nC. Cryptococcus neoformans\\nD. Coccidioides immitis\\nChoose the correct option (A, B, C, or D):', 'Question: Meniscal tears usually result from which of the following circumstances?\\nA. Hyperextension\\nB. Flexion and rotation\\nC. Simple hyperflexion\\nD. Compression\\nChoose the correct option (A, B, C, or D):', 'Question: Minimum reabsorption through renal tubule, among the following\\nA. Glucose\\nB. HCO3\\nC. Urea\\nD. Uric acid\\nChoose the correct option (A, B, C, or D):', 'Question: Apex of maxillary sinus points towards\\nA. Zygomatic bone\\nB. Nasal Cavity\\nC. Orbital surface\\nD. None of the above\\nChoose the correct option (A, B, C, or D):', \"Question: The caudate lobe of liver corresponds to which segment of Counaud's classification\\nA. Segment I\\nB. Segment II\\nC. Segment III\\nD. Segment IV\\nChoose the correct option (A, B, C, or D):\", 'Question: Which of the following can be found in ocular muscles?\\nA. Trichinella\\nB. Ascaris\\nC. Enterobius\\nD. None\\nChoose the correct option (A, B, C, or D):', 'Question: Continuous cell culture of bacteria\\nA. U tube\\nB. Craige tube\\nC. Chemostat device\\nD. Agar dilution method\\nChoose the correct option (A, B, C, or D):', 'Question: Which is the most common tumor associated with superior vena cava syndrome?\\nA. Lung cancer\\nB. Lymphoma\\nC. Metastasis\\nD. Thyroid cancer\\nChoose the correct option (A, B, C, or D):', \"Question: Pars flaccida of the tympanic membrane is also called as\\nA. Reissner's membrane\\nB. Shrapnel's membrane\\nC. Basilar membrane\\nD. Secondary tympanic membrane\\nChoose the correct option (A, B, C, or D):\", 'Question: A 37-year-old man is admitted to the hospital with a productive cough, fever, and night sweats. An X-ray film of the chest shows an ill-defined area of consolidation at the periphery of the right middle lobe and mediastinal lymphadenopathy. Sputum culture grows acid-fast bacilli. Lymph node biopsy in this patient would most likely show which of the following pathologic findings?\\nA. Caseating granulomas\\nB. Follicular hyperplasia\\nC. Nodular amyloidosis\\nD. Noncaseating granulomas\\nChoose the correct option (A, B, C, or D):']\n"
     ]
    },
    {
     "name": "stderr",
     "output_type": "stream",
     "text": [
      "  1%|          | 20/2043 [00:28<50:34,  1.50s/it]"
     ]
    },
    {
     "name": "stdout",
     "output_type": "stream",
     "text": [
      "['Question: Zidovudine toxicity is increased by all except\\nA. Azithromycin\\nB. Probencid\\nC. Cisplatin\\nD. Cyclophosphamide\\nChoose the correct option (A, B, C, or D):', \"Question: Most common abdominal mass in children:\\nA. Hydronephrosis\\nB. Wilms' tumor\\nC. Neuroblastoma\\nD. Rhabdomyosarcoma\\nChoose the correct option (A, B, C, or D):\", 'Question: Healthworker-hand washing\\nA. Cleaning hands with spirit before and after examination of each patient\\nB. Visible blood stain on hand is washed with soap and water\\nC. Use of soap an Dettol only for hand washing before surgery\\nD. Hand rub cannot be used in place of hand washing\\nChoose the correct option (A, B, C, or D):', 'Question: All of the following statement about Renal Calculi are true, Except:\\nA. Cystine stones form in acidic urine\\nB. Struvite stones form in alkaline urine\\nC. Oxalate stones are radiopaque\\nD. Uric acid stones are resistant to ESWL\\nChoose the correct option (A, B, C, or D):', 'Question: Shenton line is seen in X-ray of\\nA. Knee\\nB. Shoulder\\nC. Elbow\\nD. Hip\\nChoose the correct option (A, B, C, or D):', 'Question: Normal size but non functioning uterus is usually associated with :\\nA. Stenosis of the external os\\nB. Uterine synechiae\\nC. Paial agenesis of the vagina\\nD. Complete absence of vagina\\nChoose the correct option (A, B, C, or D):', 'Question: Which of the following is not a characteristic of right sided failure -\\nA. Pulmonary oedema\\nB. Ascites\\nC. Oliguria\\nD. Dependent\\nChoose the correct option (A, B, C, or D):', 'Question: An 8 years old boy from Bihar presents with a 6 months history of an ill defined, hypopigmented slightly atrophic macule on the face. The most likely diagnosis is:\\nA. Pityriasis alba\\nB. Indeterminate leprosy\\nC. Vitiligo\\nD. Calcium deficiency\\nChoose the correct option (A, B, C, or D):', \"Question: A 25yr old male with thyroid swelling Biopsy shows intense lymphocytic infiltration along with huhle cell change TSH increased\\nA. Hashimoto's thyroiditis\\nB. Grave's disease\\nC. follicular carcinoma\\nD. Medullary carcinoma thyroid\\nChoose the correct option (A, B, C, or D):\", 'Question: The lineage specific marker for B cells is\\nA. CD 19\\nB. CD 20\\nC. CD 21\\nD. CD 22\\nChoose the correct option (A, B, C, or D):', 'Question: Reversible loss of polarity with abnormality in size and shape of cells is known as -\\nA. Metaplasia\\nB. Dysplasia\\nC. Hyperplasia\\nD. Anaplasia\\nChoose the correct option (A, B, C, or D):', 'Question: The most common form of dissociative hysteria is:\\nA. Fugue\\nB. Amnesia\\nC. Multiple personality\\nD. Somnambulism\\nChoose the correct option (A, B, C, or D):', 'Question: Schaumann bodies are seen in -\\nA. Sarcoidosis\\nB. Chronic bronchitis\\nC. Asthma\\nD. Syphilis\\nChoose the correct option (A, B, C, or D):', 'Question: Which of the following drugs is associated with untoward side effect of renal tubular damage-\\nA. Cisplatin\\nB. Steptozotocin\\nC. Methysergide\\nD. Cyclophosphamide\\nChoose the correct option (A, B, C, or D):', 'Question: Which of the following nucleus in brain is common to IX, X & XI cranial nerves?\\nA. Nucleus solitarius\\nB. Nucleus ambiguus\\nC. Dentate nucleus\\nD. Red nucleus\\nChoose the correct option (A, B, C, or D):', 'Question: Digoxin toxicity it can be increased by all except\\nA. Renal impairment\\nB. Hyperkalemia\\nC. Hypetmagmesimia\\nD. Hypercalcemia\\nChoose the correct option (A, B, C, or D):']\n"
     ]
    },
    {
     "name": "stderr",
     "output_type": "stream",
     "text": [
      "  1%|          | 21/2043 [00:29<46:04,  1.37s/it]"
     ]
    },
    {
     "name": "stdout",
     "output_type": "stream",
     "text": [
      "['Question: A double apical impulse is seen in\\nA. AS & AR\\nB. TR&TS\\nC. MI\\nD. HOCM\\nChoose the correct option (A, B, C, or D):', 'Question: Which of the following agent is used in day care surgery?\\nA. Propofol\\nB. Thiopentone\\nC. Ketamine\\nD. Diazepam\\nChoose the correct option (A, B, C, or D):', 'Question: Which of the following can prevent neural tube defects in pregnancy?\\nA. Iron\\nB. Vit B12\\nC. Folic acid\\nD. Zinc\\nChoose the correct option (A, B, C, or D):', 'Question: Which one of the following hepatic lesions can be diagnosed with high accuracy by using nuclear imaging ?\\nA. Hepatocellular Carcinoma\\nB. Hepatic Adenoma\\nC. Focal Nodular Hyperplasia\\nD. Cholangiocarcinoma\\nChoose the correct option (A, B, C, or D):', 'Question: Flexion, adduction and medial rotation of arm is done by which muscle\\nA. Serratus Anterior\\nB. Pectoralis major\\nC. Pectoralis minor\\nD. Subclavius\\nChoose the correct option (A, B, C, or D):', 'Question: In a patient with poor glycemic control, hypertriglyceridemia, low HDL, which of the following drug Rx would be best without the risk of myositis as its side effect?\\nA. Fibric acid derivatives\\nB. Nicotinic acid\\nC. Atorvastatin\\nD. Simvastatin\\nChoose the correct option (A, B, C, or D):', 'Question: For acute leukaemia the blast cells should be more than ____%-\\nA. 10\\nB. 20\\nC. 30\\nD. 40\\nChoose the correct option (A, B, C, or D):', 'Question: Most common cause of primary hyperparathyroidism-\\nA. Iatrogenic\\nB. Medullary carcinoma thyroid\\nC. Parathyroid adenoma\\nD. Parathyroid hyperplasia\\nChoose the correct option (A, B, C, or D):', 'Question: O2 delivery to tissues depends on all of the following factors, EXCEPT:\\nA. Cardiac output\\nB. Type of fluid administered\\nC. Hemoglobin concentration\\nD. Affinity of hemoglobin for O2\\nChoose the correct option (A, B, C, or D):', 'Question: Which of the following is commonest primary intraocular tumour in childhood is\\nA. Neurofibromatosis\\nB. Retinoblastoma\\nC. Cavernous haemangioma\\nD. Melanotic melanoma\\nChoose the correct option (A, B, C, or D):', 'Question: Sho stature, secondary to growth hormone deficeincy is associated with -\\nA. Normal body propoion\\nB. Low bih weight\\nC. Normal epiphyseal development\\nD. Height age equal to skeletal age\\nChoose the correct option (A, B, C, or D):', 'Question: Malignant hyperthermia is caused due to which of the following mechanism?\\nA. Increased intracellular Na\\nB. Decreased intracellular chlorine\\nC. Increased intracellular Ca\\nD. Increased serum K\\nChoose the correct option (A, B, C, or D):', 'Question: Posterior cardinal vein develops into:\\nA. Superior vena cava\\nB. Internal jugular vein\\nC. External jugular vein\\nD. Common iliac vein\\nChoose the correct option (A, B, C, or D):', 'Question: All of the following are seen in polycythemia rubra vera except :\\nA. Increased Vit B12 binding capacity (>9000 micromols/dL)\\nB. Decreased LAP Score\\nC. Leucocytosis\\nD. Increased platelets\\nChoose the correct option (A, B, C, or D):', \"Question: A 21 year male with fracture surgical neck humerus presented with regimental badge sign and difficulty in abduction, most likely to be injured\\nA. Ulnar nerve injury\\nB. Axillary nerve injury\\nC. Klumpke's paralysis\\nD. Supraclavicular nerve injury\\nChoose the correct option (A, B, C, or D):\", 'Question: A 52 year old woman has long standing rheumatoid ahritis (RA) and is being treated with coicosteroids and nonsteroidal anti-inflammatory drugs (NSAIDs). Which of the following cardiac complications may arise in this clinical setting?\\nA. Constrictive pericarditis\\nB. Dilated cardiomyopathy\\nC. Hypersensitivity myocarditis\\nD. Restrictive cardiomyopathy\\nChoose the correct option (A, B, C, or D):']\n"
     ]
    },
    {
     "name": "stderr",
     "output_type": "stream",
     "text": [
      "  1%|          | 22/2043 [00:30<44:28,  1.32s/it]"
     ]
    },
    {
     "name": "stdout",
     "output_type": "stream",
     "text": [
      "[\"Question: Bleeding time is not prolonged in-\\nA. Von Willebrand's disease\\nB. Christmas disease\\nC. Haemophilia\\nD. Polycythemia\\nChoose the correct option (A, B, C, or D):\", 'Question: The \"gp 120\" in HIV helps in:\\nA. Virus attachment\\nB. Virus replication\\nC. Virus penetration\\nD. Virus dissemination\\nChoose the correct option (A, B, C, or D):', 'Question: LASIK (Laser assisted in situ keratomileusis) is useful in treatment of\\nA. Myopia\\nB. Astigmatism\\nC. Hypermetropia\\nD. All of the above\\nChoose the correct option (A, B, C, or D):', 'Question: The tissues most sensitive to atropine are\\nA. The salivary, bronchial and sweat glands\\nB. The gastric parietal cells\\nC. Smooth muscle and autonomic effectors\\nD. The hea\\nChoose the correct option (A, B, C, or D):', \"Question: Most common cause of scleritis -\\nA. Rheumatoid arthritis\\nB. SLE\\nC. Sjogren's Syndrome\\nD. Behcet's Disease\\nChoose the correct option (A, B, C, or D):\", 'Question: Patellar plexus is formed by which nerve\\nA. Lateral cutaneous nerve\\nB. Intermediate cutaneous nerve\\nC. Medial cutaneous nerve\\nD. All of the above\\nChoose the correct option (A, B, C, or D):', 'Question: Ankylosing spondylitis may be associated with\\nA. Atrial fibrillation\\nB. Pulmonary stenosis\\nC. Aoic incompetence\\nD. Mitral stenosis\\nChoose the correct option (A, B, C, or D):', 'Question: A 60-year old male has a long 5tanding history of breathlessness lie has been a heavy smoker since the age of 20 years. Physical examination reveals an anxious male who is emaciated, puffing for breath but is not cyanosed. The chest is barrels shaped. An additional clinical finding would be -\\nA. Elevated domes of the diaphragm\\nB. Left ventricular hyperophy\\nC. Muffled hea sounds\\nD. Gynecomastia\\nChoose the correct option (A, B, C, or D):', 'Question: Tumor marker for Ca colon for follow up\\nA. CEA\\nB. CA 125\\nC. CA 19-9\\nD. AFP\\nChoose the correct option (A, B, C, or D):', 'Question: Keshan disease is caused by deficiency of:\\nA. Thiamine\\nB. Zinc\\nC. Selenium\\nD. Proteins\\nChoose the correct option (A, B, C, or D):', 'Question: Which of the following drugs is recommended for the treatment of Heparin Induced thrombocytopenia?\\nA. Abciximab\\nB. Lepirudin\\nC. Warfarin\\nD. Alteplase\\nChoose the correct option (A, B, C, or D):', 'Question: An 18 years old male reported with chief complaint of sensitivity and deep, dull, radiating pain during chewing. Intra-oral examination showed sparase plague and dental calculus deposits, distolabial migration of the maxillary incisors with diastema formation, mobility of maxillary and mandibular incisors and first molars. Prescribed radiographs showed an arch shaped loss of alveolar bone extending from the distal surface of the mandibular second premolar to the mesial surface of the second molar. There was vertical bone loss in the maxillary incisor region.\\n\\nThe host modulation therapy that may be used as adjunctive therapy for this disease is\\nA. Subantimicrobial-dose clindamycin\\nB. Subantimicrobial-dose metronidazole\\nC. Subantimicrobial-dose doxycycline\\nD. Subantimicrobial-dose ciproftoxacin\\nChoose the correct option (A, B, C, or D):', 'Question: MRI is contraindicated in patients with:\\nA. Metallic foreign body in eye\\nB. Sensitivity to dye\\nC. Intracranial hemorrhage\\nD. Agaro phobia\\nChoose the correct option (A, B, C, or D):', 'Question: True about cross section study-\\nA. Prevalence study\\nB. Useful for chronic disease\\nC. Simple study\\nD. All of the above\\nChoose the correct option (A, B, C, or D):', 'Question: Angiotensin II receptor antagonist is\\nA. Perindopril\\nB. Enalapril\\nC. Benazepril\\nD. Losartan\\nChoose the correct option (A, B, C, or D):', \"Question: Jone's fracture is?\\nA. Avulsion fracture of base of fifth metatarsal\\nB. Bimalleolar fracture of the ankle\\nC. Burst fracture of 1st cervical vertebra\\nD. Avulsion fracture of the medial femoral condyle\\nChoose the correct option (A, B, C, or D):\"]\n"
     ]
    },
    {
     "name": "stderr",
     "output_type": "stream",
     "text": [
      "  1%|          | 23/2043 [00:32<49:02,  1.46s/it]"
     ]
    },
    {
     "name": "stdout",
     "output_type": "stream",
     "text": [
      "['Question: If the prevalence is very low as compared to the incidence for a disease, it implies\\nA. Disease is very fatal and/or easily curable\\nB. Disease is non-fatal\\nC. Calculation of prevalence & incidence is wrong\\nD. Nothing can be said, as they are independent\\nChoose the correct option (A, B, C, or D):', 'Question: The distance of aoic constriction of the oesophagus from the upper incisor teeth\\nA. 15 cm\\nB. 22.5 cm\\nC. 27.5 cm\\nD. 40 cm\\nChoose the correct option (A, B, C, or D):', 'Question: Acanthosis with intraepithelial vacuolation and hyperpara keratosis is seen in:\\nA. Hairy tongue (Lingua villosa)\\nB. Hyperplastic candidiasis\\nC. Speckled leukoplakia\\nD. Desquarnative gingivitis\\nChoose the correct option (A, B, C, or D):', 'Question: At autopsy, a patient who had died with acute anuria and uremia is found to have ischemic necrosis of the coex of both kidneys with relative sparing of the medulla. These pathological findings are MOST likely related to which of the following underlying conditions?\\nA. Disseminated intravascular coagulation\\nB. Multiple myeloma\\nC. Polycystic kidney disease\\nD. Pyelonephritis\\nChoose the correct option (A, B, C, or D):', 'Question: Down Syndrome, All are seen except?\\nA. t(14 ; 21)\\nB. Trisomy 21\\nC. t(11 : 14)\\nD. t (15 :21)\\nChoose the correct option (A, B, C, or D):', 'Question: In an 8 yr old girl with symptoms of rickets, lab investigations show Serum Calcium 7.2 mg/dl, Serum Phosphates 2.3 mg/dl Alkaline Phosphatase 2420 IU/L. The most probable diagnosis is?\\nA. Vitamin D dependant type II\\nB. Hypophosphatemic Rickets\\nC. Nutritional Rickets\\nD. Secondary Hyperparathyroidism\\nChoose the correct option (A, B, C, or D):', 'Question: Which of the following drugs has spasmolytic activity and could also be used in the management of seizure caused by an overdose of a local anesthetic?\\nA. Baclofen\\nB. Dantrolene\\nC. Diazepam\\nD. Tizanidine\\nChoose the correct option (A, B, C, or D):', \"Question: Reilly bodies are seen in?\\nA. Gangliosidosis\\nB. Bechet's disease\\nC. Gaucher's disease\\nD. Hurler disease\\nChoose the correct option (A, B, C, or D):\", 'Question: Dehydrogenase in HMP shunt act in oxidative phase to generate which of the following?\\nA. NADP+\\nB. NADPH\\nC. FAD+\\nD. FADH\\nChoose the correct option (A, B, C, or D):', 'Question: A 47-year-old man with type II diabetes repos for his 6-month checkup. His doctor prescribes a daily 30-minute routine of walking at a brisk pace. During aerobic exercise, blood flow remains relatively constant to which of the following organs?\\nA. Brain\\nB. Hea\\nC. Kidneys\\nD. Skeletal muscle\\nChoose the correct option (A, B, C, or D):', 'Question: The most frequent symptom of gastric diverticulum is\\nA. Epigastric pain\\nB. Haematemesis\\nC. Vomiting\\nD. Pain relieved by food\\nChoose the correct option (A, B, C, or D):', 'Question: In which of the following structure of central nervous system the major autonomic reflex centers are found?\\nA. Cerebellum\\nB. Medulla oblongata\\nC. Hypothalamus\\nD. Thalamus\\nChoose the correct option (A, B, C, or D):', 'Question: Similar features between cerebral abscess and cerebral infarct -\\nA. Coagulative necrosis\\nB. Liquefactive necrosis\\nC. Heal by collagen formation\\nD. lways develop from emboli from other site\\nChoose the correct option (A, B, C, or D):', 'Question: Metastasis from follicular carcinoma should be treated by: September 2007\\nA. Radioiodine\\nB. Surgery\\nC. Thyroxine\\nD. Observation\\nChoose the correct option (A, B, C, or D):', 'Question: Contraindications of ergometrine is -\\nA. Diabetes mellitus\\nB. Excessive post-partum hemorrhage\\nC. Heart disease\\nD. Anaemia\\nChoose the correct option (A, B, C, or D):', 'Question: Hypercalcemia in ECG is diagnosed by-\\nA. Increased QT interval\\nB. Decreased QT interval\\nC. Increased PR interval\\nD. Tall T waves\\nChoose the correct option (A, B, C, or D):']\n"
     ]
    },
    {
     "name": "stderr",
     "output_type": "stream",
     "text": [
      "  1%|          | 24/2043 [00:33<46:26,  1.38s/it]"
     ]
    },
    {
     "name": "stdout",
     "output_type": "stream",
     "text": [
      "['Question: A 8-year-old male had non-blanching rashes over the shin and swelling of the knee joint with haematuria +++ and protein +. Microscopic analysis of his renal biopsy specimen is most likely to show –\\nA. Tubular necrosis\\nB. Visceral podocyte fusion\\nC. Mesangial deposits of IgA\\nD. Basement membrane thickening\\nChoose the correct option (A, B, C, or D):', 'Question: FIGLU excretion test is used for assessment of deficiency of -\\nA. VitaminBn\\nB. Niacin\\nC. Folic acid\\nD. Pyridoxin\\nChoose the correct option (A, B, C, or D):', 'Question: 100. A Patient presents with pain in Meta-Tarso-Phalangeal joints and is a known case of chronic renal failure. This is due to accumulation of:\\nA. Rh factor\\nB. Uric acid\\nC. Serum urea\\nD. HLA B27 typing\\nChoose the correct option (A, B, C, or D):', 'Question: Amount of water lost in stools\\nA. 50ml\\nB. 200ml\\nC. 300ml\\nD. 350ml\\nChoose the correct option (A, B, C, or D):', 'Question: Which of the following is used for acute variceal bleeding?\\nA. Octreotide\\nB. Oxytocin\\nC. Somatotropin\\nD. Dexamethasone\\nChoose the correct option (A, B, C, or D):', 'Question: Lateral wall of mastoid antrum is related to ?\\nA. Superficial temporal aery\\nB. External auditory canal\\nC. Emissary vein\\nD. Meningeal aery\\nChoose the correct option (A, B, C, or D):', 'Question: Most important receptor involved in chemotherapy induced vomiting is :\\nA. Histamine H1 receptor\\nB. Serotonin 5–HT3 receptor\\nC. Dopamine D2 receptor\\nD. Opioid µ receptor\\nChoose the correct option (A, B, C, or D):', 'Question: Hagemann factor is involved in: March 2009\\nA. Extrinsic pathway\\nB. Intrinsic pathway\\nC. Fibrinolysis\\nD. None\\nChoose the correct option (A, B, C, or D):', \"Question: Respiratory centre depression is caused by all exceptaEUR'\\nA. Opium\\nB. Strychnine\\nC. Barbiturates\\nD. Gelsemium\\nChoose the correct option (A, B, C, or D):\", 'Question: \"Cruising\" is a developmental milestone attained at the age of:\\nA. 8 months\\nB. 10 months\\nC. 13 months\\nD. 15 months\\nChoose the correct option (A, B, C, or D):', 'Question: Which of the following muscle relaxant has the maximum duration of action –\\nA. Atracurium\\nB. Vecuronium\\nC. Rocuronium\\nD. Doxacurium\\nChoose the correct option (A, B, C, or D):', 'Question: Drug of choice for myoclonic seizures is:\\nA. Valproic acid\\nB. Phenytoin\\nC. Ethosuximide\\nD. Carbamazepine\\nChoose the correct option (A, B, C, or D):', 'Question: Amniocentesis conducted during genetic counseling of a pregnant woman reveals a fetal adenosine deaminase deficiency. This autosomal recessive immunodeficiency is usually associated with which of the following?\\nA. Humoral Immunity - Normal; Cellular Immunity - Normal\\nB. Humoral Immunity - Normal; Cellular Immunity - Deficient\\nC. Humoral Immunity - Deficient; Cellular Immunity - Normal\\nD. Humoral Immunity - Deficient; Cellular Immunity - Deficient\\nChoose the correct option (A, B, C, or D):', 'Question: Breast feeding is not contraindicated if:\\nA. Mother has active infection of herpes on breast\\nB. Mother has hepatitis B infection\\nC. Mother has tuberculosis\\nD. Mother is on Chemoprophylaxis for leukemia\\nChoose the correct option (A, B, C, or D):', 'Question: In the absence of any clear history of trauma, this radiograph done in a patient of shoulder pain most likely suggests:\\nA. Shoulder dislocation\\nB. Calcific tendinitis\\nC. Acromioclavicular dislocation\\nD. Hill Sachs lesion\\nChoose the correct option (A, B, C, or D):', 'Question: Most common causative organism for bacterial meningitis beyond 3 years of age is -\\nA. Pneumococcus\\nB. Staphylococcus aureus\\nC. Meningococcus\\nD. H. influenzae Type b\\nChoose the correct option (A, B, C, or D):']\n"
     ]
    },
    {
     "name": "stderr",
     "output_type": "stream",
     "text": [
      "  1%|          | 25/2043 [00:34<44:55,  1.34s/it]"
     ]
    },
    {
     "name": "stdout",
     "output_type": "stream",
     "text": [
      "['Question: Rhinoscleroma occurs due to\\nA. Auto immune cause\\nB. Klebsiella rhinoscleromatis infection\\nC. Inflammatory cause\\nD. Mycotic infection\\nChoose the correct option (A, B, C, or D):', 'Question: Nerve which loops around submandibular duct?\\nA. Mandibular nerve\\nB. Lingual nerve\\nC. Hypoglossal nerve\\nD. Recurrent laryngeal nerve\\nChoose the correct option (A, B, C, or D):', 'Question: How soon after feilization occurs within the uterine tube does the blastocyst begin implantation?,\\nA. Within minutes\\nB. By 12 hours\\nC. By day 1\\nD. By day 5\\nChoose the correct option (A, B, C, or D):', 'Question: Average duration of function of primary dentition\\nA. 6 years\\nB. 8 years\\nC. 10 years\\nD. 12 years\\nChoose the correct option (A, B, C, or D):', 'Question: A patient comes with 6 weeks amenorrhoea and features of shock-\\nA. Ectopic pregnancy\\nB. H. Mole\\nC. Twin pregnancy\\nD. None of the above\\nChoose the correct option (A, B, C, or D):', 'Question: The carrying capacity of any given population is determined by its\\nA. Population growth rate\\nB. Bih rate\\nC. Death rate\\nD. Limiting resource\\nChoose the correct option (A, B, C, or D):', 'Question: FNAC is the IOC is given below thyroid conditions except\\nA. Papillary carcinoma\\nB. Medullary carcinoma\\nC. Anaplastic carcinoma\\nD. None of the above\\nChoose the correct option (A, B, C, or D):', 'Question: The treatment of choice for hydatiform mole with a uterine size of 28 weeks is:\\nA. Suction evacuation\\nB. Intra -amniotic saline followed by oxytocin\\nC. Evacuation by misoprostol and Mifepristone\\nD. Methotrexate administration\\nChoose the correct option (A, B, C, or D):', 'Question: Juxtaglomerular apparatus lies in relation to :\\nA. Proximal convoluted tubule\\nB. Ascending loop of Henle\\nC. Descending loop of Henle\\nD. Glomerulus\\nChoose the correct option (A, B, C, or D):', 'Question: Founder effect describes the distribution of diseases on the basis of\\nA. Occupation\\nB. Environment\\nC. Genetics\\nD. None\\nChoose the correct option (A, B, C, or D):', 'Question: A patient with parkinsonism suddenly presented with trembling, dizziness and upward reeling of eyes. It may be due to -\\nA. Oculygyric crisis\\nB. Cholinergic crisis\\nC. Cerebrellar infarct\\nD. Cerebral infarct\\nChoose the correct option (A, B, C, or D):', 'Question: In Maroteaux- Lamy syndrome, the enzyme deficient is?\\nA. Arylsulfatase B\\nB. Glucosidase\\nC. Hydroxylase\\nD. b-glucuronidase\\nChoose the correct option (A, B, C, or D):', 'Question: Not seen in Neuroblastoma is -\\nA. Diarrhoea\\nB. Proptosis\\nC. Splenomegaly\\nD. Bone involvement\\nChoose the correct option (A, B, C, or D):', 'Question: What is the cardiothoracic ratio in children is -\\nA. 30-35%\\nB. 40-45%\\nC. 50-55%\\nD. 60-65%\\nChoose the correct option (A, B, C, or D):', 'Question: Phase 1 biotransformation includes ?\\nA. Reduction\\nB. Acetylation\\nC. Sufate conjugation\\nD. Methylation\\nChoose the correct option (A, B, C, or D):', 'Question: True about central nystagmus is\\nA. Changing direction\\nB. Not suppressed by optic fixation\\nC. Horizontal or veical\\nD. All of the above\\nChoose the correct option (A, B, C, or D):']\n"
     ]
    },
    {
     "name": "stderr",
     "output_type": "stream",
     "text": [
      "  1%|▏         | 26/2043 [00:36<45:44,  1.36s/it]"
     ]
    },
    {
     "name": "stdout",
     "output_type": "stream",
     "text": [
      "['Question: Most common site of primary carcinoma in a case of Krukenberg tumor is:\\nA. Gallbladder\\nB. Stomach\\nC. Breast\\nD. Ovary\\nChoose the correct option (A, B, C, or D):', 'Question: ASA grading is to assess?\\nA. Cardiac status\\nB. Respiratory status\\nC. Risk factors\\nD. Mental status\\nChoose the correct option (A, B, C, or D):', 'Question: Dapoxetine is specifically developed for?\\nA. Depression\\nB. Psychosis\\nC. Premature ejaculation\\nD. Anxiety disorder\\nChoose the correct option (A, B, C, or D):', 'Question: In chronic alcoholics which the following enzymes are inhibited-\\nA. Glycogen phosphorylase kinase\\nB. Phosphofructokinase\\nC. Lactate dehydrogenase\\nD. Alcohol dehydrogenase\\nChoose the correct option (A, B, C, or D):', 'Question: Post traumatic stress syndrome is due to -\\nA. Head injury\\nB. Cardiovascular Disease\\nC. Minor stress\\nD. Major life threatening events\\nChoose the correct option (A, B, C, or D):', \"Question: A child presents with Hepatosplenomegaly, Abdominal distension, Jaundice, Anemia and Adrenal calcification. Which of the following is the Diagnosis ?\\nA. Adrenal hemorrhage\\nB. Wolman's disease\\nC. Pheochromocytoma\\nD. Addison's disaease\\nChoose the correct option (A, B, C, or D):\", 'Question: Perifasicular atrophy of muscle fibres is seen in?\\nA. Dermatomyositis\\nB. Steroid myopathy\\nC. Inclusion body myositis\\nD. Viral myositis\\nChoose the correct option (A, B, C, or D):', 'Question: Ankle sprain due to forced inversion of a plantar flexed foot is due to injury to\\nA. Anterior talofibular ligament\\nB. Posterior talofibular ligament\\nC. Calcaneofibular ligament\\nD. Posterior fibres of deltoid\\nChoose the correct option (A, B, C, or D):', 'Question: A 20 year old man complains of difficulty in reading the newspaper with his right eye, three weeks after sustaining a gun shot injury to his left eye. The most likely diagnosis is:\\nA. Macular edema\\nB. Sympathetic ophthalmia\\nC. Optic nerve avulsion\\nD. Delayed viterous hemorrhage\\nChoose the correct option (A, B, C, or D):', 'Question: A 56 year old man is brought to the emergency depament with rapid onset of severe abdominal pain. But physical examination seemed to be out of propoion to his symptom. Acute mesenteric ischemia was diagnosed. What is the MOST common cause of acute mesenteric ischemia?\\nA. Aerial thrombosis\\nB. Venous thrombosis\\nC. Embolism\\nD. Non occlusive disease\\nChoose the correct option (A, B, C, or D):', 'Question: Fallen fragment sign is a feature of ?\\nA. Simple bone cyst\\nB. Aneurysmal bone cyst\\nC. Giant cell tumor\\nD. Fibrous dysplasia\\nChoose the correct option (A, B, C, or D):', 'Question: The sensation of posterior aspect of tongue is by\\nA. Glossopharyngeal nerve\\nB. Vagus nerve\\nC. Hypoglossal nerve\\nD. Mandibular nerve\\nChoose the correct option (A, B, C, or D):', 'Question: A 56-year-old woman with diabetes, hypertension, and hyperlipidemia is found to have an A1C of 11 despite her best attempts at diet and faithfully taking her metformin and glyburide. The patient mentions that she has been unable to exercise much, partially due to severe fatigue and sleepiness in the daytime. On examination she is obese, has a full appearing posterior pharynx, clear lungs, a normal heart examination, and trace bilateral edema. Reflexes and skin are normal. Her TSH is 2.0 m/L (normal). The patient asks if there is anything else that can be done before adding another oral agent or switching to insulin. What is the best next step?\\nA. Educate the patient on sleep hygiene to ensure better rest and more energy.\\nB. Prescribe zolpidem as a sleep aid to help her sleep and increase her energy to exercise during the day.\\nC. Explore for possible depression as a contributor to the fatigue which is keeping her from exercising.\\nD. Arrange for a sleep study to check the patient for obstructive sleep apnea.\\nChoose the correct option (A, B, C, or D):', 'Question: What will be reversible damage?\\nA. Fev1 decrease by 50 % by SABA\\nB. Fev1 increase by 12% by SABA\\nC. Fev1 decrease by 25% by SABA\\nD. Fev1 decrease by 5% by SABA\\nChoose the correct option (A, B, C, or D):', 'Question: Actinomycosis most commonly affects\\nA. Thorax\\nB. Facio - cervical region\\nC. Liver\\nD. Pelvis\\nChoose the correct option (A, B, C, or D):', 'Question: Pseudosulcus in larynx is\\nA. Laryngopharangeal reflux\\nB. Vocal abuse\\nC. Chronic steroid use\\nD. Tuberculosis\\nChoose the correct option (A, B, C, or D):']\n"
     ]
    },
    {
     "name": "stderr",
     "output_type": "stream",
     "text": [
      "  1%|▏         | 27/2043 [00:38<51:04,  1.52s/it]"
     ]
    },
    {
     "name": "stdout",
     "output_type": "stream",
     "text": [
      "['Question: Thinnest pa of retina\\nA. surrounding optic nerve head\\nB. Foveola\\nC. Fovea\\nD. Nasally to fovea\\nChoose the correct option (A, B, C, or D):', 'Question: True statement about obesity -\\nA. Dexenfluramine is drug of choice\\nB. Sibutramine is only or epinephrine uptake inhibitor\\nC. According to WHO body mass index greater then 25 is overweight\\nD. Long term effect of orlistat is known\\nChoose the correct option (A, B, C, or D):', \"Question: True about Lucio's phenomenon is-\\nA. Associated with tuberculoid leprosy\\nB. Occurs as side effect of treatment of leprosy\\nC. Ischemic necrosis\\nD. Also known as type 2 Lepra reaction\\nChoose the correct option (A, B, C, or D):\", 'Question: Anakinrais-\\nA. TNF a antagonist\\nB. IL 1 antagonist\\nC. IL 2 antagonist\\nD. IL 6 antagonist\\nChoose the correct option (A, B, C, or D):', 'Question: Excessive sexual desire in females is known as?\\nA. Nymphomania\\nB. Satyriasis\\nC. Frigidity\\nD. Impotency\\nChoose the correct option (A, B, C, or D):', 'Question: Which statement regarding transmission of viral illness through homologous blood transfusion is true?\\nA. The most common viral agent transmitted via blood transfusion is HIV\\nB. Blood is routinely tested for CMV because CMV infection is often fatal\\nC. The most frequent infectious complication of blood transfusion continues to be viral meningitis\\nD. Up to 10% of those who develop post transfusion hepatitis will develop cirrhosis or hepatoma or both.\\nChoose the correct option (A, B, C, or D):', 'Question: Aery forming anastomosis around surgical neck humerus -\\nA. lst pa of axillary aery\\nB. 2nd pa of axillary aery\\nC. 3rd pa of axillary aery\\nD. Subclan aery\\nChoose the correct option (A, B, C, or D):', 'Question: In which of the following state, a person is mute and akinetic, but can be awakened and even be ale?\\nA. Stupor\\nB. Delirium\\nC. Twilight state\\nD. Oneiroid state\\nChoose the correct option (A, B, C, or D):', 'Question: Which of the following is a feature of Vit B12 deficiency anemia?\\nA. Hypersegmented neutrophils\\nB. Macro-ovalocytes\\nC. Megaloblastic anemia\\nD. All of the above\\nChoose the correct option (A, B, C, or D):', 'Question: Rate of involution of uterus is: March 2011\\nA. 0.75 cm per day\\nB. 1 cm per day\\nC. 1.25 cm per day\\nD. 1.5 cm per day\\nChoose the correct option (A, B, C, or D):', 'Question: The CSF findings in TB meningitis include –\\nA. High sugar + low protein\\nB. Low sugar + high protein and Lymphocytosis\\nC. High sugar + high chloride\\nD. Low sugar + high protein and Lymphopenia\\nChoose the correct option (A, B, C, or D):', 'Question: During extraction of the upper first molar, the mesio buccal root is missing and is suspected to have been pushed into the maxillary sinus.\\nTo determine the antral perforation what to do from the following\\nA. Blow air through the nose with nostrils closed\\nB. Probe the socket to check for perforation\\nC. Enlarge the orifice to retrieve the root piece\\nD. All of the above\\nChoose the correct option (A, B, C, or D):', 'Question: A 7 year old boy presented with sudden onset petechiae and purpura. There was a history of URTI 2 weeks back. On examination, there was no hepatosplenomegaly. He is most probably suffering from:\\nA. ALL\\nB. Acute viral infection\\nC. ITP\\nD. Aplastic Anemia\\nChoose the correct option (A, B, C, or D):', 'Question: Which of the following sympathetic receptors acts as vasoconstriction and vasodilatation:\\nA. Alpha 1 and Alpha 2\\nB. Alpha 1 and Beta 1\\nC. Alpha 1 and Beta 2\\nD. Beta 1 and Beta 2\\nChoose the correct option (A, B, C, or D):', 'Question: H pylori is associated with of the following except?\\nA. Increased risk of peptic ulcer disease\\nB. Increased risk of gastric lymphoma\\nC. Increased risk of antral gastric carcinoma\\nD. Increased risk of adenocarcinoma of esophagus\\nChoose the correct option (A, B, C, or D):', 'Question: Hormone replacement therapy (H) is indicated in:\\nA. women with breast cancer\\nB. Osteoporosis\\nC. women with uterine cancer\\nD. previous history of thromboembolic episode\\nChoose the correct option (A, B, C, or D):']\n"
     ]
    },
    {
     "name": "stderr",
     "output_type": "stream",
     "text": [
      "  1%|▏         | 28/2043 [00:39<47:56,  1.43s/it]"
     ]
    },
    {
     "name": "stdout",
     "output_type": "stream",
     "text": [
      "['Question: Haemostasis in scalp wound is best achived by -\\nA. Direct presure over the wound\\nB. Catching and crushing the b;,=.eders by haemostats\\nC. Eversion of galea aponeurotica\\nD. Coagulation of bleeders\\nChoose the correct option (A, B, C, or D):', 'Question: Which of the following can be prevented by screening -\\nA. Ca cervix\\nB. Ca breast\\nC. Ca prostate\\nD. Ca Lung\\nChoose the correct option (A, B, C, or D):', \"Question: An individual is said to be 'overweight' if his BMI is in the range of\\nA. 24.0 - 26.9\\nB. 24.0 - 27.9\\nC. 25.0 - 28.9\\nD. 25.0 - 29.9\\nChoose the correct option (A, B, C, or D):\", 'Question: Immunohistochemistry marker of histiocytosis X\\nA. CD1a\\nB. CD57\\nC. CD3\\nD. CD68\\nChoose the correct option (A, B, C, or D):', 'Question: True abour Herpes virus\\nA. HSV 1 causes encephalitis\\nB. EBV affects\\nC. CMV is always symptomatic\\nD. Herpes zoster is not activated\\nChoose the correct option (A, B, C, or D):', 'Question: Huhle cells seen in ?\\nA. Papillary carcinoma\\nB. Hashimoto Thyroiditis\\nC. Granulomatous thyroiditis\\nD. Thyroglossal cyst\\nChoose the correct option (A, B, C, or D):', 'Question: A gravida 3 female with kilo 2 previous 2nd trimester aboion presents at 22 weeks of gestation with funneling of cervix Most appropriate management would be:\\nA. Administer dinoprostone and bed rest\\nB. Administer misoprostol and bed rest\\nC. Apply fothergill stretch\\nD. Apply McDonald stitch\\nChoose the correct option (A, B, C, or D):', 'Question: Remnant of rostral neuropore is -\\nA. Septum transversum\\nB. Ligamentusteres\\nC. Lamina terminalis\\nD. Cerebellum\\nChoose the correct option (A, B, C, or D):', 'Question: patient having inguinal mass likely diagnosis ?\\nA. anal ca.\\nB. prostate ca.\\nC. testiclar ca.\\nD. penile ca.\\nChoose the correct option (A, B, C, or D):', 'Question: Life span of mosquito is?\\nA. 1 week\\nB. 2 weeks\\nC. 1 month\\nD. 1 year\\nChoose the correct option (A, B, C, or D):', 'Question: Air forced, or sucked in to the connective tissue and facial spaces are known as?\\nA. Empyema\\nB. Asphyxia\\nC. Emphysema\\nD. Aspiration\\nChoose the correct option (A, B, C, or D):', 'Question: A patient with long standing constipation enters a clinical research study. After a complete physical examination,a small intraluminal balloon is inseed through the anus to the rectum. Transducers are also inseed to measure internal and external anal sphincter pressures. Inflation of the rectal balloon causes the external anal sphincter to contract, but the internal anal sphincter, which exhibits normal tone, fails to relax and the urge to defecate is not sensed. Which of the following structures is most likely damaged?\\nA. Internal anal sphincter\\nB. External anal sphincter\\nC. Pelvic nerve\\nD. Pudendal nerve\\nChoose the correct option (A, B, C, or D):', 'Question: Which of the following is a contraindication for medical management of Gall stones:\\nA. Radio-opaque stones\\nB. Radioluscent stones\\nC. Normal functioning gall bladder\\nD. Small stones\\nChoose the correct option (A, B, C, or D):', 'Question: Cremasteric muscle is supplied by:\\nA. Genital branch of genitofemoral nerve\\nB. Femoral branch of genitofemoral nerve\\nC. Lateral femoral nerve\\nD. Ilio-inguinal nerve\\nChoose the correct option (A, B, C, or D):', \"Question: Most common malignant tumor of kidney in children is:\\nA. Renal cell carcinoma\\nB. Mesoblastic nephroma\\nC. Wilm's tumour\\nD. None of the above\\nChoose the correct option (A, B, C, or D):\", \"Question: Fracture of the neck of fifth metacarpal occurs in\\nA. Hangman's fracture\\nB. Jefferson's fracture\\nC. Greenstick fracture\\nD. Boxer's fracture\\nChoose the correct option (A, B, C, or D):\"]\n"
     ]
    },
    {
     "name": "stderr",
     "output_type": "stream",
     "text": [
      "  1%|▏         | 29/2043 [00:40<47:44,  1.42s/it]"
     ]
    },
    {
     "name": "stdout",
     "output_type": "stream",
     "text": [
      "[\"Question: KF ring in Wilson's disease is seen at the level of:\\nA. Descemet's membrane\\nB. Epithelium\\nC. Endothelium\\nD. Stroma\\nChoose the correct option (A, B, C, or D):\", 'Question: A patient of rectal carcinoma found to have tumor invading through the muscularis propria into the perirectal tissues, and two enlarged lymph nodes. How will you manage the patient?\\nA. Surgery only\\nB. Surgery + Adjuvant chemotherapy\\nC. Preoperative chemoradiation followed by surgical resection\\nD. Palliative chemoradiation\\nChoose the correct option (A, B, C, or D):', 'Question: The primary lateral incisors begin to calcify about\\nthe:\\nA. 4th month of life\\nB. 4th month in utero\\nC. 41/2 month in utero\\nD. 5th month in utero\\nChoose the correct option (A, B, C, or D):', 'Question: True about vagal nuclei are all except?\\nA. There are 4 vagal nuclei\\nB. They are found in the floor of 4th ventricle\\nC. Nucleus Ambiguous is a vagal nucleus\\nD. Spinal trigeminal nucleus is not a vagal nucleus\\nChoose the correct option (A, B, C, or D):', 'Question: Local lymph nodules are enlarged near the infected wound. Increased amount of macrophages, lymphocytes, lymphatic follicles in the coical layer and large amount of plasma cells were revealed on histological examination. What process in the lymphatic nodules represent these histological changes?\\nA. Antigen stimulation\\nB. Acquired insufficiency of the lymphoid tissue\\nC. Tumour transformation\\nD. Innate insufficiency of the lymphoid tissue\\nChoose the correct option (A, B, C, or D):', 'Question: Which  enzymatic  mutation  is  responsible  for immortality of cancer cells?\\nA. DNA reverse transcriptase\\nB. RNA polymerase\\nC. Telomerase\\nD. DNA polymerase\\nChoose the correct option (A, B, C, or D):', 'Question: Essential WHO criteria for polycythemia vera?\\nA. Tyrosine kinase JAK2 V617F and other mutations\\nB. Low levels of erythropoietin levels\\nC. Thrombocytosis\\nD. Increased MCV\\nChoose the correct option (A, B, C, or D):', 'Question: \"Reward pathway\" is associated with\\nA. Nucleus accumbens\\nB. Nucleus ambiguous\\nC. Dentate nucleus\\nD. Substantia nigra\\nChoose the correct option (A, B, C, or D):', 'Question: Which is most commonly implicated in genital (vulval) warts?\\nA. HPV 16\\nB. HPV 18\\nC. HPV 31\\nD. HPV 6\\nChoose the correct option (A, B, C, or D):', 'Question: Most common type of optic nerve glioma is –\\nA. Gemistocytic\\nB. Fibrous\\nC. Protoplasmic\\nD. Pilocytic\\nChoose the correct option (A, B, C, or D):', 'Question: License to blood bank is given by:\\nA. Drugs controller General of India\\nB. Director General of Health Services\\nC. Director General, Indian Council of Medical Research\\nD. Director General Blood Bank Services\\nChoose the correct option (A, B, C, or D):', \"Question: Strong correlation with colorectal cancer is seen in\\nA. Peutz-Jegher's polyp\\nB. Familial polyposis coli\\nC. Juvenile polyposis\\nD. Hyperplastic polyp\\nChoose the correct option (A, B, C, or D):\", 'Question: The average number of adult female mites on an individual suffering from the common form of scabies is about:\\nA. 2\\nB. 12\\nC. 16\\nD. 24\\nChoose the correct option (A, B, C, or D):', 'Question: Oliguric phase of ARF is characterized by A/E\\nA. Chest pain\\nB. Acidosis\\nC. Hypeension\\nD. Hypokalemia\\nChoose the correct option (A, B, C, or D):', 'Question: I/V contrast is not used in -\\nA. CT scan\\nB. MRI\\nC. IVP\\nD. Myelography\\nChoose the correct option (A, B, C, or D):', 'Question: All the following are true about branchial cyst except:\\nA. It occurs at lower 2/3rd of sternocleidomastoid\\nB. It is lined by squamous epithelium\\nC. It develops from remnants of 2nd branchial cyst\\nD. Usually presents in early or middle adulthood\\nChoose the correct option (A, B, C, or D):']\n"
     ]
    },
    {
     "name": "stderr",
     "output_type": "stream",
     "text": [
      "  1%|▏         | 30/2043 [00:42<46:26,  1.38s/it]"
     ]
    },
    {
     "name": "stdout",
     "output_type": "stream",
     "text": [
      "['Question: Old age pigment is?\\nA. Hemosiderin\\nB. Melanin\\nC. Lipofuscin\\nD. Bilirubin\\nChoose the correct option (A, B, C, or D):', 'Question: A 35-year-old woman is admitted to the hospital with a complaint of shortness of breath. During physical examination it is noted that there is wide splitting in her S2 heart sound. Which of the following valves is/are responsible for production of the S2 heart sound?\\nA. Mitral valve\\nB. Pulmonary and aortic\\nC. Aortic and mitral\\nD. Tricuspid\\nChoose the correct option (A, B, C, or D):', \"Question: Causes of exudative retinal detachment\\nA. Central retinal aery detachment\\nB. Hypeensive retinopathy\\nC. Harada's syndrome\\nD. All\\nChoose the correct option (A, B, C, or D):\", 'Question: Which of the following flipped pattern of LDH is seen in myocardial infarction:\\nA. LDH 1>2\\nB. LDH 2> 1\\nC. LDH 3>4\\nD. LDH 5> 4\\nChoose the correct option (A, B, C, or D):', \"Question: The couinaud's segmental nomenclature is based on the position of the\\nA. Hepatic veins and poal vein\\nB. Hepatic veins and biliary ducts\\nC. Poal vein and biliary ducts\\nD. Poal vein and hepatic aery\\nChoose the correct option (A, B, C, or D):\", 'Question: Rollover phenomenon in audiometry is seen in\\nA. Cochlear lesions\\nB. Retro-cochlear lesions\\nC. Lesion in inferior colliculus\\nD. Lesion in medial geniculate body\\nChoose the correct option (A, B, C, or D):', 'Question: Diffuse mesothelioma is seen with -\\nA. Asbestos\\nB. Arsenic\\nC. Tobacco use\\nD. TB\\nChoose the correct option (A, B, C, or D):', 'Question: High environmental temperature, best step for malaria control-\\nA. Remove breeding place\\nB. Full sleeve cloth\\nC. Indoor insecticide\\nD. Early treatment\\nChoose the correct option (A, B, C, or D):', 'Question: A 42 yr old male from srilanka presented with multiple polyps in nose .the causative agent might be\\nA. Histoplasma\\nB. Rhinospiridium\\nC. Coccidiodes\\nD. Mucor\\nChoose the correct option (A, B, C, or D):', 'Question: In a patient with chronic atrial fibrillation with a regular beat of 60/min , the most probable cause is -\\nA. Sleep\\nB. Digitalis toxicity\\nC. Sino nodal block\\nD. Hypothyroidism\\nChoose the correct option (A, B, C, or D):', 'Question: A 50 year old male patient complains of heaviness of face, headache and blocked nose. Patient gives history of chronic sinusitis. Waters view x-ray was taken. If the patient’s mouth is open during x-ray, the sphenoid sinus is seen superimposed over-\\nA. Nasal bone\\nB. Coronoid process\\nC. Maxillary sinus\\nD. Palate\\nChoose the correct option (A, B, C, or D):', 'Question: Streptococcal toxic shock syndrome is due to liberation of-\\nA. TSS - 1\\nB. Enterotoxin\\nC. Pyrogenic exotoxin\\nD. Endotoxin\\nChoose the correct option (A, B, C, or D):', 'Question: Which one of the following needs cholesterol and other lipids for growth -\\nA. Mycobacterium TB\\nB. Chlamydia\\nC. Hemophilus\\nD. Mycoplasma\\nChoose the correct option (A, B, C, or D):', 'Question: A CKD patient had to undergo dialysis. His Hb was 5.5. So two blood transfusions were to be given. First bag was completed in 2 hours. Second was staed and midway between he developed shoness of breath, hypeension. Vitals: BP 180/120 mm Hg and pulse rate 110/min. What is the cause?\\nA. Allergic\\nB. Transfusion related circulatory overload (TACO)\\nC. TRALI\\nD. FNHTR\\nChoose the correct option (A, B, C, or D):', 'Question: A 30-year-old male, Rajinder presents to your office with fatigue, muscle weakness and headache. His blood pressure is 170/120 mm Hg and his hea rate is 100/min. Laboratory evaluation reveals hypokalemia, metabolic alkalosis and decreased plasma renin activity. On CT scan, a mass was noted on left suprarenal gland. Patient was prescribed a drug for few weeks and the symptoms subsided. Laboratory values and blood pressure returned to normal values. The likely drug given to this patient is?\\nA. Clonidine\\nB. Propanolol\\nC. Hydrochlorothiazide\\nD. Spironolactone\\nChoose the correct option (A, B, C, or D):', 'Question: CSF pressure depends primarily on:\\nA. Rate of CSF absorption\\nB. Rate of formation from the choroid plexus\\nC. Cerebral blood flow\\nD. Blood pressure\\nChoose the correct option (A, B, C, or D):']\n"
     ]
    },
    {
     "name": "stderr",
     "output_type": "stream",
     "text": [
      "  2%|▏         | 31/2043 [00:43<47:18,  1.41s/it]"
     ]
    },
    {
     "name": "stdout",
     "output_type": "stream",
     "text": [
      "[\"Question: Meig's syndrome is commonly associated with:\\nA. Teratoma\\nB. Brenner tumour\\nC. Fibroma\\nD. Theca cell tumour\\nChoose the correct option (A, B, C, or D):\", 'Question: The phase I reactions of drug metabolism include the following except:\\nA. Hydrolysis\\nB. Reduction\\nC. Oxidation\\nD. Conjugation\\nChoose the correct option (A, B, C, or D):', 'Question: Oblique popliteal ligament is pierced by ?\\nA. Anterior branch of popliteal aery\\nB. Medial inferior genicular branch of popliteal aery\\nC. Medial superior genicular branch of popliteal aery\\nD. Middle genicular branch of popliteal aery\\nChoose the correct option (A, B, C, or D):', 'Question: Mechanism of action of theophylline in bronchial asthma is:\\nA. Phosphodiesterase 4 inhibition\\nB. Beta2 agonism\\nC. Anticholinergic action\\nD. Inhibition of mucociliary clearance\\nChoose the correct option (A, B, C, or D):', 'Question: Structure forming medial boundary of femoral ring is:\\nA. Inguinal ligament\\nB. Pecten pubis\\nC. Lacunar ligament\\nD. Conjoint tendon\\nChoose the correct option (A, B, C, or D):', 'Question: Following admission to the hospital for intestinal obstruction, a 48-year-old woman states that she previously had undergone cholecystectomy and choledochoduodenostomy. The most likely indication for the performance of the choledochoduodenostomy was:\\nA. Hepatic metastasis were present.\\nB. Multiple stones were present in the gallbladder at the previous operation.\\nC. Multiple stones were present in the CBD at the previous operation.\\nD. The common hepatic duct had a stricture.\\nChoose the correct option (A, B, C, or D):', 'Question: Normal role of Micro RNA is\\nA. Gene Regulation\\nB. RNA splicing\\nC. Initiation of translation\\nD. DNA conformational change\\nChoose the correct option (A, B, C, or D):', 'Question: Malignant tumor associated with Waldenstrom macroglobulinemia includes -\\nA. Smoldering myeloma\\nB. Primary effusion lymphoma\\nC. Mycosis fungoides\\nD. Lymphoplasmacytic lymphoma\\nChoose the correct option (A, B, C, or D):', 'Question: Death occurs faster in: MP 08\\nA. Fresh water drowning\\nB. Salt water drowning\\nC. Near drowning\\nD. Warm water drowning\\nChoose the correct option (A, B, C, or D):', 'Question: All are to access platelet functions EXCEPT:\\nA. Prothrombin time\\nB. Bleeding time\\nC. Clot retraction time\\nD. Prothrombin deactivation\\nChoose the correct option (A, B, C, or D):', 'Question: Which of the following vasculitis is ANCA negative\\nA. Microscopic polyangitis\\nB. Churg straus syndrome\\nC. Granulomatosis with polyangitis\\nD. Polyarteritis nodosa\\nChoose the correct option (A, B, C, or D):', \"Question: Anitskov's cells are modified:\\nA. Neutrophils\\nB. Macrophages\\nC. Lymphocytes\\nD. Eosinophils\\nChoose the correct option (A, B, C, or D):\", 'Question: Increased blood volume in tissue is known as -\\nA. Hypermia\\nB. Edema\\nC. Congestion\\nD. Purpura\\nChoose the correct option (A, B, C, or D):', 'Question: Deformity is most commonly seen in primary osteoarthritis of the knee joint -\\nA. Genu valgum\\nB. Germ recurratum\\nC. Genu varus\\nD. Procurvaturn.\\nChoose the correct option (A, B, C, or D):', 'Question: First increase of reticulocyte count occurs after how many hours of iron therapy\\nA. 48 - 72 hrs\\nB. 24 hrs\\nC. 96 hrs\\nD. 6 hrs\\nChoose the correct option (A, B, C, or D):', 'Question: Tongue anomaly is called as:\\nA. Fissured tongue\\nB. Bifid tongue\\nC. Macroglossia\\nD. All of the above\\nChoose the correct option (A, B, C, or D):']\n"
     ]
    },
    {
     "name": "stderr",
     "output_type": "stream",
     "text": [
      "  2%|▏         | 32/2043 [00:44<46:00,  1.37s/it]"
     ]
    },
    {
     "name": "stdout",
     "output_type": "stream",
     "text": [
      "[\"Question: Lymphocytic colitis\\nA. Bloody diarrhea\\nB. Intra epithelial lymphocytes\\nC. Lymphocytes is stools\\nD. Through Ileoscopy look for payer's patches\\nChoose the correct option (A, B, C, or D):\", 'Question: A Bone marrow transplant receipient patient, developed chest infection. ON chest Xray Tree in Bud appearance is present. The cause of this is:\\nA. Klebsiella\\nB. Pneumocystis\\nC. TB\\nD. RSV\\nChoose the correct option (A, B, C, or D):', 'Question: A newborn baby presents with shock, hyperkalemia and hypoglycemia. What is the most likely diagnosis-\\nA. Septicemia\\nB. Inborn error of metabolism\\nC. Diabetes mellitus\\nD. Congenital adrenal hyperplasia\\nChoose the correct option (A, B, C, or D):', 'Question: Dissociated sensory loss is seen in\\nA. Syringomyelia\\nB. Vitamin B12 deficiency\\nC. Transverse myelitis\\nD. Pellagra\\nChoose the correct option (A, B, C, or D):', 'Question: Subacute combined degeneration of cord is due to deficiency of:-\\nA. Vitamin B1\\nB. Vitamin B6\\nC. Folic acid\\nD. Vitamin B12\\nChoose the correct option (A, B, C, or D):', 'Question: H.P. inclusion bodies in trachoma are seen to be:\\nA. Extracellular\\nB. Intracytoplasmic\\nC. Intranuclear\\nD. None\\nChoose the correct option (A, B, C, or D):', 'Question: Maximum effect of bronchodilatation in asthma is caused by -\\nA. Corticosteroids\\nB. Theophylline\\nC. Anticholinergic\\nD. Beta 2-Agonist\\nChoose the correct option (A, B, C, or D):', 'Question: The diluent used for BCG is -\\nA. Distilled water\\nB. Normal saline\\nC. Dextrose solution\\nD. Ringer - lactate\\nChoose the correct option (A, B, C, or D):', 'Question: Adverse reaction following whole cells pertussis immunization is -\\nA. Fever\\nB. Ecessive cry\\nC. Local swelling\\nD. All of above\\nChoose the correct option (A, B, C, or D):', 'Question: Which of the following arises from infraglenoid tubercle -\\nA. Longheadofbiceps\\nB. Longheadoftriceps\\nC. Shoheadofbiceps\\nD. Coracobrachialis\\nChoose the correct option (A, B, C, or D):', 'Question: In metabolism of xenobiotics, all of the following reactions occur in phase one EXCEPT ?\\nA. Oxidation\\nB. Reduction\\nC. Conjugation\\nD. Hydrolysis\\nChoose the correct option (A, B, C, or D):', 'Question: Thickness of lead apron to prevent radiation -\\nA. 1 mm\\nB. 3 mm\\nC. 0.5mm\\nD. 7mm\\nChoose the correct option (A, B, C, or D):', 'Question: Sexually active male comes with complaints of recurrent ulcers over the glans which heals with hyperpigmentation . Lesions characteristically recur after intake of sulfonamidees, probable diagnosis is -\\nA. Aphathous ulcer\\nB. fixed drug eruption\\nC. Herpes genitalis\\nD. Chlamydial infection\\nChoose the correct option (A, B, C, or D):', \"Question: Why pyridostigmine is preferred in myasthenia gravis?\\nA. It doesn't cross BBB\\nB. Longer acting than neostigmine\\nC. It crosses BBB\\nD. Sho-acting than neostigmine\\nChoose the correct option (A, B, C, or D):\", 'Question: A black necrotic mass was seen in the nose of an elderly diabetic patient. The most probable diagnosis is?\\nA. Lupus vulgaris\\nB. Aspergillosis\\nC. Mucormycosis\\nD. Pseudomonas infection\\nChoose the correct option (A, B, C, or D):', 'Question: The efferent limb of the cremasteric reflex is provided the-\\nA. Femoral branch of the genitofemoral\\nB. Genital branch of the genitofemoral nerve\\nC. Ilioinguinal nerve\\nD. Pudendal nerve\\nChoose the correct option (A, B, C, or D):']\n"
     ]
    },
    {
     "name": "stderr",
     "output_type": "stream",
     "text": [
      "  2%|▏         | 33/2043 [00:45<43:19,  1.29s/it]"
     ]
    },
    {
     "name": "stdout",
     "output_type": "stream",
     "text": [
      "['Question: Most abundant immunoglobulin present in breast milk?\\nA. IgA\\nB. IgM\\nC. IgG\\nD. IgE\\nChoose the correct option (A, B, C, or D):', 'Question: During radiotherapy the Buccal Mucosa exhibits radiation reaction before skin due to -\\nA. Rapid cellular turn-over in bone\\nB. Slow cellular turn-over in blood vessel\\nC. Rapid cellular turn-over in skin\\nD. Rapid cellular turn-over in mucosa\\nChoose the correct option (A, B, C, or D):', 'Question: All the following represent risk factors associated with pelvic inflammatory disease except\\nA. Recent new sexual paner\\nB. Doughing\\nC. Low socioeconomic status\\nD. Age 30 - 39 years\\nChoose the correct option (A, B, C, or D):', 'Question: A 55 year old male presented with painless terminal hematuria. Cystoscopic examination revealed a solitary papillary tumor. Histopathological examination of completely resected tumor is suggestive of grade transitional cell carcinoma with no muscle invasion. fuher management of this patient is best done by\\nA. Just follow up\\nB. Intravesical chemotherapy\\nC. Intravesical BCG\\nD. Cystectomy\\nChoose the correct option (A, B, C, or D):', 'Question: Preservative added in DPT vaccine is :\\nA. Zinc phosphate\\nB. Aluminum phosphate\\nC. MgS04\\nD. ZnS04\\nChoose the correct option (A, B, C, or D):', 'Question: Serratus arterior is supplied by -\\nA. Thoracodorsal nerve\\nB. Axillary nerve\\nC. Musculocutaneous nerve\\nD. Nerve of bell\\nChoose the correct option (A, B, C, or D):', \"Question: Froment's sign is positive in cases of weakness of ?\\nA. Thumb adduction\\nB. Thumb abduction\\nC. Thumb flexion\\nD. Thumb extension\\nChoose the correct option (A, B, C, or D):\", 'Question: The laboratory test of choice to confirm myxoedema coma is -\\nA. Thyroid stimulating hormone (TSH)\\nB. Thyrotropine releasing hormone (TRH)\\nC. Tri-iodothyronine (T3)\\nD. Tetra iodothyronine (T4)\\nChoose the correct option (A, B, C, or D):', 'Question: Infection with Sporothrix schenckii (formerly Sporotrichum schenckii) is an occupational hazard for gardeners. The portal of entry for this organism is the\\nA. Lymphatic system\\nB. Respiratory tract\\nC. Skin\\nD. Mouth\\nChoose the correct option (A, B, C, or D):', 'Question: Secretion of estrogen is maximum at\\nA. Just before menopause\\nB. At pubey\\nC. At menstruation\\nD. Before ovulation\\nChoose the correct option (A, B, C, or D):', 'Question: Which of the following is aberrant epiphysis\\nA. Coracoid process\\nB. Greater tubercle of humerus\\nC. Base of 1\" metacarpal\\nD. Base of 2nd metacarpal\\nChoose the correct option (A, B, C, or D):', 'Question: disorder where amenorrhea was once needed for diagnosis was\\nA. anorexia nervosa\\nB. metabolic syndrome\\nC. bulimia nervosa\\nD. binge eating\\nChoose the correct option (A, B, C, or D):', 'Question: In Vitamin A deficiency, respiratory tract infection due to:\\nA. Keratinization of upper epithelial cells\\nB. Lack of antibody production\\nC. Dysfunction of epithelial layer\\nD. Defective chemotaxis\\nChoose the correct option (A, B, C, or D):', 'Question: All of the following are decrease in Nephrotic syndrome except -\\nA. Transferrin\\nB. Ceniloplasmin\\nC. Fibrinogen\\nD. Albumin\\nChoose the correct option (A, B, C, or D):', 'Question: A child with complaints of cough. Characteristic inspiratory whoop. Sample for investigation is ?\\nA. Nasopharyngeal swab\\nB. Tracheal aspiration\\nC. Cough plate culture\\nD. Sputum culture\\nChoose the correct option (A, B, C, or D):', 'Question: In PHC how to dispose placenta -\\nA. Incineration\\nB. Microwaving\\nC. Autoclaving\\nD. Chemical treatment\\nChoose the correct option (A, B, C, or D):']\n"
     ]
    },
    {
     "name": "stderr",
     "output_type": "stream",
     "text": [
      "  2%|▏         | 34/2043 [00:47<42:27,  1.27s/it]"
     ]
    },
    {
     "name": "stdout",
     "output_type": "stream",
     "text": [
      "['Question: Mc benign epithelial ovarian tumor is\\nA. Serous cystadenoma\\nB. Mucinous cystadenoma\\nC. Brenner tumor\\nD. Ovarian fibroma\\nChoose the correct option (A, B, C, or D):', 'Question: What is the MOST likely diagnosis for this 25-year-old man with sickle cell trait?\\nA. Non-Hodgkin lymphoma\\nB. Angiomyolipoma\\nC. Renal medullary carcinoma\\nD. Transitional cell carcinoma\\nChoose the correct option (A, B, C, or D):', 'Question: Kit B given at subcentre –\\nA. Vit A\\nB. ORS\\nC. Paracetamol\\nD. Iron\\nChoose the correct option (A, B, C, or D):', 'Question: Hypersensitivity vasculitis involve\\nA. Capillary\\nB. Aerioles\\nC. Postcapillary venules\\nD. Medium sized aeries\\nChoose the correct option (A, B, C, or D):', 'Question: A 32-year-old woman is admitted to the emergency department after an automobile collision. Radiographic examination reveals multiple fractures of the humerus. Flexion and supination of the forearm are severely weakened. She also has loss of sensation on the lateral surface of the forearm. Which of the following nerves has most likely been injured?\\nA. Radial\\nB. Musculocutaneous\\nC. Median\\nD. Lateral cord of brachial plexus\\nChoose the correct option (A, B, C, or D):', 'Question: After 28 weeks of gestation true is/are:a)  Viableb) > 1000 gm c) Lecithin/Sphingomyelin ratio >2d) Type II pneumocytes presente) Phosphatidyl glycerol present\\nA. abd\\nB. bcd\\nC. abc\\nD. ab\\nChoose the correct option (A, B, C, or D):', \"Question: Translocation (8;14) is characteristic of -\\nA. Burkitt's lymphoma\\nB. Ataxia telengieactasia\\nC. ALL\\nD. CML\\nChoose the correct option (A, B, C, or D):\", 'Question: What are the Rushton bodies ?\\nA. Hyaline bodies of odontogenic cyst\\nB. Refractile bodies of radicular cyst\\nC. Bodies seen in ameloblastomes\\nD. Hyaline bodies seen in dentigerous cysts\\nChoose the correct option (A, B, C, or D):', 'Question: A 69-year-old man has had mild arthritis involving many joints for several years. Over 1 or 2 days, he develops severe pain and swelling of his knee. His x-ray reveals calcifications in his articular cartilage. Which of the following is the most likely diagnosis?\\nA. acute gout\\nB. RA\\nC. pseudogout\\nD. infectious arthritis\\nChoose the correct option (A, B, C, or D):', 'Question: NOT a ductus dependent congenital heart disease\\namong the following is\\nA. Tetralogy of fallot\\nB. linterrupted Aortic Arch\\nC. Tricuspid atresia\\nD. Truncus arteriosus\\nChoose the correct option (A, B, C, or D):', 'Question: Despite their sho half lives(2hrs) proton pump inhibitors cause a prolonged suppresion of acid secretiin(upto 48hr) because:\\nA. They are prodrugs and undergo activation gradually\\nB. They exit from the palsma and enter acid secretory canaliculi and stay there blocking the secretion of acid for a long time\\nC. They irreversibly inhibit the proton pump molecule and hence,acid secretion requires synthesis of new proton pumps\\nD. They are available as enteric coated capsules,from which drug is gradually released\\nChoose the correct option (A, B, C, or D):', 'Question: Sectoral sign is positive in -\\nA. Avascular necrosis of femur head\\nB. Osteoarthritis of btp\\nC. Protrusio acetabuli\\nD. Slipped capita! femoral epiphyses\\nChoose the correct option (A, B, C, or D):', 'Question: 39 years female, 40 weeks gestation, 4mm dilated cervix. Which is the safest option for analgesia-\\nA. Intramuscular pentazocin\\nB. Epidural block\\nC. Pudendal block\\nD. Premixed nitrous oxide and oxygen\\nChoose the correct option (A, B, C, or D):', \"Question: The stereocilia of hair cells are embedded in which membrane?\\nA. Basilar\\nB. Reissner's\\nC. Tectorial\\nD. Tympanic\\nChoose the correct option (A, B, C, or D):\", 'Question: Food with maximum Cholesterol content -\\nA. Eggs\\nB. Coconut oil\\nC. Hydrogenated Fats\\nD. Ghee (Hydrogenated)\\nChoose the correct option (A, B, C, or D):', 'Question: Vesicoureteric reflux is diagnosed by:\\nA. Micturating cystography\\nB. X ray abdomen\\nC. CECT Abdomen\\nD. Intravenous pyelography\\nChoose the correct option (A, B, C, or D):']\n"
     ]
    },
    {
     "name": "stderr",
     "output_type": "stream",
     "text": [
      "  2%|▏         | 35/2043 [00:48<44:01,  1.32s/it]"
     ]
    },
    {
     "name": "stdout",
     "output_type": "stream",
     "text": [
      "['Question: In a seriously ill patient, addition of amino acids in diet results in a positive nitrogen balance. The mechanism for this is\\nA. Increased Growth hormones secretion\\nB. Enhanced rate of gluconegenesis\\nC. Increased absorption of amino acids from diet\\nD. Increased secretion of Insulin\\nChoose the correct option (A, B, C, or D):', 'Question: Patient on verapamil should not be given beta blocker as ?\\nA. Conduction block\\nB. Bronchospasm\\nC. Neurogenic shock\\nD. Anaphylaxis\\nChoose the correct option (A, B, C, or D):', 'Question: Virulence factor of group A beta hemolytic streptococci:-\\nA. Protein M\\nB. Protein T\\nC. Protein R\\nD. Lipotechoic acid\\nChoose the correct option (A, B, C, or D):', 'Question: The earliest symptom to occur in corneal ulcer is\\nA. Pain\\nB. Photophobia\\nC. Loss of sensation\\nD. Diminished vision\\nChoose the correct option (A, B, C, or D):', 'Question: Hernias at lateral border of rectus abdominis is:\\nA. Spigelian hernia\\nB. Ventral hernia\\nC. Epigastric\\nD. None of the above\\nChoose the correct option (A, B, C, or D):', 'Question: When stem cells transforms to form cells characteristic of other tissues, the process is called as\\nA. De-differentiation\\nB. Re-differentiation\\nC. Trans-differentiation\\nD. Sub-differentiation\\nChoose the correct option (A, B, C, or D):', 'Question: Commonest tumor of ovary occurring in a young woman is :\\nA. Immature teratoma\\nB. Yolk sac tumor\\nC. Endometroid tumor\\nD. Dysgerminoma\\nChoose the correct option (A, B, C, or D):', 'Question: The Sequence of development of pubey in girls is :\\nA. Thelarche, Pubarche, Menarche\\nB. Pubarche, Thelarche, Menarche\\nC. Pubarche, Menarche. Thelarche\\nD. Menarche, Thelarche, Pubarche\\nChoose the correct option (A, B, C, or D):', 'Question: Bronchogenic carcinoma commonly metastasise to which endocrine organ -\\nA. Ovaries\\nB. Testes\\nC. Thyroid\\nD. Adrenals\\nChoose the correct option (A, B, C, or D):', 'Question: Commonest dangerous complication of posterior dislocation of knee is-\\nA. Popliteal aery injury\\nB. Sciatic nerve injury\\nC. Ischaemia of lower leg compament\\nD. Femoral aery injury\\nChoose the correct option (A, B, C, or D):', 'Question: Which of the following is/are AT1 receptor blocker -\\nA. Spironolactone\\nB. Losartan\\nC. Captopril\\nD. None\\nChoose the correct option (A, B, C, or D):', 'Question: Most common site of Actinomycosis among the following\\nA. Rib\\nB. Tibia\\nC. Femur\\nD. Mandible\\nChoose the correct option (A, B, C, or D):', 'Question: Unfamiliarity of familiar things is seen in :\\nA. Deja vu\\nB. Jamais vu\\nC. Deja entendu\\nD. Deja pence\\nChoose the correct option (A, B, C, or D):', 'Question: Which one of the common side effects is seen with fentanyl ?\\nA. Chest wall rigidly\\nB. Tachycardia\\nC. Pain in abdomen\\nD. Hypertension\\nChoose the correct option (A, B, C, or D):', 'Question: Most common malignancy after cholecystectomy is of\\nA. Colon\\nB. Stomach\\nC. Pancreas\\nD. Ileum\\nChoose the correct option (A, B, C, or D):', 'Question: \"Doughnut\" sign is seen in\\nA. Intussusception\\nB. Carcinoma colon\\nC. CHPS\\nD. Volvulus\\nChoose the correct option (A, B, C, or D):']\n"
     ]
    },
    {
     "name": "stderr",
     "output_type": "stream",
     "text": [
      "  2%|▏         | 36/2043 [00:49<41:48,  1.25s/it]"
     ]
    },
    {
     "name": "stdout",
     "output_type": "stream",
     "text": [
      "['Question: Sutural separation seen in\\nA. Diastatic fracture\\nB. Penetrating fracture\\nC. Cut fracture\\nD. Performing fracture\\nChoose the correct option (A, B, C, or D):', 'Question: A symmetric high-voltage, triphasic slow wave pattern is seen on EEG in the following\\nA. Hepatic encephalopathy\\nB. Uremic encephalopathy\\nC. Hypoxic encephalopathy\\nD. All\\nChoose the correct option (A, B, C, or D):', 'Question: A woman receives an organ transplant from her sister who is an identical twin. What type of graft is it?\\nA. Allograft\\nB. Autograft\\nC. Xenograft\\nD. Isograft\\nChoose the correct option (A, B, C, or D):', 'Question: WHO recommended salt intake -\\nA. < 5 gm/d\\nB. < 6 gm/d\\nC. < 7 gm/d\\nD. < 8 gm/d\\nChoose the correct option (A, B, C, or D):', 'Question: What is true about spigelian hernia\\nA. It is seen in femoral triangle region\\nB. Occur only in male\\nC. It is due to defect in transversus abdominalis muscle and lies in between muscle layers\\nD. It always contains appendix\\nChoose the correct option (A, B, C, or D):', 'Question: A child aged 3 years presented with severe sensorineural deafness, he was prescribed hearing aids but showed no improvement. What is the next line of management?\\nA. Fenestration surgery\\nB. Stapes mobilisation\\nC. Cochlear implant\\nD. Conservative\\nChoose the correct option (A, B, C, or D):', 'Question: True about clomiphene citrate :\\nA. Enclomiphene has antiestrogenic affect\\nB. Chance of pregnancy is three fold as compared to placebo\\nC. Risk of multiple pregnancy is 2-4%\\nD. It can also be used for male infeility with oligozoospermia\\nChoose the correct option (A, B, C, or D):', 'Question: Time period between occurrence of osteosarcoma following radiation therapy:\\nA. 1 year\\nB. 3 years\\nC. 5 years\\nD. 10 years\\nChoose the correct option (A, B, C, or D):', 'Question: Baby born premature at 29 wks on examination at 42 wks with ROP both eyes shows stage 2 zone I plus disease, how will you manage the natient?\\nA. Examination the patient after I week\\nB. Laser photocoagulation of both eyes\\nC. Laser photocoagulation of worse eye, follow up of othr eye\\nD. Vitreoretinal surgery\\nChoose the correct option (A, B, C, or D):', 'Question: Erythematous lesions with Collarets of scales on trunk\\nA. Pityriasis rubra\\nB. Pityriasis rosea\\nC. Pityriasis versicolor\\nD. Pityriasis alba\\nChoose the correct option (A, B, C, or D):', 'Question: Salivary calculus is more common in\\nA. Submandibular gland\\nB. Sublingual gland\\nC. Parotid gland\\nD. Minor salivary gland\\nChoose the correct option (A, B, C, or D):', \"Question: Most common intra abdominal solid organ tumor in child is-\\nA. Neuroblastoma\\nB. Rhabdomyoblastoma\\nC. Wilm's tumor\\nD. Hypernephroma\\nChoose the correct option (A, B, C, or D):\", 'Question: Maternal moality rate is calculated :-\\nA. Till delivery\\nB. Till 1 week after delivery\\nC. Till 42 days after delivery\\nD. None of the above\\nChoose the correct option (A, B, C, or D):', 'Question: Ramesh a 40 yr old male patient presenting with polyuria, pain abdomen, nausea, vomiting, and altered sensorium was found to have bronchogenic carcinoma. Which of the following electrolyte abnormality can be seen in him?\\nA. Hypokalemia\\nB. Hyperkalemia\\nC. Hypocalcaemia\\nD. Hypercalcemia\\nChoose the correct option (A, B, C, or D):', \"Question: Which of the immunoglobulins is present in the Peyer's patch?\\nA. IgM\\nB. IgG\\nC. IgA\\nD. IgD\\nChoose the correct option (A, B, C, or D):\", 'Question: Nail is involved in:\\nA. Psoriasis\\nB. Lichen planus\\nC. Fungal infection\\nD. All\\nChoose the correct option (A, B, C, or D):']\n"
     ]
    },
    {
     "name": "stderr",
     "output_type": "stream",
     "text": [
      "  2%|▏         | 37/2043 [00:51<42:59,  1.29s/it]"
     ]
    },
    {
     "name": "stdout",
     "output_type": "stream",
     "text": [
      "['Question: A patient is more talkative than usual. He used to speak loudly. While talking, he rapidly shifts from topic to topic. He also keeps himself busy in chatting or messaging friends. Likely diagnosis of such a case:March 2013 (f)\\nA. Mania\\nB. Attention Deficit Hyperactivity Disorder\\nC. Depression\\nD. Obsessive Compulsive Disorder\\nChoose the correct option (A, B, C, or D):', 'Question: In which of the following poisoning abdominal colic is a presenting feature?\\nA. Arsenic poisoning\\nB. Cyanide poisoning\\nC. Mercuric poisoning\\nD. Lead poisoning\\nChoose the correct option (A, B, C, or D):', 'Question: Which diuretic could be considered appropriate for combining with ACE inhibitors\\nA. Spironolactone\\nB. Eplerenone\\nC. Hydrochlorothiazide\\nD. Amiloride\\nChoose the correct option (A, B, C, or D):', 'Question: Tick borne Relapsing Fever is caused by:\\nA. Borrelia recurrentis\\nB. Borrelia burgdorferi\\nC. Rickettsia prowazeki\\nD. Borellia hermsii\\nChoose the correct option (A, B, C, or D):', 'Question: Best bone of the following to assess the age of a person between 20-50 years is\\nA. Skull\\nB. Ribs\\nC. Sternum\\nD. Pubic symphysis\\nChoose the correct option (A, B, C, or D):', \"Question: Turner's syndrome is maximally associated with the following cardiac condition:\\nA. Aoic stenosis\\nB. Coarctation of aoa\\nC. VSD\\nD. Mitral valve prolapse\\nChoose the correct option (A, B, C, or D):\", 'Question: Hinge fracture is seen in:\\nA. Wrist\\nB. Mandible\\nC. Basilar skull fracture\\nD. Cl vertebra fracture\\nChoose the correct option (A, B, C, or D):', 'Question: In TB, immunity is provided by:\\nA. CD4+ cells\\nB. CD8+ cells\\nC. IgG\\nD. IgM\\nChoose the correct option (A, B, C, or D):', 'Question: Treatment of choice for coccidioidomycosis is :\\nA. Amphotericin\\nB. Fluconazole\\nC. Flucytosine\\nD. Griseofulvin\\nChoose the correct option (A, B, C, or D):', 'Question: Following are transmitted by mosquito except -\\nA. Japanese encephalitis\\nB. Dengue fever\\nC. Yellow fever\\nD. Plague\\nChoose the correct option (A, B, C, or D):', 'Question: A 22-year-old man has symptoms of low back pain and stiffness. After several months of mild symptoms, he notes more severe stiffness at night and hip pain. On physical examination, there is paravertebral muscle tenderness and limited flexion of the lumbar spine. Figure shows an x-ray of the lumbar spine. Which of the following is the most likely diagnosis?\\nA. Reiter syndrome\\nB. Marfan syndrome\\nC. ankylosing spondylitis (AS)\\nD. RA\\nChoose the correct option (A, B, C, or D):', 'Question: Which drug does not need dose adjustment in a patient with creatinine clearance of\\nA. Ciprofloxacin\\nB. Sparfloxacin\\nC. Lomefloxacin\\nD. Trovafloxacin\\nChoose the correct option (A, B, C, or D):', 'Question: Delusions are features of all except ?\\nA. Delirium\\nB. Schizophrenic\\nC. OCD\\nD. Alcohol withdrawal\\nChoose the correct option (A, B, C, or D):', 'Question: The largest organ of the body is\\nA. Liver\\nB. skin\\nC. Gluteus maximus\\nD. Femur\\nChoose the correct option (A, B, C, or D):', 'Question: All of the following statements are true regarding lipoproteins, EXCEPT:\\nA. VLDL transpos endogenous lipids\\nB. LDL transpos lipids to the tissues\\nC. Increased blood cholesterol is associated with increased LDL receptors\\nD. Increased HDL is associated with decreased risk of coronary disease\\nChoose the correct option (A, B, C, or D):', 'Question: A 12 year old boy presents with recurrent attacks of conjunctivitis for the last 2 years with intense itching and ropy discharge. The diagnosis is:\\nA. Vernal conjunctivitis\\nB. Phlyctenular conjunctivitis\\nC. Trachoma\\nD. Viral conjunctivitis\\nChoose the correct option (A, B, C, or D):']\n"
     ]
    },
    {
     "name": "stderr",
     "output_type": "stream",
     "text": [
      "  2%|▏         | 38/2043 [00:52<43:10,  1.29s/it]"
     ]
    },
    {
     "name": "stdout",
     "output_type": "stream",
     "text": [
      "['Question: Glycogen storage diseases include the following\\nA. Fabry’s disease\\nB. Fragile syndrome\\nC. Von Gierke’s disease\\nD. Krabbe’s disease\\nChoose the correct option (A, B, C, or D):', 'Question: Treatment of choice of desmoids tumour is:\\nA. Surgery\\nB. Chemotherapy\\nC. Radiotherapy\\nD. Surgery + Radiotherapy\\nChoose the correct option (A, B, C, or D):', \"Question: Vitamin B level in chronic myeloid leukemia is\\nA. Elevated'\\nB. Decreased\\nC. Normal\\nD. Markedly\\nChoose the correct option (A, B, C, or D):\", 'Question: Serial 7 substraction is used to test ?\\nA. Working memory\\nB. Long term memory\\nC. Mathematical ability\\nD. Recall power\\nChoose the correct option (A, B, C, or D):', \"Question: Which of the following is false about Wilm's tumor: September 2010\\nA. Presents before the age of 5 years\\nB. Mostly presents as abdominal mass\\nC. Spreads mostly by lymphatics\\nD. Responds well to treatment\\nChoose the correct option (A, B, C, or D):\", 'Question: Carriers for Herpes simplex virus is: March 2009\\nA. Man\\nB. Monkey\\nC. Both\\nD. None\\nChoose the correct option (A, B, C, or D):', 'Question: After rupture of middle meningeal aery bleeding occurs in which region -\\nA. Subdural bleed\\nB. Extradural bleed\\nC. Intracerebral bleed\\nD. Subarachnoid bleed\\nChoose the correct option (A, B, C, or D):', 'Question: A 27-year-old woman comes to psychiatrist complaining of sleep difficulty since her breakup a month ago. On exploring fuher she repos difficulty in work, decision making, socializing without his help. Since early age she has struggled with low self-confidence and fears of rejection and abandonment. She appears anxious and sad but brightens easily. Which of the following is the most likely diagnosis in this patient?\\nA. Acute stress disorder\\nB. Major depressive disorder\\nC. Borderline personality disorder\\nD. Dependent personality disorder\\nChoose the correct option (A, B, C, or D):', 'Question: Diencephalon represents\\nA. Lateral ventricle\\nB. 3rd ventricle\\nC. 4th ventricle\\nD. Aquedct\\nChoose the correct option (A, B, C, or D):', 'Question: A 65-year-old male patient complains of loss of libido and is found to have a low free and total testosterone level. Treatment is commenced with testosterone supplemental therapy. What is the next step in management after testosterone administration?\\nA. Check PSA levels\\nB. Testosterone levels are decreased\\nC. Decrease in size of benign prostatic tissue lesions occurs\\nD. Decrease in size of prostatic cancer occurs\\nChoose the correct option (A, B, C, or D):', \"Question: Naegler's reaction is due to:\\nA. Coagulase\\nB. Hyaluronidase\\nC. Lecithinase\\nD. None of the above\\nChoose the correct option (A, B, C, or D):\", 'Question: All form boundaries of triangle of auscultation except\\nA. Trapezius\\nB. Latissmusdorsi\\nC. Scapula\\nD. Rhomboid major\\nChoose the correct option (A, B, C, or D):', 'Question: Acute angled septate hyphae are seen in -\\nA. Aspergillus\\nB. Mucor\\nC. PeniciIlium\\nD. Candida\\nChoose the correct option (A, B, C, or D):', 'Question: Comment on the site of damage for a patient exhibiting the following symptom?\\nA. Substantia Nigra\\nB. Neocerebellum\\nC. Archicerebellum\\nD. Ventromedial nucleus thalamus\\nChoose the correct option (A, B, C, or D):', 'Question: Purkinje cells of cerebellum are connected to\\nA. Basket cells\\nB. Stellate cells\\nC. Deep cerebellar nuclei\\nD. All of the above\\nChoose the correct option (A, B, C, or D):', 'Question: Mechanism of action of zeulton is?\\nA. Inhibits production of IgE\\nB. Inhibits Lipoxygenase\\nC. Inhibits Cyclooxygenase\\nD. Inhibits activity of mast cells\\nChoose the correct option (A, B, C, or D):']\n"
     ]
    },
    {
     "name": "stderr",
     "output_type": "stream",
     "text": [
      "  2%|▏         | 39/2043 [00:53<43:28,  1.30s/it]"
     ]
    },
    {
     "name": "stdout",
     "output_type": "stream",
     "text": [
      "['Question: Hamaoma is\\nA. Proliferation of cells in foreign site\\nB. Proliferation of native cells in tissue\\nC. Malignant condition\\nD. Acquired condition\\nChoose the correct option (A, B, C, or D):', 'Question: Which herniation is the one that leads to brain stem injury-\\nA. Cingulate\\nB. Hippocampal\\nC. Sub falcine\\nD. Cerebellar tonsils\\nChoose the correct option (A, B, C, or D):', 'Question: Which of the following organism is most commonly associated with urinary tract infection in Healthcare facility?\\nA. Staphylococcus epidermidis\\nB. Staphylococcus aureus\\nC. klebsiella\\nD. Streptococcus\\nChoose the correct option (A, B, C, or D):', 'Question: Most common paroxysmal symptom of pheochromocytoma:\\nA. Headache\\nB. Palpitation\\nC. Abdominal pain\\nD. Hypotension\\nChoose the correct option (A, B, C, or D):', 'Question: Squamous cell carcinoma spreads commonly ?\\nA. Implantation\\nB. Hematogenous spread\\nC. Lymphatic spread\\nD. Trancoelomic spread\\nChoose the correct option (A, B, C, or D):', 'Question: Which of the following is true of cholera-\\nA. Recent epidemic was due to classical type\\nB. Causes secretory diarrhoea\\nC. Caused by endotoxin\\nD. Vibriocidal antibodies correspond to susceptibility\\nChoose the correct option (A, B, C, or D):', 'Question: Lens develops from: September 2012\\nA. Neural crest\\nB. Mesoderm\\nC. Neuroectoderm\\nD. Surface ectoderm\\nChoose the correct option (A, B, C, or D):', 'Question: Good prognosis in schizophrenia is indicated by -\\nA. Soft neurological signs\\nB. Affective symptoms\\nC. Emotional blunting\\nD. Insidious onset\\nChoose the correct option (A, B, C, or D):', 'Question: In twin pregnancy, Vaginal delivery is contraindicated in\\nA. Monochorionic monoamniotic\\nB. First twin veex, 2nd breech\\nC. Second twin transverse\\nD. First twin Mentoanterior\\nChoose the correct option (A, B, C, or D):', 'Question: Duration of T.I.A (Transient Ischemic Attacks) is less than?\\nA. 12 hours\\nB. 24 hours\\nC. 48 hours\\nD. 36 hours\\nChoose the correct option (A, B, C, or D):', 'Question: Increased LH secretion just before ovulation is due to\\nA. Positive feed-back by progesterone\\nB. Positive feed-back by estrogen\\nC. Positive feed-back by FSH\\nD. Positive feed-bad by relaxin\\nChoose the correct option (A, B, C, or D):', 'Question: Which muscle causes opening of the upper end of esophagus?\\nA. Epiglottis\\nB. Thyropharungeus\\nC. Stylopharyngeus\\nD. Cricopharyngeus of inferior constrictor\\nChoose the correct option (A, B, C, or D):', 'Question: Drug used in refractory glaucoma ?\\nA. Systemic glucocoicoid\\nB. ACE inhibitor\\nC. Alpha agonist\\nD. Beta blocker\\nChoose the correct option (A, B, C, or D):', 'Question: A 10 year old boy has a fracture of femur. Biochemical evaluation revealed Hb 11.5 gm/dl and ESR 18 mm 1st hr. Serum calcium 12.8 mg/dL, serum phosphorus 2.3 mg/dL, alkaline phosphate 28 KA units and blood urea 32 mg/dL. Which of the following is the most probable diagnosis in his case-\\nA. Nutritional rickets\\nB. Renal rickets\\nC. Hyperparathyroidism\\nD. Skeletal dysplasia\\nChoose the correct option (A, B, C, or D):', 'Question: Peutz Jeghers syndrome-all are true EXCEPT:March 2013\\nA. Pigmentation of lips & oral mucosa\\nB. Polyposis of jejunum\\nC. Radiotherapy is the treatment of choice\\nD. May turn malignant\\nChoose the correct option (A, B, C, or D):', 'Question: A 45 year old male had multiple hypoaesthetic mildly erythematous large plaques with elevated margins on trunk and extremities. His ulnar and lateral popliteal nerves on both sides were enlarged. The most probable diagnosis is –\\nA. Lepromatous leprosy\\nB. Borderline leprosy\\nC. Borderline tuberculoid leprosy\\nD. Borderline lepromatous leprosy\\nChoose the correct option (A, B, C, or D):']\n"
     ]
    },
    {
     "name": "stderr",
     "output_type": "stream",
     "text": [
      "  2%|▏         | 40/2043 [00:55<45:12,  1.35s/it]"
     ]
    },
    {
     "name": "stdout",
     "output_type": "stream",
     "text": [
      "['Question: In Abetaltipoproteinemia result in absence of:\\nA. Chylomicron\\nB. LDL\\nC. VLDL\\nD. All\\nChoose the correct option (A, B, C, or D):', 'Question: The secondary attack rate of measles is more than mumps. What is the conclusion?\\nA. Measles is more dangerous than mumps.\\nB. Mumps is more dangerous than measles.\\nC. Measles is more infectious than mumps.\\nD. Measles is more common than mumps.\\nChoose the correct option (A, B, C, or D):', 'Question: Most common primary leading to secondaries in pancreas:\\nA. Lung\\nB. Breast\\nC. Colon\\nD. Stomach\\nChoose the correct option (A, B, C, or D):', 'Question: Most common nerve injury associated with thyroid surgery\\nA. Right recurrent laryngeal\\nB. Left recurrent laryngeal\\nC. Right internal laryngeal\\nD. External branch of superior laryngeal nerve\\nChoose the correct option (A, B, C, or D):', 'Question: In tumour lysis syndrome all of the following are seen EXCEPT:\\nA. Hypernatremia\\nB. Hypercalcemia\\nC. Hyperkalemia\\nD. Hyperphosphatemia\\nChoose the correct option (A, B, C, or D):', 'Question: Which of the following most strongly suggests the diagnosis of primary hyperparathyrodism?\\nA. Serum acid phosphatase above 120IU/L\\nB. Serum calcium above 11 mg/dL\\nC. Urinary calcium below 100 mg/day\\nD. Serum alkaline phosphatase abve 120 lU/L\\nChoose the correct option (A, B, C, or D):', 'Question: Pagets disease increases the risk of\\nA. Osteoma\\nB. Osteosarcoma\\nC. Fivrosarcoma\\nD. All\\nChoose the correct option (A, B, C, or D):', 'Question: Mechanism of action on ondensetron -\\nA. RANK ligand inhibitor\\nB. MMDA antagonist\\nC. NK 1 receptor antagonist\\nD. 5 HT3 antagonist\\nChoose the correct option (A, B, C, or D):', 'Question: Mechanism of action of statins:\\nA. Inhibit HMG CoA synthase\\nB. Stimulate HMG CoA reductase\\nC. Inhibit HMG CoA reductase\\nD. Stimulate HMG CoA synthase\\nChoose the correct option (A, B, C, or D):', 'Question: HU units value of bone -\\nA. 0\\nB. 40\\nC. -100\\nD. 1000\\nChoose the correct option (A, B, C, or D):', 'Question: What is histological appearance of vaginal mucosa ?\\nA. Stratified squamous\\nB. Glandular\\nC. Simple squamous\\nD. Cuboidal\\nChoose the correct option (A, B, C, or D):', \"Question: Snellen's cha is used to test:\\nA. Vision\\nB. Refraction\\nC. Presbyopia\\nD. Colour blindness\\nChoose the correct option (A, B, C, or D):\", 'Question: Site of b-oxidation is ?\\nA. Cytosol\\nB. Mitochondria\\nC. Lysosome\\nD. Golgi apparatus\\nChoose the correct option (A, B, C, or D):', 'Question: An enzyme that protects the brain from free radical injury is -\\nA. Myeloperoxidase\\nB. MAO\\nC. Superoxide dismutase\\nD. Hydroxylase\\nChoose the correct option (A, B, C, or D):', 'Question: In a case of chest pain with pericarditis and pericardial effussion, pain is referred by?\\nA. Phrenic nerve\\nB. Superficial cardiac plexus\\nC. Deep cardiac plexus\\nD. Vagus nerve\\nChoose the correct option (A, B, C, or D):', 'Question: A 60 yrs old male comes to casualty with acute retention of urine since 12 hrs. On examination there was distended bladder. His wife gives a history of taking some drug by the patient since 2 days as he is suffering from depression. The most likely drug is:\\nA. CPZ\\nB. Amitriptyline\\nC. Haloperidol\\nD. Pimozide\\nChoose the correct option (A, B, C, or D):']\n"
     ]
    },
    {
     "name": "stderr",
     "output_type": "stream",
     "text": [
      "  2%|▏         | 41/2043 [00:56<43:33,  1.31s/it]"
     ]
    },
    {
     "name": "stdout",
     "output_type": "stream",
     "text": [
      "['Question: Root value of intercostobrachial nerve is\\nA. T1\\nB. T2\\nC. T3\\nD. T4\\nChoose the correct option (A, B, C, or D):', 'Question: Which of the following is the investigation of choice for assessment of depth of penetration and perirectal node involvement in rectal cancer?\\nA. MRI scan\\nB. CT scan pelvis\\nC. Double contrast barium enema\\nD. Transrectal ultrasound\\nChoose the correct option (A, B, C, or D):', 'Question: \"White plague\" is\\nA. Pneumonic Plague\\nB. Bubonic Plague\\nC. Tuberculosis\\nD. leprosy\\nChoose the correct option (A, B, C, or D):', 'Question: Upon contact between the sperm head and the zona pellucida, penetration of the sperm into the egg is allowed because of:\\nA. The acrosome reaction\\nB. The zona reaction\\nC. The perivitelline space\\nD. Pro nuclei formation\\nChoose the correct option (A, B, C, or D):', 'Question: QRS complex is due to -\\nA. Ventricular repolarization\\nB. Atrial depolarization\\nC. Conduction through AV node\\nD. Ventricular depolarization\\nChoose the correct option (A, B, C, or D):', 'Question: The symptoms of hyperparathyroidism include:\\nA. Constipation and muscle weakness\\nB. Anorexia and weight loss\\nC. Polydipsia and polyuria\\nD. All of the above\\nChoose the correct option (A, B, C, or D):', 'Question: Anorectal anomalies are commonly associated with:\\nA. Cardiac anomalies\\nB. Duodenal atresia\\nC. CMS abnormalities\\nD. Abdominal wall defects\\nChoose the correct option (A, B, C, or D):', 'Question: A transection made at the lower end of medulla through the pyramids would cause all/except:\\nA. In coordination\\nB. Involuntary movements\\nC. Spasticity\\nD. Increased tendon reflexes\\nChoose the correct option (A, B, C, or D):', 'Question: A 48-year-old woman presents with complaints of moderate weight loss over the past 6 months, heat intolerance, palpitations, and fine tremors in the hands. Physical examination reveals the presence of a diffuse goiter and exophthalmos. Which of the following laboratory findings would be expected in this individual?\\nA. Decreased serum T4\\nB. Decreased radioactive iodine uptake\\nC. Decreased resin T3 uptake\\nD. Increased plasma concentration of thyroglobulin\\nChoose the correct option (A, B, C, or D):', 'Question: Causative agent of malaria -\\nA. Protozoa\\nB. Mosquito\\nC. Bacteria\\nD. Virus\\nChoose the correct option (A, B, C, or D):', 'Question: Calabar swelling is produced by-\\nA. Onchocerca volvulus\\nB. Loa loa\\nC. Brugia malayi\\nD. Wuchereria bancrofti\\nChoose the correct option (A, B, C, or D):', \"Question: Following several days of 12-hour daily rehearsals of the symphony orchestra for a performance of a Wagnerian opera, the 52-year-old male conductor experienced such excruciating pain in the posterior aspect of his right forearm that he could no longer direct the musicians. When the maestro's forearm was palpated 2 cm distal to, and posteromedial to, the lateral epicondyle, the resulting excruciating pain caused the conductor to weep. Injections of steroids and rest were recommended to ease the pain. Which of the following injuries is most likely?\\nA. Compression of the median nerve by the pronator teres\\nB. Compression of the median nerve by the flexor digitorum superficialis\\nC. Compression of the superficial radial nerve by the brachioradialis\\nD. Compression of the deep radial nerve by the supinator\\nChoose the correct option (A, B, C, or D):\", 'Question: Which of the following will occur in an exclusively breast fed baby -\\nA. Jaundice\\nB. Scurvy\\nC. Tetany\\nD. Eczema\\nChoose the correct option (A, B, C, or D):', 'Question: In school water fluoridation, amount of F used is:\\nA. 0.7-1.2 ppm\\nB. 1.6-3 ppm\\nC. 3-4 ppm\\nD. 12 ppm\\nChoose the correct option (A, B, C, or D):', 'Question: The chemotherapy drug fluorouracil undergoes a series of chemical changes in vivo that result in a covalent complex such that it is bound to both thymidylate synthase and methylene-tetrahydrofolate. The inhibition of deoxythymidilate formation and subsequent blockage of cell division is due to\\nA. Allosteric inhibition\\nB. Competitive inhibition\\nC. Irreversible inhibition\\nD. Noncovalent inhibition\\nChoose the correct option (A, B, C, or D):', 'Question: In the evaluation of a 26-year-old patient with 4 months of secondary amenorrhea, you order serum prolactin and b-hCG assays. The pregnancy test is positive, and the prolactin comes back at 100 ng/mL (normal <25 ng/mL in this assay). This patient requires\\nA. Routine obstetric care\\nB. Computed tomography (CT) scan of her sella turcica to rule out pituitary adenoma\\nC. Repeat measurements of serum prolactin to ensure that values do not increase over 300 ng/mL\\nD. Bromocriptine to suppress prolactin\\nChoose the correct option (A, B, C, or D):']\n"
     ]
    },
    {
     "name": "stderr",
     "output_type": "stream",
     "text": [
      "  2%|▏         | 42/2043 [00:58<47:52,  1.44s/it]"
     ]
    },
    {
     "name": "stdout",
     "output_type": "stream",
     "text": [
      "['Question: Knee with leg x- ray of an adolescent boy is shown. Probable diagnosis:\\nA. Chondromyxoid fibroma\\nB. Osteosarcoma\\nC. Bone cyst with fracture\\nD. Osteitis Fibrosis cystica\\nChoose the correct option (A, B, C, or D):', 'Question: Centrilobular necrosis of liver may be seen with -\\nA. Phosphorus\\nB. Arsenic\\nC. CCI4\\nD. Ethanol\\nChoose the correct option (A, B, C, or D):', 'Question: Most diffusable ion in excitable tissue is -\\nA. Na+\\nB. K+\\nC. PO4-\\nD. Cl-\\nChoose the correct option (A, B, C, or D):', 'Question: which of the following tricyclic antidepressent used for peripheral neuropathy\\nA. amitriptilline\\nB. clomipramine\\nC. fluoxetine\\nD. imipramine\\nChoose the correct option (A, B, C, or D):', \"Question: Erythrophagia and Mononuclear cell infiltration ulcers are seen in -\\nA. Necrotising colitis\\nB. Ulcerative colitis\\nC. Crohn's disease\\nD. Typhoid ulcers\\nChoose the correct option (A, B, C, or D):\", 'Question: Velvety appearance of stomach is seen in poisoning with:(1995)\\nA. Abrus precatorius\\nB. Barbiturates\\nC. Arsenic\\nD. lead\\nChoose the correct option (A, B, C, or D):', \"Question: The classification proposed by the International Lymphoma Study Group for non-Hodgkin's lymphoma is known as:\\nA. Kiel classification\\nB. REAL classification\\nC. WHO classification\\nD. Rappapo classification\\nChoose the correct option (A, B, C, or D):\", 'Question: Normal intracranial pressure in a child is:\\nA. < 5mm of Hg\\nB. 50-80 mm of Hg\\nC. 10-15 mm of Hg\\nD. 20-30 mm of Hg\\nChoose the correct option (A, B, C, or D):', 'Question: MIC-2 is a marker of? -\\nA. Ewing sarcoma\\nB. Chronic lymphocytic leukemia\\nC. Mantle cell lymphoma\\nD. All of these\\nChoose the correct option (A, B, C, or D):', 'Question: Cause of hairy leukoplakia which is characterised by severe discomfort on lateral part of the tongue\\nA. HIV\\nB. EBV\\nC. Herpes virus\\nD. HPV\\nChoose the correct option (A, B, C, or D):', 'Question: Which of the following infection, if occurs in the first trimester, leads to maximum incidence of congenital malformations: March 2010\\nA. Rubella\\nB. Toxoplasmosis\\nC. CMV\\nD. All of the above\\nChoose the correct option (A, B, C, or D):', 'Question: Patient because of positive biopsy findings and negative workup undergoes a radical prostatectomy. The pathology repo reveals Gleason score 9/10 and involvement of several pelvic lymph nodes. Which is the most likely site for prostatic cancer metastasis?\\nA. Liver\\nB. Kidney\\nC. Lung\\nD. Bone\\nChoose the correct option (A, B, C, or D):', 'Question: Ahus reaction is what type of hypersensitivity reaction\\nA. Localized immune complex\\nB. Ag- Ab reaction\\nC. Complement mediated\\nD. Ab mediated\\nChoose the correct option (A, B, C, or D):', 'Question: The following anticancer drug has high emetogenic potential\\nA. Chlorambucil\\nB. Vincristine\\nC. 6-Mercaptopurine\\nD. Cisplatin\\nChoose the correct option (A, B, C, or D):', 'Question: Spironolactone should not be given with\\nA. Chlohiazide\\nB. Beta blockers\\nC. ACE inhibitors\\nD. Amlodipine\\nChoose the correct option (A, B, C, or D):', 'Question: A total of 5000 patients of glaucoma are identified and surveyed by patient interviews regarding family history of glaucoma. Such a study design is called-\\nA. Case series repo\\nB. Case control study\\nC. Clinical trial\\nD. Coho study\\nChoose the correct option (A, B, C, or D):']\n"
     ]
    },
    {
     "name": "stderr",
     "output_type": "stream",
     "text": [
      "  2%|▏         | 43/2043 [00:59<45:21,  1.36s/it]"
     ]
    },
    {
     "name": "stdout",
     "output_type": "stream",
     "text": [
      "['Question: Based upon this PA ulnar detion view of the wrist, what is the MOST likely diagnosis?\\nA. Osteomyelitis\\nB. De Quervain tenosynovitis\\nC. Hyperophic osteoahropathy\\nD. Rheumatoid ahritis\\nChoose the correct option (A, B, C, or D):', 'Question: An enzyme that recognizes a specific (palindromic) sequence and cuts within a DNA molecule is?\\nA. Exonuclease\\nB. Methylase\\nC. Modification enzyme\\nD. Restriction endonuclease\\nChoose the correct option (A, B, C, or D):', 'Question: In pontaic fever, which antigen is seen in urine-\\nA. Group specific antigen of Legionella serogroup- 1 (LP 1)\\nB. Group specific antigen of L egionella serogroup- 1. (LP 2)\\nC. Group specific antigen of Legionella serogroup- 4 (LP 4)\\nD. Group specific antigen of Legionella serogroup- 6 (LP 6)\\nChoose the correct option (A, B, C, or D):', \"Question: A patient with Hypeension presents with Hypokalemia. Aldosterone levels and Renin levels are both elevated. The most likely diagnosis is\\nA. Renal Aery stenosis\\nB. Primary Hyperaldosteronism {Conn's syndrome}\\nC. Addison's disease\\nD. Cushing's syndrome\\nChoose the correct option (A, B, C, or D):\", 'Question: Mycosis fungoides: March 2013\\nA. Cutaneous T cell lymphoma\\nB. Fungal infection\\nC. Bacterial infection\\nD. Cutaneous B cell lymphoma\\nChoose the correct option (A, B, C, or D):', 'Question: Me Callum patch is seen in the:(1988)\\nA. Right atrium\\nB. Left atrium\\nC. Left ventricle\\nD. Right ventricle\\nChoose the correct option (A, B, C, or D):', 'Question: The main catabolic product/products of purine nuleotides in humans is which one of the following:\\nA. Ammonia + CO2\\nB. Ammonia\\nC. Uric Acid\\nD. CO2 and Water\\nChoose the correct option (A, B, C, or D):', 'Question: MMR (Measles, mumps, rubella) vaccine is an example of:\\nA. Live attenuated vaccine\\nB. Conjugated vaccine\\nC. Polysaccharide vaccine\\nD. Killed vaccine\\nChoose the correct option (A, B, C, or D):', 'Question: Which is the most common aerobic bacteria found in vagina?\\nA. Lactobacilli\\nB. Gardnerella\\nC. Mobilincus\\nD. Clostridium\\nChoose the correct option (A, B, C, or D):', 'Question: A 30 year old male presents with severe pain chest, breathlessness, hypotension and ECG shows ST elevation in V3, V4 V5 and V6 leads. He will be best treated with:\\nA. Streptokinase\\nB. t-PA\\nC. Heparin\\nD. PTCA\\nChoose the correct option (A, B, C, or D):', 'Question: Which of the following-is the first sign of sexual maturity in boys?\\nA. Increase in height\\nB. Appearance of facial hair\\nC. Change in voice\\nD. Increase in testicular size\\nChoose the correct option (A, B, C, or D):', 'Question: Thomsen friedensreich phenomenon is -\\nA. Red cells infection by CMV\\nB. Red cell agglutination by all blood group sera\\nC. Hemolysis of transfused blood\\nD. Due to B antigen\\nChoose the correct option (A, B, C, or D):', 'Question: In mood disorder, rapid cyclers are defined as\\nA. 4 or more episodes per year\\nB. Mania occuring during summer\\nC. Mania consistent during lunar year\\nD. Depressive episodes during winter\\nChoose the correct option (A, B, C, or D):', 'Question: Best marker of SLE?\\nA. Anti Sm antibodies\\nB. Anti-ds DNA antibodies\\nC. Anti-Histone antibodies\\nD. Anti Ro (SS-A) antibodies\\nChoose the correct option (A, B, C, or D):', 'Question: Enzyme deficiency in Hurler syndrome?\\nA. Iduronate sulfatase\\nB. a-l-Iduronidase\\nC. b-Galactosidase\\nD. Galactosamine 6-sulfatase\\nChoose the correct option (A, B, C, or D):', 'Question: Which of the following is a prodrug ?\\nA. Lisinopril\\nB. Enalapril\\nC. Chlorpromazine\\nD. Dopamine\\nChoose the correct option (A, B, C, or D):']\n"
     ]
    },
    {
     "name": "stderr",
     "output_type": "stream",
     "text": [
      "  2%|▏         | 44/2043 [01:00<43:45,  1.31s/it]"
     ]
    },
    {
     "name": "stdout",
     "output_type": "stream",
     "text": [
      "['Question: When the sympathetic nervous system is activated:\\nA. Norepinephrine is released by the vascular smooth muscle cells\\nB. Acetylcholine is released onto vascular smooth muscle cells\\nC. Norepinephrine is released from axons onto the arteriolar wall\\nD. The arterioles constrict because nitric oxide production is suppressed\\nChoose the correct option (A, B, C, or D):', 'Question: Surgical treatment for asymptomatic uterine myoma is indicated if\\nA. If myoma is pedunculated\\nB. Tumour is larger than size of 3months pregnancy\\nC. Diagnosis is unceain\\nD. All the above\\nChoose the correct option (A, B, C, or D):', 'Question: Tympanic membrane develops from?\\nA. Mesoderm\\nB. Endoderm\\nC. Ectoderm\\nD. All three germ layers\\nChoose the correct option (A, B, C, or D):', 'Question: Mucoepidermoid carcinoma arises form\\nA. Epithelium\\nB. Myoepithelium\\nC. Acinus\\nD. Mucin secreting and epidermal cells\\nChoose the correct option (A, B, C, or D):', 'Question: Parasites causing lung infestation are -\\nA. H. Nana\\nB. Paragonimus westermanii\\nC. Taenia saginata\\nD. E. granulosus\\nChoose the correct option (A, B, C, or D):', 'Question: Culex mosquito is a vector for:\\nA. Chikungunya fever\\nB. Dengue fever\\nC. Japanese encephalitis\\nD. Malaria\\nChoose the correct option (A, B, C, or D):', 'Question: True statement about diphtheria toxin is\\nA. Toxin is phage mediated\\nB. Toxin is required for local infection\\nC. Endotoxaemia causes systemic manifestation\\nD. Toxin acts by inhibiting synthesis of capsule\\nChoose the correct option (A, B, C, or D):', 'Question: Drug of choice for multidrug resistant staphylococcus aureus is:\\nA. Clindamicin\\nB. Streptogramins\\nC. Vancomycin\\nD. Aztreonam\\nChoose the correct option (A, B, C, or D):', 'Question: Carey coombs murmur, which is false -\\nA. Delayed diastolic murmur\\nB. Seen in rheumatic fever\\nC. Can be associated with A.R.\\nD. Low pitched murmur\\nChoose the correct option (A, B, C, or D):', 'Question: Tolvaptan is approved for use in-\\nA. High Na\\nB. High K\\nC. High Ca\\nD. Low Na\\nChoose the correct option (A, B, C, or D):', 'Question: Organ most vulnerable to ischaemic due to shock?\\nA. Lungs\\nB. Adrenals\\nC. Kidney\\nD. Hea\\nChoose the correct option (A, B, C, or D):', 'Question: Alkaline douch solution of nose does not contain:\\nA. NaCI\\nB. Na biborate\\nC. NaHCO3\\nD. Glucose\\nChoose the correct option (A, B, C, or D):', 'Question: True about tumor lysis syndrome -a) Hyperkalemiab) Hypercalcemiac) Lactic acid d) Hyperuricemia\\nA. b\\nB. c\\nC. ad\\nD. ab\\nChoose the correct option (A, B, C, or D):', 'Question: Shoest acting anticholinesterase is -\\nA. Edrophonium\\nB. Pyridostigmine\\nC. Glycopyrrolate\\nD. Neostigmine\\nChoose the correct option (A, B, C, or D):', 'Question: Injury to the nerve originating from C5 in Brachial plexus leads to\\nA. Loss of abduction of the arm\\nB. Loss of abduction of arm\\nC. Loss of shrugging\\nD. Winging of scapula\\nChoose the correct option (A, B, C, or D):', 'Question: All of the following are presentin pterygomandibular space except\\nA. Nerve to mylohyoid\\nB. Chorda tympani\\nC. Long buccal nerve\\nD. Nerve to pterygoid\\nChoose the correct option (A, B, C, or D):']\n"
     ]
    },
    {
     "name": "stderr",
     "output_type": "stream",
     "text": [
      "  2%|▏         | 45/2043 [01:01<42:27,  1.27s/it]"
     ]
    },
    {
     "name": "stdout",
     "output_type": "stream",
     "text": [
      "['Question: Which of the following features is not included in psychosis\\nA. Panic attack\\nB. Delusion\\nC. Hallucination\\nD. Hypochondriasis\\nChoose the correct option (A, B, C, or D):', 'Question: True about composition of hospital waste\\nA. Metal 1%\\nB. Paper 10%\\nC. Glass 5%\\nD. Infectious waste 3%\\nChoose the correct option (A, B, C, or D):', 'Question: Spring catarrah is -\\nA. Type I hypersensitivity reaction\\nB. Type II hypersensitivity reaction\\nC. Type III hypersensitivity reaction\\nD. Type IV hypersensitivity reaction\\nChoose the correct option (A, B, C, or D):', 'Question: Most common histological type of thyroid carcinoma is\\nA. Follicular type\\nB. Papillary type\\nC. Anaplastic type\\nD. Medullary type\\nChoose the correct option (A, B, C, or D):', 'Question: Which vitamin deficiency may be observed in a patient on INH therapy: September 2012\\nA. Thiamine\\nB. Pyridoxine\\nC. Folic acid\\nD. Cyanocobalamin\\nChoose the correct option (A, B, C, or D):', 'Question: Hypersegmented neutrophils are seen in -\\nA. Microcytic hypochronic anemia\\nB. Sideroblastic anemia\\nC. Megaloblastic anemia\\nD. Hemolytic anemia\\nChoose the correct option (A, B, C, or D):', 'Question: A 20-year-old male presented with high-grade fever, groin pain and a swollen scrotum for 1 week and are worsening progressively. On examination, Tender inguinal lymphadenopathy Scrotal swelling with hydrocoele Lymphatic streaking Blood samples are taken and a parasite infection is suspected. Which of the following is the most likely organism: -\\nA. <img style=\"max-width: 100%\" src=\" />\\nB. <img style=\"max-width: 100%\" src=\" />\\nC. <img style=\"max-width: 100%\" src=\" />\\nD. <img style=\"max-width: 100%\" src=\" />\\nChoose the correct option (A, B, C, or D):', 'Question: All of the following metabolic pathways occur in both Cytoplasm and Mitochondria, except:\\nA. Glycolysis\\nB. Gluconeogenesis\\nC. Heme Synthesis\\nD. Urea cycle\\nChoose the correct option (A, B, C, or D):', 'Question: Shailza, a 40-year-old female is having headache for the past 6 months. All her investigations were normal. She had several consultations and she had no relief of her symptoms. She still believes that she has some problem in her brain. Likely diagnosis could be: September 2010\\nA. Acute mania\\nB. Acute depression\\nC. Psychogenic headache\\nD. Hypochondriasis\\nChoose the correct option (A, B, C, or D):', 'Question: Not a feature of acute aerial Occlusion ?\\nA. Cyanosis\\nB. Pallor\\nC. Paralysis\\nD. Paraesthesia\\nChoose the correct option (A, B, C, or D):', 'Question: Instrument of choice for diagnosing pediatric retinal disorders\\nA. OCT\\nB. Fluorescein angiography\\nC. Slit lamp examination\\nD. Retcam\\nChoose the correct option (A, B, C, or D):', \"Question: Brunner's glands are seen in -\\nA. Jejunum\\nB. Upper duodenum\\nC. Lower duodenum\\nD. Appendix\\nChoose the correct option (A, B, C, or D):\", 'Question: All are seen in injury to common peroneal nerve except?\\nA. Loss of sensation over sole\\nB. Foot drop\\nC. Injury to neck of fibula\\nD. Loss of dorsiflexion of toe\\nChoose the correct option (A, B, C, or D):', 'Question: The treatment of acute myocardial infarction includes which of the following-\\nA. Aspirin\\nB. Heparin\\nC. Alteplase\\nD. Oral anticoagulants\\nChoose the correct option (A, B, C, or D):', 'Question: In surgical anterolateral approach to tibia, incision is taken over the tibialis anterior muscle mass rather than over the shaft. What is/ are the advantages?\\nA. Medially based flap\\nB. Less chances of wound dehiscence\\nC. Can be converted to an extensile approach\\nD. All the above\\nChoose the correct option (A, B, C, or D):', \"Question: A young patient had a history of fall. The physician placed his hand on the patient's chin and instruct him to rotate his head to the opposite side against resistance. But he was unable to perform the action. Which of the nerve is injured in this patient?\\nA. Posterior auricular nerve\\nB. 10th cranial nerve\\nC. Spinal accessory nerve\\nD. 12th cranial nerve\\nChoose the correct option (A, B, C, or D):\"]\n"
     ]
    },
    {
     "name": "stderr",
     "output_type": "stream",
     "text": [
      "  2%|▏         | 46/2043 [01:03<45:33,  1.37s/it]"
     ]
    },
    {
     "name": "stdout",
     "output_type": "stream",
     "text": [
      "['Question: Most common cause of death in measles is\\nA. Pneumonia\\nB. Meningitis\\nC. Dehydration\\nD. Encephalitis\\nChoose the correct option (A, B, C, or D):', 'Question: IQ in mild mental retardation is\\nA. 50-70\\nB. 35-49\\nC. 20-34\\nD. < 20\\nChoose the correct option (A, B, C, or D):', 'Question: Reticulocytosis is NOT a feature of:\\nA. Paroxysmal nocturnal hemoglobinuria\\nB. Following acute bleeding\\nC. Hereditary spherocytosis\\nD. Anemia in CRF\\nChoose the correct option (A, B, C, or D):', 'Question: Feline esophagus is seen in:\\nA. Eosinophilic esophagitis\\nB. Radiation esophagitis\\nC. GERD\\nD. Carcinoma esophagus\\nChoose the correct option (A, B, C, or D):', 'Question: Lady with infeility with bilateral tubal block at cornua : best method of management is :\\nA. Laparoscopy and hysteroscopy\\nB. Hydrotubation\\nC. IVF\\nD. Tuboplasty\\nChoose the correct option (A, B, C, or D):', 'Question: Local anesthetic action is a result of blockade of the movement of wof channels\\nA. Chloride\\nB. Sodium\\nC. Potassium\\nD. Calcium\\nChoose the correct option (A, B, C, or D):', 'Question: Which of the following is true of mumps ?\\nA. Salivary gland involvement is limited to the parotids\\nB. The patient is not infectious prior to clinical parotid enlargement\\nC. Menigoencephalitis can precede parotitis\\nD. Mumps orchitis frequently leads to infeility\\nChoose the correct option (A, B, C, or D):', 'Question: Most common cause of ARDS in children is:\\nA. Aspiration\\nB. Injury\\nC. Severe pneumonia with sepsis\\nD. DIC\\nChoose the correct option (A, B, C, or D):', 'Question: The most frequently implicated antibiotic among the causes of drug induced liver injury is:\\nA. Tetracycline\\nB. Amoxicillin-clavulanic acid\\nC. Erythromycin\\nD. Nalidixic acid\\nChoose the correct option (A, B, C, or D):', 'Question: Which of the following is a nonmodifiable risk factor for coronary hea disease?\\nA. Cigarette smoking\\nB. Elevated serum cholesterol\\nC. Alcoholism\\nD. Age\\nChoose the correct option (A, B, C, or D):', 'Question: Families which lags behind rest of community, is known as\\nA. Communal family\\nB. Elementary family\\nC. Problem Family\\nD. Broken Family\\nChoose the correct option (A, B, C, or D):', 'Question: The serum concentration in which of the following human IgG subclasses is maximum?\\nA. IgG1\\nB. IgG2\\nC. IgG3\\nD. IgG4\\nChoose the correct option (A, B, C, or D):', \"Question: 29 year old female with history of Sjogren's syndrome presents with a 2 day episode of watery diarrhea 2 days ago. Physical examination is unremarkable. Because of her history, the physician decides to check her urine electrolytes. Urine chemistry: K = 31, Na = 100, Cl = 105. Her current diagnosis is?\\nA. Renal tubular acidosis\\nB. Hypochloremic Metabolic alkalosis\\nC. Malignant hypeension\\nD. Respiratory alkalosis\\nChoose the correct option (A, B, C, or D):\", 'Question: Prolonged latent phase is seen in :\\nA. Placenta prae\\nB. Unripe cervix\\nC. Abruptio placenta\\nD. Excessive sedation\\nChoose the correct option (A, B, C, or D):', 'Question: A 60-year-old female is having proximal muscle weakness with increased serum creatinine kinase. The probable diagnosis is:\\nA. Polymyositis\\nB. Dermatomyositis\\nC. Inclusion body myositis\\nD. Limb-girdle muscle dystrophy\\nChoose the correct option (A, B, C, or D):', 'Question: Translocation between the 2 acrocentric chromosomes with breakpoint occurring close to the centromeres, so that very large and very small chromosomes are obtained from which smaller fragment is usually lost. The type of cytogenic abnormality is:\\nA. Deletion\\nB. Balanced translocation\\nC. Robertsonian translocation\\nD. Inversion\\nChoose the correct option (A, B, C, or D):']\n"
     ]
    },
    {
     "name": "stderr",
     "output_type": "stream",
     "text": [
      "  2%|▏         | 47/2043 [01:04<45:02,  1.35s/it]"
     ]
    },
    {
     "name": "stdout",
     "output_type": "stream",
     "text": [
      "['Question: You are in the causlity when a student, Kumar is brought in with a shoulder injury sustained while playing football. In comparing the symmetry of his two shoulders, you notice a marked elevation of the distal end of his clavicle with respect to the acromion on the injured side. X-ray exam reveals a grade III shoulder separation. In order for this to have occurred, which ligament must be torn?\\nA. Coracoacromial\\nB. Coracoclavicular\\nC. Costoclavicular\\nD. Superior glenohumeral\\nChoose the correct option (A, B, C, or D):', \"Question: Hemolytic Uremic Syndrome is characterized by -a) Microangiopathic haemolytic anaemiab) ↓ed LDHc) Thrombocytopeniad) Renal failuree) Positive Coomb's test\\nA. abc\\nB. ad\\nC. acd\\nD. bde\\nChoose the correct option (A, B, C, or D):\", 'Question: All of the following antihistaminic agents lack anticholinergic property EXCEPT :\\nA. Promethazine\\nB. Astemizole\\nC. Levocetirizine\\nD. Loratadine\\nChoose the correct option (A, B, C, or D):', 'Question: Totipotency of embryonic stem cell is due to that they?\\nA. Can differentiate into all the tissues of embryonic or extraembryonic cell types.\\nB. Can differentiate into cells derived from any of the three germ layers.\\nC. Can differentiate only into cells of a closely related family\\nD. Can differentiate only in to one cell type\\nChoose the correct option (A, B, C, or D):', 'Question: Which of the following is the cause of break of glomerular basement membrane sometimes and sub epithelial deposits in electron microscopy?\\nA. Membranous glomerulonephritis (MGN)\\nB. Focal glomerular sclerosis\\nC. Rapidly progressive glomerulonephritis (RPGN)\\nD. Minimal change (MCD)\\nChoose the correct option (A, B, C, or D):', 'Question: Type II hypersensitivity -\\nA. Blood transfusion reaction\\nB. Ahus reaction\\nC. Hay Fever\\nD. Glomerulonephritis\\nChoose the correct option (A, B, C, or D):', 'Question: Drug used in mild hemophilia is :\\nA. Corticosteroids\\nB. DDAVP\\nC. Vitamin K\\nD. Tranexamic acid\\nChoose the correct option (A, B, C, or D):', 'Question: Gas gangrene is caused by: March 2012\\nA. Clostridium welchii\\nB. Clostridium tetani\\nC. Clostridium botulinum\\nD. Clostridium difficile\\nChoose the correct option (A, B, C, or D):', 'Question: The main enzyme responsible for activation of xenobiotics is -\\nA. Cytochrome P-450\\nB. Glutathione S-transferase\\nC. NADPH cytochrome P-450-reductase\\nD. Glucuronyl transferase\\nChoose the correct option (A, B, C, or D):', 'Question: Site where endolymph is seen:\\nA. Scala vestibuli\\nB. Scala media\\nC. Helicotrema\\nD. Scala tympani\\nChoose the correct option (A, B, C, or D):', 'Question: Which of the following drug is an inverse agonist at H3 receptors used for Narcolepsy?\\nA. Dexmedetomidine\\nB. Pitolisant\\nC. Icatibont\\nD. Secukinumab\\nChoose the correct option (A, B, C, or D):', \"Question: Which of the following is the Post - Chemotherapy based staging system used in Wilm's tumor?\\nA. National Wilm's Tumor Staging System (NWTSG)\\nB. International Society of Pediatric Oncology (SIOP)\\nC. AJCC TNM Staging\\nD. Chadwick Staging\\nChoose the correct option (A, B, C, or D):\", 'Question: Which of the following is TRUE regarding Neisseria meningitidis infection?\\nA. It is the most common cause of meningitis in children\\nB. All strains are uniformly sensitive to sulfonamides\\nC. Vaccines are contraindicated in immunosuppressed\\nD. In India serotype B is most common cause\\nChoose the correct option (A, B, C, or D):', 'Question: Most common adverse effect of colchicine -\\nA. Diarrhoea\\nB. Peptic ulcer\\nC. Dyspepsia\\nD. Pulmonary fibrosis\\nChoose the correct option (A, B, C, or D):', 'Question: Soft tick transmits:\\nA. Relapsing fever\\nB. KFD\\nC. Tularemia\\nD. Indian tick typhus\\nChoose the correct option (A, B, C, or D):', 'Question: Diagnosis of ABO incompatiability can be from all of the following except?\\nA. Sweat\\nB. Saliva\\nC. Semen\\nD. CSF\\nChoose the correct option (A, B, C, or D):']\n"
     ]
    },
    {
     "name": "stderr",
     "output_type": "stream",
     "text": [
      "  2%|▏         | 48/2043 [01:05<45:24,  1.37s/it]"
     ]
    },
    {
     "name": "stdout",
     "output_type": "stream",
     "text": [
      "['Question: A chronic alcoholic has an elevated serum alpha fetoprotein levels. Which of the following neoplasms is most likely -\\nA. Prostatic adenocarcinoma\\nB. Multiple myeloma\\nC. Hepatocellular carcinoma\\nD. Glioblastoma multiforme\\nChoose the correct option (A, B, C, or D):', 'Question: Eaton agent is -\\nA. Chlamydia\\nB. Mycoplasma pneumoniae\\nC. Klebsiella\\nD. H. influenzae\\nChoose the correct option (A, B, C, or D):', 'Question: True about primary angle closure glaucoma –a) More common in femalesb) Shallow anterior chamber is a risk factorc) Deep anterior chamber is a risk factord) Shorter diameter of cornea is a predisposing factore) Common in myopes\\nA. acd\\nB. abd\\nC. abc\\nD. ab\\nChoose the correct option (A, B, C, or D):', 'Question: Black foot disease is seen in?\\nA. Arsenic\\nB. Lead\\nC. Mercury\\nD. Thallium\\nChoose the correct option (A, B, C, or D):', 'Question: Treatment\\tof\\tsevere\\tintraoral\\tinfections\\tin\\tchildren\\ndiffers from that in adult because:\\nA. More children are allergic to penicillin\\nB. Dehydration occurs more rapidly and severely in children\\nC. Leucocytopenia develops more frequently in children\\nD. Incidence of bleeding disorders is greater in children\\nChoose the correct option (A, B, C, or D):', 'Question: An 80-year-old patient presents with a midline tumor of the lower jaw, involving the alveolar margin. He is edentulous. Treatment of choice is:\\nA. Hemimandibulectomy\\nB. Commando operation\\nC. Segmental mandibulectomy\\nD. Marginal mandibulectomy\\nChoose the correct option (A, B, C, or D):', \"Question: Which one of the following congenital heart diseases has cyanosis without cardiomegaly and/or congestive heart failure –\\nA. Transposition of great arteries\\nB. Fallot's tetralogy\\nC. Congenital mitral regurgitaion\\nD. Congenital pulmonary stenosis\\nChoose the correct option (A, B, C, or D):\", 'Question: Which drug can be given in G6PD deficiency?\\nA. Chloroquine\\nB. Probenecid\\nC. Aminopyrine\\nD. Primaquine\\nChoose the correct option (A, B, C, or D):', 'Question: Which is true of closed dental camp?\\nA. Preselected area like school for camp\\nB. Serving large number of people in community\\nC. Resent close dental camp\\nD. No such term\\nChoose the correct option (A, B, C, or D):', \"Question: Prussak's space is seen in ?\\nA. Epitympanum\\nB. Hypotympanum\\nC. Mesotympanum\\nD. Ear Canal\\nChoose the correct option (A, B, C, or D):\", 'Question: Protein A of staphylococcus binds to -\\nA. IgA\\nB. IgG\\nC. IgD\\nD. IgE\\nChoose the correct option (A, B, C, or D):', \"Question: A 22-year old software engineer was brought in an unconscious state to the casualty. Clinical examination revealed features suggestive of shock, DIC and multisystem failure. CSF and petechial rashes yielded gram-negative diplococcic, which subsequently grew on modiefied Thayer-Martin medium. This isolation is known to be associated with-\\nA. Waterhouse-Fridericheen syndrome\\nB. Fitz-Hugh-Curtis syndrome\\nC. Job's syndrome\\nD. Toxic shock syndrome\\nChoose the correct option (A, B, C, or D):\", 'Question: MEN-1 include all except\\nA. Prolactiomas\\nB. Parathyroid hyperplasia\\nC. Pancreatic endocrine tumours\\nD. Medullary carcinoma thyroid\\nChoose the correct option (A, B, C, or D):', 'Question: In which of the following conditions, MTP can be indicated -a) Pregnancy caused by rapeb) Husband is willing but mother is not agreeingc) If maternal health is in dangerd) Pregnancy after contraceptive failuree) Pregnant women have received cytotoxic drugs\\nA. bce\\nB. bde\\nC. acde\\nD. abde\\nChoose the correct option (A, B, C, or D):', 'Question: Huxley- Henley layers is a pa of\\nA. Nail\\nB. Skin\\nC. Hair\\nD. Sweat glands\\nChoose the correct option (A, B, C, or D):', 'Question: A 37-year-old female presents to the emergency room with a fever. Chest x-ray shows multiple patchy infiltrates in both lungs. Echocardiography and blood cultures suggest a diagnosis of acute bacterial endocarditis limited to the tricuspid valve. Which of the following is the most probable etiology?\\nA. Congenital hea disease\\nB. Illicit drug use\\nC. Rheumatic fever\\nD. Rheumatoid ahritis\\nChoose the correct option (A, B, C, or D):']\n"
     ]
    },
    {
     "name": "stderr",
     "output_type": "stream",
     "text": [
      "  2%|▏         | 49/2043 [01:07<45:10,  1.36s/it]"
     ]
    },
    {
     "name": "stdout",
     "output_type": "stream",
     "text": [
      "['Question: Karyotype of Complete mole is?\\nA. 46 XY\\nB. 46 XX\\nC. 69 XXX\\nD. 69 XXX\\nChoose the correct option (A, B, C, or D):', 'Question: Which of the following is an epiphyseal lesion?\\nA. Chondroblastoma\\nB. Chondrosarcoma\\nC. Fibrosarcoma\\nD. Non ossifying fibroma\\nChoose the correct option (A, B, C, or D):', 'Question: Histologic examination of lung tissue reveals multiple suppurative, neutrophil-rich exudates that fill the bronchi and bronchioles and spill over into the adjacent alveolar spaces only. The majority of lung tissue is not involved in this inflammatory process. Hyaline membranes are not found. This histologic appearance best describes\\nA. Bronchiectasis\\nB. Bronchopneumonia\\nC. Lobar pneumonia\\nD. Interstitial pneumonitis\\nChoose the correct option (A, B, C, or D):', 'Question: Tissue suturing glue contains:\\nA. Cyanoacrylate\\nB. Ethanolamine oleate\\nC. Methacrylate\\nD. Polychloroprene\\nChoose the correct option (A, B, C, or D):', 'Question: Pain in early labor is transmitted through\\nA. T11 - T12\\nB. L2 - L3\\nC. L4 - L5\\nD. S2 - S3\\nChoose the correct option (A, B, C, or D):', 'Question: A female patient has adenocarcinoma uterus along with sarcoma of uterus. It is known as -\\nA. Homologous sarcoma\\nB. Sarcoma uterus\\nC. Mixed mullerian carcinogenesis\\nD. Heterologous sarcoma\\nChoose the correct option (A, B, C, or D):', 'Question: A patient presented to you after an assault and penetrating knife injury to the abdomen. X-Ray shows gas under the diaphragm. Most common organ damaged in this case:\\nA. Spleen\\nB. Intestine\\nC. Liver\\nD. Lung\\nChoose the correct option (A, B, C, or D):', 'Question: Which of the following is not a feature of juvenile CML?\\nA. Thrombocytopenia\\nB. Lymphadenopathy\\nC. Presence of Philedelphia chromosome\\nD. High HbF\\nChoose the correct option (A, B, C, or D):', 'Question: Maximum cones are seen in\\nA. Limbus\\nB. Fovea centralis\\nC. Macula lutea\\nD. Blind spot\\nChoose the correct option (A, B, C, or D):', 'Question: The term metaplasia refers to\\nA. Irregular, atypical proliferative changes in epithelial or mesenchymal cells\\nB. Loss of cell substance producing shrinkage of the cells\\nC. Replacement of one type of adult cell by another type of adult cell\\nD. None of the above\\nChoose the correct option (A, B, C, or D):', 'Question: Hypoglycemic unawareness that occurs in diabetic patients when transferred from oral hypoglycemics to insulin, is due to :\\nA. Autonomic neuropathy\\nB. Insulin resistance\\nC. Lipodystrophy\\nD. Somogi phenomenon\\nChoose the correct option (A, B, C, or D):', 'Question: True about Epidural anesthesia – a) Effects start immediatelyb) C/I in coagulopathiesc) Given in subarachnoid spaced) Venous return decreases\\nA. bd\\nB. d\\nC. ab\\nD. ac\\nChoose the correct option (A, B, C, or D):', 'Question: A boil is due to staphylococcal infection of -\\nA. Hair follicle\\nB. Sweat gland\\nC. Subcutaneous tissue\\nD. Epidermis\\nChoose the correct option (A, B, C, or D):', 'Question: A 14-year-old boy has difficulty in expressing himself in writing and makes frequent spelling mistakes, does not follow instructions and cannot wait for his turn while playing a game. He is likely to be suffering from\\nA. Mental retardation\\nB. Lack of interest in studies\\nC. Specific learning disability\\nD. Examination anxiety\\nChoose the correct option (A, B, C, or D):', 'Question: Which is not transmitted through blood -\\nA. Westnile\\nB. Cholera\\nC. Toxoplama\\nD. HBV\\nChoose the correct option (A, B, C, or D):', 'Question: A 29year old primigravida at 36weeks with Rh negative pregnancy came to labor room with complaints of bleeding per vaginum followed by abdominal trauma. Which of the following test is advised to estimate the size of fetomaternal haemorrhage?\\nA. Rosette test\\nB. Kliehaure acid elution test\\nC. Indirect coombs test\\nD. Middle cerebral aery peak systolic velocity\\nChoose the correct option (A, B, C, or D):']\n"
     ]
    },
    {
     "name": "stderr",
     "output_type": "stream",
     "text": [
      "  2%|▏         | 50/2043 [01:08<44:49,  1.35s/it]"
     ]
    },
    {
     "name": "stdout",
     "output_type": "stream",
     "text": [
      "['Question: A hemodynamically stable patient with blunt abdominal trauma, the best investigation is ?\\nA. CECT abdomen\\nB. MRI abdomen\\nC. DPL\\nD. FAST\\nChoose the correct option (A, B, C, or D):', 'Question: Which of the following radio of Iodine is used for thyroid scan: September 2008\\nA. 1-123\\nB. 1-125\\nC. 1-127\\nD. 1-131\\nChoose the correct option (A, B, C, or D):', 'Question: Doxycycline is used in the treatment of following disease except:\\nA. Leptopirosis\\nB. Q fever\\nC. Borreliosis\\nD. All of the above\\nChoose the correct option (A, B, C, or D):', 'Question: External cephalic version is contraindicated in all except: March 2012\\nA. Antepaum haemorrhage\\nB. Multiple pregnancy\\nC. Contracted pelvis\\nD. Breech presentation\\nChoose the correct option (A, B, C, or D):', 'Question: Number of amino acids in A chain and B chain of insulin is:\\nA. 30, 21\\nB. 28, 32\\nC. 32, 28\\nD. 21, 30\\nChoose the correct option (A, B, C, or D):', 'Question: The macrophage to epitheliod conversion in Mycobacterium tuberculosis infection is mediated by:\\nA. TNF alpha\\nB. IFN-g\\nC. IL-4\\nD. TGF-Beia\\nChoose the correct option (A, B, C, or D):', 'Question: An 18-year-old girl presents with amenorrhoea, milk discharge, weight loss. Diagnosis is\\nA. Pituitary Cancer\\nB. Anorexia nervosa\\nC. Hypothyroidism\\nD. Hypothalamic cause\\nChoose the correct option (A, B, C, or D):', 'Question: Clavipectoral fascia is derived from which ligament\\nA. Coracoacromial\\nB. Coracoclavicular\\nC. Costoclavicular\\nD. Costocoracoid\\nChoose the correct option (A, B, C, or D):', 'Question: The following are indications for assisted ventilation in acute severe asthma EXCEPT?\\nA. PEFR 50-60% of predicted value\\nB. Rising PaCO2> 6kPa (45 mm Hg)\\nC. Diminishing level of consciousness\\nD. Falling PaO2< 8kPa (60 mm Hg)\\nChoose the correct option (A, B, C, or D):', 'Question: All of the following are causes of vasogenic type of cerebral edema except\\nA. Tumours\\nB. Trauma\\nC. Infections\\nD. Hydrocephalus\\nChoose the correct option (A, B, C, or D):', 'Question: The ovarian cycle is initiated by:\\nA. FSH\\nB. Estrogen\\nC. LH\\nD. Progesterone\\nChoose the correct option (A, B, C, or D):', 'Question: All of the following cephalosporins have good activity against Pseudomonas aeruginosa except ?\\nA. Cephadroxil\\nB. Cefepime\\nC. Cefoperazone\\nD. Ceftazidime\\nChoose the correct option (A, B, C, or D):', 'Question: A young woman is evaluated by a neurosurgeon because of injuries she received in an explosion. She has numerous lacerations of the front and back torso and bruising of the craniofacial region. Neurological examination shows lack of movement in her right lower extremity with hyperreflexia, and loss of proprioception and fine touch in this extremity, but pain and temperature sensation are intact. Pain and temperature sensation are absent in the left lower limb. Movement and reflexes are normal in the left lower extremity and upper extremities. \\nA lesion in which of the following locations can explain her neurological examination?\\nA. Hemisection of the left side of the spinal cord at the level of the first lumbar segment of the cord\\nB. Hemisection of the left side of the spinal cord at the level of the fourth sacral segment of the cord\\nC. Hemisection of the right side of the spinal cord at the level of the first lumbar segment of the cord\\nD. Hemisection of the right side of the spinal cord at the level of the fourth sacral segment of the cord\\nChoose the correct option (A, B, C, or D):', 'Question: NOT a content of carpal tunnel\\nA. Flexor pollicis longus\\nB. Flexor digitorum profundus\\nC. Ulnar nerve\\nD. Median nerve\\nChoose the correct option (A, B, C, or D):', 'Question: A patient presents with vomiting and severe colicky abdominal pain. He underwent bariatric surgery 5 years ago. He is advised to undergo an emergency reoperation. Which of the following procedures did he most likely undergo 5 years ago?\\nA. Laparoscopic Roux-en-Y gastric bypass\\nB. Laparoscopic adjustable gastric banding\\nC. Sleeve gastrectomy\\nD. Biliopancreatic division\\nChoose the correct option (A, B, C, or D):', 'Question: Reese-Ellsworth classification is used for?\\nA. Rhabdomyosarcoma\\nB. Retinoblastoma\\nC. Optic nerve sheath tumor\\nD. Meningioma\\nChoose the correct option (A, B, C, or D):']\n"
     ]
    },
    {
     "name": "stderr",
     "output_type": "stream",
     "text": [
      "  2%|▏         | 51/2043 [01:10<53:39,  1.62s/it]"
     ]
    },
    {
     "name": "stdout",
     "output_type": "stream",
     "text": [
      "['Question: Which of the following is an indication for the use of folinic acid?\\nA. Prophylaxis of neural tube defects in the offspring of women receiving anticonvulsant medications\\nB. Counteracting toxicity of high dose methotrexate therapy\\nC. Pernicious anemia\\nD. Anemia associated with renal failure\\nChoose the correct option (A, B, C, or D):', 'Question: Narcotic overdose can be antagonized by\\nA. Diphenhydramine\\nB. Atropine\\nC. Naloxane\\nD. Nalorphine\\nChoose the correct option (A, B, C, or D):', 'Question: Subclan aery is divided by which muscle ?\\nA. Pectoralis minor\\nB. Teres minor\\nC. Scaleneus anterior\\nD. Trapezius\\nChoose the correct option (A, B, C, or D):', 'Question: NICE project is associated with:\\nA. Female literacy\\nB. Population control\\nC. Rural infrastructure\\nD. Care of elderly\\nChoose the correct option (A, B, C, or D):', 'Question: Commonest feature of hypothyroidism in children is\\nA. Cataract\\nB. Recurrent seizures\\nC. Cold extremities\\nD. Laryngospasms\\nChoose the correct option (A, B, C, or D):', 'Question: Saffron coloured meconium is seen in:\\nA. Postmaturity\\nB. TB\\nC. Breech\\nD. Normal in appearance\\nChoose the correct option (A, B, C, or D):', 'Question: Expectant management of placenta pre includes all except\\nA. Anti-D\\nB. Cervical encirclage\\nC. Blood transfusion\\nD. Steroids\\nChoose the correct option (A, B, C, or D):', 'Question: Which of the following enzyme leads to release of free glucose from glycogen during glycogenolysis in muscle?\\nA. Glycogen phosphorylase\\nB. Glucose-1-phosphatase\\nC. Glucose-6-phosphatase\\nD. Debranching enzyme\\nChoose the correct option (A, B, C, or D):', 'Question: Which of the following tumours present with proptosis?\\nA. Nephroblastoma\\nB. Neuroblastoma\\nC. Ewings sarcoma\\nD. All of the above\\nChoose the correct option (A, B, C, or D):', 'Question: Macula is stimulated by\\nA. Gravity\\nB. Head position change\\nC. Linear acceleration\\nD. All of the above\\nChoose the correct option (A, B, C, or D):', \"Question: The term 'myopia' refers to:\\nA. Near sightedness\\nB. Far sightedness\\nC. Constriction of the pupil\\nD. Dilation of the pupil\\nChoose the correct option (A, B, C, or D):\", \"Question: Karsakoff's Psychosis is diagnosed by\\nA. Peripheral neuropathy\\nB. Visual hallucination\\nC. Impairment of long term memory\\nD. Seizures\\nChoose the correct option (A, B, C, or D):\", 'Question: Toxicity of leigonella is due to:\\nA. Capsule\\nB. Toxin\\nC. Phage\\nD. Plasmid\\nChoose the correct option (A, B, C, or D):', \"Question: Most common site of curling's ulcer?\\nA. Proximal Duodenum\\nB. Esophagus\\nC. Distal duodenum\\nD. D. jujenum\\nChoose the correct option (A, B, C, or D):\", 'Question: In Budd Chiari syndrome, the site of venous thrombosis is\\nA. Infrahepatic inferior vena cava\\nB. Infrarenal inferior vena cava\\nC. Hepatic veins\\nD. Portal veins\\nChoose the correct option (A, B, C, or D):', 'Question: Treatment for impetigo ?\\nA. Dicloxacillin\\nB. Ciprofloxacin\\nC. Gentamycin\\nD. Amoxicillin and clavulanic acid\\nChoose the correct option (A, B, C, or D):']\n"
     ]
    },
    {
     "name": "stderr",
     "output_type": "stream",
     "text": [
      "  3%|▎         | 52/2043 [01:11<48:26,  1.46s/it]"
     ]
    },
    {
     "name": "stdout",
     "output_type": "stream",
     "text": [
      "['Question: A patient operated for thyroid surgery for a thyroid swelling, later in the evening developed difficulty in breathing. There was swelling in the neck. The immediate management would be\\nA. Epinephrine injection\\nB. Tracheostomy\\nC. IV calcium gluconate\\nD. Open the wound sutures in the ward\\nChoose the correct option (A, B, C, or D):', 'Question: Line of surgical divison of the lobes of the liver is -\\nA. Falciform ligament to the diaphragm\\nB. Gall bladder bed to IVC\\nC. Gall bladder bed to the Lt crus of diaphragm\\nD. One inch to the left of falciform ligament to the IVC\\nChoose the correct option (A, B, C, or D):', 'Question: Developmental Quotient is calculated as:\\nA. Average age at attainment / observed age at attainment x100\\nB. Observed age at attainment / average at attainment x100\\nC. Observed age at attainment x average age at attainment\\nD. Observed age at attainment / average age at attainment\\nChoose the correct option (A, B, C, or D):', 'Question: Which of the following ranges of haemoglobin O2 saturation from systemic venous to systemic aerial blood represents a normal resting condition?\\nA. 25 to 75%\\nB. 40 to 75%\\nC. 40 to 95%\\nD. 75 to 98%\\nChoose the correct option (A, B, C, or D):', 'Question: The pseudo-isomorphic phenomenon is seen in\\nA. Psoriasis\\nB. Lichen planus\\nC. Vitiligo\\nD. Molluscum contagiosum\\nChoose the correct option (A, B, C, or D):', 'Question: Movement of protein from nucleus to cytoplasm can be seen by\\nA. FISH\\nB. FRAP\\nC. Confocal microscopy\\nD. Electron microscopy\\nChoose the correct option (A, B, C, or D):', 'Question: The Lipid which accumulates in fatty liver is\\nA. Trigylcerids\\nB. FFA\\nC. Lipoprotein\\nD. Cholesterol\\nChoose the correct option (A, B, C, or D):', 'Question: A patient having glaucoma develops blepharoconjunctivitis after instilling some anti-glaucoma drug. Which of the following drug can be responsible for it:\\nA. Timolol\\nB. Latanosprost\\nC. Dipiverine\\nD. Pilocarpine\\nChoose the correct option (A, B, C, or D):', 'Question: Standard in perimetry ?\\nA. Goldman type I\\nB. Goldman type II\\nC. Goldman type III\\nD. Goldman type IV\\nChoose the correct option (A, B, C, or D):', 'Question: All of the following are derived from glycerol 3 phosphate, EXCEPT:\\nA. Phosphatidylcholine\\nB. Phosphatidylethanolamine\\nC. phosphatidylinosito\\nD. None of the above\\nChoose the correct option (A, B, C, or D):', 'Question: Which inhalational agent is used in patients with raised intra cranial tension?\\nA. Enflurane\\nB. Isoflurane\\nC. Desflurane\\nD. Sevoflurane\\nChoose the correct option (A, B, C, or D):', 'Question: Which of the following statements about vigabatrin is TRUE?\\nA. Blocks neuronal reuptake of GABA\\nB. Drug of choice in absence seizures\\nC. Life threatening skin disorders may occur\\nD. Visual disturbances can occur\\nChoose the correct option (A, B, C, or D):', 'Question: Which of the following is used to study current flow across a single channel:\\nA. Patch clamp\\nB. Voltage Clamp\\nC. Iontophoresis\\nD. Galvanometry\\nChoose the correct option (A, B, C, or D):', 'Question: Incubation period of influenza -\\nA. 18 - 72 hrs\\nB. 1 - 6 hrs\\nC. 5 - 10 days\\nD. < 1 hrs\\nChoose the correct option (A, B, C, or D):', 'Question: Parasympathetic supply to lacrimal glands are passed through -\\nA. Lesser petorsal nerve\\nB. Chorda tympani\\nC. Greater petorsal nerve\\nD. Lingual nerve\\nChoose the correct option (A, B, C, or D):', 'Question: Gold standard for reflux esophagitis is -\\nA. Manometry\\nB. Barium swallow\\nC. 24 hours pH study\\nD. X-ray abdomen\\nChoose the correct option (A, B, C, or D):']\n"
     ]
    },
    {
     "name": "stderr",
     "output_type": "stream",
     "text": [
      "  3%|▎         | 53/2043 [01:12<44:22,  1.34s/it]"
     ]
    },
    {
     "name": "stdout",
     "output_type": "stream",
     "text": [
      "[\"Question: Samter's triad is related to -\\nA. Ethmoid polyp\\nB. Nasopharyngial\\nC. Angiofibroma\\nD. Nasal glioma\\nChoose the correct option (A, B, C, or D):\", 'Question: The most common cause of seizures in a patient of AIDS is\\nA. Toxoplasmosis\\nB. Cryptococcal meningitis\\nC. Progressive multifocal leucoencephalopathy\\nD. CNS lymphoma\\nChoose the correct option (A, B, C, or D):', 'Question: Increased levels of alanine in serum after fasting is primarily due to:\\nA. Net loss of muscle protein due to increased breakdown\\nB. Leakage from cells due to membrane damage\\nC. Renal dysfunction\\nD. Decreased rate of gluconeogenesis\\nChoose the correct option (A, B, C, or D):', 'Question: The thickness of the cornea is measured by using –\\nA. Schiotz tonometer\\nB. Keratometer\\nC. Pachymeter\\nD. Aesthesiometer\\nChoose the correct option (A, B, C, or D):', 'Question: Fenton reaction leads to free radical generation when -\\nA. Radiant energy is absorbed by water\\nB. H202 is formed by myeloperoxidase\\nC. Ferrous ion converted to ferric ion\\nD. Nitric oxide is converted to peroxynitrite\\nChoose the correct option (A, B, C, or D):', 'Question: A 70 kg patient needs to be staed on nitroglycerine (NTG) infusion. A 5 ml ampoule contains 5 mg/ml NTG. One ampoule is added to normal saline and to make a total of 500 ml solution. Calculate the rate of infusion if NTG is required at a rate of 10 mcg/min. (1 micro drip = 60 drops/ml )\\nA. 12 drops/min\\nB. 14 drops/min\\nC. 15 drops/min\\nD. 16 drops/min\\nChoose the correct option (A, B, C, or D):', 'Question: Methyl alcohol causes blindness by affecting which of the following structures?\\nA. Retinal ganglion cells\\nB. Nerve fibers\\nC. Rods & Cones\\nD. Rods only\\nChoose the correct option (A, B, C, or D):', 'Question: Pemberton’s sign is elicited\\nA. Swallowing\\nB. Raising of arms\\nC. Extrusion of tongue\\nD. Extension of neck\\nChoose the correct option (A, B, C, or D):', 'Question: Most common part of larynx involved in TB -\\nA. Anterior\\nB. Posterior\\nC. Middle\\nD. Anywhere\\nChoose the correct option (A, B, C, or D):', \"Question: In Barter's Syndrome, what is seen-\\nA. Metabolic acidosis\\nB. Hypokalemia\\nC. Hyperkalemia\\nD. Decrease in urinary calcium\\nChoose the correct option (A, B, C, or D):\", \"Question: A 6 months old child woke up in night, crying with ahdominal pain, which got relieved on passing red stool. What is the most likely diagnosis?\\nA. Meckel's diverticulum\\nB. Intussusception\\nC. Malrotation\\nD. Intestinal obstruction\\nChoose the correct option (A, B, C, or D):\", \"Question: Moure's sign can be detected in\\nA. Nasopharyngeal carcinoma\\nB. Oropharyngeal carcinoma\\nC. Postcricoid carcinoma\\nD. Supraglottic carcinoma\\nChoose the correct option (A, B, C, or D):\", 'Question: Heamorrhagic external otitis media is caused by:\\nA. Influenza\\nB. Proteus\\nC. Staphylococcus\\nD. Streptococcus\\nChoose the correct option (A, B, C, or D):', 'Question: Passive cutaneous anaphylaxis detect:\\nA. Heterocytotropic ab\\nB. Wheal and flare reaction\\nC. Atopy\\nD. Cutaneous anaphylaxis\\nChoose the correct option (A, B, C, or D):', 'Question: All of the following feature may be seen in throm-botic thrombocytopenic purpura,except-\\nA. Fever\\nB. Haemolysis\\nC. Hypertension\\nD. Low platelets count\\nChoose the correct option (A, B, C, or D):', 'Question: The lacrimal gland is located in a groove which is overlap by\\nA. Levator palpebrae superioris muscle\\nB. Lateral rectus\\nC. Inferior oblique\\nD. Superior oblique\\nChoose the correct option (A, B, C, or D):']\n"
     ]
    },
    {
     "name": "stderr",
     "output_type": "stream",
     "text": [
      "  3%|▎         | 54/2043 [01:14<44:26,  1.34s/it]"
     ]
    },
    {
     "name": "stdout",
     "output_type": "stream",
     "text": [
      "['Question: Most common pox virus infection in human is -\\nA. Smallpox\\nB. Monkeypox\\nC. Cowpox\\nD. Mulluscum contagiosum\\nChoose the correct option (A, B, C, or D):', 'Question: Which of the following statements regarding ACE inhibitors is true?\\nA. These inhibit the conversion of angiotensinogen to angiotensin-1\\nB. Omission of prior diuretic dose decreases the risk of postural hypotension\\nC. Lisinopril is shorter acting than enalapril\\nD. These are contra-indicated in diabetic patients.\\nChoose the correct option (A, B, C, or D):', 'Question: N-MYC amplification is associated with\\nA. Burkitt lymphoma\\nB. Squamous cell ca lung\\nC. Astrocytoma\\nD. Neuroblastoma\\nChoose the correct option (A, B, C, or D):', 'Question: Serous Demilunes are present in large number in which gland\\nA. Parotid\\nB. Submandibular\\nC. Sublingual\\nD. Pituitary\\nChoose the correct option (A, B, C, or D):', 'Question: A 25-year-old student with 20/20 vision looks up from his book to view his girlfriend sitting on the other side of the room. Which of the following is most likely to occur when the student changes his view from his book to his girlfriend?\\nA. Thicker lens, contraction of ciliary muscle\\nB. Thicker lens, relaxation of ciliary muscle\\nC. Thinner lens, contraction of ciliary muscle\\nD. Thinner lens, relaxation of ciliary muscle\\nChoose the correct option (A, B, C, or D):', 'Question: A 7 year old boy presented with generalized edema. Urine examination revealed marked albuminuria. Serum biochemical examinations showed hypoalbuminaemia with hyperlipidemia. Kidney biopsy was undeaken. On light microscopic examination, the kidney appeared normal. Electron microscopic examination is most likely to reveal-\\nA. Fusion of foot processes of yhe glomerular epithelial cells\\nB. Rarefaction of glomerular basement membrane\\nC. Deposition of electron dense material in the basement membrane\\nD. Thin basement membrane\\nChoose the correct option (A, B, C, or D):', 'Question: Yellow fever vaccination starts protection after how many days of injection -\\nA. 5 days\\nB. 10 days\\nC. 15 days\\nD. 20 days\\nChoose the correct option (A, B, C, or D):', 'Question: Virchows method of organ removal is\\nA. Organs removed en masse\\nB. Organs removed one by one\\nC. In situ removal\\nD. Minimal invasive autopsy\\nChoose the correct option (A, B, C, or D):', 'Question: A 36-year-old woman is admitted to the hospital with severe head injuries after a car crash. During neurologic examination it is noted that her uvula is deviated to the right. Which of the following muscles is paralyzed?\\nA. Left levator veli palatini\\nB. Left tensor veli palatini\\nC. Right levator veli palatini\\nD. Right tensor veli palatini\\nChoose the correct option (A, B, C, or D):', 'Question: All of the following occurs in adrenal deficiency except\\nA. Hypoglycemia\\nB. Hypocalcemia\\nC. Hypotension\\nD. Hyponatremia\\nChoose the correct option (A, B, C, or D):', 'Question: Savita is 35 years female with Gravida-2 and parity 1+0 is suffering from hepatic encephalopathy. Likely cause will be -\\nA. Hepatitis B\\nB. Hepatitis E\\nC. Hepatitis D\\nD. Hepatitis A\\nChoose the correct option (A, B, C, or D):', 'Question: Which RNA has splicing activity\\nA. m RNA\\nB. mi RNA\\nC. r RNA\\nD. sn RNA\\nChoose the correct option (A, B, C, or D):', \"Question: Which specimen shouldn't be refrigerated before primary innoculation?\\nA. CSF\\nB. Urine\\nC. Sputum\\nD. Pus\\nChoose the correct option (A, B, C, or D):\", 'Question: The Tongue:\\nA. Separated from the epiglottis by glossoepiglottic folds\\nB. Contains foramen caecum which is present on the dorsum of frenulum\\nC. Contains 6 — 10 circumvallate papilla located posterior to sulcus terminals\\nD. Embryologically derives from 1st branchial arch only\\nChoose the correct option (A, B, C, or D):', 'Question: Glomular filtration rate increases if: September 2005\\nA. Increased plasma oncotic pressure\\nB. Decreased glomerular hydrostatic pressure\\nC. Increased renal blood flow\\nD. Increased tubular hydrostatic pressure\\nChoose the correct option (A, B, C, or D):', 'Question: A 65-year-old woman undergoes a kidney transplant for CKD. 6 weeks after the transplant, she develops CMV infection characterized by fever, malaise, and myalgias. Which of the following is a potential sequela of CMV infection?\\nA. Intra-abdominal abscess\\nB. Pyelonephritis\\nC. Cholecystitis\\nD. GI ulcers & hemorrhage\\nChoose the correct option (A, B, C, or D):']\n"
     ]
    },
    {
     "name": "stderr",
     "output_type": "stream",
     "text": [
      "  3%|▎         | 55/2043 [01:16<49:58,  1.51s/it]"
     ]
    },
    {
     "name": "stdout",
     "output_type": "stream",
     "text": [
      "[\"Question: Anterior lenticonus is found in –\\nA. Lowe's syndrome\\nB. William's syndrome\\nC. Alport's syndrome\\nD. Down's syndrome\\nChoose the correct option (A, B, C, or D):\", 'Question: Procalcitonin is used as marker of\\nA. Cardiac dysfunction in acute coronary syndrome\\nB. Menstrual perodicity\\nC. Pituitary function\\nD. Sepsis\\nChoose the correct option (A, B, C, or D):', 'Question: In case of hanging neck ligature marks are example of -\\nA. Contusion\\nB. Pressure abrasion\\nC. Lacerration\\nD. Bruise\\nChoose the correct option (A, B, C, or D):', 'Question: A 23 year old male who is otherwise normal complains of mild pain in his right iliac fossa in a waveform pattern which increases during the night and he becomes exhausted and is admitted in the hospital. On examination there is mild hematuria. Urine examination reveals plenty of RBCs, 50WBCs/hpf. Urine pH is 5.5. Most likely diagnosis is:\\nA. Glomerulonephritis\\nB. Ca-Urinary bladder\\nC. Ureteral calculus\\nD. Cystitis\\nChoose the correct option (A, B, C, or D):', 'Question: A 67-year-old, 60-kg homeless man has been in the intensive care unit (ICU) for a week after an emergency laparotomy and sigmoid resection for perforated diverticulitis. His serum albumin is 1.1 g/dL. He was just weaned from mechanical ventilation. His colostomy is not functioning. You start total parenteral nutrition (TPN) to deliver 1800 kcal/24 h. Two days later, the patient is in respiratory distress and requires reintubation and mechanical ventilation. You should check the level of serum\\nA. Phosphate\\nB. Magnesium\\nC. Calcium\\nD. Selenium\\nChoose the correct option (A, B, C, or D):', 'Question: True about anaplastic Ca of thyroid -a) Common in elderlyb) Surrounding neck tissues are freec) Lymphatic infiltration occursd) p53 mutation\\nA. acd\\nB. ad\\nC. bc\\nD. bde\\nChoose the correct option (A, B, C, or D):', 'Question: All are the features of an acute attack of primary narrow-angle glaucoma except:\\nA. Intraocular pressure is raised up to 940-70 mm of Hg\\nB. Eye is red, painful and tender\\nC. Disc shows glaucomatous cupping\\nD. Fellow eye also shows shallow anterior chamber\\nChoose the correct option (A, B, C, or D):', \"Question: Libmansach's endocaritis is associated with?\\nA. Rheumatic heart disease\\nB. SLE\\nC. Carcinoma\\nD. None\\nChoose the correct option (A, B, C, or D):\", 'Question: Immediate treatment of hypercalcemia of malignancy is:\\nA. IV fluids\\nB. Bisphosphonates\\nC. Calcitonin\\nD. Glucocorticoids\\nChoose the correct option (A, B, C, or D):', 'Question: Immunosuppressive drugs are less effective in which type of graft rejection ?\\nA. Acute cellular rejection\\nB. Acute humoral rejection\\nC. Chronic rejection\\nD. None of the above\\nChoose the correct option (A, B, C, or D):', 'Question: Reinke crystals are found in\\nA. Arrhenoblastoma\\nB. Granulosa cell tumor\\nC. Dysgerminoma\\nD. Hilus cell tumor\\nChoose the correct option (A, B, C, or D):', 'Question: Combination of Nifedipine with what other tocolytic agent can potentially cause dangerous neuromuscular blockade.\\nA. Terbutaline\\nB. Magsulf\\nC. Indomethacin\\nD. Atosiban\\nChoose the correct option (A, B, C, or D):', 'Question: Myocardial isonzyme of CK which is specific for  myocardial infarction is\\nA. CK-BB\\nB. CK-MB\\nC. CK-MM\\nD. All of the above\\nChoose the correct option (A, B, C, or D):', 'Question: The shape of septal cailage is:\\nA. Triangular\\nB. Quadrilateral\\nC. Oval\\nD. Hexagonal\\nChoose the correct option (A, B, C, or D):', 'Question: Duret hemorrhage is seen in?\\nA. Brain\\nB. Brain stem\\nC. Eye\\nD. Medulla\\nChoose the correct option (A, B, C, or D):', 'Question: First step to be done in case of variceal bleeding-\\nA. Blood transfusion\\nB. IV Crystal]oides\\nC. Endoscopy\\nD. Somatostatin\\nChoose the correct option (A, B, C, or D):']\n"
     ]
    },
    {
     "name": "stderr",
     "output_type": "stream",
     "text": [
      "  3%|▎         | 56/2043 [01:17<51:40,  1.56s/it]"
     ]
    },
    {
     "name": "stdout",
     "output_type": "stream",
     "text": [
      "['Question: Bishop scoring is done for ?\\nA. Exchange transfusion in newborn\\nB. Induction of labour\\nC. Ventilation of Newborn\\nD. Gestation of Newborn\\nChoose the correct option (A, B, C, or D):', 'Question: The following condition of GB is precancerous -\\nA. Cholesterosis\\nB. Porcelain gall bladder\\nC. Biliary atresia\\nD. Choledochal cyst\\nChoose the correct option (A, B, C, or D):', 'Question: In Diabetes, What happens to RQ:\\nA. RQ always increases in Diabetes\\nB. RQ increases & on giving Insulin it again decreases\\nC. RQ always decreases in Diabetes\\nD. RQ decreases & on giving Insulin it again increases\\nChoose the correct option (A, B, C, or D):', \"Question: Alzheimer's disease, which is involved?\\nA. Frontal coex\\nB. Coical atrophy of temporoparietal coex\\nC. Frontal and parietal coex\\nD. Occipital coex\\nChoose the correct option (A, B, C, or D):\", 'Question: True about vit–D deficiency rickets –a) Vit. D3 given at a dose of 50–150 mg/dayb) X–ray knee joint is diagnosticc) Rickety rosary is tenderd) Increased chances of respiratory tract infectione) Hyponatrernia\\nA. c\\nB. bd\\nC. ab\\nD. ac\\nChoose the correct option (A, B, C, or D):', \"Question: Dupuytren's contracture is seen in\\nA. Peyronie's disease\\nB. Hypospadias\\nC. Epispadias\\nD. Exostrophy\\nChoose the correct option (A, B, C, or D):\", 'Question: It is true about H. Pylori that it -\\nA. Is gram -ve spiral organism\\nB. Is a protozoa\\nC. Causes chronic gastritis in adults due to reinfection\\nD. Treatment prevents gastric lymphoma\\nChoose the correct option (A, B, C, or D):', \"Question: A 12-year-old girl with the mood and emotional liability has a golden brown discoloration in descemet membrane. Most likely diagnosis is:\\nA. Fabry's disease\\nB. Wilson's disease\\nC. Glycogen storage disease\\nD. Acute rheumatic fever\\nChoose the correct option (A, B, C, or D):\", 'Question: Digitalis does not increase which parameter of heart-\\nA. Force of contraction\\nB. Myocordial contractility\\nC. Myocardial oxygen demand\\nD. Cardiac output\\nChoose the correct option (A, B, C, or D):', 'Question: A 24-year-old male law student presents with a 3-wk history of increasing dyspnea. He has a history of chronic sputum production of about 100 cc of purulent material each day for many years. In the past, he was hospitalized for a left pneumothorax. He is on inhaled bronchodilator as an outpatient. CXR is shown below.The most helpful treatment option would be\\nA. Increase bronchodilator therapy\\nB. Sta broad-spectrum antibiotic therapy\\nC. Initiate anti-pseudomonas antibiotic regimen\\nD. Sta oral steroids\\nChoose the correct option (A, B, C, or D):', 'Question: Radiomimetric BACTEC detect growth of M tuberculosis in how much time ?\\nA. 1 week\\nB. 2-3 week\\nC. 4-8 week\\nD. > 10 weeks\\nChoose the correct option (A, B, C, or D):', 'Question: a benign epithelial cell neoplasm derived from non-glandular surfaces is referred to as:\\nA. papilloma\\nB. sarcoma\\nC. adenoma\\nD. hamartoma\\nChoose the correct option (A, B, C, or D):', 'Question: Egg is ideal protein because it has –\\nA. High cholesterol\\nB. High protein per 100 gm\\nC. High biological efficiency and NPU\\nD. No limiting amino acid\\nChoose the correct option (A, B, C, or D):', 'Question: Transpo of drug through biological membrane is through ?\\nA. Passive diffusion\\nB. Fascilitated diffusion\\nC. Active transpo\\nD. All of the above\\nChoose the correct option (A, B, C, or D):', 'Question: Delayed wound healing is seen in all except-\\nA. Malignancy\\nB. Hypertension\\nC. Diabetes\\nD. Infection\\nChoose the correct option (A, B, C, or D):', 'Question: Most common nodule found in the liver is\\nA. Hepatoma\\nB. Haraoma\\nC. Hemangioma\\nD. Cholangiodenoma\\nChoose the correct option (A, B, C, or D):']\n"
     ]
    },
    {
     "name": "stderr",
     "output_type": "stream",
     "text": [
      "  3%|▎         | 57/2043 [01:19<52:22,  1.58s/it]"
     ]
    },
    {
     "name": "stdout",
     "output_type": "stream",
     "text": [
      "['Question: Which of the following drugs requires a dose adjustment in patient during radiotherapy in order to prevent radiation toxicity: March 2013 (h)\\nA. Vincristine\\nB. Dactinomycin\\nC. Cyclophosphamide\\nD. 6-Mercaptopurine\\nChoose the correct option (A, B, C, or D):', 'Question: Which is most common side effect of inhaled beclomethasone dipropionate?\\nA. Pneumonia\\nB. Oropharyngeal candidiasis\\nC. Atrophic rhinitis\\nD. Pituitary adrenal suppression\\nChoose the correct option (A, B, C, or D):', 'Question: Isotretinoin to be stopped before pregnancy\\nA. 3 days\\nB. 2 week\\nC. 3 month\\nD. 3 years\\nChoose the correct option (A, B, C, or D):', 'Question: All of the following are advantages of using raloxifene over estrogen in post-menopausal women EXCEPT:\\nA. Reduces fracture rates\\nB. Avoids endometrial hyperplasia\\nC. Reduces incidence of venous thrombosis\\nD. No increase in incidence of breast carcinoma\\nChoose the correct option (A, B, C, or D):', 'Question: Self breast examination by females is advisable to be done at which of the following time?\\nA. Premenstrual period\\nB. During menses\\nC. 7-10 days after menses\\nD. Ovulatory period\\nChoose the correct option (A, B, C, or D):', 'Question: Which of the following are bounded by membrane containing sterols: March 2011\\nA. Klebsiella\\nB. Staphylococcus\\nC. Mycobacteria\\nD. Mycoplasma\\nChoose the correct option (A, B, C, or D):', 'Question: Which of the following is the most appropriate treatment for panic disorder?\\nA. Buspirone plus benzodiazepines\\nB. Benzodiazepines plus suppoive therapy\\nC. Sho - term benzodiazepine plus SSRI plus CBT\\nD. Long - term benzodiazepine plus venlafaxine\\nChoose the correct option (A, B, C, or D):', 'Question: The earliest sign of tuberculosis of vocal cords is\\nA. Mouse nibbled appearance\\nB. Hyperemia of the free margin\\nC. Turban epiglotitis\\nD. Ulceration of vocal cord\\nChoose the correct option (A, B, C, or D):', 'Question: Richest source of retinoids is?\\nA. Cod liver oil\\nB. Halibut liver oil\\nC. Butter\\nD. Margarine\\nChoose the correct option (A, B, C, or D):', 'Question: Erethism occur in -\\nA. Hg\\nB. As\\nC. Pb\\nD. Cu\\nChoose the correct option (A, B, C, or D):', 'Question: \"Cobblestone\" appearance seen on colonoscope is cheracteristic of the following disease\\nA. Crohn\\'s disease\\nB. Ulcerative colitis\\nC. TB colitis\\nD. Irritable bowel syndrome\\nChoose the correct option (A, B, C, or D):', 'Question: The mechanism of action of Sofosbuvir?\\nA. Inhibits RNA dependent RNA polymerase of HCV\\nB. Inhibits DNA dependent RNA polymerase of HCV\\nC. Inhibits RNA dependent RNA polymerase of HBV\\nD. Inhibits DNA dependent RNA polymerase of HBV\\nChoose the correct option (A, B, C, or D):', 'Question: Which of the following is porphyrines gives stools their characteristics brown color?\\nA. Biliverdin\\nB. Urobilinogen\\nC. Heme\\nD. Stercobilin\\nChoose the correct option (A, B, C, or D):', 'Question: Most common cause of acute epididymitis in young males\\nA. Chlamydia\\nB. E Coli\\nC. N. Gonorrhoea\\nD. Proteus\\nChoose the correct option (A, B, C, or D):', 'Question: Vanilloid receptors are activated by\\nA. Pain\\nB. Vibration\\nC. Touch\\nD. Pressure\\nChoose the correct option (A, B, C, or D):', 'Question: Source of ATP in RBCs is -\\nA. Glucose\\nB. Fatty acid\\nC. Aminoacid\\nD. Ketone body\\nChoose the correct option (A, B, C, or D):']\n"
     ]
    },
    {
     "name": "stderr",
     "output_type": "stream",
     "text": [
      "  3%|▎         | 58/2043 [01:20<48:46,  1.47s/it]"
     ]
    },
    {
     "name": "stdout",
     "output_type": "stream",
     "text": [
      "['Question: Deficiency of cortisol causes:\\nA. Cushing syndrome\\nB. Graves disease\\nC. Addison disease\\nD. Acromegaly\\nChoose the correct option (A, B, C, or D):', 'Question: Immediate source of energy is -\\nA. Corps cycle\\nB. HMP\\nC. ATP\\nD. TCA cycle\\nChoose the correct option (A, B, C, or D):', 'Question: Regular drinking of which of the following can help prevent Urinary Tract infection (UTI)\\nA. Grape juice\\nB. Orange juice\\nC. Cranberry juice\\nD. Raspberry juice\\nChoose the correct option (A, B, C, or D):', 'Question: Vit B 12 is absorbed in\\nA. Stomach\\nB. Deudenum\\nC. Ileum\\nD. Colon\\nChoose the correct option (A, B, C, or D):', 'Question: The ducts of all the following glands consist of stratified cuboidal epithelium except\\nA. Sweat gland\\nB. Sebaceous glands\\nC. Salivary glands\\nD. Pancreas\\nChoose the correct option (A, B, C, or D):', 'Question: Gingival enlargement with leathery consistency with characteristic minutely pebbled surface is seen in\\nA. Idiopathic gingival enlargement\\nB. Drug induced gingival enlargement\\nC. Pregnancy gingival enlargement\\nD. Puberty gingival enlargement\\nChoose the correct option (A, B, C, or D):', 'Question: A person laughs to a joke, then suddenly loses tone of all muscles. Diagnosis is: DNB 09; JIPMER 13\\nA. Cataplexy\\nB. Catalepsy\\nC. Sleep attack\\nD. Sleep paralysis\\nChoose the correct option (A, B, C, or D):', 'Question: Fibrocystic disease of the breast has been associated with elevated blood levels of\\nA. Testosterone\\nB. Progesterone\\nC. Estrogen\\nD. Luteinizing hormone\\nChoose the correct option (A, B, C, or D):', 'Question: What is the abnormality shown in this shoulder Radiograph?\\nA. Anterior Dislocation Of Shoulder\\nB. Posterior Dislocation Of Shoulder\\nC. Chondrosarcoma\\nD. Simple Bone cyst\\nChoose the correct option (A, B, C, or D):', 'Question: Foraminal brain herniation leads to?\\nA. Ipsilateral pupillary dilatation\\nB. Locked in state\\nC. Respiratory arrest\\nD. Ipsilateral hemiplegia\\nChoose the correct option (A, B, C, or D):', 'Question: Cerebral Ischemia occur when cerebral blood flow is less than -\\nA. 10 ml/100g/minute\\nB. 20 ml/100g/minute\\nC. 40 ml/100g/minute\\nD. 50 ml/100g/minute\\nChoose the correct option (A, B, C, or D):', 'Question: Regarding rabies, true is:\\nA. Incubation period depends on the site of bite\\nB. Diagnosis is by eosinophilic intranuclear inclusion\\nC. It is a DNA virus\\nD. Caused only by dogs\\nChoose the correct option (A, B, C, or D):', 'Question: The commando operation is -\\nA. Abdomino-perineal resection of the rectum for carcinoma\\nB. Disaiculation of the hip for gas gangrene of the leg\\nC. Extended radical mastectomy\\nD. Excision of carcinoma of the tongue, the floor of the mouth, pa of the jaw and lymph nodes enbloc\\nChoose the correct option (A, B, C, or D):', 'Question: Insulin resistance syndrome includes all of the following, Except:\\nA. Dyslipidemia\\nB. Hypeension\\nC. Hyperuricemia\\nD. Low HDL\\nChoose the correct option (A, B, C, or D):', 'Question: A multigravida came for routine antenatal check up. She had a history of medical termination of pregnancy due to fetus with anencephaly. Anencephaly is best diagnosed in the present pregnancy by using:\\nA. Maternal Alpha fetoprotein\\nB. Amniotic fluid beta hCG\\nC. USG\\nD. X-ray\\nChoose the correct option (A, B, C, or D):', 'Question: True about Rabies  a) Bats Transmit disease in some parts of the world  b) Brainstem encephalitis is characteristic c)  Negri bodies commonly found in thalamus and anterior pituitary  d) Paraesthesia is not seen  e) Recovery is the usual course\\nA. ab\\nB. abc\\nC. abd\\nD. bcd\\nChoose the correct option (A, B, C, or D):']\n"
     ]
    },
    {
     "name": "stderr",
     "output_type": "stream",
     "text": [
      "  3%|▎         | 59/2043 [01:21<46:19,  1.40s/it]"
     ]
    },
    {
     "name": "stdout",
     "output_type": "stream",
     "text": [
      "[\"Question: Senile plaques in brain is a feature of\\nA. Multiple sclerosis\\nB. Parkinsonism\\nC. Alzheimer's disease\\nD. Wilson's disease\\nChoose the correct option (A, B, C, or D):\", 'Question: Stapedius muscle is supplied by:\\nA. 5th nerve\\nB. 6th nerve\\nC. 7th nerve\\nD. 8th nerve\\nChoose the correct option (A, B, C, or D):', 'Question: Synaptic transmission between pain fibers from the skin and spinal cord neurons is mediated by:\\nA. Acetylcholine\\nB. Substance P\\nC. Endorphins\\nD. Somatostatin\\nChoose the correct option (A, B, C, or D):', 'Question: A 26-year-old lady, complains to her gynaecologist of discomfo during intercourse. Pelvic examination demonstrates a frothy, yellow-green vaginal discharge with a strong odour and small, red, ulcerations of the vaginal wall. A wet mount preparation demonstrates motile, flagellated protozoa. Which of the following is the most likely causative organism?\\nA. Giardia lamblia\\nB. Trichomonas vaginalis\\nC. Candida albicans\\nD. Entamoeba histolytica\\nChoose the correct option (A, B, C, or D):', 'Question: Which personality disorder of DSM-IV is not classified as PD & is placed with schizophrenia in ICD 10 -\\nA. Schizoid\\nB. Paranoid\\nC. Narcissistic\\nD. Schizotypal\\nChoose the correct option (A, B, C, or D):', 'Question: Which of the following TCA cycle intermediate is a part of heme metabolism?\\nA. Alpha ketoglutarate\\nB. Fumarate\\nC. Succinyl CoA\\nD. Malate\\nChoose the correct option (A, B, C, or D):', 'Question: Amiddle aged female presents with polyahritis with elevated rheumatoid factor and A.N.A. levels, which among the following will help you to differentiate rheumatoid ahritis from SLE?\\nA. Soft tissue swelling at the proximal inter phalangial joint\\nB. Juxta aicular osteoporosis on X-ray\\nC. Aicularerosions on X-ray\\nD. Elevated ESR\\nChoose the correct option (A, B, C, or D):', 'Question: Every 3 degree abduction of arm at shoulder region, the scapular rotation accounts to\\nA. 1 degree\\nB. 2 degrees\\nC. 3 degrees\\nD. 0.5 degrees\\nChoose the correct option (A, B, C, or D):', 'Question: Which of the following is a metastasis suppressor gene in relation to prostate cancer\\nA. KAI - 1\\nB. NM 23\\nC. KISS\\nD. p53\\nChoose the correct option (A, B, C, or D):', 'Question: Hera lal a 35 year old man was found to be positive for HBsAg and HBeAg , accidentally during a screening for blood donation. On Lab examination SGOT and SGPT are normal. What should be the most appropriate next step?\\nA. Observation\\nB. Liver biopsy\\nC. Interferon therapy\\nD. HBV-DNA estimation\\nChoose the correct option (A, B, C, or D):', 'Question: True about CSF rhinorrhea is -a) Occurs due to break in cribriform plateb) Contains glucosec) Requires immediate surgeryd) Contains less protein\\nA. acd\\nB. bcd\\nC. abc\\nD. abd\\nChoose the correct option (A, B, C, or D):', 'Question: Oral vancomycin can be used for treatment of ?\\nA. Hepatic encephalopathy\\nB. Pseudomembranous colitis\\nC. Staphylococcal food poisoning\\nD. None of the above\\nChoose the correct option (A, B, C, or D):', 'Question: Hydatid disease of liver is caused by -a) Strongloidesb) Echinococcus granulosusc) Taenia soliumd) Trichinella spiralise) Echinococcus multilocularis\\nA. ab\\nB. be\\nC. bc\\nD. ce\\nChoose the correct option (A, B, C, or D):', 'Question: A child is receiving corticosteroids for medical therapy. The following is not a contraindication in this child for receiving a live viral vaccine:\\nA. When child is receiving 2 mg/kg of prednisolone for at least 2 weeks at present\\nB. When child has received 2 mg/kg of prednisolone for at least 2 weeks in the past one month\\nC. Child receiving 4 mg/kg of prednisolone for 4 weeks, prior to 2 weeks\\nD. Chronic asthmatic child receiving low dose inhaled steroid for 10 months\\nChoose the correct option (A, B, C, or D):', 'Question: Kleptomania means\\nA. Irresistible desire to set fire\\nB. Irresistible desire to steal things\\nC. Compulsive hair pulling\\nD. Pathological gambling\\nChoose the correct option (A, B, C, or D):', 'Question: All of the following are zoonosis, except:\\nA. Plague\\nB. Japanese Encephalitis (JE)\\nC. HIV\\nD. Tuberculosis (TB)\\nChoose the correct option (A, B, C, or D):']\n"
     ]
    },
    {
     "name": "stderr",
     "output_type": "stream",
     "text": [
      "  3%|▎         | 60/2043 [01:23<48:33,  1.47s/it]"
     ]
    },
    {
     "name": "stdout",
     "output_type": "stream",
     "text": [
      "['Question: Inherited coagulation defect with T coagulation is found in -\\nA. Protein C deficiency\\nB. Protein S deficiency\\nC. Antithrombin III deficiency\\nD. All\\nChoose the correct option (A, B, C, or D):', \"Question: Paltauf's hemorrhages are seen in -\\nA. Hanging\\nB. Strangulation\\nC. Drowning\\nD. Thermal injury\\nChoose the correct option (A, B, C, or D):\", \"Question: Looser's zones are seen in which of the following ?\\nA. Osteomalacia\\nB. Paget's disease\\nC. Renal osteodystrophy\\nD. All of the above\\nChoose the correct option (A, B, C, or D):\", 'Question: Detection of aneuploidy in 1st trimester:\\nA. hCG and PAPP-A\\nB. hCG and AFP\\nC. hCG, PAPP-A and AFP\\nD. AFP and estriol\\nChoose the correct option (A, B, C, or D):', 'Question: Epulis is?\\nA. Benign\\nB. Malignant\\nC. Reactive process\\nD. Precancerous\\nChoose the correct option (A, B, C, or D):', 'Question: Which of the following medications essential for ameliorating the toxicity of pemetrexed:\\nA. Folinic acid and vitamin B6\\nB. Folic acid and vitamin B12\\nC. Vitamin 136 and Vitamin B1,\\nD. Folic acid and dexamethasone\\nChoose the correct option (A, B, C, or D):', 'Question: Pyridoxine is used in treatment of ?\\nA. Galactosemia\\nB. Phenylketonuria\\nC. Propionic acidemia\\nD. Homocystinuria\\nChoose the correct option (A, B, C, or D):', \"Question: Benedict's hand is due to injury to -\\nA. Ulnar nerve\\nB. Median nerve\\nC. Axillary nerve\\nD. Radial nerve\\nChoose the correct option (A, B, C, or D):\", 'Question: The crescent formation is characteristic of the following glomerular disease -\\nA. Minimal change disease\\nB. Rapidly progressive glomerulonephritis\\nC. Focal and segmental glomerulosclerosis\\nD. Rapidly non progressive glomerulonephritis\\nChoose the correct option (A, B, C, or D):', 'Question: Which among the following appears as spinal cord edema in MRI scan?\\nA. Myelodysplasia\\nB. Spinal cord infarctions\\nC. Myeloschisis\\nD. Cord tumors\\nChoose the correct option (A, B, C, or D):', 'Question: Digitalis acts in CHF by:\\nA. Na+ K+ ATPase inhibition\\nB. Na+ K+ ATPase stimulation\\nC. Blockade of calcium channels\\nD. Increasing the refractory period of AV node\\nChoose the correct option (A, B, C, or D):', 'Question: Shortest incubation period in malaria -\\nA. P. vivax\\nB. P. falciparum\\nC. P. malariae\\nD. P. ovale\\nChoose the correct option (A, B, C, or D):', 'Question: FAST -\\nA. CT\\nB. USG\\nC. MRI\\nD. X-ray\\nChoose the correct option (A, B, C, or D):', 'Question: In gingival index score 2 means:\\nA. Bleeding on slight provocation\\nB. Spontaneous bleeding\\nC. Colour change in gingiva\\nD. No change in gingiva\\nChoose the correct option (A, B, C, or D):', 'Question: Which of the following vitamins can be used for treatment of hypercholesterolemia?\\nA. Thiamine\\nB. Biotin\\nC. Pyridoxine\\nD. Nicotinic acid\\nChoose the correct option (A, B, C, or D):', 'Question: True about EMLA:\\nA. Can be used for intubation\\nB. Mixture of local anesthesia\\nC. Faster acting\\nD. All\\nChoose the correct option (A, B, C, or D):']\n"
     ]
    },
    {
     "name": "stderr",
     "output_type": "stream",
     "text": [
      "  3%|▎         | 61/2043 [01:24<43:52,  1.33s/it]"
     ]
    },
    {
     "name": "stdout",
     "output_type": "stream",
     "text": [
      "['Question: Dose of Carbetocin for post paum hemorrhage\\nA. 100 microgram intramuscular\\nB. 50 microorgam Inravenous\\nC. 150 microgram intravenous\\nD. 200 microgram intramuscular\\nChoose the correct option (A, B, C, or D):', \"Question: Schatzki's ring is present in -\\nA. Upper end of esophagus\\nB. Mid-esophagus\\nC. Squamocolumnar junction in esophagus\\nD. Fundus of stomach\\nChoose the correct option (A, B, C, or D):\", 'Question: True about the location of parotid gland:\\nA. Between the ramus of the mandible and buccinator.\\nB. Between the ramus of the mandible and sternocleidomastoid.\\nC. Between the ramus of the mandible and masseter.\\nD. Between the ramus of the mandible and medial pterygoid.\\nChoose the correct option (A, B, C, or D):', 'Question: In status epilepticus, drug of choice is:\\nA. I/V diazepam\\nB. I/M diazepam\\nC. Oral clonazepam\\nD. I/M phenytoin\\nChoose the correct option (A, B, C, or D):', 'Question: When activated by b-adrenergic receptors, the G protein:\\nA. Activates phospholipase C\\nB. Activates adenylate cyclase\\nC. Activates protein kinase C\\nD. Conves guanosine diphosphate (GDP) to guanosine triphosphate (GTP)\\nChoose the correct option (A, B, C, or D):', 'Question: Generator area in a nerve cell is\\nA. Cell body\\nB. Initial segment\\nC. Axon\\nD. Dendrites\\nChoose the correct option (A, B, C, or D):', 'Question: Coronary blood flow is maximum during?\\nA. Isovolumetric contraction\\nB. Rapid ejection\\nC. Slow ejection\\nD. Isovolumetric relaxation\\nChoose the correct option (A, B, C, or D):', 'Question: Which type of articulators permit horizontal as well as vertical motion, but do not orient the motion to the TMJ via facebow transfer?\\nA. Class I\\nB. Class II\\nC. Class III\\nD. Class  IV\\nChoose the correct option (A, B, C, or D):', 'Question: Sensory supply of vocal cord ?\\nA. Internal laryngeal nerve\\nB. Recurrent laryngeal nerve\\nC. Superior laryngeal nerve\\nD. All of the above\\nChoose the correct option (A, B, C, or D):', 'Question: Which is the following is not inherited as X-linked recessive: March 2005, September 2012, March 2013\\nA. G-6-PD deficiency\\nB. Duchenne muscular dystrophy\\nC. Cystic fibrosis\\nD. Hemophilia\\nChoose the correct option (A, B, C, or D):', 'Question: The tensile strength of the wound stas and increases after\\nA. Immediately after suturing\\nB. 3-4 days\\nC. 7-10 days\\nD. 1 month\\nChoose the correct option (A, B, C, or D):', 'Question: Which among the following is a true statement about Thymosin?\\nA. A Pituitary hormone that regulates thymic development\\nB. A Glycoprotein that confers passive immunity to non sensitized hosts\\nC. An antiserum against thymocytes\\nD. A thymic hormone that induces maturation of pre-T cells\\nChoose the correct option (A, B, C, or D):', \"Question: Which of the following malignant disease of children has the best prognosis?\\nA. Wilm's tumor\\nB. Neuroblastoma\\nC. Rhabdomyosarcoma\\nD. Primitive neuroectodermal tumor\\nChoose the correct option (A, B, C, or D):\", \"Question: Which of the following is true about fouh hea sound 'S4'\\nA. Can be heard by the unaided ear\\nB. Frequency is greater than 20 Hz\\nC. Heard during ventricular filling phase\\nD. Heard during ventricular ejection phase\\nChoose the correct option (A, B, C, or D):\", 'Question: Patients with porphyria are highly sensitive to which wavelength :\\nA. 290-320 nm\\nB. 400-420 nm\\nC. 320-400 nm\\nD. 250-290 nm\\nChoose the correct option (A, B, C, or D):', \"Question: Killian's dehisence is seen in:\\nA. Oropharynx\\nB. Nasophrynx\\nC. Cricopharynx\\nD. Vocal cords\\nChoose the correct option (A, B, C, or D):\"]\n"
     ]
    },
    {
     "name": "stderr",
     "output_type": "stream",
     "text": [
      "  3%|▎         | 62/2043 [01:25<40:40,  1.23s/it]"
     ]
    },
    {
     "name": "stdout",
     "output_type": "stream",
     "text": [
      "['Question: Chromosome-associated with bipolar disease -\\nA. Chromosome 16\\nB. Chromosome 13\\nC. Chromosome 18\\nD. Chromosome 11\\nChoose the correct option (A, B, C, or D):', 'Question: The prototype of type-H hypersensitivity reaction is?\\nA. Ahus reaction\\nB. SLE\\nC. Autoimmune hemolytic anemia\\nD. Contact dermatitis\\nChoose the correct option (A, B, C, or D):', 'Question: True statement about ductus Arteriosus is –\\nA. It undergoes anatomic closure within 24 hours of birth\\nB. Forms the ligamentum venosum in later life\\nC. It is induced to close by high levels ofprostaglandins\\nD. May cause a machinary murmur by its patency.\\nChoose the correct option (A, B, C, or D):', 'Question: A five year old child presents with ballooning of prepuce after micturation. Examination of penis reveals prepucial adhesions which the following the best treatment\\nA. Adhesiolysis & dilatation\\nB. Circumcision\\nC. Dorsal slit\\nD. Conservative management\\nChoose the correct option (A, B, C, or D):', 'Question: Cavett test is used for detection of\\nA. Opiates\\nB. Alcohol\\nC. Barbiturates\\nD. Cocaine\\nChoose the correct option (A, B, C, or D):', \"Question: All are features of Meniere's disease except:\\nA. Hearing loss that fluctuates\\nB. Giddiness is provoked in certain head positions\\nC. Sense of pressure or fullness in the ear\\nD. Roaring tinnitus\\nChoose the correct option (A, B, C, or D):\", 'Question: The most common complication of immunosuppression is:\\nA. Malignancy\\nB. Graft rejection\\nC. Infection\\nD. Thrombocytopenia\\nChoose the correct option (A, B, C, or D):', \"Question: 'Time out' is useful in the treatment of:\\nA. Temper Tantrums\\nB. Pica\\nC. Anorexia nervosa\\nD. Nocturnal enuresis\\nChoose the correct option (A, B, C, or D):\", 'Question: Which among the following is a killed vaccine\\nA. Japanese encephalitis\\nB. Measles\\nC. Influenza vaccine\\nD. Yellow fever\\nChoose the correct option (A, B, C, or D):', 'Question: Undiagnosed or undetected ectopic pregnancy is a common cause of maternal death during the first trimester. Most valuable diagnostic test in a case of suspected ectopic pregnancy is:\\nA. Serial (3-hCG levels)\\nB. Transvaginal USG\\nC. Progesterone measurement\\nD. Culdocentesis\\nChoose the correct option (A, B, C, or D):', 'Question: Pre-renal azotemia is associated with one of the following characteristic feature -\\nA. Urinary Na+ < 10 mmol/L\\nB. Renal failure index > 1\\nC. Osmolality < 500\\nD. Urinary creatinine/P. creatinine ratio < 20\\nChoose the correct option (A, B, C, or D):', 'Question: In a man lifting up a suitcase, posterior dislocation of glenohumeral joint is prevented by:\\nA. Deltoid\\nB. Latissimus dorsi\\nC. Coracobrachialis\\nD. Supra spinatous\\nChoose the correct option (A, B, C, or D):', 'Question: Xerosis is seen in: September 2006\\nA. Vitamin A deficiency\\nB. Vitamin B deficiency\\nC. Vitamin C deficiency\\nD. Vitamin D deficiency\\nChoose the correct option (A, B, C, or D):', 'Question: What is the treatment of choice in duodenal ulcer without any complication of hemorrhage?\\nA. Highly selective vagotomy\\nB. Trunkal vagotomy\\nC. Proton pump inhibitors\\nD. None\\nChoose the correct option (A, B, C, or D):', 'Question: The maintenance dose of digoxin\\nA. 0.25 mg/day\\nB. 2.5 mg/day\\nC. 25 mg/day\\nD. 250 mg/day\\nChoose the correct option (A, B, C, or D):', \"Question: Pentosuria is due to defect in which pathway?\\nA. Glycolysis\\nB. Polyol pathway\\nC. Uronic acid pathway\\nD. Kreb's cycel\\nChoose the correct option (A, B, C, or D):\"]\n"
     ]
    },
    {
     "name": "stderr",
     "output_type": "stream",
     "text": [
      "  3%|▎         | 63/2043 [01:26<40:30,  1.23s/it]"
     ]
    },
    {
     "name": "stdout",
     "output_type": "stream",
     "text": [
      "['Question: Which of the following ovarian tumor is most prone to undergo torsion during pregnancy?\\nA. Serous cystadenoma\\nB. Mucinous cystadenoma\\nC. Dermoid cyst\\nD. Theca lutein cyst\\nChoose the correct option (A, B, C, or D):', 'Question: A patient suffering from Zollinger- Ellison syndrome would be expected to have:\\nA. Excessive acid reflux into the esophagus, resulting in esophagitis\\nB. Excessive secretion of CCK, causing continuous contraction of the gallbladder\\nC. A gastrin-secreting tumor of the pancreas, causing excessive stomach acid secretion and peptic ulcers\\nD. Low plasma lipid levels, due to failure of the liver to secrete VLDLs\\nChoose the correct option (A, B, C, or D):', 'Question: Most common ALL subtype:\\nA. Pre B cell\\nB. Pre T cell\\nC. T cell\\nD. B cell\\nChoose the correct option (A, B, C, or D):', 'Question: A 28-year-old previously healthy woman arrives in the emergency room complaining of 24 h of anorexia and nausea and lower abdominal pain that is more intense in the right lower quadrant than elsewhere. On examination she has peritoneal signs of the right lower quadrant and a rectal temperature of 38.38degC (101.8degF). At exploration through incision of the right lower quadrant, she is found to have a small, contained perforation of a cecal diverticulum. Which of the following statements regarding this situation is true?\\nA. Cecal diverticula are acquired disorders\\nB. Cecal diverticula are usually multiple\\nC. Cecal diverticula are mucosal herniations through the muscularis propria\\nD. Diverticulectomy, closure of the cecal defect, and appendectomy may be indicated\\nChoose the correct option (A, B, C, or D):', 'Question: A 30 years old male presented with silvery scales on elbow and knee, that bleed on removal. The probable diagnosis is –\\nA. Pityriasis\\nB. Seborrhoeic dermatitis\\nC. Psoriasis\\nD. Secondary syphilis\\nChoose the correct option (A, B, C, or D):', 'Question: Fluroide ions act by inhibiting -\\nA. Enolase\\nB. Hexokinase\\nC. Cytochrome oxidase\\nD. Carbonic anydrase\\nChoose the correct option (A, B, C, or D):', 'Question: Pregnant patient comes at 34 weeks gestation with leaking. which investigation can be done for diagnosing the leak?\\nA. Speculum examination\\nB. USG\\nC. Non stress test\\nD. 3 swab test\\nChoose the correct option (A, B, C, or D):', 'Question: mood stabilizer used in the tretament of rapid cycling\\nA. vaproate\\nB. lithium\\nC. carbamezepine\\nD. lamotrigine\\nChoose the correct option (A, B, C, or D):', 'Question: Commonest complication following haemorrhoidectomy is -\\nA. Hemorrhage\\nB. Infection\\nC. Facal impaction\\nD. Urinary Retention\\nChoose the correct option (A, B, C, or D):', 'Question: Drug of choice for strongyloides stercoralis?\\nA. Mebendazole\\nB. Albendazole\\nC. Ivermectin\\nD. Levamisole\\nChoose the correct option (A, B, C, or D):', 'Question: PHYSICAL QUALITY OF LIFE INDEX (PQLI) includes:\\nA. Infant mortality, Life expectancy and Literacy\\nB. Maternal mortality, Life expectancy and Literacy.\\nC. Disability rate, Pregnancy rate and GNP\\nD. Longevity, Knowledge and Income\\nChoose the correct option (A, B, C, or D):', 'Question: A 26 years old primigravida at 30 weeks of gestation on clinical examination, has blood pressure values of 142/100 mm Hg. 150/94 mmHg and 150/100 at 6 hours intervals. The next line of management is:\\nA. Add captopril\\nB. Add atenolol\\nC. Add methyldopa\\nD. No medical management is necessary at present\\nChoose the correct option (A, B, C, or D):', 'Question: Which of the following can be used as tumor marker in pancreatic carcinoma?\\nA. CA-125\\nB. CA 27-29\\nC. CA 19-9\\nD. CA 15-3\\nChoose the correct option (A, B, C, or D):', 'Question: Incubation period for diptheria and salmonella is\\nA. 1-2 days and 20-40 days\\nB. 2-6 days and 7-21 days\\nC. 2-6 days and 10-14 days\\nD. 1-2 days and 10-14 days\\nChoose the correct option (A, B, C, or D):', 'Question: Fluoroacetate blocks the Krebs cycle by inhibiting the following enzyme\\nA. Citrate synthase\\nB. Aconitase\\nC. a-KG dehydrogenase\\nD. Succinate dehydrogenase\\nChoose the correct option (A, B, C, or D):', 'Question: Which of the following adaptations will be apt to increase the work capacity at high altitude?\\nA. Increasing workload, decreasing duration of exercise\\nB. Increasing workload, increasing duration of exercise\\nC. Decreasing workload, increasing duration of exercise\\nD. Decreasing workload, decreasing duration of exercise\\nChoose the correct option (A, B, C, or D):']\n"
     ]
    },
    {
     "name": "stderr",
     "output_type": "stream",
     "text": [
      "  3%|▎         | 64/2043 [01:28<46:38,  1.41s/it]"
     ]
    },
    {
     "name": "stdout",
     "output_type": "stream",
     "text": [
      "['Question: Laryngeal prominence is formed by-\\nA. Cricoid cartilage\\nB. Hyoid bone\\nC. Anterior margin of thyroid\\nD. Angle of the thyroid cartilage\\nChoose the correct option (A, B, C, or D):', 'Question: A 35 year old man who recently traveled to a third world country develops chronic, severe dysentery. Colonoscopy demonstrates ulceration of the cecum, and a cecal biopsy reveals 15-to-40 micron amoebae with ingested erythrocytes and small nuclei with distinctive tiny central karyosomes. Which of the following organisms is the most likely culprit?\\nA. Acanthamoeba sp\\nB. Balantidium coli\\nC. Entamoeba histolytica\\nD. Giardia lamblia\\nChoose the correct option (A, B, C, or D):', 'Question: Benzodiazepine without anticonvulsant propey is?\\nA. Nitrazepam\\nB. Diazepam\\nC. Clonazepam\\nD. Temazepam\\nChoose the correct option (A, B, C, or D):', 'Question: A tumor has the following characteristics. Retrobulbar location within the muscle cone, well defined capsule, presents with slowly progressive proptosis, easily resectable, occurs most commonly in the 2nd to 4th decade. Most likely diagnosis is -\\nA. Capillary hemangioma\\nB. Cavernous hemangioma\\nC. Lymhangioma\\nD. Hemangiopericytoma\\nChoose the correct option (A, B, C, or D):', \"Question: After a radiograph revealed a sialolith (stone) in a patient's right submandibular duct, the surgeon exposed the duct an intraoral approach. In this approach, what tissues or structures must be cut through?\\nA. Mucous membrane only\\nB. Mucous membrane and genioglossus muscle\\nC. Mucous membrane and mylohyoid muscle\\nD. Mucous membrane and hyoglossus muscle\\nChoose the correct option (A, B, C, or D):\", 'Question: Most common location of Splenculi?\\nA. Behind the tail of pancreas\\nB. Splenic ligaments\\nC. Splenic hilum\\nD. Mesocolon\\nChoose the correct option (A, B, C, or D):', 'Question: Which of the following tests is most sensitive for detecting early diabetic nephropathy -\\nA. Serum Creatinine\\nB. Creatinine clearance\\nC. Microalbuminuria\\nD. Ultra sonography\\nChoose the correct option (A, B, C, or D):', 'Question: Which of the following condition is associated with Cutis anserina?\\nA. Drowning\\nB. Suffocation\\nC. Lust murder\\nD. Electrocution\\nChoose the correct option (A, B, C, or D):', 'Question: In a patient predisposed to glaucoma, the drug contraindicated is:\\nA. Pilocarpine\\nB. Ecothiopate\\nC. Timolol\\nD. None of the above\\nChoose the correct option (A, B, C, or D):', 'Question: A 41year old married female presented with a headache for the last 6 months. She had several consultations. All her investigations were found to be within normal limits. She still insists that there is something wrong in her head and seeks another consultation. The most likely diagnosis is -\\nA. Phobia\\nB. Psychogenic headache\\nC. Hypochondriasis\\nD. Depression\\nChoose the correct option (A, B, C, or D):', 'Question: The risk of carbamazepine induced Stevens-Johnson syndrome is increased in the presence of which of the following genes?\\nA. HLA-B* 5801\\nB. HLA-B* 1502\\nC. HLA-B* 5701\\nD. HLA-B 27\\nChoose the correct option (A, B, C, or D):', 'Question: Characteristic features of rabies include all except-\\nA. Can manifest as ascending paralysis\\nB. Hemotogenous spread to brain\\nC. Can be transmitted by bites other than dogs also\\nD. In invariably fatal\\nChoose the correct option (A, B, C, or D):', \"Question: 'Which of the following represents a non deliberate cultural practice leading to anti-mosquito effect -\\nA. Use of alkaline detergent\\nB. Use of larvicidal agents\\nC. Use of bed nets\\nD. Use of repellents\\nChoose the correct option (A, B, C, or D):\", 'Question: Most common infections after splenectomy are:\\nA. Uncapsulated bacteria\\nB. Capsulated bacteria\\nC. Gram-positive sepsis\\nD. Gram-negative bacteria\\nChoose the correct option (A, B, C, or D):', \"Question: In a chronic smoker with mild haemoptysis. He also gave a history of hypertension and obesity. Lab data showed raised ACTH levels, which were not suppressed by dexamethasone. The cause for the Cushing's syndrome in the patient is -\\nA. MEN I\\nB. Pituitary adenoma\\nC. Adrenal cortical adenoma\\nD. Ectopic ACTH secreting tumor\\nChoose the correct option (A, B, C, or D):\", 'Question: In pemphigus circulating antibodies attack:\\nA. Desmoglein 1&2.\\nB. Desmoglein1&3.\\nC. Desmoglein1&4.\\nD. Desmoglein2&4.\\nChoose the correct option (A, B, C, or D):']\n"
     ]
    },
    {
     "name": "stderr",
     "output_type": "stream",
     "text": [
      "  3%|▎         | 65/2043 [01:30<46:09,  1.40s/it]"
     ]
    },
    {
     "name": "stdout",
     "output_type": "stream",
     "text": [
      "['Question: Brown type gallstones are formed due to:\\nA. Hypercholesterolemia\\nB. Long standing hemolysis\\nC. Chronic biliary infection\\nD. Drugs\\nChoose the correct option (A, B, C, or D):', 'Question: Pathognomic lesion in HIV is: September 2011\\nA. Gingivitis\\nB. Oral leukoplakia\\nC. Herpes simplex\\nD. Aphthous ulcers\\nChoose the correct option (A, B, C, or D):', 'Question: Perimetry is a test to assess the –\\nA. Visual acuity\\nB. Intraocular pressure\\nC. Visual field\\nD. Depth of the anterior chamber\\nChoose the correct option (A, B, C, or D):', 'Question: Which of the following amino acids can be phosphorylated?\\nA. Cysteine\\nB. Leucine\\nC. Methionine\\nD. Serine\\nChoose the correct option (A, B, C, or D):', 'Question: Which among the following is not seen in inflammatory ahritis?\\nA. Raised ESR\\nB. Morning stiffness\\nC. Periaicular osteoporosis\\nD. New bone formation\\nChoose the correct option (A, B, C, or D):', \"Question: Reye's Syndrome is cause by all except-\\nA. Adeno virus\\nB. RSV\\nC. Herpes\\nD. Influenza\\nChoose the correct option (A, B, C, or D):\", 'Question: Small cell Ca lung, DNA of the necrotic cells get deposited on vessels?\\nA. Psammoma body\\nB. Azzopardy effect\\nC. Button collar lesion\\nD. Necrotic diathesis\\nChoose the correct option (A, B, C, or D):', 'Question: Mediator of acute inflammation not derived from cell is:\\nA. Histamine\\nB. Leukotrienes\\nC. Kinins\\nD. Cytokines\\nChoose the correct option (A, B, C, or D):', 'Question: Which of the following is/are not intermediate acting non depolarizing NMB -\\nA. Pancuronium\\nB. Vecuronium\\nC. Rocuronium\\nD. Atracurium\\nChoose the correct option (A, B, C, or D):', 'Question: The amino acid cannot be used for glycogen synthesis -\\nA. Alanine\\nB. Threonine\\nC. Leucine\\nD. Methionine\\nChoose the correct option (A, B, C, or D):', 'Question: Normal PCWP with pulmonary edema is seen in?\\nA. Left atrial myxoma\\nB. High altitude\\nC. Mitral stenosis\\nD. LV systolic dysfunction\\nChoose the correct option (A, B, C, or D):', \"Question: Allergic bronchopulmonary Aspergillosis is commonly a complication of:\\nA. TB\\nB. Bronchogenic carcinoma\\nC. Cystic fibrosis\\nD. Wegener's granulomatosis\\nChoose the correct option (A, B, C, or D):\", 'Question: Inferior mesenteric vein drains into:\\nA. Portal vein\\nB. Splenic vein\\nC. Superior mesenteric vein\\nD. Renal vein\\nChoose the correct option (A, B, C, or D):', 'Question: A lady has carcinoma in upper and outer quadrant of the breast. It usually metastasises to all of the following lymph nodes, EXCEPT?\\nA. Anterior axillary\\nB. Central\\nC. Lateral\\nD. Parasternal\\nChoose the correct option (A, B, C, or D):', 'Question: Treatment of metastatic prostate carcinoma is:\\nA. Radiotherapy\\nB. Estrogen therapy\\nC. GnRH analogs\\nD. Radiotherapy with chemotherapy\\nChoose the correct option (A, B, C, or D):', 'Question: Examination of arrested person by medical practitioner at the request of the arrested person. Is defined under which section of the Code Of Criminal Procedure\\nA. Section 53\\nB. Section 54\\nC. Section 56\\nD. Section 57\\nChoose the correct option (A, B, C, or D):']\n"
     ]
    },
    {
     "name": "stderr",
     "output_type": "stream",
     "text": [
      "  3%|▎         | 66/2043 [01:31<42:33,  1.29s/it]"
     ]
    },
    {
     "name": "stdout",
     "output_type": "stream",
     "text": [
      "['Question: Which of the following vaccine is routinely given in pregnancy?\\nA. Influenza\\nB. Oral polio\\nC. Tetanus\\nD. Rabies\\nChoose the correct option (A, B, C, or D):', 'Question: D1C is common in which AML-\\nA. Monocytic (M5)\\nB. Promyelocytic (M3)\\nC. Erythrocytic (M6)\\nD. Megakaryocytic (M7)\\nChoose the correct option (A, B, C, or D):', 'Question: Basilar migraine differs from classic migraine in the\\nA. Sex of persons affected\\nB. Duration of aura\\nC. Severity of symptoms\\nD. Sequence of neurologic deficits\\nChoose the correct option (A, B, C, or D):', 'Question: Most common physiologic cause of hypoxemia is-\\nA. Hypoventilation\\nB. Incomplete alveolar oxygen diffusion\\nC. Ventilation-perfusion inequality\\nD. Pulmonary shunt flow\\nChoose the correct option (A, B, C, or D):', 'Question: Which of the following antitubercular drug is not hepatotoxic :\\nA. Isoniazid\\nB. Rifampicin\\nC. Ethionamide\\nD. Streptomycin\\nChoose the correct option (A, B, C, or D):', \"Question: Fracture of the 5th metatarsal is called as -\\nA. Malgaigne's fracture\\nB. Jones fracture\\nC. Cotton's fracture\\nD. Pott's fracture\\nChoose the correct option (A, B, C, or D):\", \"Question: Defect in collagen formation is seen in:\\nA. Scurvy\\nB. Hunter's syndrome\\nC. Marfan's syndrome\\nD. All\\nChoose the correct option (A, B, C, or D):\", 'Question: Preterm babies:\\nA. Bom before 37 weeks of gestations\\nB. Bom before 38 weeks of gestations\\nC. Bom before 39 weeks of gestations\\nD. Bom before 40 weeks of gestations\\nChoose the correct option (A, B, C, or D):', 'Question: 42 yrs male with frequent attacks of joint pain, underwent an X-ray showing soft tissue swelling. The likely diagnosis is:\\nA. Gout\\nB. Parathyroid adenoma\\nC. Psoriasis\\nD. RA\\nChoose the correct option (A, B, C, or D):', 'Question: In which of the following immunodeficiencies, this chest X-ray finding is usually seen?\\nA. Wiskott-Aldrich syndrome\\nB. Di George syndrome\\nC. Hyper IgE syndrome\\nD. Chediak Higashi syndrome\\nChoose the correct option (A, B, C, or D):', 'Question: Special visceral efferent DOES NOT involve\\nA. Nucleus ambiguus\\nB. Motor nucleus of V cranial nerve\\nC. Motor nucleus of VII cranial nerve\\nD. Dorsal nucleus of X cranial nerve\\nChoose the correct option (A, B, C, or D):', 'Question: A 65 year old man was seen as an outpatient complaining of central chest pain on exeion. His son tells you that 5 years ago he had been admitted for MI in the CCU of the same hospital. His vitals are stable and chest is clear. No added hea sounds are heard. What is the next best step?\\nA. Perform Stress tests\\nB. Perform Cardiac biomarkers\\nC. Perform PCI\\nD. Perform Transvenous Pacing\\nChoose the correct option (A, B, C, or D):', 'Question: Swine flu is caused most commonly by -\\nA. H1N1\\nB. H5N1\\nC. H3N2\\nD. B virus\\nChoose the correct option (A, B, C, or D):', 'Question: Area of brain involved in OCD: March 2004\\nA. Basal ganglia\\nB. Temporal lobe\\nC. Cerebellum\\nD. All of the above\\nChoose the correct option (A, B, C, or D):', 'Question: Which Congenital malformation of the fetus can be diagnosed in first trimester by ultrasound?\\nA. Anencephaly\\nB. Iniencephaly\\nC. Microcephaly\\nD. Holoprosencephaly\\nChoose the correct option (A, B, C, or D):', 'Question: A 44-year-old woman comes to her physician and complains of headache and backache. On examination, she is found to have fluid accumulated in the spinal epidural space because of damage to blood vessels or meninges. Which of the following structures is most likely ruptured?\\nA. Veebral aery\\nB. Veebral vein\\nC. External veebral venous plexus\\nD. Internal veebral venous plexus\\nChoose the correct option (A, B, C, or D):']\n"
     ]
    },
    {
     "name": "stderr",
     "output_type": "stream",
     "text": [
      "  3%|▎         | 67/2043 [01:32<43:05,  1.31s/it]"
     ]
    },
    {
     "name": "stdout",
     "output_type": "stream",
     "text": [
      "['Question: The resting membrane potential depends mainly on gradient of\\nA. Sodium\\nB. Potassium\\nC. Chloride\\nD. Calcium\\nChoose the correct option (A, B, C, or D):', 'Question: Which hypolipidemic drug acts primarily by decreasing VLDL -\\nA. Fibrates\\nB. Nicotinic acid\\nC. Statins\\nD. Cholestyramine\\nChoose the correct option (A, B, C, or D):', 'Question: Chromic catgut suture has added advantage that is:\\nA. Delayed resorption.\\nB. No resorption.\\nC. Early resorption.\\nD. Greater adherence.\\nChoose the correct option (A, B, C, or D):', 'Question: A homosexual person feels that \"he is a woman trapped in a man\\'s body\" and has persistent discomfo with his sex. Most likely diagnosis is:\\nA. Trans - sexualism\\nB. Transvestism\\nC. Voyeurism\\nD. Paraphilias\\nChoose the correct option (A, B, C, or D):', 'Question: Hypophosphatemia is seen in -\\nA. Pseudohypoparathyropdism\\nB. CRF\\nC. Rickets\\nD. Hyperparathyroidism\\nChoose the correct option (A, B, C, or D):', 'Question: True about valves in portal venous system -\\nA. Present at the junction of superior mesenteric artery with the splenic artery\\nB. Within the portal vein only\\nC. The whole system is valveless\\nD. In the intrahepatic portion of portal vein\\nChoose the correct option (A, B, C, or D):', 'Question: APC gene exes its effect in combination with which of the following\\nA. Beta catenin\\nB. E cadherin\\nC. Alpha catenin\\nD. BCX\\nChoose the correct option (A, B, C, or D):', 'Question: Delusion of grandeur, persecution and reference is seen in: PGI 09; UP 11\\nA. Catatonic schizophrenia\\nB. Paranoid schizophrenia\\nC. Simple schizophrenia\\nD. Disorganized schizophrenia\\nChoose the correct option (A, B, C, or D):', 'Question: Your patient with chronic renal failure reports pruritus. Which instruction should you include in this patient’s teaching plan?\\nA. Rub the skin vigorously with a towel\\nB. Take frequent baths\\nC. Apply alcohol-based emollients to the skin\\nD. Keep fingernails short and clean\\nChoose the correct option (A, B, C, or D):', 'Question: During progression of normal pregnancy, S/D ratio in umblical aery ?\\nA. Decreases\\nB. Increases\\nC. Plateau\\nD. Not significant\\nChoose the correct option (A, B, C, or D):', 'Question: Most common site for carcinoma pharynx in females suffering from plummer vinson syndrome is\\nA. Post cricoid region\\nB. Posterior wall\\nC. Lateral wall\\nD. Pyriformis fossa\\nChoose the correct option (A, B, C, or D):', 'Question: A 25 year old woman complaints of bilateral hearing loss since 4 years which worsened during pregnancy. Type of tympanogram will be\\nA. Ad\\nB. As\\nC. C\\nD. B\\nChoose the correct option (A, B, C, or D):', 'Question: Which among the following is the smallest diameter of true pelvis?\\nA. Interspinous diameter\\nB. Diagonal conjugate\\nC. True conjugate\\nD. Inteuberous diameter\\nChoose the correct option (A, B, C, or D):', 'Question: A 25-yr man C/O recurrent episodes of flexural eczema, contact urticaria, recurrent skin infections & severe abdominal cramps & diarrhea upon taking sea foods. He is suffering from:\\nA. Seborrheic dermatitis\\nB. Atopic dermatitis\\nC. Airborne contact dermatitis\\nD. Nummular dermatitis\\nChoose the correct option (A, B, C, or D):', 'Question: The following is used for testing absorption in intestine-\\nA. Xylose\\nB. Sucrose\\nC. Fructose\\nD. Maltose\\nChoose the correct option (A, B, C, or D):', 'Question: Which of the following is seen in APGAR score?\\nA. Colour\\nB. Bilirubin\\nC. Blood group\\nD. Respiratory rate\\nChoose the correct option (A, B, C, or D):']\n"
     ]
    },
    {
     "name": "stderr",
     "output_type": "stream",
     "text": [
      "  3%|▎         | 68/2043 [01:33<42:37,  1.29s/it]"
     ]
    },
    {
     "name": "stdout",
     "output_type": "stream",
     "text": [
      "['Question: Retinal detachment occurs in which layer?\\nA. Sensory retina\\nB. Pigmentary retina\\nC. Inner nuclear layer\\nD. Outer plexiform layer\\nChoose the correct option (A, B, C, or D):', 'Question: Culture media used for O157 : H7 Entero- hemorrhagic E coli -\\nA. Sorbitol containing agar\\nB. Mannitol containing agar\\nC. Sucrose containing agar\\nD. Dextrose containing agar\\nChoose the correct option (A, B, C, or D):', 'Question: Mechanism of action of Acyclov ir is\\nA. Inhibitor of viral DNA polymerase\\nB. Inhibitor of viral thymidine kinase\\nC. Inhibitor of viral reverse transcriptase\\nD. Inhibitor of HSV polymerase\\nChoose the correct option (A, B, C, or D):', 'Question: 42 years old female presents diagnosed as iron deficiency anemia was staed on oral iron therapy and her Hb condition during review was 8 g%. The cause for failure of treatment is\\nA. Acquired sideroblastic anemia\\nB. Inadequate iron dosage\\nC. Poor compliance to oral iron\\nD. Folate deficiency\\nChoose the correct option (A, B, C, or D):', 'Question: Increased permeability in acute inflammation is due to all except ?\\nA. Cell contraction\\nB. Endothelial injury\\nC. Lytic enzymes\\nD. Cytokines\\nChoose the correct option (A, B, C, or D):', 'Question: Shoest incubation period is seen with\\nA. Influenza\\nB. Hepatitis B\\nC. Hepatitis A\\nD. Rubella\\nChoose the correct option (A, B, C, or D):', 'Question: Pulsus paradoxus is seen in-\\nA. Shock\\nB. Elderly\\nC. Emphysema/Asthma\\nD. High output state\\nChoose the correct option (A, B, C, or D):', 'Question: PAH is used to measure-\\nA. Extracellular fluid\\nB. Glomerular filtration rate\\nC. Renal plasma flow\\nD. Plasma value\\nChoose the correct option (A, B, C, or D):', \"Question: Presence of which of the following in the urine is diagnostic of glomerular injury-\\nA. Bright red cells\\nB. 20% dysmorphic RBC's\\nC. 100RBC per high power field\\nD. Beta 2 micro globulin\\nChoose the correct option (A, B, C, or D):\", 'Question: Thrombocytopenia, macerated skin lesions, rash and periostitis in a new born are seen in\\nA. Erythroblastosis fetalis\\nB. Cytomegalovirils infection\\nC. Syphilis\\nD. HIV infection\\nChoose the correct option (A, B, C, or D):', 'Question: In a high copper amalgam, the phase which is eliminated is:\\nA. Gamma 1\\nB. Gamma 2\\nC. Gamma 1 and 2\\nD. No phase is eliminated\\nChoose the correct option (A, B, C, or D):', 'Question: Dominant cell type in grey hepatization stage of community acquired pneumonia is\\nA. Eosinophils\\nB. Neutrophils\\nC. Macrophages\\nD. Monocytes\\nChoose the correct option (A, B, C, or D):', 'Question: A patient with diarrhea has a fecal smear that is negative for leukocytes. The patient&;s diarrhea is most likely caused by\\nA. Campylobacter enteritis\\nB. Shigellosis\\nC. Typhoid fever\\nD. Enterotoxigenic Escherichia coli\\nChoose the correct option (A, B, C, or D):', 'Question: Death of Poliomyelitis is due to -\\nA. Infection\\nB. Neurogenic shock\\nC. Cardiac failur\\nD. Respiratory paralysis\\nChoose the correct option (A, B, C, or D):', 'Question: The following condition of GB is precancerous\\nA. Cholesterosis\\nB. Porcelain gall bladder\\nC. Biliary atresia\\nD. Choledochal cyst\\nChoose the correct option (A, B, C, or D):', 'Question: A patient with acute viral hepatitis should undergo the following tests except?\\nA. IgM- anti HAV\\nB. IgM- anti- HBcAg\\nC. Anti-HCV antibody\\nD. Anti- HDV antibody\\nChoose the correct option (A, B, C, or D):']\n"
     ]
    },
    {
     "name": "stderr",
     "output_type": "stream",
     "text": [
      "  3%|▎         | 69/2043 [01:34<40:37,  1.23s/it]"
     ]
    },
    {
     "name": "stdout",
     "output_type": "stream",
     "text": [
      "['Question: All symptoms are included in diagnostic criteria of major depression, except-\\nA. Indecisiveness\\nB. Insomnia\\nC. Poor concentration\\nD. None of the above\\nChoose the correct option (A, B, C, or D):', 'Question: Anti-A, anti-B, antibody appear in child -\\nA. Just after birth\\nB. 1 week after\\nC. 6 week after\\nD. After 6 months\\nChoose the correct option (A, B, C, or D):', 'Question: Drug of choice in Acute central anticholinergic syndrome is -\\nA. Neostigmine\\nB. Physostigmine\\nC. Tacrine\\nD. 4-amino pyridine\\nChoose the correct option (A, B, C, or D):', 'Question: Apparent volume of distribution of a drug exceeds total body fluid volume, if a drug is -\\nA. Sequestrated in body tissues\\nB. Slowly eliminated from body\\nC. Poorly soluble in plasma\\nD. Poorly bound to plasma protein\\nChoose the correct option (A, B, C, or D):', 'Question: Abnormal a-fetoprotein is seen in\\nA. Trisomy 18\\nB. Twin pregnancy\\nC. Neural tube defect\\nD. All of the above\\nChoose the correct option (A, B, C, or D):', 'Question: The true statement regarding supracondylar fracture of the humerus in children?\\nA. Admission to hospital is essential following reduction\\nB. It is due to fall on the point of the elbow\\nC. It require open reduction\\nD. It is usually compound\\nChoose the correct option (A, B, C, or D):', 'Question: Pelvic splanchnic nerve is formed by :\\nA. Pelvic splanchnic nerve is formed by :\\nB. Posterior rami of S2-S3 S4\\nC. Anterior rami of L5 SI S2\\nD. Anterior rami of S2 Si S4\\nChoose the correct option (A, B, C, or D):', \"Question: Murmur increasing with valsalva maneouvre aEUR'\\nA. Mitral stenosis\\nB. HOCM\\nC. VSD\\nD. Aoic stenosis\\nChoose the correct option (A, B, C, or D):\", 'Question: Ring scotoma is seen in :\\nA. Papilledema\\nB. Macular edema\\nC. CRAO\\nD. Retinitis pigmentosa\\nChoose the correct option (A, B, C, or D):', 'Question: Flap commonly used in breast reconstruction is?\\nA. Serratus anterior\\nB. TRAM\\nC. Flap from arm\\nD. Delto pectoral flap\\nChoose the correct option (A, B, C, or D):', 'Question: The Finnish type of congenital nephrotic syndrome occurs due to gene mutations the following protein:\\nA. Podocin\\nB. Alpha - actinin\\nC. Nephrin\\nD. CD2 activated protein\\nChoose the correct option (A, B, C, or D):', \"Question: A new born presents with deepening cyanosis at bih, with congestive hea failure and normal first hea sound. X-ray reveals cardiomegaly diagnosis is -\\nA. Tetralogy of fallot's\\nB. Ebstein anomally\\nC. Transposition of great vessels\\nD. Tricuspid atresia\\nChoose the correct option (A, B, C, or D):\", 'Question: Distal end of humerous develops from how many centres ?\\nA. 2\\nB. 5\\nC. 3\\nD. 4\\nChoose the correct option (A, B, C, or D):', 'Question: Transpo of neutral substances across the cell membrane occurs\\nA. Porins\\nB. Lonophore\\nC. Lipopolysaccharides\\nD. Diffusion\\nChoose the correct option (A, B, C, or D):', 'Question: Which of the following is inherited as autosomal recessive form?\\nA. Sickle cell anemia\\nB. Hemophilia\\nC. Hereditary spherocytosis\\nD. Glucose 6-P04 dehydrogenase deficiency\\nChoose the correct option (A, B, C, or D):', 'Question: Red cell aplasia caused by:\\nA. Aminoglycosides\\nB. Chloramphenicol\\nC. Penicilline\\nD. Ciprofloxacin\\nChoose the correct option (A, B, C, or D):']\n"
     ]
    },
    {
     "name": "stderr",
     "output_type": "stream",
     "text": [
      "  3%|▎         | 70/2043 [01:36<40:21,  1.23s/it]"
     ]
    },
    {
     "name": "stdout",
     "output_type": "stream",
     "text": [
      "['Question: Which of the following medications is contraindicated in patients with allergy to sulphonamides?\\nA. Levobunolol\\nB. Bimatoprost\\nC. Brinzolamide\\nD. Brimonidine\\nChoose the correct option (A, B, C, or D):', 'Question: Adenosine deaminase in CSF is significantly higher in -\\nA. Tuberculosis meningitis\\nB. Bacterial meningitis\\nC. Viral meningitis\\nD. Syphilitic meningitis\\nChoose the correct option (A, B, C, or D):', \"Question: Drug which produces Steven Johnson's syndrome in HIV infected individuals is:\\nA. Paraaminosalicylate\\nB. Cycloserine\\nC. Thioacetazone\\nD. Rifampicin\\nChoose the correct option (A, B, C, or D):\", 'Question: BRCA-1 gene is located at what location of the chromosome?\\nA. 13p 12\\nB. 13q 12\\nC. 17p 21\\nD. 17q 21\\nChoose the correct option (A, B, C, or D):', 'Question: According to the WHO criteria, anaemia in infants of 6 months age is defined as Hb less than –\\nA. 100 gm/litre\\nB. 105 gin/litre\\nC. 110 gm/litre\\nD. 115 gm/litre\\nChoose the correct option (A, B, C, or D):', \"Question: Broca's area is present in\\nA. Superior temporal gyrus\\nB. Precentral gyrus\\nC. Post central gyrus\\nD. Inferior frontal gyrus\\nChoose the correct option (A, B, C, or D):\", 'Question: Smoking is a risk factor for all cancer except:\\nA. Esophagus\\nB. Urinary bladder\\nC. Pancreas\\nD. Gallbladder\\nChoose the correct option (A, B, C, or D):', 'Question: Pelvic pain is mediated by\\nA. Pudendal nerve\\nB. Sciatic nerve\\nC. Autonomic nerves\\nD. None of the above\\nChoose the correct option (A, B, C, or D):', 'Question: Most deaths involving placenta pre result from:\\nA. Infection\\nB. Toxemia\\nC. Hemorrhage\\nD. Thrombophlebitis\\nChoose the correct option (A, B, C, or D):', 'Question: Blue sclera is feature of -\\nA. Osteogenesis imperfecta\\nB. Osteopetrosis\\nC. Cleidocranial dysostosis\\nD. Achendroplasia\\nChoose the correct option (A, B, C, or D):', \"Question: Causes of cynosls-\\nA. TOF\\nB. PDA\\nC. Tricuspid atresia\\nD. Eisonmenger's complex\\nChoose the correct option (A, B, C, or D):\", 'Question: Severity of acute pancreatitis correlate with levels of all of the following except\\nA. Glucose\\nB. Amylase\\nC. Transaminase\\nD. Calcium\\nChoose the correct option (A, B, C, or D):', 'Question: The indicators of the periodontal disease status measures all of the following by using CPI index in oral health surveys EXCEPT:\\nA. Bleeding\\nB. Bone loss\\nC. Calculus\\nD. Periodontal pocket\\nChoose the correct option (A, B, C, or D):', \"Question: Prominent corneal nerves are seen in all except -\\nA. Ectodermal dysplasia\\nB. Ichythyosis\\nC. Refsum's syndrome\\nD. Macular dystrophy\\nChoose the correct option (A, B, C, or D):\", 'Question: Angiofibroma bleeds excessively because -\\nA. It lacks a capsule\\nB. Vessels lack a contractile component\\nC. It has multiple sites of origin\\nD. All of the above\\nChoose the correct option (A, B, C, or D):', 'Question: Which of the following is a common feature of NSAID induced allergic interstitial nephritis?\\nA. Fever\\nB. Rash\\nC. Eosinophilia\\nD. Heavy proteinuria\\nChoose the correct option (A, B, C, or D):']\n"
     ]
    },
    {
     "name": "stderr",
     "output_type": "stream",
     "text": [
      "  3%|▎         | 71/2043 [01:37<39:29,  1.20s/it]"
     ]
    },
    {
     "name": "stdout",
     "output_type": "stream",
     "text": [
      "['Question: Oxygen hemoglobin dissociation curve shifts to right in all of the following conditions EXCEPT:\\nA. Hyperthermia\\nB. Decreased pH\\nC. Decreased H+\\nD. Increase CO2\\nChoose the correct option (A, B, C, or D):', \"Question: Enzyme alglucerase is used in the treatment of ?\\nA. Gaucher's disease\\nB. Galactosemia\\nC. Niemann Pick disease\\nD. Pompe's disease\\nChoose the correct option (A, B, C, or D):\", 'Question: A child is admitted to the pediatric unit with a diagnosis of suspected meningococcal meningitis. Which of the following nursing measures should the nurse do FIRST?\\nA. Institute seizure precautions\\nB. Assess neurologic status\\nC. Place in respiratory isolation\\nD. Assess vital signs\\nChoose the correct option (A, B, C, or D):', \"Question: A 1.5 year-old girl is admitted to Pediatric ward with cough, fever, and mild hypoxia. At the time of her admission, on CXR left upper lobe consolidation is seen. Staphylococcus aureus is seen on blood culture within 24 hours. Suddenly the child's condition acutely worsened over the past few minutes, with markedly increased work of breathing, increasing oxygen requirement, and hypotension. On examination there was decreased air entry in left hemithorax and hea sounds were more audible on the right side of chest as compared to left. What could be the possible reason?\\nA. Empyema\\nB. Tension pneumothorax\\nC. ARDS\\nD. Pleural effusion\\nChoose the correct option (A, B, C, or D):\", 'Question: Turner syndrome is\\nA. 45 XO\\nB. 47 XXY\\nC. Trisomy 13\\nD. Trisomy 18\\nChoose the correct option (A, B, C, or D):', 'Question: Drug which arrests mitosis in metaphase ?\\nA. Busulfan\\nB. 5-fu\\nC. Vinca Alkaloids\\nD. Methotrexate\\nChoose the correct option (A, B, C, or D):', 'Question: Gall bladder adenocarcinoma is only involving lamina propria. What is the  preferred treatment\\nA. Simple cholecystectomy\\nB. Radical cholecystectomy\\nC. Chemotherapy alone\\nD. Radiotherapy\\nChoose the correct option (A, B, C, or D):', 'Question: Following are recognized F/O Myositis ossificans EXCEPT:\\nA. It is a post traumatic ossification\\nB. It follows either a posterior dislocation or a spuracondylar fracture of elbow joint\\nC. The complication is less likely in children\\nD. Diagnosis is made with ceainty by skiagraphy\\nChoose the correct option (A, B, C, or D):', 'Question: SAFE strategy is recommended for-\\nA. Glaucoma\\nB. Cataract\\nC. Trachoma\\nD. Diabetic retinopathy\\nChoose the correct option (A, B, C, or D):', 'Question: Which of these is true regarding CML –\\nA. Size of splenomegaly indicates prognosis\\nB. Phagocytic activity of WBC is reduced\\nC. Sudan black stain is specific for myeloblast\\nD. Myeloblast, granuloblast and lymphoblast become PH chromosome +ve, –ve following remission\\nChoose the correct option (A, B, C, or D):', 'Question: cat acts as reservoir in the following ?\\nA. toxoplasma gondii\\nB. rabies\\nC. streptocerca infection\\nD. plague\\nChoose the correct option (A, B, C, or D):', 'Question: A patient comes to hospital with a history of sore throat, diarrhoea and sexual contact 2 weeks before. The best investigation to rule out HIV is-(\\nA. P24 antigen assay\\nB. ELISA\\nC. Western blot\\nD. Lymph node biopsy\\nChoose the correct option (A, B, C, or D):', 'Question: CD marker of histiocytosis is-\\nA. CD IA\\nB. CD 1B\\nC. CD1C\\nD. CD1D\\nChoose the correct option (A, B, C, or D):', 'Question: An elderly patient with hypeension with diabetes, proteinuria without renal failure, antihypeensive of choice is-\\nA. Furosemide\\nB. Methyldopa\\nC. Enalapril\\nD. Propranolol\\nChoose the correct option (A, B, C, or D):', 'Question: Only laryngeal muscle that is innervated bidirectionally is\\nA. Vocalis\\nB. Posterior cricoarytenoid\\nC. Lateral cricoarytenoid\\nD. Interarytenoid\\nChoose the correct option (A, B, C, or D):', 'Question: Which of the following structures pass through aoic hiatus?\\nA. Thoracic duct and azygos vein\\nB. Thoracic duct and gastric aery\\nC. Vagus nerve with oesophagus\\nD. Aorla with oesophagus\\nChoose the correct option (A, B, C, or D):']\n"
     ]
    },
    {
     "name": "stderr",
     "output_type": "stream",
     "text": [
      "  4%|▎         | 72/2043 [01:38<44:52,  1.37s/it]"
     ]
    },
    {
     "name": "stdout",
     "output_type": "stream",
     "text": [
      "['Question: All of the following muscles of pollex are supplied by median nerve, EXCEPT:\\nA. Adductor pollicis\\nB. Opponens pollicis\\nC. Abductor pollicis brevis\\nD. Flexor pollicis brevis\\nChoose the correct option (A, B, C, or D):', 'Question: A 50 year old male patient presents to the clinic for routine checkup. He is hypertensive and a type 2 diabetic. Lab investigations reveal plasma cholesterol levels 5.8 mmol/L and RBS 180 mg/dl. Which of the following agents can be used in this patient?\\nA. Statins\\nB. Fibrates\\nC. Nicotinic acid\\nD. All of the above\\nChoose the correct option (A, B, C, or D):', 'Question: In which of the mentioned segments of a nephron, Na+ reabsorption primarily occurs by the Na+-H+ exchange?\\nA. PCT\\nB. loop of Henle\\nC. DCT\\nD. Collecting duct\\nChoose the correct option (A, B, C, or D):', 'Question: Perifollicular and petechial hemorrhages are characteristic of-\\nA. Acrodermatitis enteropathica\\nB. Pellagra\\nC. Scurvy\\nD. Phrynoderma\\nChoose the correct option (A, B, C, or D):', 'Question: Imaging modality employed in PI-RAD repoing scheme for prostate glands is all except:-\\nA. MR spectroscopy\\nB. Dynamic contrast enhancement\\nC. Diffusion weighted MRI\\nD. T2W imaging\\nChoose the correct option (A, B, C, or D):', \"Question: All of the following statements are true about Frey's Syndrome except\\nA. Gustatory sweating\\nB. Aberrant misdirection of parasympathetic fibers of auriculotemporal nerve\\nC. Botulinum toxin is one of the treatment suggested\\nD. Less chances with enucleation than parotidectomy\\nChoose the correct option (A, B, C, or D):\", 'Question: Histopathology of chronic hepatitis shows -\\nA. Ballooning of hepatocytes\\nB. Councilman bodies\\nC. Bridging fibrosis\\nD. All of the above\\nChoose the correct option (A, B, C, or D):', 'Question: Arsenic poisoning presents with symptoms mimicking -\\nA. Cholera\\nB. Dhatura poisoning\\nC. Barbiturates poisoning\\nD. Morphine poisoning\\nChoose the correct option (A, B, C, or D):', 'Question: The length of a muscle at which tension is maximum is called:\\nA. Active length\\nB. Resting length\\nC. Optimal length\\nD. Maximal length\\nChoose the correct option (A, B, C, or D):', 'Question: All of the following are the diseases occurring due to disturbance in lipid metabolism except:\\nA. Gaucher’s Disease\\nB. Niemann-Pick Disease .\\nC. Hurler syndrome.\\nD. Letterer-Siwe Disease.\\nChoose the correct option (A, B, C, or D):', 'Question: In cotrimoxazole, sulphamethoxazole and trimethoprim are in ratio of:\\nA. 2:01\\nB. 1:01\\nC. 5:01\\nD. 4:05\\nChoose the correct option (A, B, C, or D):', 'Question: What is Ranula -\\nA. Retention cyst of sublingual gland\\nB. Retention cyst of submandibular gland\\nC. Extravasation cyst of sublingual glands\\nD. Extravasation cyst of submandibular glands\\nChoose the correct option (A, B, C, or D):', 'Question: What is the significance of mutation of CCR5 protein?\\nA. High resistance to HIV infection\\nB. High susceptibility to HIV infection\\nC. Causes resistance to anti retroviral therapy\\nD. Causes increased virulence of the virus\\nChoose the correct option (A, B, C, or D):', 'Question: What is the diagnosis in this patient with abdominal pain?\\nA. Amyloidosis\\nB. Familial Mediterranean fever\\nC. Lead poisoning\\nD. Leukemia\\nChoose the correct option (A, B, C, or D):', \"Question: A hypeensive patient Sattu already receiving a drug 'X' to control his BP was prescribed a tricyclic antidepressant. This resulted in the abolition of the antihypeensive action of 'X'. Which of the following drug can be 'X'?\\nA. Enalapril\\nB. Clonidine\\nC. Atenolol\\nD. Diltiazem\\nChoose the correct option (A, B, C, or D):\", 'Question: Methylene blue test is used to detect\\nA. Microorganisms\\nB. Sucrose\\nC. Fats\\nD. All of the above\\nChoose the correct option (A, B, C, or D):']\n"
     ]
    },
    {
     "name": "stderr",
     "output_type": "stream",
     "text": [
      "  4%|▎         | 73/2043 [01:40<43:57,  1.34s/it]"
     ]
    },
    {
     "name": "stdout",
     "output_type": "stream",
     "text": [
      "['Question: Post coital test detects all of the following. Except:\\nA. Fallopian tube block\\nB. Cervical factor abnormality\\nC. Sperm count\\nD. Sperm abnormality\\nChoose the correct option (A, B, C, or D):', 'Question: True statement about Coarctation of the Aorta includes\\nA. Lower limb pulses are barely palpable or absent\\nB. Blood pressure is elevated distal to the lesion and reduced proximal to it\\nC. The condition is twice as common in females as males\\nD. Hypertrophy of the lower ribs may be seen in older children\\nChoose the correct option (A, B, C, or D):', 'Question: 10 year old boy complaints of pain in right arm near the shoulder, x-ray shows expansile lytic lesion in upper third of humerus, what is the likely diagnosis.\\nA. Aneurysmal Bone cyst\\nB. Simple bone cyst\\nC. Giant cell tumor\\nD. Osteosarcoma\\nChoose the correct option (A, B, C, or D):', 'Question: All the following decrease skeletal muscle tone by CNS effects except:\\nA. D-tubocurarin\\nB. Diazepam\\nC. Beclofen\\nD. Mephensin\\nChoose the correct option (A, B, C, or D):', 'Question: Most common cause of Genital Herpes\\nA. HSV-1\\nB. HSV-2\\nC. HSV-3 (VZV)\\nD. HSV-4 (EBV)\\nChoose the correct option (A, B, C, or D):', 'Question: Forced diuresis with acidification or alkalinization of urine is a common method for elimination of certain poisons/drugs from the body. The elimination of which of the following drugs is commonly enhanced by alkaline diuresis -\\nA. Amphetamines\\nB. Phenobarbitone\\nC. Phencyclidine\\nD. Theophylline\\nChoose the correct option (A, B, C, or D):', 'Question: Dosage of Vitamin-A for children between 1-3 years\\nA. 5,00,000 IU\\nB. 2,00,000 IU\\nC. 1,00,000 IU\\nD. 3,00,000 IU\\nChoose the correct option (A, B, C, or D):', \"Question: Ulceration of the vulva is commonly seen in all except :\\nA. Bacterial vaginosis\\nB. Syphilis\\nC. Chancroid\\nD. Behcet's disease\\nChoose the correct option (A, B, C, or D):\", 'Question: Which of the following is included as \"proximate principles\" of nutrition?\\nA. Iron\\nB. Vitamin A\\nC. Carbohydrate\\nD. Calcium\\nChoose the correct option (A, B, C, or D):', 'Question: A 40 year old patient has undergone an open cholecystectomy. The procedure was repoed as uneventful by the operating surgeon. She has 100 ml of bile output from the drain kept in the gallbladder bed on the first post operative day. On examination she is afebrile and anicteric. The abdomen is soft and bowel sounds are normally heard. As an attending physician, what should be your best possible advice?\\nA. Order an urgent endoscopic retrograde cholangiography and biliary stenting\\nB. Urgent laparotomy\\nC. Order an urgent hepatic imino diacetic acid scintigraphy (HIDA)\\nD. Clinical observation\\nChoose the correct option (A, B, C, or D):', 'Question: Dye for myelography is injected in which space :\\nA. Subdural\\nB. Epidural\\nC. Subarachnoid\\nD. Extradural\\nChoose the correct option (A, B, C, or D):', 'Question: A 17-year-old soccer player suffered a fracture to the left tibia. After his lower leg has been in a cast for 8 weeks, he found that the left gastrocnemius muscle is significantly smaller in circumference than it was before the fracture. What is the most likely explanation?\\nA. Decrease in the number of individual muscle fibers in the muscle.\\nB. Decrease in blood flow to the muscle caused by constriction from the cast.\\nC. Temporary reduction in actin and myosin protein synthesis\\nD. Progressive denervation.\\nChoose the correct option (A, B, C, or D):', 'Question: KOH wet mount is prepared for\\nA. Bacteria\\nB. Virus\\nC. Fungus\\nD. Parasite\\nChoose the correct option (A, B, C, or D):', 'Question: Fluoride is used in\\nA. Blood glucose estimation samples\\nB. Urine glucose estimation samples\\nC. Both 1 & 2\\nD. None of the above\\nChoose the correct option (A, B, C, or D):', 'Question: Among the following, which of the following 5-PDE inhibitor has the longest duration of action?\\nA. Sildenafil\\nB. Vardenafil\\nC. Tadalafil\\nD. Udenafil\\nChoose the correct option (A, B, C, or D):', 'Question: What is the naturally occurring form of vitamin D in the human skin?\\nA. Calciferol\\nB. 7 hydroeholesterol\\nC. 25 hydroxy cholecalciferol\\nD. 1,25 dihydroxy cholecalciferol\\nChoose the correct option (A, B, C, or D):']\n"
     ]
    },
    {
     "name": "stderr",
     "output_type": "stream",
     "text": [
      "  4%|▎         | 74/2043 [01:41<46:49,  1.43s/it]"
     ]
    },
    {
     "name": "stdout",
     "output_type": "stream",
     "text": [
      "['Question: All of the following diuretics acts from luminal side of renal tubules except:\\nA. Loop diuretics\\nB. ENAC  blockers\\nC. Aldosterone antagonists\\nD. Mannitol\\nChoose the correct option (A, B, C, or D):', 'Question: The following is not an atypical antipsychotic\\nA. Thioridazine\\nB. Clozapine\\nC. Olanzapine\\nD. Resperidone\\nChoose the correct option (A, B, C, or D):', 'Question: Components of 60 S subunit of ribosome are\\nA. 5.8 S\\nB. 23 S\\nC. 16 S\\nD. 18 S\\nChoose the correct option (A, B, C, or D):', 'Question: A 28-year-old lady has put on weight (10 kg over a period of 3 years) and has oligomenorrhoea followed by amenorrhoea for 8 months. The blood pressure is 160/100 mm of Hg. Which of the following is the most appropriate investigation?\\nA. Serum electrolytes\\nB. Plasma coisol\\nC. Plasma testosterone and ultrasound\\nD. T3, T4 and TSH\\nChoose the correct option (A, B, C, or D):', 'Question: Some mRNA has self-splicing activity. The removal of introns is/are done by\\nA. Occur in intron that from Ribozyme\\nB. Self-splicing introns\\nC. Lariats intermediates are formed\\nD. All of these\\nChoose the correct option (A, B, C, or D):', 'Question: The risk factors of acute pelvic inflammatory disease (PID) are the following except:\\nA. Menstruating teenagers who have multiple sex partners\\nB. IUD users\\nC. Women with monogamous partner who had vasectomy\\nD. Previous history of acute PID\\nChoose the correct option (A, B, C, or D):', 'Question: Most sensitive indicator of iron deficiency anemia\\nA. Packed cell volume\\nB. Hemoglobin\\nC. Serum ferritin\\nD. Serum iron\\nChoose the correct option (A, B, C, or D):', 'Question: Assessment of malnutrition is done by:-\\nA. Mid-arm circumference (MAC)\\nB. Body mass index\\nC. Weight for age\\nD. All of the above\\nChoose the correct option (A, B, C, or D):', 'Question: Thoracic Sympathetic Chain is situated :\\nA. In front of posterior mediastinum\\nB. Passes superficial to medial arcuate ligament\\nC. Near heads of 2nd to 10th rib\\nD. In front of veebral column\\nChoose the correct option (A, B, C, or D):', 'Question: A 30 year old lady c/o sudden onset breathlessness, anxiety, palpitation & feeling of impending doom. Physical examination is normal. What is the diagnosis -\\nA. Panic attack\\nB. PTSD\\nC. Conversion disorder\\nD. Acute psychosis\\nChoose the correct option (A, B, C, or D):', 'Question: Which of the following streptococcal antigen cross reacts with synol fluid?\\nA. Carbohydrate (group A)\\nB. Cell wall protein\\nC. Capsular hyaluronic acid\\nD. Peptidoglycan\\nChoose the correct option (A, B, C, or D):', 'Question: Drug of choice for primary prophylaxis for acute rheumatic fever?\\nA. Erythromycin-1.2 million units\\nB. Erythromycin-1.2 lakh units\\nC. Benzathine penicllin-1.2 lakh units\\nD. Benzathine penicillin-1.2 million units\\nChoose the correct option (A, B, C, or D):', 'Question: A 48 year old woman has developed chronic renal failure, and a renal scan showed bilaterally enlarged kidneys with multiple cysts. She had a sudden onset severe headache. A cerebral angiogram demonstrated marked narrowing of cerebral aery branches near the base of the brain, consistent with vasospasm, but no intraparenchymal hemorrhage were present. Which of the following condition MOST likely produced these findings?\\nA. Bacterial meningitis\\nB. Severe atherosclerosis\\nC. Malignant hypeension\\nD. Subarachnoid hemorrhage\\nChoose the correct option (A, B, C, or D):', 'Question: Commonest presentation of neurocysticercosis is:\\nA. Seizures\\nB. Focal neurological deficits\\nC. Dementia\\nD. Radiculopathy\\nChoose the correct option (A, B, C, or D):', 'Question: Dermatophyte affecting the hair, nail, and skin is\\nA. Trichophyton\\nB. Epidermophyton\\nC. Microsporum\\nD. Malassezia\\nChoose the correct option (A, B, C, or D):', 'Question: A 10-year-old boy developed hoarseness of voice following an attack of diphtheria. On examination his right vocal was paralysed. The treatment of choice for paralysed vocal cord will be:\\nA. Gel foam injection of right vocal cord\\nB. Fat injection of right vocal cord\\nC. Thyroplasty type-I\\nD. Wait for spontaneous recovery of vocal cord\\nChoose the correct option (A, B, C, or D):']\n"
     ]
    },
    {
     "name": "stderr",
     "output_type": "stream",
     "text": [
      "  4%|▎         | 75/2043 [01:43<47:08,  1.44s/it]"
     ]
    },
    {
     "name": "stdout",
     "output_type": "stream",
     "text": [
      "['Question: Sensations which are appreciated in thalamus\\nA. Propioception\\nB. Pain and temperature\\nC. Tactile sensations\\nD. All\\nChoose the correct option (A, B, C, or D):', 'Question: A 70-year-old man is evaluated in emergency department for symptoms of dyspnea, orthopnea, and paroxysmal nocturnal dyspnea. His past medical history is significant for hypertension, type 2 diabetes, chronic kidney disease, and hypothyroidism. Medications are furosemide, enalapril, atorvastatin, metformin, and insulin.On physical examination he has generalized cardiomegaly and pulmonary and systemic venous hypertension. The ECG is shown in Figure below. What is the cardiac rhythm seen on the ECG?\\nA. ectopic atrial tachycardia\\nB. atrial flutter with 2 :1 AV conduction\\nC. sinus tachycardia\\nD. supraventricular tachycardia\\nChoose the correct option (A, B, C, or D):', 'Question: A young patient presents with history of dysphagia more to liquid than solids. The first investigation you will do is:\\nA. Barium Swallow\\nB. Esophagoscopy\\nC. Ultrasound of the chest\\nD. C.T. Scan of the chest\\nChoose the correct option (A, B, C, or D):', 'Question: True about spinal cord:\\nA. In adults spinal cord ends at lower border of L1 veebra\\nB. In newborn may extend up to L3\\nC. Cauda equine extends from lumbar veebra to coccyx\\nD. All\\nChoose the correct option (A, B, C, or D):', 'Question: An 11-year-old boy presents with pain in his right leg. A radiograph shows a \"sunburst\" appearance with bone destruction, soft tissue mass, new bone formation, and sclerosis limited to the metaphysis of the lower femur. select the type of bone lesion with which it is most likely to be associated (SELECT 1 LESION)\\nA. Osteoma\\nB. Osteoid osteoma\\nC. Osteoblastoma\\nD. Osteosarcoma\\nChoose the correct option (A, B, C, or D):', 'Question: The alveolar aerial gradient is highest in which of the following?\\nA. ILD\\nB. Pulmonary Embolism\\nC. Acute severe asthma\\nD. Foreign body leading to upper airway obstruction\\nChoose the correct option (A, B, C, or D):', 'Question: White infracts are seen in which of the following\\nA. Kidney\\nB. Spleen\\nC. Hea\\nD. All the above\\nChoose the correct option (A, B, C, or D):', 'Question: Which of the following is the LEAST common immunologic manifestation of HIV infection?\\nA. Cutaneous reactions to drugs\\nB. Anaphylactic reactions to drugs\\nC. Anticardiolipin antibodies\\nD. Oligoaicular ahritis\\nChoose the correct option (A, B, C, or D):', 'Question: Efferent from cerebellum is through\\nA. Granule cells\\nB. Golgi cells\\nC. Purkinje cells\\nD. Basket cells\\nChoose the correct option (A, B, C, or D):', 'Question: Which stage of LGV infection is associated with bubos?\\nA. First stage\\nB. Second stage\\nC. Third stage\\nD. Throughout all stages\\nChoose the correct option (A, B, C, or D):', 'Question: The true statement about the epidemiology of H.pylori is :\\nA. In developed world 80 % of population is affected before the age of 20\\nB. The prevalence is increasing in developed world\\nC. Most of the infected are children in developed countries\\nD. Poor socioeconomic status and less education predisposes to higher colonization rates\\nChoose the correct option (A, B, C, or D):', 'Question: Air embolism is best diagnosed by?\\nA. | End tidal CO2\\nB. | End tidal N2\\nC. Doppler study\\nD. Ultrasound\\nChoose the correct option (A, B, C, or D):', 'Question: All of the following nutritional assessment methods indicate inadequate nutrition, except:\\nA. Hb < 11.5 g/dl during 3rd trimester of pregnancy\\nB. Increased 1-4 year moality rate\\nC. Bih weight < 2500 gm\\nD. Decreased weight for height\\nChoose the correct option (A, B, C, or D):', 'Question: Most common type of vaginal carcinoma is :\\nA. Squamous cell carcinoma\\nB. Adenocarcinoma\\nC. Transitional cell carcinoma\\nD. Columnar cell Ca\\nChoose the correct option (A, B, C, or D):', 'Question: PSA > 2Ong/mL is seen in:\\nA. Prostate cancer\\nB. BPH\\nC. Prostatitis\\nD. Meatastatic carcinoma\\nChoose the correct option (A, B, C, or D):', 'Question: First external sign of decomposition in a dead body: NEET 13\\nA. Decomposition of liver and intestine\\nB. Greenish discoloration over right iliac fossa\\nC. Greenish discoloration over dependent pas\\nD. Bloodstained froth from mouth\\nChoose the correct option (A, B, C, or D):']\n"
     ]
    },
    {
     "name": "stderr",
     "output_type": "stream",
     "text": [
      "  4%|▎         | 76/2043 [01:45<50:16,  1.53s/it]"
     ]
    },
    {
     "name": "stdout",
     "output_type": "stream",
     "text": [
      "['Question: A 60-year-old man is in a car crash in which he is the driver. He did not have a seat belt or an airbag. He is found to have multiple rib fractures over his right chest. His pulse is weaker during inspiration. What are the most likely diagnoses?\\nA. Flail chest\\nB. Empyema\\nC. Diaphragm rupture\\nD. Cervical rib\\nChoose the correct option (A, B, C, or D):', \"Question: Which of the following type of malignancy is associated with Marjolin's ulcer?\\nA. Basal cell carcinoma\\nB. Squamous cell carcinoma\\nC. Malignant fibrous histiocytoma\\nD. Neurotrophic malignant melanoma\\nChoose the correct option (A, B, C, or D):\", \"Question: Clavulanic acid is given in combination with amoxicillin in order to\\nA. Reduce the risk of allergic reactions\\nB. Prolong amoxicillin's half-life\\nC. Reduce the severity of diarrhea\\nD. Extend amoxicillin's antibacterial spectrum\\nChoose the correct option (A, B, C, or D):\", 'Question: A 5 year old male child has multiple hyperprigmented macules over the trunk. On rubbing the lesion with the rounded end of a pen, he developed uicarial wheal, confined to the border of the lesion. The most likely diagnosis is\\nA. Fixed drug eruption\\nB. Lichen planes\\nC. Uicaria pigmentosa\\nD. Uicarial vasculitis\\nChoose the correct option (A, B, C, or D):', 'Question: Stretch laceration is seen in\\nA. Blunt tangential impact\\nB. Blunt perpendicular impact\\nC. Horizontal crushing\\nD. Impact by sharp objects with heavy base\\nChoose the correct option (A, B, C, or D):', \"Question: A 45-year-old woman with Crohn disease and a small intestinal fistula develops tetany during the second week of parenteral nutrition. The laboratory findings include Na: 135 mEq/L K: 3.2 mEq/L Cl: 103 mEq/L HCO3 : 25 mEq/L Ca: 8.2 mEq/L Mg: 1.2 mEq/L PO4 : 2.4 mEq/L Albumin: 2.4 An aerial blood gas sample reveals a pH of 7.42, PCO2 of 38 mm Hg, and PO2 of 84 mm Hg. Which of the following is the most likely cause of the patient's tetany?\\nA. Hyperventilation\\nB. Hypocalcemia\\nC. Hypomagnesemia\\nD. Essential fatty acid deficiency\\nChoose the correct option (A, B, C, or D):\", 'Question: All of the following structures are removed in right hemicolectomy except\\nA. Caecum\\nB. Ascending Colon\\nC. Transverse colon\\nD. Hepatic Flexure\\nChoose the correct option (A, B, C, or D):', 'Question: A patient on Phenytoin therapy develops depression, for which he was prescribed tricyclic anti-Depressants. He now complains of lassitude and his Hb reading is 8gm/dl, the next step in the management of this patient is:\\nA. Chest X ray\\nB. MCV should be estimated\\nC. GGT should be estimated\\nD. None of the above\\nChoose the correct option (A, B, C, or D):', \"Question: Nodules seen near the collarette are called -\\nA. Busacca nodules\\nB. Koeppe's nodules\\nC. Lisch nodules\\nD. Dalen Fuch's nodules\\nChoose the correct option (A, B, C, or D):\", 'Question: Antidepressant causing Tardive dyskinesia is ?\\nA. MAO inhibitors\\nB. Mianserin\\nC. Imipramine\\nD. Amoxapine\\nChoose the correct option (A, B, C, or D):', 'Question: Which of the following anaesthetic agent lacks analgesic effect – a) N2Ob) Thiopentonec) Methohexitoned) Ketaminee) Fentanyl\\nA. a\\nB. c\\nC. ac\\nD. bc\\nChoose the correct option (A, B, C, or D):', 'Question: Bronchial artery supplies all except:\\nA. Bronchus\\nB. Bronchioles\\nC. Alveolar duct\\nD. Alveolar sac\\nChoose the correct option (A, B, C, or D):', 'Question: In splenic injury conservative management is done in\\nA. Hemodynamically unstable\\nB. Young patients\\nC. Shattered spleen\\nD. Extreme pallor and hypotension b\\nChoose the correct option (A, B, C, or D):', 'Question: True about mycetoma -\\nA. Commonly occurs in hands\\nB. Commonly erodes bone\\nC. Drains through lymphatics\\nD. Antibiotics has no role\\nChoose the correct option (A, B, C, or D):', 'Question: Highest chance of success in renal transplant is seen when the donor is the -\\nA. Identical twin\\nB. Father\\nC. Mother\\nD. Sister\\nChoose the correct option (A, B, C, or D):', 'Question: What is the MOST common radiographic manifestation of acute papillary muscle rupture?\\nA. Pulmonary edema\\nB. Left atrial enlargement\\nC. Left ventricular enlargement\\nD. Pericardial effusion\\nChoose the correct option (A, B, C, or D):']\n"
     ]
    },
    {
     "name": "stderr",
     "output_type": "stream",
     "text": [
      "  4%|▍         | 77/2043 [01:46<52:16,  1.60s/it]"
     ]
    },
    {
     "name": "stdout",
     "output_type": "stream",
     "text": [
      "['Question: Full-term, Small for Date babies are at high risk of –\\nA. Hypoglycemia\\nB. Intraventricular haemorrhage\\nC. Bronchopulomonary dysplasia\\nD. Hyperthermia\\nChoose the correct option (A, B, C, or D):', 'Question: In Glycinuria, glycine is excreted as\\nA. Urea\\nB. Glutathione\\nC. Formate\\nD. Oxalate\\nChoose the correct option (A, B, C, or D):', 'Question: Vaginal wall is derived from ?\\nA. Endoderm\\nB. Mesoderm\\nC. Endoderm and mesoderm\\nD. Ectoderm and mesoderm\\nChoose the correct option (A, B, C, or D):', 'Question: Blood is stored at what temperature in blood bank?\\nA. -2 to -4 degrees Celsius\\nB. -2 to 0 degrees Celsius\\nC. 1 to 6 degrees Celsius\\nD. 6 to 12 degrees Celsius\\nChoose the correct option (A, B, C, or D):', 'Question: Multiple Hypoaestetic, hypopigmented macules on right lateral forearm without acid fast bacilli is indicative of -\\nA. Tuberculoid leprosy\\nB. Lepromatous leprosy\\nC. Indeterminate leprosy\\nD. Borderline leprosy\\nChoose the correct option (A, B, C, or D):', 'Question: Muscle of expiration is/are -a) Diaphragmb) Internal intercostalc) External intercostald) Rectus Abdominis\\nA. ac\\nB. bd\\nC. cd\\nD. ab\\nChoose the correct option (A, B, C, or D):', 'Question: Treatment of choice in 11 years old children with hepatitis C infections ?\\nA. Vaccine\\nB. Interferon\\nC. Gamma-globulin\\nD. Coicosteroids\\nChoose the correct option (A, B, C, or D):', 'Question: Aerial supply to epistaxis area are all except\\nA. Greater palatine\\nB. Anterior ethmoidal\\nC. Posterior ethmoidal\\nD. Sphenopalatine\\nChoose the correct option (A, B, C, or D):', 'Question: When do you operate for prolapsed disc -\\nA. Busy executive needs quick surgery\\nB. Only with weakness no pain\\nC. Severe pain interfering with activity and not relieved by rest and treatment of 8 weeks\\nD. Patient of P1D with difficulty in ambulation\\nChoose the correct option (A, B, C, or D):', 'Question: Isthmus of thyroid gland corresponds to which of the following tracheal rings?\\nA. 3-Jan\\nB. 4-Feb\\nC. 6-Apr\\nD. 8-Jun\\nChoose the correct option (A, B, C, or D):', 'Question: Which of the following is used in management of diabetes?\\nA. Bromocriptine\\nB. Octreotide\\nC. Prednisolone\\nD. Pegvisomant\\nChoose the correct option (A, B, C, or D):', 'Question: Rice watery stool is indicative of which organism-\\nA. Vibrio cholerae Ol\\nB. Vibrio cholerae 0139\\nC. Vibrio vulnificus\\nD. Shigella\\nChoose the correct option (A, B, C, or D):', 'Question: Octreotide is, except -\\nA. Somatostatin analogue\\nB. Used in refractory diarrhoea in AIDS\\nC. Used in carcinoid\\nD. An absorbent\\nChoose the correct option (A, B, C, or D):', 'Question: Anterior choroidal aery is a branch of\\nA. Anterior cerebral aery\\nB. Middle cerebral aery\\nC. Posterior cerebral aery\\nD. Internal carotid aery\\nChoose the correct option (A, B, C, or D):', 'Question: The most common oppounistic infection observed in patients with AIDS is -\\nA. Atypical mycobacteria\\nB. Haemophilus influenzae\\nC. Pseudomonas aerugiosa\\nD. Pneumocystis carinii\\nChoose the correct option (A, B, C, or D):', 'Question: A 28-year-old taxi driver is chronically consumed by fears of having accidentally run over a pedestrian. Although he tries to convince himself that his worries are silly, his anxiety continues to mount until he drives back to the scene of the \"accident\" and proves to himself that nobody lies hu in the street. This behavior is an example of which of the following? NOT RELATED - PSYCHIATRY\\nA. A compulsion secondary to an obsession\\nB. An obsession triggered by a compulsion\\nC. A delusional ideation\\nD. A typical manifestation of obsessive-compulsive personality disorder\\nChoose the correct option (A, B, C, or D):']\n"
     ]
    },
    {
     "name": "stderr",
     "output_type": "stream",
     "text": [
      "  4%|▍         | 78/2043 [01:48<50:07,  1.53s/it]"
     ]
    },
    {
     "name": "stdout",
     "output_type": "stream",
     "text": [
      "['Question: The maxillary nerve arises from the trigeminal ganglion in the middle cranial fossa. It passes forward in the lateral wall of the cavernous sinus and leaves the skull through which of the following foramen to enter the pterygopalatine fossa\\nA. Foramen ovale\\nB. Foramen spinosum\\nC. Foramen rotundum\\nD. Formen lacerum\\nChoose the correct option (A, B, C, or D):', 'Question: Drug which is used to control status epilepticus is\\nA. Diazepam\\nB. Sodium nitroprusside\\nC. Glyceryl trinitrite\\nD. Pheno barbital\\nChoose the correct option (A, B, C, or D):', \"Question: Multifactorial inheritance is most likely to play a role in?\\nA. Cleft lip\\nB. Marfan's syndrom\\nC. Erythroblastis fetalis\\nD. Down's syndrome\\nChoose the correct option (A, B, C, or D):\", 'Question: Intestional absorption of Calcium is decreased by\\nA. Proteins\\nB. Lactose\\nC. Phytic Acid\\nD. Acidity\\nChoose the correct option (A, B, C, or D):', \"Question: A person with 'Inappropriate speech' evaluated by the 'Glasgow Coma Scale' will have a verbal score of:\\nA. 4\\nB. 3\\nC. 2\\nD. 1\\nChoose the correct option (A, B, C, or D):\", 'Question: True about wound healing\\nA. Infected wound heal by primary intention\\nB. Deep dermal wound heal by scar formation\\nC. Wound contraction is found in healing by secondary intention\\nD. More intense inflammatory response in primary intention\\nChoose the correct option (A, B, C, or D):', 'Question: Gastrectomy produces deficiency of which vitamin -\\nA. VitaminB6\\nB. Vitamin B12\\nC. Vitamin B2\\nD. Vitamin B1\\nChoose the correct option (A, B, C, or D):', 'Question: Duration of treatment is multibacillary leprosy according to WHO is -\\nA. 6 months\\nB. 1 year\\nC. 2 years\\nD. 5 years\\nChoose the correct option (A, B, C, or D):', 'Question: Megaloblasticanemia occur due to deficiency of\\nA. Iron deficiency\\nB. Folate deficiency\\nC. Protein deficiency\\nD. Vitamin C deficiency\\nChoose the correct option (A, B, C, or D):', 'Question: Hypoxia due to slowing of circulation is seen in which type of hypoxia?\\nA. Anemic hypoxia\\nB. Histotoxic\\nC. Hea disease\\nD. Stagnant\\nChoose the correct option (A, B, C, or D):', 'Question: Which process establishes the three definitive germ layers?\\nA. Neurulation\\nB. Gastrulation\\nC. Craniocaudal folding\\nD. Lateral folding\\nChoose the correct option (A, B, C, or D):', 'Question: What is the mode of action of local anesthetics?\\nA. Prevents Na+ channel activation and the Na+ influx associated with membrane depolarization.\\nB. Change the voltage gated Na+ channel from conducting to non conducting\\nC. Destroys the Na+ channel\\nD. Close the Na+ channel\\nChoose the correct option (A, B, C, or D):', 'Question: Which of the following is most acceptable theory explaining development of endometriosis\\nA. Coelomic metaplasia\\nB. Retrograde menstruation\\nC. Lymphatic spread\\nD. Mullerian remnants outside uterus\\nChoose the correct option (A, B, C, or D):', 'Question: 60 yrs old male with poor stream of urine, post void residual urine is 400m1, bA hydronephrosis and prostate weighing 70 g. His urea is 120 and creat 3.5. Ideal \"next immediate\" step :\\nA. Catheterize with Foley catheter\\nB. bA PC Nephrostomies\\nC. CT to rule out ca\\nD. MRI pelvis\\nChoose the correct option (A, B, C, or D):', 'Question: Optimal timing of administration of prophylactic antibiotic for surgical patients is:\\nA. At the induction of anesthesia\\nB. Any time during the surgical procedure\\nC. One hour after induction\\nD. One hour prior to induction of anesthesia\\nChoose the correct option (A, B, C, or D):', 'Question: An infant should be exclusively breastfed till\\nA. 4 months\\nB. 6 months\\nC. 12 months\\nD. 24 months\\nChoose the correct option (A, B, C, or D):']\n"
     ]
    },
    {
     "name": "stderr",
     "output_type": "stream",
     "text": [
      "  4%|▍         | 79/2043 [01:49<49:22,  1.51s/it]"
     ]
    },
    {
     "name": "stdout",
     "output_type": "stream",
     "text": [
      "['Question: All the following are feature of polycystic disease of kidneys except:-\\nA. Hematuria\\nB. Hypeension\\nC. Renal failure\\nD. Erythrocytosis\\nChoose the correct option (A, B, C, or D):', 'Question: Syndrome characterized by proteinuria, hematuria and hypeension: March 2007\\nA. Nephrotic syndrome\\nB. Acute nephritis\\nC. Renal cell carcinoma\\nD. Nephroclacinosis\\nChoose the correct option (A, B, C, or D):', 'Question: A latent, measles-like viral infection and, presumably, a defect in cellular immunity is associated with which of the following diseases?\\nA. Progressive multifocal leukoencephalopathy (PML)\\nB. Multiple sclerosis (MS)\\nC. Creutzfeldt-Jakob disease\\nD. Subacute sclerosing panencephalitis (SSPE)\\nChoose the correct option (A, B, C, or D):', 'Question: The first step in the management of hirsutism due to stein leventhal syndrome is :\\nA. OCP\\nB. HMG\\nC. Spironolactone\\nD. Bromocriptine\\nChoose the correct option (A, B, C, or D):', 'Question: The stapes is embryologically derived from the following pharyngeal arch?\\nA. 1st arch\\nB. 2nd arch\\nC. 3rd arch\\nD. 4th arch\\nChoose the correct option (A, B, C, or D):', 'Question: When a patient is admitted with severe upper abdominal pain, the diagnosis of acute pancreatitis should not be accepted until each of the following conditions has been ruled out except:\\nA. Acute cholecystitis\\nB. Acute renal colic\\nC. Adhesive small bowel obstruction\\nD. Mesenteric embolization\\nChoose the correct option (A, B, C, or D):', 'Question: Duodenal blow out following Billroth gastrectomy most commonly occurs on which day -\\nA. 2nd day\\nB. 4th day\\nC. 6thday\\nD. 12th day\\nChoose the correct option (A, B, C, or D):', 'Question: What happens in hyperophy ?\\nA. Increase no. of cells\\nB. Increase size of cells\\nC. Increase protein in cells\\nD. Decrease in cell number\\nChoose the correct option (A, B, C, or D):', 'Question: Frequency of renal involvement in HSP?\\nA. <10%\\nB. >80%\\nC. >6O%\\nD. 1O% - 50%\\nChoose the correct option (A, B, C, or D):', 'Question: Anti-depressant drug which is used for smoking cessation is?\\nA. Venlafaxine\\nB. Topiramate\\nC. Bupropion\\nD. Amitriptyline\\nChoose the correct option (A, B, C, or D):', 'Question: A 3 month old child has moderate fever and non productive cough and mild dyspnea. After course of mild antibiotic the condition of the child improved transiently but he again develops high fever, productive cough and increased respiratory distress. Chest X ray shows hyperluscency and PFT shows obstructive pattern. Most probable diagnosis is\\nA. Alveolar microlithiasis\\nB. Post viral syndrome\\nC. >Follicular bronchitis\\nD. >Bronchiolitis obliterans\\nChoose the correct option (A, B, C, or D):', 'Question: Patients suffering from which of the following disease as per ICD/DSM criteria are eligible for disability benefit as per the National Trust Act?\\nA. Schizophrenia\\nB. Bipolar disorder\\nC. Dementia\\nD. Mental retardation\\nChoose the correct option (A, B, C, or D):', 'Question: A 50 year old diabetic patient with asymptomatic gallstone (>3 cm) will be best treated by\\nA. Early surgery\\nB. Bile salt treatment\\nC. ESWL\\nD. Waiting till it becomes symptomatic\\nChoose the correct option (A, B, C, or D):', 'Question: Which of the following antiarrhythmic drugs can decrease the slope of Phase 0 and prolong the action potential duration?\\nA. Lignocaine\\nB. Propanolol\\nC. Quinidine\\nD. Adenosine\\nChoose the correct option (A, B, C, or D):', 'Question: Which of the follow ing lesion is characteristic of diabetic nephropathy?\\nA. Hyaline arteriosclerosis\\nB. Nodular glomerulosclerosis\\nC. Renal Amyloid deposits\\nD. Fibrinoid necrosis\\nChoose the correct option (A, B, C, or D):', 'Question: Declaration of oslo deals with -\\nA. Organ donation\\nB. Right to death\\nC. Therapeutic abortion\\nD. Human experiments\\nChoose the correct option (A, B, C, or D):']\n"
     ]
    },
    {
     "name": "stderr",
     "output_type": "stream",
     "text": [
      "  4%|▍         | 80/2043 [01:51<50:35,  1.55s/it]"
     ]
    },
    {
     "name": "stdout",
     "output_type": "stream",
     "text": [
      "[\"Question: A young male presents with painful ulcers on the mouth and glans penis with blurred vision and history of recurrent epididymitis. Which of the following is the most probable diagnosis?\\nA. Behcet syndrome\\nB. Oculocutaneous aphthous ulcer syndrome\\nC. Fabry's disease\\nD. Epidermolysis bullosa\\nChoose the correct option (A, B, C, or D):\", 'Question: The following enzyme is required for the hexose monophosphate shunt pathway:\\nA. Glucose-6-phosphatase\\nB. Phosphorylase\\nC. Aldolase\\nD. Glucose-6-phosphate dehydrogenase\\nChoose the correct option (A, B, C, or D):', 'Question: Chronic Laxative abuse can result in the formation of which type of stone:\\nA. Xanthine\\nB. Cysteine\\nC. Ammonium urate\\nD. Struvite\\nChoose the correct option (A, B, C, or D):', 'Question: Following are side effects of Nimodipine except ?\\nA. Hypotension\\nB. Flushing\\nC. Headache\\nD. Marked changes m GIT motility\\nChoose the correct option (A, B, C, or D):', 'Question: Fetal exsanguination can occur if -\\nA. Vasa previa\\nB. Placentaprevia\\nC. Polyhydramnios\\nD. Oligohydramnios\\nChoose the correct option (A, B, C, or D):', 'Question: First to be developed is -\\nA. Neural pit\\nB. Neural groove\\nC. Neural fold\\nD. Primitive streak\\nChoose the correct option (A, B, C, or D):', 'Question: Corneal thickness is measured using -\\nA. Pachymetry\\nB. Keratometer\\nC. CT scan\\nD. Aesthisiometry\\nChoose the correct option (A, B, C, or D):', 'Question: A hypeensive patient who is a chroic smoker presented with recurrent hemoptysis. On examination he had cushingoid features. Investigations revealed raised ACTH levels not suppressed by dexamethasone. The single diagnosis which can account for all his symptoms is\\nA. Multiple endocrine neoplasia I\\nB. Pituitary adenoma\\nC. Adrenocoical adenoma\\nD. Ectopic ACTH producing tumor\\nChoose the correct option (A, B, C, or D):', 'Question: The following neurotransmitter is synthesized from choline and acetyl-CoA:\\nA. Acetylcholine\\nB. Glutamine\\nC. Aspaate\\nD. NO\\nChoose the correct option (A, B, C, or D):', 'Question: True about Trichotillomania is\\nA. Irresistible desire to set fire\\nB. Irresistible desire to steal things\\nC. Associated with patchy hair loss\\nD. Pathological gambling\\nChoose the correct option (A, B, C, or D):', 'Question: A female patient with signs of meningitis and CSF showing gram positive cocobacilli, which is showing characteristic tumbling motility. Diagnosis is\\nA. Listeria\\nB. Meningococcus\\nC. H. influenzae\\nD. Pneumococcus\\nChoose the correct option (A, B, C, or D):', 'Question: Sterilization is commonly performed at which site of fallopian tube:\\nA. Ampulla\\nB. Infundibulum\\nC. Isthmus\\nD. Cornua\\nChoose the correct option (A, B, C, or D):', 'Question: Pisiform bone articulates with?\\nA. Triquetral\\nB. Lunate\\nC. Scaphoid\\nD. Trapezoid\\nChoose the correct option (A, B, C, or D):', 'Question: Main drawback of calcium hydroxide apexification compared with MTA:\\nA. More treatment time\\nB. Incomplete apical barrier\\nC. Incomplete coronal barrier\\nD. Reduced physical strength of dentin\\nChoose the correct option (A, B, C, or D):', 'Question: An asymptomatic old patient presents with bruit in the carotid artery. Which of the following is the investigation of choice?\\nA. Doppler ultrasonography\\nB. Internal carotid angiography\\nC. Aortic arch angiography\\nD. Spiral CT angiography\\nChoose the correct option (A, B, C, or D):', \"Question: Which of the following disease is seen only in females?\\nA. Autism\\nB. Asperger's syndrome\\nC. Retts disease\\nD. Colard'd disease\\nChoose the correct option (A, B, C, or D):\"]\n"
     ]
    },
    {
     "name": "stderr",
     "output_type": "stream",
     "text": [
      "  4%|▍         | 81/2043 [01:52<50:03,  1.53s/it]"
     ]
    },
    {
     "name": "stdout",
     "output_type": "stream",
     "text": [
      "['Question: Drug distribution in tissue true is all except ?\\nA. Chloroquine - eye\\nB. Ephedrine - bone\\nC. Digoxin - skeletal muscle\\nD. Minocycline - adipose tissue\\nChoose the correct option (A, B, C, or D):', 'Question: A 25-year-old man presents 1 week after discovering that his left testicle is twice the normal size. Physical examination reveals a nontender, testicular mass that cannot be transilluminated. Serum levels of alpha-fetoprotein and human chorionic gonadotropin are normal. A hemiorchiectomy is performed, and histologic examination of the surgical specimen shows the cells grow inalveolar or tubular patterns, the neoplastic cells have an epithelial appearance,exhibit hyperchromatic nuclei with prominent nucleoli.. Compared to normal adult somatic cells, this germ cell neoplasm would most likely show high levels of expression of which of the following proteins?\\nA. Desmin\\nB. Dystrophin\\nC. Cytochrome c\\nD. Telomerase\\nChoose the correct option (A, B, C, or D):', 'Question: Tirofiban is a :\\nA. Monoclonal antibody\\nB. Antiplatelet drug\\nC. Anti-inflammatory drug\\nD. Antianginal drug\\nChoose the correct option (A, B, C, or D):', 'Question: Aortic sinus of Valsalva contributes to left ventricular outflow tract (LVOT) function by\\nA. Increasing aortic radius during ejection phase\\nB. Decreasing aortic regurgitation (normally)\\nC. Promoting non-turbulent flow in coronary arteries\\nD. All of the above\\nChoose the correct option (A, B, C, or D):', 'Question: Uterine sarcomas constitute about.................................... % of all malignant growth of uterus :\\nA. 5\\nB. 10\\nC. 15\\nD. 20\\nChoose the correct option (A, B, C, or D):', 'Question: Glucose is reabsorbed in which pa?\\nA. Early PCT\\nB. Henle loop\\nC. Collecting duct\\nD. Distal convoluted tubule\\nChoose the correct option (A, B, C, or D):', 'Question: Which of the following immunoglobulins shows homocytotropism -\\nA. IgG\\nB. IgA\\nC. IgE\\nD. IgD\\nChoose the correct option (A, B, C, or D):', 'Question: 1st product of tryptophan Catabolism\\nA. Kynurenine\\nB. Xantheurenic acid\\nC. Bradykinin\\nD. Melatonin\\nChoose the correct option (A, B, C, or D):', 'Question: Radiation induced cataract is\\nA. Shield cataract\\nB. Antrior polar cataract\\nC. Posterior Subcapsular cataract\\nD. Alpo syndrome\\nChoose the correct option (A, B, C, or D):', 'Question: Which of the following is a characteristic of physiological jaundice of newborn?\\nA. Appears within 1st 24 hours of life\\nB. Involves palms and soles also\\nC. Clinical jaundice usually disappears after 1 month age\\nD. It is always unconjugated hyperbilirubinemia\\nChoose the correct option (A, B, C, or D):']\n"
     ]
    },
    {
     "name": "stderr",
     "output_type": "stream",
     "text": [
      "  4%|▍         | 82/2043 [01:54<45:27,  1.39s/it]"
     ]
    },
    {
     "name": "stdout",
     "output_type": "stream",
     "text": [
      "[]\n"
     ]
    },
    {
     "name": "stderr",
     "output_type": "stream",
     "text": [
      "\n"
     ]
    },
    {
     "ename": "IndexError",
     "evalue": "list index out of range",
     "output_type": "error",
     "traceback": [
      "\u001b[1;31m---------------------------------------------------------------------------\u001b[0m",
      "\u001b[1;31mIndexError\u001b[0m                                Traceback (most recent call last)",
      "Cell \u001b[1;32mIn[28], line 51\u001b[0m\n\u001b[0;32m     48\u001b[0m \u001b[38;5;28;01mtry\u001b[39;00m:\n\u001b[0;32m     49\u001b[0m     \u001b[38;5;66;03m# Tokenize and move to model's device\u001b[39;00m\n\u001b[0;32m     50\u001b[0m     \u001b[38;5;28mprint\u001b[39m(prompts)\n\u001b[1;32m---> 51\u001b[0m     inputs \u001b[38;5;241m=\u001b[39m \u001b[43mtokenizer\u001b[49m\u001b[43m(\u001b[49m\u001b[43mprompts\u001b[49m\u001b[43m,\u001b[49m\u001b[43m \u001b[49m\u001b[43mreturn_tensors\u001b[49m\u001b[38;5;241;43m=\u001b[39;49m\u001b[38;5;124;43m\"\u001b[39;49m\u001b[38;5;124;43mpt\u001b[39;49m\u001b[38;5;124;43m\"\u001b[39;49m\u001b[43m,\u001b[49m\u001b[43m \u001b[49m\u001b[43mpadding\u001b[49m\u001b[38;5;241;43m=\u001b[39;49m\u001b[38;5;28;43;01mTrue\u001b[39;49;00m\u001b[43m,\u001b[49m\u001b[43m \u001b[49m\u001b[43mtruncation\u001b[49m\u001b[38;5;241;43m=\u001b[39;49m\u001b[38;5;28;43;01mTrue\u001b[39;49;00m\u001b[43m)\u001b[49m\u001b[38;5;241m.\u001b[39mto(model\u001b[38;5;241m.\u001b[39mdevice)\n\u001b[0;32m     53\u001b[0m     \u001b[38;5;28;01mwith\u001b[39;00m torch\u001b[38;5;241m.\u001b[39mno_grad():\n\u001b[0;32m     54\u001b[0m         outputs \u001b[38;5;241m=\u001b[39m model\u001b[38;5;241m.\u001b[39mgenerate(\u001b[38;5;241m*\u001b[39m\u001b[38;5;241m*\u001b[39minputs, max_new_tokens\u001b[38;5;241m=\u001b[39m\u001b[38;5;241m2\u001b[39m)\n",
      "File \u001b[1;32md:\\torch_env\\lib\\site-packages\\transformers\\tokenization_utils_base.py:2887\u001b[0m, in \u001b[0;36mPreTrainedTokenizerBase.__call__\u001b[1;34m(self, text, text_pair, text_target, text_pair_target, add_special_tokens, padding, truncation, max_length, stride, is_split_into_words, pad_to_multiple_of, padding_side, return_tensors, return_token_type_ids, return_attention_mask, return_overflowing_tokens, return_special_tokens_mask, return_offsets_mapping, return_length, verbose, **kwargs)\u001b[0m\n\u001b[0;32m   2885\u001b[0m     \u001b[38;5;28;01mif\u001b[39;00m \u001b[38;5;129;01mnot\u001b[39;00m \u001b[38;5;28mself\u001b[39m\u001b[38;5;241m.\u001b[39m_in_target_context_manager:\n\u001b[0;32m   2886\u001b[0m         \u001b[38;5;28mself\u001b[39m\u001b[38;5;241m.\u001b[39m_switch_to_input_mode()\n\u001b[1;32m-> 2887\u001b[0m     encodings \u001b[38;5;241m=\u001b[39m \u001b[38;5;28mself\u001b[39m\u001b[38;5;241m.\u001b[39m_call_one(text\u001b[38;5;241m=\u001b[39mtext, text_pair\u001b[38;5;241m=\u001b[39mtext_pair, \u001b[38;5;241m*\u001b[39m\u001b[38;5;241m*\u001b[39mall_kwargs)\n\u001b[0;32m   2888\u001b[0m \u001b[38;5;28;01mif\u001b[39;00m text_target \u001b[38;5;129;01mis\u001b[39;00m \u001b[38;5;129;01mnot\u001b[39;00m \u001b[38;5;28;01mNone\u001b[39;00m:\n\u001b[0;32m   2889\u001b[0m     \u001b[38;5;28mself\u001b[39m\u001b[38;5;241m.\u001b[39m_switch_to_target_mode()\n",
      "File \u001b[1;32md:\\torch_env\\lib\\site-packages\\transformers\\tokenization_utils_base.py:2975\u001b[0m, in \u001b[0;36mPreTrainedTokenizerBase._call_one\u001b[1;34m(self, text, text_pair, add_special_tokens, padding, truncation, max_length, stride, is_split_into_words, pad_to_multiple_of, padding_side, return_tensors, return_token_type_ids, return_attention_mask, return_overflowing_tokens, return_special_tokens_mask, return_offsets_mapping, return_length, verbose, split_special_tokens, **kwargs)\u001b[0m\n\u001b[0;32m   2970\u001b[0m         \u001b[38;5;28;01mraise\u001b[39;00m \u001b[38;5;167;01mValueError\u001b[39;00m(\n\u001b[0;32m   2971\u001b[0m             \u001b[38;5;124mf\u001b[39m\u001b[38;5;124m\"\u001b[39m\u001b[38;5;124mbatch length of `text`: \u001b[39m\u001b[38;5;132;01m{\u001b[39;00m\u001b[38;5;28mlen\u001b[39m(text)\u001b[38;5;132;01m}\u001b[39;00m\u001b[38;5;124m does not match batch length of `text_pair`:\u001b[39m\u001b[38;5;124m\"\u001b[39m\n\u001b[0;32m   2972\u001b[0m             \u001b[38;5;124mf\u001b[39m\u001b[38;5;124m\"\u001b[39m\u001b[38;5;124m \u001b[39m\u001b[38;5;132;01m{\u001b[39;00m\u001b[38;5;28mlen\u001b[39m(text_pair)\u001b[38;5;132;01m}\u001b[39;00m\u001b[38;5;124m.\u001b[39m\u001b[38;5;124m\"\u001b[39m\n\u001b[0;32m   2973\u001b[0m         )\n\u001b[0;32m   2974\u001b[0m     batch_text_or_text_pairs \u001b[38;5;241m=\u001b[39m \u001b[38;5;28mlist\u001b[39m(\u001b[38;5;28mzip\u001b[39m(text, text_pair)) \u001b[38;5;28;01mif\u001b[39;00m text_pair \u001b[38;5;129;01mis\u001b[39;00m \u001b[38;5;129;01mnot\u001b[39;00m \u001b[38;5;28;01mNone\u001b[39;00m \u001b[38;5;28;01melse\u001b[39;00m text\n\u001b[1;32m-> 2975\u001b[0m     \u001b[38;5;28;01mreturn\u001b[39;00m \u001b[38;5;28mself\u001b[39m\u001b[38;5;241m.\u001b[39mbatch_encode_plus(\n\u001b[0;32m   2976\u001b[0m         batch_text_or_text_pairs\u001b[38;5;241m=\u001b[39mbatch_text_or_text_pairs,\n\u001b[0;32m   2977\u001b[0m         add_special_tokens\u001b[38;5;241m=\u001b[39madd_special_tokens,\n\u001b[0;32m   2978\u001b[0m         padding\u001b[38;5;241m=\u001b[39mpadding,\n\u001b[0;32m   2979\u001b[0m         truncation\u001b[38;5;241m=\u001b[39mtruncation,\n\u001b[0;32m   2980\u001b[0m         max_length\u001b[38;5;241m=\u001b[39mmax_length,\n\u001b[0;32m   2981\u001b[0m         stride\u001b[38;5;241m=\u001b[39mstride,\n\u001b[0;32m   2982\u001b[0m         is_split_into_words\u001b[38;5;241m=\u001b[39mis_split_into_words,\n\u001b[0;32m   2983\u001b[0m         pad_to_multiple_of\u001b[38;5;241m=\u001b[39mpad_to_multiple_of,\n\u001b[0;32m   2984\u001b[0m         padding_side\u001b[38;5;241m=\u001b[39mpadding_side,\n\u001b[0;32m   2985\u001b[0m         return_tensors\u001b[38;5;241m=\u001b[39mreturn_tensors,\n\u001b[0;32m   2986\u001b[0m         return_token_type_ids\u001b[38;5;241m=\u001b[39mreturn_token_type_ids,\n\u001b[0;32m   2987\u001b[0m         return_attention_mask\u001b[38;5;241m=\u001b[39mreturn_attention_mask,\n\u001b[0;32m   2988\u001b[0m         return_overflowing_tokens\u001b[38;5;241m=\u001b[39mreturn_overflowing_tokens,\n\u001b[0;32m   2989\u001b[0m         return_special_tokens_mask\u001b[38;5;241m=\u001b[39mreturn_special_tokens_mask,\n\u001b[0;32m   2990\u001b[0m         return_offsets_mapping\u001b[38;5;241m=\u001b[39mreturn_offsets_mapping,\n\u001b[0;32m   2991\u001b[0m         return_length\u001b[38;5;241m=\u001b[39mreturn_length,\n\u001b[0;32m   2992\u001b[0m         verbose\u001b[38;5;241m=\u001b[39mverbose,\n\u001b[0;32m   2993\u001b[0m         split_special_tokens\u001b[38;5;241m=\u001b[39msplit_special_tokens,\n\u001b[0;32m   2994\u001b[0m         \u001b[38;5;241m*\u001b[39m\u001b[38;5;241m*\u001b[39mkwargs,\n\u001b[0;32m   2995\u001b[0m     )\n\u001b[0;32m   2996\u001b[0m \u001b[38;5;28;01melse\u001b[39;00m:\n\u001b[0;32m   2997\u001b[0m     \u001b[38;5;28;01mreturn\u001b[39;00m \u001b[38;5;28mself\u001b[39m\u001b[38;5;241m.\u001b[39mencode_plus(\n\u001b[0;32m   2998\u001b[0m         text\u001b[38;5;241m=\u001b[39mtext,\n\u001b[0;32m   2999\u001b[0m         text_pair\u001b[38;5;241m=\u001b[39mtext_pair,\n\u001b[1;32m   (...)\u001b[0m\n\u001b[0;32m   3017\u001b[0m         \u001b[38;5;241m*\u001b[39m\u001b[38;5;241m*\u001b[39mkwargs,\n\u001b[0;32m   3018\u001b[0m     )\n",
      "File \u001b[1;32md:\\torch_env\\lib\\site-packages\\transformers\\tokenization_utils_base.py:3177\u001b[0m, in \u001b[0;36mPreTrainedTokenizerBase.batch_encode_plus\u001b[1;34m(self, batch_text_or_text_pairs, add_special_tokens, padding, truncation, max_length, stride, is_split_into_words, pad_to_multiple_of, padding_side, return_tensors, return_token_type_ids, return_attention_mask, return_overflowing_tokens, return_special_tokens_mask, return_offsets_mapping, return_length, verbose, split_special_tokens, **kwargs)\u001b[0m\n\u001b[0;32m   3167\u001b[0m \u001b[38;5;66;03m# Backward compatibility for 'truncation_strategy', 'pad_to_max_length'\u001b[39;00m\n\u001b[0;32m   3168\u001b[0m padding_strategy, truncation_strategy, max_length, kwargs \u001b[38;5;241m=\u001b[39m \u001b[38;5;28mself\u001b[39m\u001b[38;5;241m.\u001b[39m_get_padding_truncation_strategies(\n\u001b[0;32m   3169\u001b[0m     padding\u001b[38;5;241m=\u001b[39mpadding,\n\u001b[0;32m   3170\u001b[0m     truncation\u001b[38;5;241m=\u001b[39mtruncation,\n\u001b[1;32m   (...)\u001b[0m\n\u001b[0;32m   3174\u001b[0m     \u001b[38;5;241m*\u001b[39m\u001b[38;5;241m*\u001b[39mkwargs,\n\u001b[0;32m   3175\u001b[0m )\n\u001b[1;32m-> 3177\u001b[0m \u001b[38;5;28;01mreturn\u001b[39;00m \u001b[38;5;28mself\u001b[39m\u001b[38;5;241m.\u001b[39m_batch_encode_plus(\n\u001b[0;32m   3178\u001b[0m     batch_text_or_text_pairs\u001b[38;5;241m=\u001b[39mbatch_text_or_text_pairs,\n\u001b[0;32m   3179\u001b[0m     add_special_tokens\u001b[38;5;241m=\u001b[39madd_special_tokens,\n\u001b[0;32m   3180\u001b[0m     padding_strategy\u001b[38;5;241m=\u001b[39mpadding_strategy,\n\u001b[0;32m   3181\u001b[0m     truncation_strategy\u001b[38;5;241m=\u001b[39mtruncation_strategy,\n\u001b[0;32m   3182\u001b[0m     max_length\u001b[38;5;241m=\u001b[39mmax_length,\n\u001b[0;32m   3183\u001b[0m     stride\u001b[38;5;241m=\u001b[39mstride,\n\u001b[0;32m   3184\u001b[0m     is_split_into_words\u001b[38;5;241m=\u001b[39mis_split_into_words,\n\u001b[0;32m   3185\u001b[0m     pad_to_multiple_of\u001b[38;5;241m=\u001b[39mpad_to_multiple_of,\n\u001b[0;32m   3186\u001b[0m     padding_side\u001b[38;5;241m=\u001b[39mpadding_side,\n\u001b[0;32m   3187\u001b[0m     return_tensors\u001b[38;5;241m=\u001b[39mreturn_tensors,\n\u001b[0;32m   3188\u001b[0m     return_token_type_ids\u001b[38;5;241m=\u001b[39mreturn_token_type_ids,\n\u001b[0;32m   3189\u001b[0m     return_attention_mask\u001b[38;5;241m=\u001b[39mreturn_attention_mask,\n\u001b[0;32m   3190\u001b[0m     return_overflowing_tokens\u001b[38;5;241m=\u001b[39mreturn_overflowing_tokens,\n\u001b[0;32m   3191\u001b[0m     return_special_tokens_mask\u001b[38;5;241m=\u001b[39mreturn_special_tokens_mask,\n\u001b[0;32m   3192\u001b[0m     return_offsets_mapping\u001b[38;5;241m=\u001b[39mreturn_offsets_mapping,\n\u001b[0;32m   3193\u001b[0m     return_length\u001b[38;5;241m=\u001b[39mreturn_length,\n\u001b[0;32m   3194\u001b[0m     verbose\u001b[38;5;241m=\u001b[39mverbose,\n\u001b[0;32m   3195\u001b[0m     split_special_tokens\u001b[38;5;241m=\u001b[39msplit_special_tokens,\n\u001b[0;32m   3196\u001b[0m     \u001b[38;5;241m*\u001b[39m\u001b[38;5;241m*\u001b[39mkwargs,\n\u001b[0;32m   3197\u001b[0m )\n",
      "File \u001b[1;32md:\\torch_env\\lib\\site-packages\\transformers\\models\\gpt2\\tokenization_gpt2_fast.py:116\u001b[0m, in \u001b[0;36mGPT2TokenizerFast._batch_encode_plus\u001b[1;34m(self, *args, **kwargs)\u001b[0m\n\u001b[0;32m    110\u001b[0m is_split_into_words \u001b[38;5;241m=\u001b[39m kwargs\u001b[38;5;241m.\u001b[39mget(\u001b[38;5;124m\"\u001b[39m\u001b[38;5;124mis_split_into_words\u001b[39m\u001b[38;5;124m\"\u001b[39m, \u001b[38;5;28;01mFalse\u001b[39;00m)\n\u001b[0;32m    111\u001b[0m \u001b[38;5;28;01massert\u001b[39;00m \u001b[38;5;28mself\u001b[39m\u001b[38;5;241m.\u001b[39madd_prefix_space \u001b[38;5;129;01mor\u001b[39;00m \u001b[38;5;129;01mnot\u001b[39;00m is_split_into_words, (\n\u001b[0;32m    112\u001b[0m     \u001b[38;5;124mf\u001b[39m\u001b[38;5;124m\"\u001b[39m\u001b[38;5;124mYou need to instantiate \u001b[39m\u001b[38;5;132;01m{\u001b[39;00m\u001b[38;5;28mself\u001b[39m\u001b[38;5;241m.\u001b[39m\u001b[38;5;18m__class__\u001b[39m\u001b[38;5;241m.\u001b[39m\u001b[38;5;18m__name__\u001b[39m\u001b[38;5;132;01m}\u001b[39;00m\u001b[38;5;124m with add_prefix_space=True \u001b[39m\u001b[38;5;124m\"\u001b[39m\n\u001b[0;32m    113\u001b[0m     \u001b[38;5;124m\"\u001b[39m\u001b[38;5;124mto use it with pretokenized inputs.\u001b[39m\u001b[38;5;124m\"\u001b[39m\n\u001b[0;32m    114\u001b[0m )\n\u001b[1;32m--> 116\u001b[0m \u001b[38;5;28;01mreturn\u001b[39;00m \u001b[38;5;28msuper\u001b[39m()\u001b[38;5;241m.\u001b[39m_batch_encode_plus(\u001b[38;5;241m*\u001b[39margs, \u001b[38;5;241m*\u001b[39m\u001b[38;5;241m*\u001b[39mkwargs)\n",
      "File \u001b[1;32md:\\torch_env\\lib\\site-packages\\transformers\\tokenization_utils_fast.py:572\u001b[0m, in \u001b[0;36mPreTrainedTokenizerFast._batch_encode_plus\u001b[1;34m(self, batch_text_or_text_pairs, add_special_tokens, padding_strategy, truncation_strategy, max_length, stride, is_split_into_words, pad_to_multiple_of, padding_side, return_tensors, return_token_type_ids, return_attention_mask, return_overflowing_tokens, return_special_tokens_mask, return_offsets_mapping, return_length, verbose, split_special_tokens)\u001b[0m\n\u001b[0;32m    565\u001b[0m \u001b[38;5;66;03m# Convert the output to have dict[list] from list[dict] and remove the additional overflows dimension\u001b[39;00m\n\u001b[0;32m    566\u001b[0m \u001b[38;5;66;03m# From (variable) shape (batch, overflows, sequence length) to ~ (batch * overflows, sequence length)\u001b[39;00m\n\u001b[0;32m    567\u001b[0m \u001b[38;5;66;03m# (we say ~ because the number of overflow varies with the example in the batch)\u001b[39;00m\n\u001b[0;32m    568\u001b[0m \u001b[38;5;66;03m#\u001b[39;00m\n\u001b[0;32m    569\u001b[0m \u001b[38;5;66;03m# To match each overflowing sample with the original sample in the batch\u001b[39;00m\n\u001b[0;32m    570\u001b[0m \u001b[38;5;66;03m# we add an overflow_to_sample_mapping array (see below)\u001b[39;00m\n\u001b[0;32m    571\u001b[0m sanitized_tokens \u001b[38;5;241m=\u001b[39m {}\n\u001b[1;32m--> 572\u001b[0m \u001b[38;5;28;01mfor\u001b[39;00m key \u001b[38;5;129;01min\u001b[39;00m \u001b[43mtokens_and_encodings\u001b[49m\u001b[43m[\u001b[49m\u001b[38;5;241;43m0\u001b[39;49m\u001b[43m]\u001b[49m[\u001b[38;5;241m0\u001b[39m]\u001b[38;5;241m.\u001b[39mkeys():\n\u001b[0;32m    573\u001b[0m     stack \u001b[38;5;241m=\u001b[39m [e \u001b[38;5;28;01mfor\u001b[39;00m item, _ \u001b[38;5;129;01min\u001b[39;00m tokens_and_encodings \u001b[38;5;28;01mfor\u001b[39;00m e \u001b[38;5;129;01min\u001b[39;00m item[key]]\n\u001b[0;32m    574\u001b[0m     sanitized_tokens[key] \u001b[38;5;241m=\u001b[39m stack\n",
      "\u001b[1;31mIndexError\u001b[0m: list index out of range"
     ]
    }
   ],
   "source": [
    "from tqdm import tqdm\n",
    "import torch\n",
    "import re\n",
    "from datasets import load_dataset\n",
    "\n",
    "# Dataset\n",
    "dataset = load_dataset(\"UCSC-VLAA/MedReason\", split=\"train\")  # Or \"validation\"\n",
    "batch_size = 16\n",
    "num_samples = len(dataset)\n",
    "\n",
    "correct = 0\n",
    "total = 0\n",
    "\n",
    "option_letters = ['A', 'B', 'C', 'D']\n",
    "\n",
    "for i in tqdm(range(0, num_samples, batch_size)):\n",
    "    batch = dataset.select(range(i, min(i + batch_size, num_samples)))\n",
    "\n",
    "    prompts = []\n",
    "    answers = []\n",
    "    for example in batch:\n",
    "        question = example[\"question\"]\n",
    "        answer = example[\"answer\"]\n",
    "        raw_options = example[\"options\"]\n",
    "\n",
    "        # Fix broken options that are stored as a single string\n",
    "        if isinstance(raw_options, str):\n",
    "            # Split by lines and filter only valid A/B/C/D options\n",
    "            lines = raw_options.strip().splitlines()\n",
    "            options = []\n",
    "            for line in lines:\n",
    "                match = re.match(r\"^[A-D]\\.\\s*(.+)\", line)\n",
    "                if match:\n",
    "                    options.append(match.group(1).strip())\n",
    "        else:\n",
    "            options = raw_options\n",
    "\n",
    "        if len(options) != 4:\n",
    "            continue  # Skip bad entries\n",
    "\n",
    "        answers.append(answer)\n",
    "\n",
    "        prompt = f\"Question: {question.strip()}\\n\"\n",
    "        for idx, opt in enumerate(options):\n",
    "            prompt += f\"{option_letters[idx]}. {opt.strip()}\\n\"\n",
    "        prompt += \"Choose the correct option (A, B, C, or D):\"\n",
    "        prompts.append(prompt)\n",
    "\n",
    "\n",
    "    try:\n",
    "        # Tokenize and move to model's device\n",
    "        print(type(prompts))\n",
    "        print(type(prompts[0]))\n",
    "        inputs = tokenizer(prompts, return_tensors=\"pt\", padding=True, truncation=True).to(model.device)\n",
    "\n",
    "        with torch.no_grad():\n",
    "            outputs = model.generate(**inputs, max_new_tokens=2)\n",
    "\n",
    "        decoded = tokenizer.batch_decode(outputs.cpu(), skip_special_tokens=True)\n",
    "\n",
    "        for j, output in enumerate(decoded):\n",
    "            match = re.search(r\"\\b([A-D])\\b\", output)\n",
    "            predicted = match.group(1) if match else \"\"\n",
    "\n",
    "            gold_answer = answers[j].strip().upper()\n",
    "            if predicted == gold_answer:\n",
    "                correct += 1\n",
    "            total += 1\n",
    "\n",
    "    except torch.cuda.OutOfMemoryError:\n",
    "        print(f\"OOM at batch {i}. Skipping.\")\n",
    "        torch.cuda.empty_cache()\n",
    "        continue\n",
    "\n",
    "    torch.cuda.empty_cache()\n",
    "\n",
    "print(f\"Accuracy: {correct}/{total} = {correct / total:.2%}\")\n"
   ]
  },
  {
   "cell_type": "code",
   "execution_count": null,
   "id": "8fe9210d",
   "metadata": {},
   "outputs": [],
   "source": [
    "def format_prompt(example):\n",
    "    return f\"\"\"Question: {example['question']}\n",
    "{example['options']}\n",
    "Answer:\"\"\""
   ]
  },
  {
   "cell_type": "code",
   "execution_count": 8,
   "id": "8fc21c2b",
   "metadata": {},
   "outputs": [
    {
     "name": "stdout",
     "output_type": "stream",
     "text": [
      "Question: Urogenital Diaphragm is made up of the following, except:\n",
      "Answer Choices:\n",
      "A. Deep transverse Perineus\n",
      "B. Perinial membrane\n",
      "C. Colle's fascia\n",
      "D. Sphincter Urethrae\n",
      "Answer:\n"
     ]
    }
   ],
   "source": [
    "prompt = format_prompt(dataset[0])\n",
    "print(prompt)"
   ]
  },
  {
   "cell_type": "code",
   "execution_count": 9,
   "id": "f1e7a588",
   "metadata": {},
   "outputs": [
    {
     "name": "stdout",
     "output_type": "stream",
     "text": [
      "The history saving thread hit an unexpected error (OperationalError('database or disk is full')).History will not be written to the database.\n",
      "Collecting tqdm\n",
      "  Using cached tqdm-4.67.1-py3-none-any.whl.metadata (57 kB)\n",
      "Collecting colorama (from tqdm)\n",
      "  Using cached colorama-0.4.6-py2.py3-none-any.whl.metadata (17 kB)\n",
      "Using cached tqdm-4.67.1-py3-none-any.whl (78 kB)\n",
      "Using cached colorama-0.4.6-py2.py3-none-any.whl (25 kB)\n",
      "Installing collected packages: colorama, tqdm\n",
      "\n",
      "   ---------------------------------------- 0/2 [colorama]\n",
      "   -------------------- ------------------- 1/2 [tqdm]\n",
      "   -------------------- ------------------- 1/2 [tqdm]\n",
      "   -------------------- ------------------- 1/2 [tqdm]\n",
      "   -------------------- ------------------- 1/2 [tqdm]\n",
      "   ---------------------------------------- 2/2 [tqdm]\n",
      "\n",
      "Successfully installed colorama-0.4.6 tqdm-4.67.1\n",
      "Note: you may need to restart the kernel to use updated packages.\n"
     ]
    },
    {
     "name": "stderr",
     "output_type": "stream",
     "text": [
      "WARNING: Target directory D:\\torch_env\\Lib\\site-packages\\colorama already exists. Specify --upgrade to force replacement.\n",
      "WARNING: Target directory D:\\torch_env\\Lib\\site-packages\\colorama-0.4.6.dist-info already exists. Specify --upgrade to force replacement.\n",
      "WARNING: Target directory D:\\torch_env\\Lib\\site-packages\\tqdm already exists. Specify --upgrade to force replacement.\n",
      "WARNING: Target directory D:\\torch_env\\Lib\\site-packages\\tqdm-4.67.1.dist-info already exists. Specify --upgrade to force replacement.\n",
      "WARNING: Target directory D:\\torch_env\\Lib\\site-packages\\bin already exists. Specify --upgrade to force replacement.\n"
     ]
    }
   ],
   "source": [
    "%pip install tqdm\n"
   ]
  },
  {
   "cell_type": "code",
   "execution_count": 16,
   "id": "1fdd1d11",
   "metadata": {},
   "outputs": [
    {
     "name": "stdout",
     "output_type": "stream",
     "text": [
      "Collecting sentence-transformers\n",
      "  Downloading sentence_transformers-4.1.0-py3-none-any.whl.metadata (13 kB)\n",
      "Collecting transformers<5.0.0,>=4.41.0 (from sentence-transformers)\n",
      "  Using cached transformers-4.51.3-py3-none-any.whl.metadata (38 kB)\n",
      "Collecting tqdm (from sentence-transformers)\n",
      "  Using cached tqdm-4.67.1-py3-none-any.whl.metadata (57 kB)\n",
      "Collecting torch>=1.11.0 (from sentence-transformers)\n",
      "  Using cached torch-2.7.0-cp310-cp310-win_amd64.whl.metadata (29 kB)\n",
      "Collecting scikit-learn (from sentence-transformers)\n",
      "  Downloading scikit_learn-1.6.1-cp310-cp310-win_amd64.whl.metadata (15 kB)\n",
      "Collecting scipy (from sentence-transformers)\n",
      "  Downloading scipy-1.15.2-cp310-cp310-win_amd64.whl.metadata (60 kB)\n",
      "Collecting huggingface-hub>=0.20.0 (from sentence-transformers)\n",
      "  Using cached huggingface_hub-0.30.2-py3-none-any.whl.metadata (13 kB)\n",
      "Collecting Pillow (from sentence-transformers)\n",
      "  Downloading pillow-11.2.1-cp310-cp310-win_amd64.whl.metadata (9.1 kB)\n",
      "Collecting typing_extensions>=4.5.0 (from sentence-transformers)\n",
      "  Using cached typing_extensions-4.13.2-py3-none-any.whl.metadata (3.0 kB)\n",
      "Collecting filelock (from transformers<5.0.0,>=4.41.0->sentence-transformers)\n",
      "  Using cached filelock-3.18.0-py3-none-any.whl.metadata (2.9 kB)\n",
      "Collecting numpy>=1.17 (from transformers<5.0.0,>=4.41.0->sentence-transformers)\n",
      "  Using cached numpy-2.2.5-cp310-cp310-win_amd64.whl.metadata (60 kB)\n",
      "Collecting packaging>=20.0 (from transformers<5.0.0,>=4.41.0->sentence-transformers)\n",
      "  Using cached packaging-25.0-py3-none-any.whl.metadata (3.3 kB)\n",
      "Collecting pyyaml>=5.1 (from transformers<5.0.0,>=4.41.0->sentence-transformers)\n",
      "  Using cached PyYAML-6.0.2-cp310-cp310-win_amd64.whl.metadata (2.1 kB)\n",
      "Collecting regex!=2019.12.17 (from transformers<5.0.0,>=4.41.0->sentence-transformers)\n",
      "  Using cached regex-2024.11.6-cp310-cp310-win_amd64.whl.metadata (41 kB)\n",
      "Collecting requests (from transformers<5.0.0,>=4.41.0->sentence-transformers)\n",
      "  Using cached requests-2.32.3-py3-none-any.whl.metadata (4.6 kB)\n",
      "Collecting tokenizers<0.22,>=0.21 (from transformers<5.0.0,>=4.41.0->sentence-transformers)\n",
      "  Using cached tokenizers-0.21.1-cp39-abi3-win_amd64.whl.metadata (6.9 kB)\n",
      "Collecting safetensors>=0.4.3 (from transformers<5.0.0,>=4.41.0->sentence-transformers)\n",
      "  Using cached safetensors-0.5.3-cp38-abi3-win_amd64.whl.metadata (3.9 kB)\n",
      "Collecting fsspec>=2023.5.0 (from huggingface-hub>=0.20.0->sentence-transformers)\n",
      "  Using cached fsspec-2025.3.2-py3-none-any.whl.metadata (11 kB)\n",
      "Collecting sympy>=1.13.3 (from torch>=1.11.0->sentence-transformers)\n",
      "  Using cached sympy-1.14.0-py3-none-any.whl.metadata (12 kB)\n",
      "Collecting networkx (from torch>=1.11.0->sentence-transformers)\n",
      "  Using cached networkx-3.4.2-py3-none-any.whl.metadata (6.3 kB)\n",
      "Collecting jinja2 (from torch>=1.11.0->sentence-transformers)\n",
      "  Using cached jinja2-3.1.6-py3-none-any.whl.metadata (2.9 kB)\n",
      "Collecting mpmath<1.4,>=1.1.0 (from sympy>=1.13.3->torch>=1.11.0->sentence-transformers)\n",
      "  Using cached mpmath-1.3.0-py3-none-any.whl.metadata (8.6 kB)\n",
      "Collecting colorama (from tqdm->sentence-transformers)\n",
      "  Using cached colorama-0.4.6-py2.py3-none-any.whl.metadata (17 kB)\n",
      "Collecting MarkupSafe>=2.0 (from jinja2->torch>=1.11.0->sentence-transformers)\n",
      "  Using cached MarkupSafe-3.0.2-cp310-cp310-win_amd64.whl.metadata (4.1 kB)\n",
      "Collecting charset-normalizer<4,>=2 (from requests->transformers<5.0.0,>=4.41.0->sentence-transformers)\n",
      "  Using cached charset_normalizer-3.4.2-cp310-cp310-win_amd64.whl.metadata (36 kB)\n",
      "Collecting idna<4,>=2.5 (from requests->transformers<5.0.0,>=4.41.0->sentence-transformers)\n",
      "  Using cached idna-3.10-py3-none-any.whl.metadata (10 kB)\n",
      "Collecting urllib3<3,>=1.21.1 (from requests->transformers<5.0.0,>=4.41.0->sentence-transformers)\n",
      "  Using cached urllib3-2.4.0-py3-none-any.whl.metadata (6.5 kB)\n",
      "Collecting certifi>=2017.4.17 (from requests->transformers<5.0.0,>=4.41.0->sentence-transformers)\n",
      "  Using cached certifi-2025.4.26-py3-none-any.whl.metadata (2.5 kB)\n",
      "Collecting joblib>=1.2.0 (from scikit-learn->sentence-transformers)\n",
      "  Downloading joblib-1.5.0-py3-none-any.whl.metadata (5.6 kB)\n",
      "Collecting threadpoolctl>=3.1.0 (from scikit-learn->sentence-transformers)\n",
      "  Downloading threadpoolctl-3.6.0-py3-none-any.whl.metadata (13 kB)\n",
      "Downloading sentence_transformers-4.1.0-py3-none-any.whl (345 kB)\n",
      "Using cached transformers-4.51.3-py3-none-any.whl (10.4 MB)\n",
      "Using cached huggingface_hub-0.30.2-py3-none-any.whl (481 kB)\n",
      "Using cached tokenizers-0.21.1-cp39-abi3-win_amd64.whl (2.4 MB)\n",
      "Downloading fsspec-2025.3.2-py3-none-any.whl (194 kB)\n",
      "Using cached numpy-2.2.5-cp310-cp310-win_amd64.whl (12.9 MB)\n",
      "Using cached packaging-25.0-py3-none-any.whl (66 kB)\n",
      "Using cached PyYAML-6.0.2-cp310-cp310-win_amd64.whl (161 kB)\n",
      "Using cached regex-2024.11.6-cp310-cp310-win_amd64.whl (274 kB)\n",
      "Using cached safetensors-0.5.3-cp38-abi3-win_amd64.whl (308 kB)\n",
      "Using cached torch-2.7.0-cp310-cp310-win_amd64.whl (212.5 MB)\n",
      "Using cached sympy-1.14.0-py3-none-any.whl (6.3 MB)\n",
      "Using cached mpmath-1.3.0-py3-none-any.whl (536 kB)\n",
      "Using cached tqdm-4.67.1-py3-none-any.whl (78 kB)\n",
      "Using cached typing_extensions-4.13.2-py3-none-any.whl (45 kB)\n",
      "Using cached colorama-0.4.6-py2.py3-none-any.whl (25 kB)\n",
      "Using cached filelock-3.18.0-py3-none-any.whl (16 kB)\n",
      "Using cached jinja2-3.1.6-py3-none-any.whl (134 kB)\n",
      "Using cached MarkupSafe-3.0.2-cp310-cp310-win_amd64.whl (15 kB)\n",
      "Using cached networkx-3.4.2-py3-none-any.whl (1.7 MB)\n",
      "Downloading pillow-11.2.1-cp310-cp310-win_amd64.whl (2.7 MB)\n",
      "   ---------------------------------------- 0.0/2.7 MB ? eta -:--:--\n",
      "   ---------------------------------------  2.6/2.7 MB 147.5 MB/s eta 0:00:01\n",
      "   ---------------------------------------- 2.7/2.7 MB 10.3 MB/s eta 0:00:00\n",
      "Using cached requests-2.32.3-py3-none-any.whl (64 kB)\n",
      "Using cached charset_normalizer-3.4.2-cp310-cp310-win_amd64.whl (105 kB)\n",
      "Using cached idna-3.10-py3-none-any.whl (70 kB)\n",
      "Using cached urllib3-2.4.0-py3-none-any.whl (128 kB)\n",
      "Using cached certifi-2025.4.26-py3-none-any.whl (159 kB)\n",
      "Downloading scikit_learn-1.6.1-cp310-cp310-win_amd64.whl (11.1 MB)\n",
      "   ---------------------------------------- 0.0/11.1 MB ? eta -:--:--\n",
      "   ---------------------------------------  11.0/11.1 MB 98.6 MB/s eta 0:00:01\n",
      "   ---------------------------------------- 11.1/11.1 MB 46.4 MB/s eta 0:00:00\n",
      "Downloading joblib-1.5.0-py3-none-any.whl (307 kB)\n",
      "Downloading scipy-1.15.2-cp310-cp310-win_amd64.whl (41.2 MB)\n",
      "   ---------------------------------------- 0.0/41.2 MB ? eta -:--:--\n",
      "   --------------------- ------------------ 22.0/41.2 MB 139.5 MB/s eta 0:00:01\n",
      "   -------------------------------------- - 40.1/41.2 MB 106.3 MB/s eta 0:00:01\n",
      "   ---------------------------------------- 41.2/41.2 MB 79.4 MB/s eta 0:00:00\n",
      "Downloading threadpoolctl-3.6.0-py3-none-any.whl (18 kB)\n",
      "Installing collected packages: mpmath, urllib3, typing_extensions, threadpoolctl, sympy, safetensors, regex, pyyaml, Pillow, packaging, numpy, networkx, MarkupSafe, joblib, idna, fsspec, filelock, colorama, charset-normalizer, certifi, tqdm, scipy, requests, jinja2, torch, scikit-learn, huggingface-hub, tokenizers, transformers, sentence-transformers\n",
      "\n",
      "   ----------------------------------------  0/30 [mpmath]\n",
      "   ----------------------------------------  0/30 [mpmath]\n",
      "   ----------------------------------------  0/30 [mpmath]\n",
      "   ----------------------------------------  0/30 [mpmath]\n",
      "   ----------------------------------------  0/30 [mpmath]\n",
      "   ----------------------------------------  0/30 [mpmath]\n",
      "   ----------------------------------------  0/30 [mpmath]\n",
      "   ----------------------------------------  0/30 [mpmath]\n",
      "   ----------------------------------------  0/30 [mpmath]\n",
      "   ----------------------------------------  0/30 [mpmath]\n",
      "   ----------------------------------------  0/30 [mpmath]\n",
      "   ----------------------------------------  0/30 [mpmath]\n",
      "   ----------------------------------------  0/30 [mpmath]\n",
      "   ----------------------------------------  0/30 [mpmath]\n",
      "   ----------------------------------------  0/30 [mpmath]\n",
      "   ----------------------------------------  0/30 [mpmath]\n",
      "   ----------------------------------------  0/30 [mpmath]\n",
      "   ----------------------------------------  0/30 [mpmath]\n",
      "   ----------------------------------------  0/30 [mpmath]\n",
      "   ----------------------------------------  0/30 [mpmath]\n",
      "   ----------------------------------------  0/30 [mpmath]\n",
      "   ----------------------------------------  0/30 [mpmath]\n",
      "   ----------------------------------------  0/30 [mpmath]\n",
      "   ----------------------------------------  0/30 [mpmath]\n",
      "   ----------------------------------------  0/30 [mpmath]\n",
      "   ----------------------------------------  0/30 [mpmath]\n",
      "   ----------------------------------------  0/30 [mpmath]\n",
      "   ----------------------------------------  0/30 [mpmath]\n",
      "   ----------------------------------------  0/30 [mpmath]\n",
      "   ----------------------------------------  0/30 [mpmath]\n",
      "   ----------------------------------------  0/30 [mpmath]\n",
      "   ----------------------------------------  0/30 [mpmath]\n",
      "   ----------------------------------------  0/30 [mpmath]\n",
      "   ----------------------------------------  0/30 [mpmath]\n",
      "   ----------------------------------------  0/30 [mpmath]\n",
      "   ----------------------------------------  0/30 [mpmath]\n",
      "   ----------------------------------------  0/30 [mpmath]\n",
      "   ----------------------------------------  0/30 [mpmath]\n",
      "   ----------------------------------------  0/30 [mpmath]\n",
      "   ----------------------------------------  0/30 [mpmath]\n",
      "   ----------------------------------------  0/30 [mpmath]\n",
      "   ----------------------------------------  0/30 [mpmath]\n",
      "   ----------------------------------------  0/30 [mpmath]\n",
      "   ----------------------------------------  0/30 [mpmath]\n",
      "   ----------------------------------------  0/30 [mpmath]\n",
      "   - --------------------------------------  1/30 [urllib3]\n",
      "   - --------------------------------------  1/30 [urllib3]\n",
      "   - --------------------------------------  1/30 [urllib3]\n",
      "   - --------------------------------------  1/30 [urllib3]\n",
      "   - --------------------------------------  1/30 [urllib3]\n",
      "   - --------------------------------------  1/30 [urllib3]\n",
      "   - --------------------------------------  1/30 [urllib3]\n",
      "   - --------------------------------------  1/30 [urllib3]\n",
      "   - --------------------------------------  1/30 [urllib3]\n",
      "   - --------------------------------------  1/30 [urllib3]\n",
      "   - --------------------------------------  1/30 [urllib3]\n",
      "   - --------------------------------------  1/30 [urllib3]\n",
      "   - --------------------------------------  1/30 [urllib3]\n",
      "   - --------------------------------------  1/30 [urllib3]\n",
      "   - --------------------------------------  1/30 [urllib3]\n",
      "   - --------------------------------------  1/30 [urllib3]\n",
      "   -- -------------------------------------  2/30 [typing_extensions]\n",
      "   -- -------------------------------------  2/30 [typing_extensions]\n",
      "   ---- -----------------------------------  3/30 [threadpoolctl]\n",
      "   ---- -----------------------------------  3/30 [threadpoolctl]\n",
      "   ----- ----------------------------------  4/30 [sympy]\n",
      "   ----- ----------------------------------  4/30 [sympy]\n",
      "   ----- ----------------------------------  4/30 [sympy]\n",
      "   ----- ----------------------------------  4/30 [sympy]\n",
      "   ----- ----------------------------------  4/30 [sympy]\n",
      "   ----- ----------------------------------  4/30 [sympy]\n",
      "   ----- ----------------------------------  4/30 [sympy]\n",
      "   ----- ----------------------------------  4/30 [sympy]\n",
      "   ----- ----------------------------------  4/30 [sympy]\n",
      "   ----- ----------------------------------  4/30 [sympy]\n",
      "   ----- ----------------------------------  4/30 [sympy]\n",
      "   ----- ----------------------------------  4/30 [sympy]\n",
      "   ----- ----------------------------------  4/30 [sympy]\n",
      "   ----- ----------------------------------  4/30 [sympy]\n",
      "   ----- ----------------------------------  4/30 [sympy]\n",
      "   ----- ----------------------------------  4/30 [sympy]\n",
      "   ----- ----------------------------------  4/30 [sympy]\n",
      "   ----- ----------------------------------  4/30 [sympy]\n",
      "   ----- ----------------------------------  4/30 [sympy]\n",
      "   ----- ----------------------------------  4/30 [sympy]\n",
      "   ----- ----------------------------------  4/30 [sympy]\n",
      "   ----- ----------------------------------  4/30 [sympy]\n",
      "   ----- ----------------------------------  4/30 [sympy]\n",
      "   ----- ----------------------------------  4/30 [sympy]\n",
      "   ----- ----------------------------------  4/30 [sympy]\n",
      "   ----- ----------------------------------  4/30 [sympy]\n",
      "   ----- ----------------------------------  4/30 [sympy]\n",
      "   ----- ----------------------------------  4/30 [sympy]\n",
      "   ----- ----------------------------------  4/30 [sympy]\n",
      "   ----- ----------------------------------  4/30 [sympy]\n",
      "   ----- ----------------------------------  4/30 [sympy]\n",
      "   ----- ----------------------------------  4/30 [sympy]\n",
      "   ----- ----------------------------------  4/30 [sympy]\n",
      "   ----- ----------------------------------  4/30 [sympy]\n",
      "   ----- ----------------------------------  4/30 [sympy]\n",
      "   ----- ----------------------------------  4/30 [sympy]\n",
      "   ----- ----------------------------------  4/30 [sympy]\n",
      "   ----- ----------------------------------  4/30 [sympy]\n",
      "   ----- ----------------------------------  4/30 [sympy]\n",
      "   ----- ----------------------------------  4/30 [sympy]\n",
      "   ----- ----------------------------------  4/30 [sympy]\n",
      "   ----- ----------------------------------  4/30 [sympy]\n",
      "   ----- ----------------------------------  4/30 [sympy]\n",
      "   ----- ----------------------------------  4/30 [sympy]\n",
      "   ----- ----------------------------------  4/30 [sympy]\n",
      "   ----- ----------------------------------  4/30 [sympy]\n",
      "   ----- ----------------------------------  4/30 [sympy]\n",
      "   ----- ----------------------------------  4/30 [sympy]\n",
      "   ----- ----------------------------------  4/30 [sympy]\n",
      "   ----- ----------------------------------  4/30 [sympy]\n",
      "   ----- ----------------------------------  4/30 [sympy]\n",
      "   ----- ----------------------------------  4/30 [sympy]\n",
      "   ----- ----------------------------------  4/30 [sympy]\n",
      "   ----- ----------------------------------  4/30 [sympy]\n",
      "   ----- ----------------------------------  4/30 [sympy]\n",
      "   ----- ----------------------------------  4/30 [sympy]\n",
      "   ----- ----------------------------------  4/30 [sympy]\n",
      "   ----- ----------------------------------  4/30 [sympy]\n",
      "   ----- ----------------------------------  4/30 [sympy]\n",
      "   ----- ----------------------------------  4/30 [sympy]\n",
      "   ----- ----------------------------------  4/30 [sympy]\n",
      "   ----- ----------------------------------  4/30 [sympy]\n",
      "   ----- ----------------------------------  4/30 [sympy]\n",
      "   ----- ----------------------------------  4/30 [sympy]\n",
      "   ----- ----------------------------------  4/30 [sympy]\n",
      "   ----- ----------------------------------  4/30 [sympy]\n",
      "   ----- ----------------------------------  4/30 [sympy]\n",
      "   ----- ----------------------------------  4/30 [sympy]\n",
      "   ----- ----------------------------------  4/30 [sympy]\n",
      "   ----- ----------------------------------  4/30 [sympy]\n",
      "   ----- ----------------------------------  4/30 [sympy]\n",
      "   ----- ----------------------------------  4/30 [sympy]\n",
      "   ----- ----------------------------------  4/30 [sympy]\n",
      "   ----- ----------------------------------  4/30 [sympy]\n",
      "   ----- ----------------------------------  4/30 [sympy]\n",
      "   ----- ----------------------------------  4/30 [sympy]\n",
      "   ----- ----------------------------------  4/30 [sympy]\n",
      "   ----- ----------------------------------  4/30 [sympy]\n",
      "   ----- ----------------------------------  4/30 [sympy]\n",
      "   ----- ----------------------------------  4/30 [sympy]\n",
      "   ----- ----------------------------------  4/30 [sympy]\n",
      "   ----- ----------------------------------  4/30 [sympy]\n",
      "   ----- ----------------------------------  4/30 [sympy]\n",
      "   ----- ----------------------------------  4/30 [sympy]\n",
      "   ----- ----------------------------------  4/30 [sympy]\n",
      "   ----- ----------------------------------  4/30 [sympy]\n",
      "   ----- ----------------------------------  4/30 [sympy]\n",
      "   ----- ----------------------------------  4/30 [sympy]\n",
      "   ----- ----------------------------------  4/30 [sympy]\n",
      "   ----- ----------------------------------  4/30 [sympy]\n",
      "   ----- ----------------------------------  4/30 [sympy]\n",
      "   ----- ----------------------------------  4/30 [sympy]\n",
      "   ----- ----------------------------------  4/30 [sympy]\n",
      "   ----- ----------------------------------  4/30 [sympy]\n",
      "   ----- ----------------------------------  4/30 [sympy]\n",
      "   ----- ----------------------------------  4/30 [sympy]\n",
      "   ----- ----------------------------------  4/30 [sympy]\n",
      "   ----- ----------------------------------  4/30 [sympy]\n",
      "   ----- ----------------------------------  4/30 [sympy]\n",
      "   ----- ----------------------------------  4/30 [sympy]\n",
      "   ----- ----------------------------------  4/30 [sympy]\n",
      "   ----- ----------------------------------  4/30 [sympy]\n",
      "   ----- ----------------------------------  4/30 [sympy]\n",
      "   ----- ----------------------------------  4/30 [sympy]\n",
      "   ----- ----------------------------------  4/30 [sympy]\n",
      "   ----- ----------------------------------  4/30 [sympy]\n",
      "   ----- ----------------------------------  4/30 [sympy]\n",
      "   ----- ----------------------------------  4/30 [sympy]\n",
      "   ----- ----------------------------------  4/30 [sympy]\n",
      "   ----- ----------------------------------  4/30 [sympy]\n",
      "   ----- ----------------------------------  4/30 [sympy]\n",
      "   ----- ----------------------------------  4/30 [sympy]\n",
      "   ----- ----------------------------------  4/30 [sympy]\n",
      "   ----- ----------------------------------  4/30 [sympy]\n",
      "   ----- ----------------------------------  4/30 [sympy]\n",
      "   ----- ----------------------------------  4/30 [sympy]\n",
      "   ----- ----------------------------------  4/30 [sympy]\n",
      "   ----- ----------------------------------  4/30 [sympy]\n",
      "   ----- ----------------------------------  4/30 [sympy]\n",
      "   ----- ----------------------------------  4/30 [sympy]\n",
      "   ----- ----------------------------------  4/30 [sympy]\n",
      "   ----- ----------------------------------  4/30 [sympy]\n",
      "   ----- ----------------------------------  4/30 [sympy]\n",
      "   ----- ----------------------------------  4/30 [sympy]\n",
      "   ----- ----------------------------------  4/30 [sympy]\n",
      "   ----- ----------------------------------  4/30 [sympy]\n",
      "   ----- ----------------------------------  4/30 [sympy]\n",
      "   ----- ----------------------------------  4/30 [sympy]\n",
      "   ----- ----------------------------------  4/30 [sympy]\n",
      "   ----- ----------------------------------  4/30 [sympy]\n",
      "   ----- ----------------------------------  4/30 [sympy]\n",
      "   ----- ----------------------------------  4/30 [sympy]\n",
      "   ----- ----------------------------------  4/30 [sympy]\n",
      "   ----- ----------------------------------  4/30 [sympy]\n",
      "   ----- ----------------------------------  4/30 [sympy]\n",
      "   ----- ----------------------------------  4/30 [sympy]\n",
      "   ----- ----------------------------------  4/30 [sympy]\n",
      "   ----- ----------------------------------  4/30 [sympy]\n",
      "   ----- ----------------------------------  4/30 [sympy]\n",
      "   ----- ----------------------------------  4/30 [sympy]\n",
      "   ----- ----------------------------------  4/30 [sympy]\n",
      "   ----- ----------------------------------  4/30 [sympy]\n",
      "   ----- ----------------------------------  4/30 [sympy]\n",
      "   ----- ----------------------------------  4/30 [sympy]\n",
      "   ----- ----------------------------------  4/30 [sympy]\n",
      "   ----- ----------------------------------  4/30 [sympy]\n",
      "   ----- ----------------------------------  4/30 [sympy]\n",
      "   ----- ----------------------------------  4/30 [sympy]\n",
      "   ----- ----------------------------------  4/30 [sympy]\n",
      "   ----- ----------------------------------  4/30 [sympy]\n",
      "   ----- ----------------------------------  4/30 [sympy]\n",
      "   ----- ----------------------------------  4/30 [sympy]\n",
      "   ----- ----------------------------------  4/30 [sympy]\n",
      "   ----- ----------------------------------  4/30 [sympy]\n",
      "   ----- ----------------------------------  4/30 [sympy]\n",
      "   ----- ----------------------------------  4/30 [sympy]\n",
      "   ----- ----------------------------------  4/30 [sympy]\n",
      "   ----- ----------------------------------  4/30 [sympy]\n",
      "   ----- ----------------------------------  4/30 [sympy]\n",
      "   ----- ----------------------------------  4/30 [sympy]\n",
      "   ----- ----------------------------------  4/30 [sympy]\n",
      "   ----- ----------------------------------  4/30 [sympy]\n",
      "   ----- ----------------------------------  4/30 [sympy]\n",
      "   ----- ----------------------------------  4/30 [sympy]\n",
      "   ----- ----------------------------------  4/30 [sympy]\n",
      "   ----- ----------------------------------  4/30 [sympy]\n",
      "   ----- ----------------------------------  4/30 [sympy]\n",
      "   ----- ----------------------------------  4/30 [sympy]\n",
      "   ----- ----------------------------------  4/30 [sympy]\n",
      "   ----- ----------------------------------  4/30 [sympy]\n",
      "   ----- ----------------------------------  4/30 [sympy]\n",
      "   ----- ----------------------------------  4/30 [sympy]\n",
      "   ----- ----------------------------------  4/30 [sympy]\n",
      "   ----- ----------------------------------  4/30 [sympy]\n",
      "   ----- ----------------------------------  4/30 [sympy]\n",
      "   ----- ----------------------------------  4/30 [sympy]\n",
      "   ----- ----------------------------------  4/30 [sympy]\n",
      "   ----- ----------------------------------  4/30 [sympy]\n",
      "   ----- ----------------------------------  4/30 [sympy]\n",
      "   ----- ----------------------------------  4/30 [sympy]\n",
      "   ----- ----------------------------------  4/30 [sympy]\n",
      "   ----- ----------------------------------  4/30 [sympy]\n",
      "   ----- ----------------------------------  4/30 [sympy]\n",
      "   ----- ----------------------------------  4/30 [sympy]\n",
      "   ----- ----------------------------------  4/30 [sympy]\n",
      "   ----- ----------------------------------  4/30 [sympy]\n",
      "   ----- ----------------------------------  4/30 [sympy]\n",
      "   ----- ----------------------------------  4/30 [sympy]\n",
      "   ----- ----------------------------------  4/30 [sympy]\n",
      "   ----- ----------------------------------  4/30 [sympy]\n",
      "   ----- ----------------------------------  4/30 [sympy]\n",
      "   ----- ----------------------------------  4/30 [sympy]\n",
      "   ----- ----------------------------------  4/30 [sympy]\n",
      "   ----- ----------------------------------  4/30 [sympy]\n",
      "   ----- ----------------------------------  4/30 [sympy]\n",
      "   ----- ----------------------------------  4/30 [sympy]\n",
      "   ----- ----------------------------------  4/30 [sympy]\n",
      "   ----- ----------------------------------  4/30 [sympy]\n",
      "   ----- ----------------------------------  4/30 [sympy]\n",
      "   ----- ----------------------------------  4/30 [sympy]\n",
      "   ----- ----------------------------------  4/30 [sympy]\n",
      "   ----- ----------------------------------  4/30 [sympy]\n",
      "   ----- ----------------------------------  4/30 [sympy]\n",
      "   ----- ----------------------------------  4/30 [sympy]\n",
      "   ----- ----------------------------------  4/30 [sympy]\n",
      "   ----- ----------------------------------  4/30 [sympy]\n",
      "   ----- ----------------------------------  4/30 [sympy]\n",
      "   ----- ----------------------------------  4/30 [sympy]\n",
      "   ----- ----------------------------------  4/30 [sympy]\n",
      "   ----- ----------------------------------  4/30 [sympy]\n",
      "   ----- ----------------------------------  4/30 [sympy]\n",
      "   ----- ----------------------------------  4/30 [sympy]\n",
      "   ----- ----------------------------------  4/30 [sympy]\n",
      "   ----- ----------------------------------  4/30 [sympy]\n",
      "   ----- ----------------------------------  4/30 [sympy]\n",
      "   ----- ----------------------------------  4/30 [sympy]\n",
      "   ----- ----------------------------------  4/30 [sympy]\n",
      "   ----- ----------------------------------  4/30 [sympy]\n",
      "   ----- ----------------------------------  4/30 [sympy]\n",
      "   ----- ----------------------------------  4/30 [sympy]\n",
      "   ----- ----------------------------------  4/30 [sympy]\n",
      "   ----- ----------------------------------  4/30 [sympy]\n",
      "   ----- ----------------------------------  4/30 [sympy]\n",
      "   ----- ----------------------------------  4/30 [sympy]\n",
      "   ----- ----------------------------------  4/30 [sympy]\n",
      "   ----- ----------------------------------  4/30 [sympy]\n",
      "   ----- ----------------------------------  4/30 [sympy]\n",
      "   ----- ----------------------------------  4/30 [sympy]\n",
      "   ----- ----------------------------------  4/30 [sympy]\n",
      "   ----- ----------------------------------  4/30 [sympy]\n",
      "   ----- ----------------------------------  4/30 [sympy]\n",
      "   ----- ----------------------------------  4/30 [sympy]\n",
      "   ----- ----------------------------------  4/30 [sympy]\n",
      "   ----- ----------------------------------  4/30 [sympy]\n",
      "   ----- ----------------------------------  4/30 [sympy]\n",
      "   ----- ----------------------------------  4/30 [sympy]\n",
      "   ----- ----------------------------------  4/30 [sympy]\n",
      "   ----- ----------------------------------  4/30 [sympy]\n",
      "   ----- ----------------------------------  4/30 [sympy]\n",
      "   ----- ----------------------------------  4/30 [sympy]\n",
      "   ----- ----------------------------------  4/30 [sympy]\n",
      "   ----- ----------------------------------  4/30 [sympy]\n",
      "   ----- ----------------------------------  4/30 [sympy]\n",
      "   ----- ----------------------------------  4/30 [sympy]\n",
      "   ----- ----------------------------------  4/30 [sympy]\n",
      "   ----- ----------------------------------  4/30 [sympy]\n",
      "   ----- ----------------------------------  4/30 [sympy]\n",
      "   ----- ----------------------------------  4/30 [sympy]\n",
      "   ----- ----------------------------------  4/30 [sympy]\n",
      "   ----- ----------------------------------  4/30 [sympy]\n",
      "   ----- ----------------------------------  4/30 [sympy]\n",
      "   ----- ----------------------------------  4/30 [sympy]\n",
      "   ----- ----------------------------------  4/30 [sympy]\n",
      "   ----- ----------------------------------  4/30 [sympy]\n",
      "   ----- ----------------------------------  4/30 [sympy]\n",
      "   ----- ----------------------------------  4/30 [sympy]\n",
      "   ----- ----------------------------------  4/30 [sympy]\n",
      "   ----- ----------------------------------  4/30 [sympy]\n",
      "   ----- ----------------------------------  4/30 [sympy]\n",
      "   ----- ----------------------------------  4/30 [sympy]\n",
      "   ----- ----------------------------------  4/30 [sympy]\n",
      "   ----- ----------------------------------  4/30 [sympy]\n",
      "   ----- ----------------------------------  4/30 [sympy]\n",
      "   ----- ----------------------------------  4/30 [sympy]\n",
      "   ----- ----------------------------------  4/30 [sympy]\n",
      "   ----- ----------------------------------  4/30 [sympy]\n",
      "   ----- ----------------------------------  4/30 [sympy]\n",
      "   ----- ----------------------------------  4/30 [sympy]\n",
      "   ----- ----------------------------------  4/30 [sympy]\n",
      "   ----- ----------------------------------  4/30 [sympy]\n",
      "   ----- ----------------------------------  4/30 [sympy]\n",
      "   ----- ----------------------------------  4/30 [sympy]\n",
      "   ----- ----------------------------------  4/30 [sympy]\n",
      "   ----- ----------------------------------  4/30 [sympy]\n",
      "   ----- ----------------------------------  4/30 [sympy]\n",
      "   ----- ----------------------------------  4/30 [sympy]\n",
      "   ----- ----------------------------------  4/30 [sympy]\n",
      "   ----- ----------------------------------  4/30 [sympy]\n",
      "   ----- ----------------------------------  4/30 [sympy]\n",
      "   ----- ----------------------------------  4/30 [sympy]\n",
      "   ----- ----------------------------------  4/30 [sympy]\n",
      "   ----- ----------------------------------  4/30 [sympy]\n",
      "   ----- ----------------------------------  4/30 [sympy]\n",
      "   ----- ----------------------------------  4/30 [sympy]\n",
      "   ----- ----------------------------------  4/30 [sympy]\n",
      "   ----- ----------------------------------  4/30 [sympy]\n",
      "   ----- ----------------------------------  4/30 [sympy]\n",
      "   ----- ----------------------------------  4/30 [sympy]\n",
      "   ----- ----------------------------------  4/30 [sympy]\n",
      "   ----- ----------------------------------  4/30 [sympy]\n",
      "   ----- ----------------------------------  4/30 [sympy]\n",
      "   ----- ----------------------------------  4/30 [sympy]\n",
      "   ----- ----------------------------------  4/30 [sympy]\n",
      "   ----- ----------------------------------  4/30 [sympy]\n",
      "   ----- ----------------------------------  4/30 [sympy]\n",
      "   ----- ----------------------------------  4/30 [sympy]\n",
      "   ----- ----------------------------------  4/30 [sympy]\n",
      "   ----- ----------------------------------  4/30 [sympy]\n",
      "   ----- ----------------------------------  4/30 [sympy]\n",
      "   ----- ----------------------------------  4/30 [sympy]\n",
      "   ----- ----------------------------------  4/30 [sympy]\n",
      "   ----- ----------------------------------  4/30 [sympy]\n",
      "   ----- ----------------------------------  4/30 [sympy]\n",
      "   ----- ----------------------------------  4/30 [sympy]\n",
      "   ----- ----------------------------------  4/30 [sympy]\n",
      "   ----- ----------------------------------  4/30 [sympy]\n",
      "   ----- ----------------------------------  4/30 [sympy]\n",
      "   ----- ----------------------------------  4/30 [sympy]\n",
      "   ----- ----------------------------------  4/30 [sympy]\n",
      "   ----- ----------------------------------  4/30 [sympy]\n",
      "   ----- ----------------------------------  4/30 [sympy]\n",
      "   ----- ----------------------------------  4/30 [sympy]\n",
      "   ----- ----------------------------------  4/30 [sympy]\n",
      "   ----- ----------------------------------  4/30 [sympy]\n",
      "   ----- ----------------------------------  4/30 [sympy]\n",
      "   ----- ----------------------------------  4/30 [sympy]\n",
      "   ----- ----------------------------------  4/30 [sympy]\n",
      "   ----- ----------------------------------  4/30 [sympy]\n",
      "   ----- ----------------------------------  4/30 [sympy]\n",
      "   ----- ----------------------------------  4/30 [sympy]\n",
      "   ----- ----------------------------------  4/30 [sympy]\n",
      "   ----- ----------------------------------  4/30 [sympy]\n",
      "   ----- ----------------------------------  4/30 [sympy]\n",
      "   ----- ----------------------------------  4/30 [sympy]\n",
      "   ----- ----------------------------------  4/30 [sympy]\n",
      "   ----- ----------------------------------  4/30 [sympy]\n",
      "   ----- ----------------------------------  4/30 [sympy]\n",
      "   ----- ----------------------------------  4/30 [sympy]\n",
      "   ----- ----------------------------------  4/30 [sympy]\n",
      "   ----- ----------------------------------  4/30 [sympy]\n",
      "   ----- ----------------------------------  4/30 [sympy]\n",
      "   ----- ----------------------------------  4/30 [sympy]\n",
      "   ----- ----------------------------------  4/30 [sympy]\n",
      "   ----- ----------------------------------  4/30 [sympy]\n",
      "   ----- ----------------------------------  4/30 [sympy]\n",
      "   ----- ----------------------------------  4/30 [sympy]\n",
      "   ----- ----------------------------------  4/30 [sympy]\n",
      "   ----- ----------------------------------  4/30 [sympy]\n",
      "   ----- ----------------------------------  4/30 [sympy]\n",
      "   ----- ----------------------------------  4/30 [sympy]\n",
      "   ----- ----------------------------------  4/30 [sympy]\n",
      "   ----- ----------------------------------  4/30 [sympy]\n",
      "   ----- ----------------------------------  4/30 [sympy]\n",
      "   ----- ----------------------------------  4/30 [sympy]\n",
      "   ----- ----------------------------------  4/30 [sympy]\n",
      "   ----- ----------------------------------  4/30 [sympy]\n",
      "   ----- ----------------------------------  4/30 [sympy]\n",
      "   ----- ----------------------------------  4/30 [sympy]\n",
      "   ----- ----------------------------------  4/30 [sympy]\n",
      "   ----- ----------------------------------  4/30 [sympy]\n",
      "   ----- ----------------------------------  4/30 [sympy]\n",
      "   ----- ----------------------------------  4/30 [sympy]\n",
      "   ----- ----------------------------------  4/30 [sympy]\n",
      "   ----- ----------------------------------  4/30 [sympy]\n",
      "   ----- ----------------------------------  4/30 [sympy]\n",
      "   ----- ----------------------------------  4/30 [sympy]\n",
      "   ----- ----------------------------------  4/30 [sympy]\n",
      "   ----- ----------------------------------  4/30 [sympy]\n",
      "   ----- ----------------------------------  4/30 [sympy]\n",
      "   ----- ----------------------------------  4/30 [sympy]\n",
      "   ----- ----------------------------------  4/30 [sympy]\n",
      "   ----- ----------------------------------  4/30 [sympy]\n",
      "   ----- ----------------------------------  4/30 [sympy]\n",
      "   ----- ----------------------------------  4/30 [sympy]\n",
      "   ----- ----------------------------------  4/30 [sympy]\n",
      "   ----- ----------------------------------  4/30 [sympy]\n",
      "   ----- ----------------------------------  4/30 [sympy]\n",
      "   ----- ----------------------------------  4/30 [sympy]\n",
      "   ----- ----------------------------------  4/30 [sympy]\n",
      "   ----- ----------------------------------  4/30 [sympy]\n",
      "   ----- ----------------------------------  4/30 [sympy]\n",
      "   ----- ----------------------------------  4/30 [sympy]\n",
      "   ----- ----------------------------------  4/30 [sympy]\n",
      "   ----- ----------------------------------  4/30 [sympy]\n",
      "   ----- ----------------------------------  4/30 [sympy]\n",
      "   ----- ----------------------------------  4/30 [sympy]\n",
      "   ----- ----------------------------------  4/30 [sympy]\n",
      "   ----- ----------------------------------  4/30 [sympy]\n",
      "   ----- ----------------------------------  4/30 [sympy]\n",
      "   ----- ----------------------------------  4/30 [sympy]\n",
      "   ----- ----------------------------------  4/30 [sympy]\n",
      "   ----- ----------------------------------  4/30 [sympy]\n",
      "   ----- ----------------------------------  4/30 [sympy]\n",
      "   ----- ----------------------------------  4/30 [sympy]\n",
      "   ----- ----------------------------------  4/30 [sympy]\n",
      "   ----- ----------------------------------  4/30 [sympy]\n",
      "   ----- ----------------------------------  4/30 [sympy]\n",
      "   ----- ----------------------------------  4/30 [sympy]\n",
      "   ------ ---------------------------------  5/30 [safetensors]\n",
      "   ------ ---------------------------------  5/30 [safetensors]\n",
      "   -------- -------------------------------  6/30 [regex]\n",
      "   -------- -------------------------------  6/30 [regex]\n",
      "   --------- ------------------------------  7/30 [pyyaml]\n",
      "   --------- ------------------------------  7/30 [pyyaml]\n",
      "   --------- ------------------------------  7/30 [pyyaml]\n",
      "   --------- ------------------------------  7/30 [pyyaml]\n",
      "   --------- ------------------------------  7/30 [pyyaml]\n",
      "   --------- ------------------------------  7/30 [pyyaml]\n",
      "   ---------- -----------------------------  8/30 [Pillow]\n",
      "   ---------- -----------------------------  8/30 [Pillow]\n",
      "   ---------- -----------------------------  8/30 [Pillow]\n",
      "   ---------- -----------------------------  8/30 [Pillow]\n",
      "   ---------- -----------------------------  8/30 [Pillow]\n",
      "   ---------- -----------------------------  8/30 [Pillow]\n",
      "   ---------- -----------------------------  8/30 [Pillow]\n",
      "   ---------- -----------------------------  8/30 [Pillow]\n",
      "   ---------- -----------------------------  8/30 [Pillow]\n",
      "   ---------- -----------------------------  8/30 [Pillow]\n",
      "   ---------- -----------------------------  8/30 [Pillow]\n",
      "   ---------- -----------------------------  8/30 [Pillow]\n",
      "   ---------- -----------------------------  8/30 [Pillow]\n",
      "   ---------- -----------------------------  8/30 [Pillow]\n",
      "   ---------- -----------------------------  8/30 [Pillow]\n",
      "   ---------- -----------------------------  8/30 [Pillow]\n",
      "   ---------- -----------------------------  8/30 [Pillow]\n",
      "   ---------- -----------------------------  8/30 [Pillow]\n",
      "   ---------- -----------------------------  8/30 [Pillow]\n",
      "   ---------- -----------------------------  8/30 [Pillow]\n",
      "   ---------- -----------------------------  8/30 [Pillow]\n",
      "   ---------- -----------------------------  8/30 [Pillow]\n",
      "   ---------- -----------------------------  8/30 [Pillow]\n",
      "   ------------ ---------------------------  9/30 [packaging]\n",
      "   ------------ ---------------------------  9/30 [packaging]\n",
      "   ------------ ---------------------------  9/30 [packaging]\n",
      "   ------------- -------------------------- 10/30 [numpy]\n",
      "   ------------- -------------------------- 10/30 [numpy]\n",
      "   ------------- -------------------------- 10/30 [numpy]\n",
      "   ------------- -------------------------- 10/30 [numpy]\n",
      "   ------------- -------------------------- 10/30 [numpy]\n",
      "   ------------- -------------------------- 10/30 [numpy]\n",
      "   ------------- -------------------------- 10/30 [numpy]\n",
      "   ------------- -------------------------- 10/30 [numpy]\n",
      "   ------------- -------------------------- 10/30 [numpy]\n",
      "   ------------- -------------------------- 10/30 [numpy]\n",
      "   ------------- -------------------------- 10/30 [numpy]\n",
      "   ------------- -------------------------- 10/30 [numpy]\n",
      "   ------------- -------------------------- 10/30 [numpy]\n",
      "   ------------- -------------------------- 10/30 [numpy]\n",
      "   ------------- -------------------------- 10/30 [numpy]\n",
      "   ------------- -------------------------- 10/30 [numpy]\n",
      "   ------------- -------------------------- 10/30 [numpy]\n",
      "   ------------- -------------------------- 10/30 [numpy]\n",
      "   ------------- -------------------------- 10/30 [numpy]\n",
      "   ------------- -------------------------- 10/30 [numpy]\n",
      "   ------------- -------------------------- 10/30 [numpy]\n",
      "   ------------- -------------------------- 10/30 [numpy]\n",
      "   ------------- -------------------------- 10/30 [numpy]\n",
      "   ------------- -------------------------- 10/30 [numpy]\n",
      "   ------------- -------------------------- 10/30 [numpy]\n",
      "   ------------- -------------------------- 10/30 [numpy]\n",
      "   ------------- -------------------------- 10/30 [numpy]\n",
      "   ------------- -------------------------- 10/30 [numpy]\n",
      "   ------------- -------------------------- 10/30 [numpy]\n",
      "   ------------- -------------------------- 10/30 [numpy]\n",
      "   ------------- -------------------------- 10/30 [numpy]\n",
      "   ------------- -------------------------- 10/30 [numpy]\n",
      "   ------------- -------------------------- 10/30 [numpy]\n",
      "   ------------- -------------------------- 10/30 [numpy]\n",
      "   ------------- -------------------------- 10/30 [numpy]\n",
      "   ------------- -------------------------- 10/30 [numpy]\n",
      "   ------------- -------------------------- 10/30 [numpy]\n",
      "   ------------- -------------------------- 10/30 [numpy]\n",
      "   ------------- -------------------------- 10/30 [numpy]\n",
      "   ------------- -------------------------- 10/30 [numpy]\n",
      "   ------------- -------------------------- 10/30 [numpy]\n",
      "   ------------- -------------------------- 10/30 [numpy]\n",
      "   ------------- -------------------------- 10/30 [numpy]\n",
      "   ------------- -------------------------- 10/30 [numpy]\n",
      "   ------------- -------------------------- 10/30 [numpy]\n",
      "   ------------- -------------------------- 10/30 [numpy]\n",
      "   ------------- -------------------------- 10/30 [numpy]\n",
      "   ------------- -------------------------- 10/30 [numpy]\n",
      "   ------------- -------------------------- 10/30 [numpy]\n",
      "   ------------- -------------------------- 10/30 [numpy]\n",
      "   ------------- -------------------------- 10/30 [numpy]\n",
      "   ------------- -------------------------- 10/30 [numpy]\n",
      "   ------------- -------------------------- 10/30 [numpy]\n",
      "   ------------- -------------------------- 10/30 [numpy]\n",
      "   ------------- -------------------------- 10/30 [numpy]\n",
      "   ------------- -------------------------- 10/30 [numpy]\n",
      "   ------------- -------------------------- 10/30 [numpy]\n",
      "   ------------- -------------------------- 10/30 [numpy]\n",
      "   ------------- -------------------------- 10/30 [numpy]\n",
      "   ------------- -------------------------- 10/30 [numpy]\n",
      "   ------------- -------------------------- 10/30 [numpy]\n",
      "   ------------- -------------------------- 10/30 [numpy]\n",
      "   ------------- -------------------------- 10/30 [numpy]\n",
      "   ------------- -------------------------- 10/30 [numpy]\n",
      "   ------------- -------------------------- 10/30 [numpy]\n",
      "   ------------- -------------------------- 10/30 [numpy]\n",
      "   ------------- -------------------------- 10/30 [numpy]\n",
      "   ------------- -------------------------- 10/30 [numpy]\n",
      "   ------------- -------------------------- 10/30 [numpy]\n",
      "   ------------- -------------------------- 10/30 [numpy]\n",
      "   ------------- -------------------------- 10/30 [numpy]\n",
      "   ------------- -------------------------- 10/30 [numpy]\n",
      "   ------------- -------------------------- 10/30 [numpy]\n",
      "   ------------- -------------------------- 10/30 [numpy]\n",
      "   ------------- -------------------------- 10/30 [numpy]\n",
      "   ------------- -------------------------- 10/30 [numpy]\n",
      "   ------------- -------------------------- 10/30 [numpy]\n",
      "   ------------- -------------------------- 10/30 [numpy]\n",
      "   ------------- -------------------------- 10/30 [numpy]\n",
      "   ------------- -------------------------- 10/30 [numpy]\n",
      "   ------------- -------------------------- 10/30 [numpy]\n",
      "   ------------- -------------------------- 10/30 [numpy]\n",
      "   ------------- -------------------------- 10/30 [numpy]\n",
      "   ------------- -------------------------- 10/30 [numpy]\n",
      "   ------------- -------------------------- 10/30 [numpy]\n",
      "   ------------- -------------------------- 10/30 [numpy]\n",
      "   ------------- -------------------------- 10/30 [numpy]\n",
      "   ------------- -------------------------- 10/30 [numpy]\n",
      "   ------------- -------------------------- 10/30 [numpy]\n",
      "   ------------- -------------------------- 10/30 [numpy]\n",
      "   ------------- -------------------------- 10/30 [numpy]\n",
      "   ------------- -------------------------- 10/30 [numpy]\n",
      "   ------------- -------------------------- 10/30 [numpy]\n",
      "   ------------- -------------------------- 10/30 [numpy]\n",
      "   ------------- -------------------------- 10/30 [numpy]\n",
      "   ------------- -------------------------- 10/30 [numpy]\n",
      "   ------------- -------------------------- 10/30 [numpy]\n",
      "   ------------- -------------------------- 10/30 [numpy]\n",
      "   ------------- -------------------------- 10/30 [numpy]\n",
      "   ------------- -------------------------- 10/30 [numpy]\n",
      "   ------------- -------------------------- 10/30 [numpy]\n",
      "   ------------- -------------------------- 10/30 [numpy]\n",
      "   ------------- -------------------------- 10/30 [numpy]\n",
      "   ------------- -------------------------- 10/30 [numpy]\n",
      "   ------------- -------------------------- 10/30 [numpy]\n",
      "   ------------- -------------------------- 10/30 [numpy]\n",
      "   ------------- -------------------------- 10/30 [numpy]\n",
      "   ------------- -------------------------- 10/30 [numpy]\n",
      "   ------------- -------------------------- 10/30 [numpy]\n",
      "   ------------- -------------------------- 10/30 [numpy]\n",
      "   ------------- -------------------------- 10/30 [numpy]\n",
      "   ------------- -------------------------- 10/30 [numpy]\n",
      "   ------------- -------------------------- 10/30 [numpy]\n",
      "   -------------- ------------------------- 11/30 [networkx]\n",
      "   -------------- ------------------------- 11/30 [networkx]\n",
      "   -------------- ------------------------- 11/30 [networkx]\n",
      "   -------------- ------------------------- 11/30 [networkx]\n",
      "   -------------- ------------------------- 11/30 [networkx]\n",
      "   -------------- ------------------------- 11/30 [networkx]\n",
      "   -------------- ------------------------- 11/30 [networkx]\n",
      "   -------------- ------------------------- 11/30 [networkx]\n",
      "   -------------- ------------------------- 11/30 [networkx]\n",
      "   -------------- ------------------------- 11/30 [networkx]\n",
      "   -------------- ------------------------- 11/30 [networkx]\n",
      "   -------------- ------------------------- 11/30 [networkx]\n",
      "   -------------- ------------------------- 11/30 [networkx]\n",
      "   -------------- ------------------------- 11/30 [networkx]\n",
      "   -------------- ------------------------- 11/30 [networkx]\n",
      "   -------------- ------------------------- 11/30 [networkx]\n",
      "   -------------- ------------------------- 11/30 [networkx]\n",
      "   -------------- ------------------------- 11/30 [networkx]\n",
      "   -------------- ------------------------- 11/30 [networkx]\n",
      "   -------------- ------------------------- 11/30 [networkx]\n",
      "   -------------- ------------------------- 11/30 [networkx]\n",
      "   -------------- ------------------------- 11/30 [networkx]\n",
      "   -------------- ------------------------- 11/30 [networkx]\n",
      "   -------------- ------------------------- 11/30 [networkx]\n",
      "   -------------- ------------------------- 11/30 [networkx]\n",
      "   -------------- ------------------------- 11/30 [networkx]\n",
      "   -------------- ------------------------- 11/30 [networkx]\n",
      "   -------------- ------------------------- 11/30 [networkx]\n",
      "   -------------- ------------------------- 11/30 [networkx]\n",
      "   -------------- ------------------------- 11/30 [networkx]\n",
      "   -------------- ------------------------- 11/30 [networkx]\n",
      "   -------------- ------------------------- 11/30 [networkx]\n",
      "   -------------- ------------------------- 11/30 [networkx]\n",
      "   -------------- ------------------------- 11/30 [networkx]\n",
      "   -------------- ------------------------- 11/30 [networkx]\n",
      "   -------------- ------------------------- 11/30 [networkx]\n",
      "   -------------- ------------------------- 11/30 [networkx]\n",
      "   -------------- ------------------------- 11/30 [networkx]\n",
      "   -------------- ------------------------- 11/30 [networkx]\n",
      "   -------------- ------------------------- 11/30 [networkx]\n",
      "   -------------- ------------------------- 11/30 [networkx]\n",
      "   -------------- ------------------------- 11/30 [networkx]\n",
      "   -------------- ------------------------- 11/30 [networkx]\n",
      "   -------------- ------------------------- 11/30 [networkx]\n",
      "   -------------- ------------------------- 11/30 [networkx]\n",
      "   -------------- ------------------------- 11/30 [networkx]\n",
      "   -------------- ------------------------- 11/30 [networkx]\n",
      "   -------------- ------------------------- 11/30 [networkx]\n",
      "   -------------- ------------------------- 11/30 [networkx]\n",
      "   -------------- ------------------------- 11/30 [networkx]\n",
      "   -------------- ------------------------- 11/30 [networkx]\n",
      "   -------------- ------------------------- 11/30 [networkx]\n",
      "   -------------- ------------------------- 11/30 [networkx]\n",
      "   -------------- ------------------------- 11/30 [networkx]\n",
      "   -------------- ------------------------- 11/30 [networkx]\n",
      "   -------------- ------------------------- 11/30 [networkx]\n",
      "   -------------- ------------------------- 11/30 [networkx]\n",
      "   -------------- ------------------------- 11/30 [networkx]\n",
      "   -------------- ------------------------- 11/30 [networkx]\n",
      "   -------------- ------------------------- 11/30 [networkx]\n",
      "   -------------- ------------------------- 11/30 [networkx]\n",
      "   -------------- ------------------------- 11/30 [networkx]\n",
      "   -------------- ------------------------- 11/30 [networkx]\n",
      "   -------------- ------------------------- 11/30 [networkx]\n",
      "   -------------- ------------------------- 11/30 [networkx]\n",
      "   -------------- ------------------------- 11/30 [networkx]\n",
      "   -------------- ------------------------- 11/30 [networkx]\n",
      "   -------------- ------------------------- 11/30 [networkx]\n",
      "   -------------- ------------------------- 11/30 [networkx]\n",
      "   -------------- ------------------------- 11/30 [networkx]\n",
      "   -------------- ------------------------- 11/30 [networkx]\n",
      "   -------------- ------------------------- 11/30 [networkx]\n",
      "   -------------- ------------------------- 11/30 [networkx]\n",
      "   -------------- ------------------------- 11/30 [networkx]\n",
      "   -------------- ------------------------- 11/30 [networkx]\n",
      "   -------------- ------------------------- 11/30 [networkx]\n",
      "   -------------- ------------------------- 11/30 [networkx]\n",
      "   -------------- ------------------------- 11/30 [networkx]\n",
      "   -------------- ------------------------- 11/30 [networkx]\n",
      "   -------------- ------------------------- 11/30 [networkx]\n",
      "   -------------- ------------------------- 11/30 [networkx]\n",
      "   -------------- ------------------------- 11/30 [networkx]\n",
      "   -------------- ------------------------- 11/30 [networkx]\n",
      "   -------------- ------------------------- 11/30 [networkx]\n",
      "   -------------- ------------------------- 11/30 [networkx]\n",
      "   -------------- ------------------------- 11/30 [networkx]\n",
      "   -------------- ------------------------- 11/30 [networkx]\n",
      "   -------------- ------------------------- 11/30 [networkx]\n",
      "   -------------- ------------------------- 11/30 [networkx]\n",
      "   -------------- ------------------------- 11/30 [networkx]\n",
      "   -------------- ------------------------- 11/30 [networkx]\n",
      "   -------------- ------------------------- 11/30 [networkx]\n",
      "   -------------- ------------------------- 11/30 [networkx]\n",
      "   -------------- ------------------------- 11/30 [networkx]\n",
      "   -------------- ------------------------- 11/30 [networkx]\n",
      "   -------------- ------------------------- 11/30 [networkx]\n",
      "   -------------- ------------------------- 11/30 [networkx]\n",
      "   -------------- ------------------------- 11/30 [networkx]\n",
      "   -------------- ------------------------- 11/30 [networkx]\n",
      "   -------------- ------------------------- 11/30 [networkx]\n",
      "   -------------- ------------------------- 11/30 [networkx]\n",
      "   -------------- ------------------------- 11/30 [networkx]\n",
      "   ---------------- ----------------------- 12/30 [MarkupSafe]\n",
      "   ----------------- ---------------------- 13/30 [joblib]\n",
      "   ----------------- ---------------------- 13/30 [joblib]\n",
      "   ----------------- ---------------------- 13/30 [joblib]\n",
      "   ----------------- ---------------------- 13/30 [joblib]\n",
      "   ----------------- ---------------------- 13/30 [joblib]\n",
      "   ----------------- ---------------------- 13/30 [joblib]\n",
      "   ----------------- ---------------------- 13/30 [joblib]\n",
      "   ----------------- ---------------------- 13/30 [joblib]\n",
      "   ----------------- ---------------------- 13/30 [joblib]\n",
      "   ----------------- ---------------------- 13/30 [joblib]\n",
      "   ----------------- ---------------------- 13/30 [joblib]\n",
      "   ----------------- ---------------------- 13/30 [joblib]\n",
      "   ----------------- ---------------------- 13/30 [joblib]\n",
      "   ----------------- ---------------------- 13/30 [joblib]\n",
      "   ------------------ --------------------- 14/30 [idna]\n",
      "   ------------------ --------------------- 14/30 [idna]\n",
      "   ------------------ --------------------- 14/30 [idna]\n",
      "   -------------------- ------------------- 15/30 [fsspec]\n",
      "   -------------------- ------------------- 15/30 [fsspec]\n",
      "   -------------------- ------------------- 15/30 [fsspec]\n",
      "   -------------------- ------------------- 15/30 [fsspec]\n",
      "   -------------------- ------------------- 15/30 [fsspec]\n",
      "   -------------------- ------------------- 15/30 [fsspec]\n",
      "   --------------------- ------------------ 16/30 [filelock]\n",
      "   --------------------- ------------------ 16/30 [filelock]\n",
      "   ---------------------- ----------------- 17/30 [colorama]\n",
      "   ---------------------- ----------------- 17/30 [colorama]\n",
      "   ---------------------- ----------------- 17/30 [colorama]\n",
      "   ------------------------ --------------- 18/30 [charset-normalizer]\n",
      "   ------------------------ --------------- 18/30 [charset-normalizer]\n",
      "   ------------------------- -------------- 19/30 [certifi]\n",
      "   -------------------------- ------------- 20/30 [tqdm]\n",
      "   -------------------------- ------------- 20/30 [tqdm]\n",
      "   -------------------------- ------------- 20/30 [tqdm]\n",
      "   -------------------------- ------------- 20/30 [tqdm]\n",
      "   -------------------------- ------------- 20/30 [tqdm]\n",
      "   ---------------------------- ----------- 21/30 [scipy]\n",
      "   ---------------------------- ----------- 21/30 [scipy]\n",
      "   ---------------------------- ----------- 21/30 [scipy]\n",
      "   ---------------------------- ----------- 21/30 [scipy]\n",
      "   ---------------------------- ----------- 21/30 [scipy]\n",
      "   ---------------------------- ----------- 21/30 [scipy]\n",
      "   ---------------------------- ----------- 21/30 [scipy]\n",
      "   ---------------------------- ----------- 21/30 [scipy]\n",
      "   ---------------------------- ----------- 21/30 [scipy]\n",
      "   ---------------------------- ----------- 21/30 [scipy]\n",
      "   ---------------------------- ----------- 21/30 [scipy]\n",
      "   ---------------------------- ----------- 21/30 [scipy]\n",
      "   ---------------------------- ----------- 21/30 [scipy]\n",
      "   ---------------------------- ----------- 21/30 [scipy]\n",
      "   ---------------------------- ----------- 21/30 [scipy]\n",
      "   ---------------------------- ----------- 21/30 [scipy]\n",
      "   ---------------------------- ----------- 21/30 [scipy]\n",
      "   ---------------------------- ----------- 21/30 [scipy]\n",
      "   ---------------------------- ----------- 21/30 [scipy]\n",
      "   ---------------------------- ----------- 21/30 [scipy]\n",
      "   ---------------------------- ----------- 21/30 [scipy]\n",
      "   ---------------------------- ----------- 21/30 [scipy]\n",
      "   ---------------------------- ----------- 21/30 [scipy]\n",
      "   ---------------------------- ----------- 21/30 [scipy]\n",
      "   ---------------------------- ----------- 21/30 [scipy]\n",
      "   ---------------------------- ----------- 21/30 [scipy]\n",
      "   ---------------------------- ----------- 21/30 [scipy]\n",
      "   ---------------------------- ----------- 21/30 [scipy]\n",
      "   ---------------------------- ----------- 21/30 [scipy]\n",
      "   ---------------------------- ----------- 21/30 [scipy]\n",
      "   ---------------------------- ----------- 21/30 [scipy]\n",
      "   ---------------------------- ----------- 21/30 [scipy]\n",
      "   ---------------------------- ----------- 21/30 [scipy]\n",
      "   ---------------------------- ----------- 21/30 [scipy]\n",
      "   ---------------------------- ----------- 21/30 [scipy]\n",
      "   ---------------------------- ----------- 21/30 [scipy]\n",
      "   ---------------------------- ----------- 21/30 [scipy]\n",
      "   ---------------------------- ----------- 21/30 [scipy]\n",
      "   ---------------------------- ----------- 21/30 [scipy]\n",
      "   ---------------------------- ----------- 21/30 [scipy]\n",
      "   ---------------------------- ----------- 21/30 [scipy]\n",
      "   ---------------------------- ----------- 21/30 [scipy]\n",
      "   ---------------------------- ----------- 21/30 [scipy]\n",
      "   ---------------------------- ----------- 21/30 [scipy]\n",
      "   ---------------------------- ----------- 21/30 [scipy]\n",
      "   ---------------------------- ----------- 21/30 [scipy]\n",
      "   ---------------------------- ----------- 21/30 [scipy]\n",
      "   ---------------------------- ----------- 21/30 [scipy]\n",
      "   ---------------------------- ----------- 21/30 [scipy]\n",
      "   ---------------------------- ----------- 21/30 [scipy]\n",
      "   ---------------------------- ----------- 21/30 [scipy]\n",
      "   ---------------------------- ----------- 21/30 [scipy]\n",
      "   ---------------------------- ----------- 21/30 [scipy]\n",
      "   ---------------------------- ----------- 21/30 [scipy]\n",
      "   ---------------------------- ----------- 21/30 [scipy]\n",
      "   ---------------------------- ----------- 21/30 [scipy]\n",
      "   ---------------------------- ----------- 21/30 [scipy]\n",
      "   ---------------------------- ----------- 21/30 [scipy]\n",
      "   ---------------------------- ----------- 21/30 [scipy]\n",
      "   ---------------------------- ----------- 21/30 [scipy]\n",
      "   ---------------------------- ----------- 21/30 [scipy]\n",
      "   ---------------------------- ----------- 21/30 [scipy]\n",
      "   ---------------------------- ----------- 21/30 [scipy]\n",
      "   ---------------------------- ----------- 21/30 [scipy]\n",
      "   ---------------------------- ----------- 21/30 [scipy]\n",
      "   ---------------------------- ----------- 21/30 [scipy]\n",
      "   ---------------------------- ----------- 21/30 [scipy]\n",
      "   ---------------------------- ----------- 21/30 [scipy]\n",
      "   ---------------------------- ----------- 21/30 [scipy]\n",
      "   ---------------------------- ----------- 21/30 [scipy]\n",
      "   ---------------------------- ----------- 21/30 [scipy]\n",
      "   ---------------------------- ----------- 21/30 [scipy]\n",
      "   ---------------------------- ----------- 21/30 [scipy]\n",
      "   ---------------------------- ----------- 21/30 [scipy]\n",
      "   ---------------------------- ----------- 21/30 [scipy]\n",
      "   ---------------------------- ----------- 21/30 [scipy]\n",
      "   ---------------------------- ----------- 21/30 [scipy]\n",
      "   ---------------------------- ----------- 21/30 [scipy]\n",
      "   ---------------------------- ----------- 21/30 [scipy]\n",
      "   ---------------------------- ----------- 21/30 [scipy]\n",
      "   ---------------------------- ----------- 21/30 [scipy]\n",
      "   ---------------------------- ----------- 21/30 [scipy]\n",
      "   ---------------------------- ----------- 21/30 [scipy]\n",
      "   ---------------------------- ----------- 21/30 [scipy]\n",
      "   ---------------------------- ----------- 21/30 [scipy]\n",
      "   ---------------------------- ----------- 21/30 [scipy]\n",
      "   ---------------------------- ----------- 21/30 [scipy]\n",
      "   ---------------------------- ----------- 21/30 [scipy]\n",
      "   ---------------------------- ----------- 21/30 [scipy]\n",
      "   ---------------------------- ----------- 21/30 [scipy]\n",
      "   ---------------------------- ----------- 21/30 [scipy]\n",
      "   ---------------------------- ----------- 21/30 [scipy]\n",
      "   ---------------------------- ----------- 21/30 [scipy]\n",
      "   ---------------------------- ----------- 21/30 [scipy]\n",
      "   ---------------------------- ----------- 21/30 [scipy]\n",
      "   ---------------------------- ----------- 21/30 [scipy]\n",
      "   ---------------------------- ----------- 21/30 [scipy]\n",
      "   ---------------------------- ----------- 21/30 [scipy]\n",
      "   ---------------------------- ----------- 21/30 [scipy]\n",
      "   ---------------------------- ----------- 21/30 [scipy]\n",
      "   ---------------------------- ----------- 21/30 [scipy]\n",
      "   ---------------------------- ----------- 21/30 [scipy]\n",
      "   ---------------------------- ----------- 21/30 [scipy]\n",
      "   ---------------------------- ----------- 21/30 [scipy]\n",
      "   ---------------------------- ----------- 21/30 [scipy]\n",
      "   ---------------------------- ----------- 21/30 [scipy]\n",
      "   ---------------------------- ----------- 21/30 [scipy]\n",
      "   ---------------------------- ----------- 21/30 [scipy]\n",
      "   ---------------------------- ----------- 21/30 [scipy]\n",
      "   ---------------------------- ----------- 21/30 [scipy]\n",
      "   ---------------------------- ----------- 21/30 [scipy]\n",
      "   ---------------------------- ----------- 21/30 [scipy]\n",
      "   ---------------------------- ----------- 21/30 [scipy]\n",
      "   ---------------------------- ----------- 21/30 [scipy]\n",
      "   ---------------------------- ----------- 21/30 [scipy]\n",
      "   ---------------------------- ----------- 21/30 [scipy]\n",
      "   ---------------------------- ----------- 21/30 [scipy]\n",
      "   ---------------------------- ----------- 21/30 [scipy]\n",
      "   ---------------------------- ----------- 21/30 [scipy]\n",
      "   ---------------------------- ----------- 21/30 [scipy]\n",
      "   ---------------------------- ----------- 21/30 [scipy]\n",
      "   ---------------------------- ----------- 21/30 [scipy]\n",
      "   ---------------------------- ----------- 21/30 [scipy]\n",
      "   ---------------------------- ----------- 21/30 [scipy]\n",
      "   ---------------------------- ----------- 21/30 [scipy]\n",
      "   ---------------------------- ----------- 21/30 [scipy]\n",
      "   ---------------------------- ----------- 21/30 [scipy]\n",
      "   ---------------------------- ----------- 21/30 [scipy]\n",
      "   ---------------------------- ----------- 21/30 [scipy]\n",
      "   ---------------------------- ----------- 21/30 [scipy]\n",
      "   ---------------------------- ----------- 21/30 [scipy]\n",
      "   ---------------------------- ----------- 21/30 [scipy]\n",
      "   ---------------------------- ----------- 21/30 [scipy]\n",
      "   ---------------------------- ----------- 21/30 [scipy]\n",
      "   ---------------------------- ----------- 21/30 [scipy]\n",
      "   ---------------------------- ----------- 21/30 [scipy]\n",
      "   ---------------------------- ----------- 21/30 [scipy]\n",
      "   ---------------------------- ----------- 21/30 [scipy]\n",
      "   ---------------------------- ----------- 21/30 [scipy]\n",
      "   ---------------------------- ----------- 21/30 [scipy]\n",
      "   ---------------------------- ----------- 21/30 [scipy]\n",
      "   ---------------------------- ----------- 21/30 [scipy]\n",
      "   ---------------------------- ----------- 21/30 [scipy]\n",
      "   ---------------------------- ----------- 21/30 [scipy]\n",
      "   ---------------------------- ----------- 21/30 [scipy]\n",
      "   ---------------------------- ----------- 21/30 [scipy]\n",
      "   ---------------------------- ----------- 21/30 [scipy]\n",
      "   ---------------------------- ----------- 21/30 [scipy]\n",
      "   ---------------------------- ----------- 21/30 [scipy]\n",
      "   ---------------------------- ----------- 21/30 [scipy]\n",
      "   ---------------------------- ----------- 21/30 [scipy]\n",
      "   ---------------------------- ----------- 21/30 [scipy]\n",
      "   ---------------------------- ----------- 21/30 [scipy]\n",
      "   ---------------------------- ----------- 21/30 [scipy]\n",
      "   ---------------------------- ----------- 21/30 [scipy]\n",
      "   ---------------------------- ----------- 21/30 [scipy]\n",
      "   ---------------------------- ----------- 21/30 [scipy]\n",
      "   ---------------------------- ----------- 21/30 [scipy]\n",
      "   ---------------------------- ----------- 21/30 [scipy]\n",
      "   ---------------------------- ----------- 21/30 [scipy]\n",
      "   ---------------------------- ----------- 21/30 [scipy]\n",
      "   ---------------------------- ----------- 21/30 [scipy]\n",
      "   ---------------------------- ----------- 21/30 [scipy]\n",
      "   ---------------------------- ----------- 21/30 [scipy]\n",
      "   ---------------------------- ----------- 21/30 [scipy]\n",
      "   ---------------------------- ----------- 21/30 [scipy]\n",
      "   ---------------------------- ----------- 21/30 [scipy]\n",
      "   ---------------------------- ----------- 21/30 [scipy]\n",
      "   ---------------------------- ----------- 21/30 [scipy]\n",
      "   ---------------------------- ----------- 21/30 [scipy]\n",
      "   ---------------------------- ----------- 21/30 [scipy]\n",
      "   ---------------------------- ----------- 21/30 [scipy]\n",
      "   ---------------------------- ----------- 21/30 [scipy]\n",
      "   ---------------------------- ----------- 21/30 [scipy]\n",
      "   ---------------------------- ----------- 21/30 [scipy]\n",
      "   ---------------------------- ----------- 21/30 [scipy]\n",
      "   ---------------------------- ----------- 21/30 [scipy]\n",
      "   ---------------------------- ----------- 21/30 [scipy]\n",
      "   ---------------------------- ----------- 21/30 [scipy]\n",
      "   ---------------------------- ----------- 21/30 [scipy]\n",
      "   ---------------------------- ----------- 21/30 [scipy]\n",
      "   ---------------------------- ----------- 21/30 [scipy]\n",
      "   ---------------------------- ----------- 21/30 [scipy]\n",
      "   ---------------------------- ----------- 21/30 [scipy]\n",
      "   ---------------------------- ----------- 21/30 [scipy]\n",
      "   ---------------------------- ----------- 21/30 [scipy]\n",
      "   ---------------------------- ----------- 21/30 [scipy]\n",
      "   ---------------------------- ----------- 21/30 [scipy]\n",
      "   ---------------------------- ----------- 21/30 [scipy]\n",
      "   ---------------------------- ----------- 21/30 [scipy]\n",
      "   ---------------------------- ----------- 21/30 [scipy]\n",
      "   ---------------------------- ----------- 21/30 [scipy]\n",
      "   ---------------------------- ----------- 21/30 [scipy]\n",
      "   ---------------------------- ----------- 21/30 [scipy]\n",
      "   ---------------------------- ----------- 21/30 [scipy]\n",
      "   ----------------------------- ---------- 22/30 [requests]\n",
      "   ----------------------------- ---------- 22/30 [requests]\n",
      "   ----------------------------- ---------- 22/30 [requests]\n",
      "   ----------------------------- ---------- 22/30 [requests]\n",
      "   ----------------------------- ---------- 22/30 [requests]\n",
      "   ----------------------------- ---------- 22/30 [requests]\n",
      "   ------------------------------ --------- 23/30 [jinja2]\n",
      "   ------------------------------ --------- 23/30 [jinja2]\n",
      "   ------------------------------ --------- 23/30 [jinja2]\n",
      "   ------------------------------ --------- 23/30 [jinja2]\n",
      "   ------------------------------ --------- 23/30 [jinja2]\n",
      "   ------------------------------ --------- 23/30 [jinja2]\n",
      "   -------------------------------- ------- 24/30 [torch]\n",
      "   -------------------------------- ------- 24/30 [torch]\n",
      "   -------------------------------- ------- 24/30 [torch]\n",
      "   -------------------------------- ------- 24/30 [torch]\n",
      "   -------------------------------- ------- 24/30 [torch]\n",
      "   -------------------------------- ------- 24/30 [torch]\n",
      "   -------------------------------- ------- 24/30 [torch]\n",
      "   -------------------------------- ------- 24/30 [torch]\n",
      "   -------------------------------- ------- 24/30 [torch]\n",
      "   -------------------------------- ------- 24/30 [torch]\n",
      "   -------------------------------- ------- 24/30 [torch]\n",
      "   -------------------------------- ------- 24/30 [torch]\n",
      "   -------------------------------- ------- 24/30 [torch]\n",
      "   -------------------------------- ------- 24/30 [torch]\n",
      "   -------------------------------- ------- 24/30 [torch]\n",
      "   -------------------------------- ------- 24/30 [torch]\n",
      "   -------------------------------- ------- 24/30 [torch]\n",
      "   -------------------------------- ------- 24/30 [torch]\n",
      "   -------------------------------- ------- 24/30 [torch]\n",
      "   -------------------------------- ------- 24/30 [torch]\n",
      "   -------------------------------- ------- 24/30 [torch]\n",
      "   -------------------------------- ------- 24/30 [torch]\n",
      "   -------------------------------- ------- 24/30 [torch]\n",
      "   -------------------------------- ------- 24/30 [torch]\n",
      "   -------------------------------- ------- 24/30 [torch]\n",
      "   -------------------------------- ------- 24/30 [torch]\n",
      "   -------------------------------- ------- 24/30 [torch]\n",
      "   -------------------------------- ------- 24/30 [torch]\n",
      "   -------------------------------- ------- 24/30 [torch]\n",
      "   -------------------------------- ------- 24/30 [torch]\n",
      "   -------------------------------- ------- 24/30 [torch]\n",
      "   -------------------------------- ------- 24/30 [torch]\n",
      "   -------------------------------- ------- 24/30 [torch]\n",
      "   -------------------------------- ------- 24/30 [torch]\n",
      "   -------------------------------- ------- 24/30 [torch]\n",
      "   -------------------------------- ------- 24/30 [torch]\n",
      "   -------------------------------- ------- 24/30 [torch]\n",
      "   -------------------------------- ------- 24/30 [torch]\n",
      "   -------------------------------- ------- 24/30 [torch]\n",
      "   -------------------------------- ------- 24/30 [torch]\n",
      "   -------------------------------- ------- 24/30 [torch]\n",
      "   -------------------------------- ------- 24/30 [torch]\n",
      "   -------------------------------- ------- 24/30 [torch]\n",
      "   -------------------------------- ------- 24/30 [torch]\n",
      "   -------------------------------- ------- 24/30 [torch]\n",
      "   -------------------------------- ------- 24/30 [torch]\n",
      "   -------------------------------- ------- 24/30 [torch]\n",
      "   -------------------------------- ------- 24/30 [torch]\n",
      "   -------------------------------- ------- 24/30 [torch]\n",
      "   -------------------------------- ------- 24/30 [torch]\n",
      "   -------------------------------- ------- 24/30 [torch]\n",
      "   -------------------------------- ------- 24/30 [torch]\n",
      "   -------------------------------- ------- 24/30 [torch]\n",
      "   -------------------------------- ------- 24/30 [torch]\n",
      "   -------------------------------- ------- 24/30 [torch]\n",
      "   -------------------------------- ------- 24/30 [torch]\n",
      "   -------------------------------- ------- 24/30 [torch]\n",
      "   -------------------------------- ------- 24/30 [torch]\n",
      "   -------------------------------- ------- 24/30 [torch]\n",
      "   -------------------------------- ------- 24/30 [torch]\n",
      "   -------------------------------- ------- 24/30 [torch]\n",
      "   -------------------------------- ------- 24/30 [torch]\n",
      "   -------------------------------- ------- 24/30 [torch]\n",
      "   -------------------------------- ------- 24/30 [torch]\n",
      "   -------------------------------- ------- 24/30 [torch]\n",
      "   -------------------------------- ------- 24/30 [torch]\n",
      "   -------------------------------- ------- 24/30 [torch]\n",
      "   -------------------------------- ------- 24/30 [torch]\n",
      "   -------------------------------- ------- 24/30 [torch]\n",
      "   -------------------------------- ------- 24/30 [torch]\n",
      "   -------------------------------- ------- 24/30 [torch]\n",
      "   -------------------------------- ------- 24/30 [torch]\n",
      "   -------------------------------- ------- 24/30 [torch]\n",
      "   -------------------------------- ------- 24/30 [torch]\n",
      "   -------------------------------- ------- 24/30 [torch]\n",
      "   -------------------------------- ------- 24/30 [torch]\n",
      "   -------------------------------- ------- 24/30 [torch]\n",
      "   -------------------------------- ------- 24/30 [torch]\n",
      "   -------------------------------- ------- 24/30 [torch]\n",
      "   -------------------------------- ------- 24/30 [torch]\n",
      "   -------------------------------- ------- 24/30 [torch]\n",
      "   -------------------------------- ------- 24/30 [torch]\n",
      "   -------------------------------- ------- 24/30 [torch]\n",
      "   -------------------------------- ------- 24/30 [torch]\n",
      "   -------------------------------- ------- 24/30 [torch]\n",
      "Note: you may need to restart the kernel to use updated packages.\n",
      "   -------------------------------- ------- 24/30 [torch]\n",
      "   -------------------------------- ------- 24/30 [torch]\n",
      "   -------------------------------- ------- 24/30 [torch]\n",
      "   -------------------------------- ------- 24/30 [torch]\n",
      "   -------------------------------- ------- 24/30 [torch]\n",
      "   -------------------------------- ------- 24/30 [torch]\n",
      "   -------------------------------- ------- 24/30 [torch]\n",
      "   -------------------------------- ------- 24/30 [torch]\n",
      "   -------------------------------- ------- 24/30 [torch]\n",
      "   -------------------------------- ------- 24/30 [torch]\n",
      "   -------------------------------- ------- 24/30 [torch]\n",
      "   -------------------------------- ------- 24/30 [torch]\n",
      "   -------------------------------- ------- 24/30 [torch]\n",
      "   -------------------------------- ------- 24/30 [torch]\n",
      "   -------------------------------- ------- 24/30 [torch]\n",
      "   -------------------------------- ------- 24/30 [torch]\n",
      "   -------------------------------- ------- 24/30 [torch]\n",
      "   -------------------------------- ------- 24/30 [torch]\n",
      "   -------------------------------- ------- 24/30 [torch]\n",
      "   -------------------------------- ------- 24/30 [torch]\n",
      "   -------------------------------- ------- 24/30 [torch]\n",
      "   -------------------------------- ------- 24/30 [torch]\n",
      "   -------------------------------- ------- 24/30 [torch]\n",
      "   -------------------------------- ------- 24/30 [torch]\n",
      "   -------------------------------- ------- 24/30 [torch]\n",
      "   -------------------------------- ------- 24/30 [torch]\n",
      "   -------------------------------- ------- 24/30 [torch]\n",
      "   -------------------------------- ------- 24/30 [torch]\n",
      "   -------------------------------- ------- 24/30 [torch]\n",
      "   -------------------------------- ------- 24/30 [torch]\n",
      "   -------------------------------- ------- 24/30 [torch]\n",
      "   -------------------------------- ------- 24/30 [torch]\n",
      "   -------------------------------- ------- 24/30 [torch]\n",
      "   -------------------------------- ------- 24/30 [torch]\n",
      "   -------------------------------- ------- 24/30 [torch]\n",
      "   -------------------------------- ------- 24/30 [torch]\n",
      "   -------------------------------- ------- 24/30 [torch]\n",
      "   -------------------------------- ------- 24/30 [torch]\n",
      "   -------------------------------- ------- 24/30 [torch]\n",
      "   -------------------------------- ------- 24/30 [torch]\n",
      "   -------------------------------- ------- 24/30 [torch]\n",
      "   -------------------------------- ------- 24/30 [torch]\n",
      "   -------------------------------- ------- 24/30 [torch]\n",
      "   -------------------------------- ------- 24/30 [torch]\n",
      "   -------------------------------- ------- 24/30 [torch]\n",
      "   -------------------------------- ------- 24/30 [torch]\n",
      "   -------------------------------- ------- 24/30 [torch]\n",
      "   -------------------------------- ------- 24/30 [torch]\n",
      "   -------------------------------- ------- 24/30 [torch]\n",
      "   -------------------------------- ------- 24/30 [torch]\n",
      "   -------------------------------- ------- 24/30 [torch]\n",
      "   -------------------------------- ------- 24/30 [torch]\n",
      "   -------------------------------- ------- 24/30 [torch]\n",
      "   -------------------------------- ------- 24/30 [torch]\n",
      "   -------------------------------- ------- 24/30 [torch]\n",
      "   -------------------------------- ------- 24/30 [torch]\n",
      "   -------------------------------- ------- 24/30 [torch]\n",
      "   -------------------------------- ------- 24/30 [torch]\n",
      "   -------------------------------- ------- 24/30 [torch]\n",
      "   -------------------------------- ------- 24/30 [torch]\n",
      "   -------------------------------- ------- 24/30 [torch]\n",
      "   -------------------------------- ------- 24/30 [torch]\n",
      "   -------------------------------- ------- 24/30 [torch]\n",
      "   -------------------------------- ------- 24/30 [torch]\n",
      "   -------------------------------- ------- 24/30 [torch]\n",
      "   -------------------------------- ------- 24/30 [torch]\n",
      "   -------------------------------- ------- 24/30 [torch]\n",
      "   -------------------------------- ------- 24/30 [torch]\n",
      "   -------------------------------- ------- 24/30 [torch]\n",
      "   -------------------------------- ------- 24/30 [torch]\n",
      "   -------------------------------- ------- 24/30 [torch]\n",
      "   -------------------------------- ------- 24/30 [torch]\n",
      "   -------------------------------- ------- 24/30 [torch]\n",
      "   -------------------------------- ------- 24/30 [torch]\n",
      "   -------------------------------- ------- 24/30 [torch]\n",
      "   -------------------------------- ------- 24/30 [torch]\n",
      "   -------------------------------- ------- 24/30 [torch]\n",
      "   -------------------------------- ------- 24/30 [torch]\n",
      "   -------------------------------- ------- 24/30 [torch]\n",
      "   -------------------------------- ------- 24/30 [torch]\n",
      "   -------------------------------- ------- 24/30 [torch]\n",
      "   -------------------------------- ------- 24/30 [torch]\n",
      "   -------------------------------- ------- 24/30 [torch]\n",
      "   -------------------------------- ------- 24/30 [torch]\n",
      "   -------------------------------- ------- 24/30 [torch]\n",
      "   -------------------------------- ------- 24/30 [torch]\n",
      "   -------------------------------- ------- 24/30 [torch]\n",
      "   -------------------------------- ------- 24/30 [torch]\n",
      "   -------------------------------- ------- 24/30 [torch]\n",
      "   -------------------------------- ------- 24/30 [torch]\n",
      "   -------------------------------- ------- 24/30 [torch]\n",
      "   -------------------------------- ------- 24/30 [torch]\n",
      "   -------------------------------- ------- 24/30 [torch]\n",
      "   -------------------------------- ------- 24/30 [torch]\n",
      "   -------------------------------- ------- 24/30 [torch]\n",
      "   -------------------------------- ------- 24/30 [torch]\n",
      "   -------------------------------- ------- 24/30 [torch]\n",
      "   -------------------------------- ------- 24/30 [torch]\n",
      "   -------------------------------- ------- 24/30 [torch]\n",
      "   -------------------------------- ------- 24/30 [torch]\n",
      "   -------------------------------- ------- 24/30 [torch]\n",
      "   -------------------------------- ------- 24/30 [torch]\n",
      "   -------------------------------- ------- 24/30 [torch]\n",
      "   -------------------------------- ------- 24/30 [torch]\n",
      "   -------------------------------- ------- 24/30 [torch]\n",
      "   -------------------------------- ------- 24/30 [torch]\n",
      "   -------------------------------- ------- 24/30 [torch]\n",
      "   -------------------------------- ------- 24/30 [torch]\n",
      "   -------------------------------- ------- 24/30 [torch]\n",
      "   -------------------------------- ------- 24/30 [torch]\n",
      "   -------------------------------- ------- 24/30 [torch]\n",
      "   -------------------------------- ------- 24/30 [torch]\n",
      "   -------------------------------- ------- 24/30 [torch]\n",
      "   -------------------------------- ------- 24/30 [torch]\n",
      "   -------------------------------- ------- 24/30 [torch]\n",
      "   -------------------------------- ------- 24/30 [torch]\n",
      "   -------------------------------- ------- 24/30 [torch]\n",
      "   -------------------------------- ------- 24/30 [torch]\n",
      "   -------------------------------- ------- 24/30 [torch]\n",
      "   -------------------------------- ------- 24/30 [torch]\n",
      "   -------------------------------- ------- 24/30 [torch]\n",
      "   -------------------------------- ------- 24/30 [torch]\n",
      "   -------------------------------- ------- 24/30 [torch]\n",
      "   -------------------------------- ------- 24/30 [torch]\n",
      "   -------------------------------- ------- 24/30 [torch]\n",
      "   -------------------------------- ------- 24/30 [torch]\n",
      "   -------------------------------- ------- 24/30 [torch]\n",
      "   -------------------------------- ------- 24/30 [torch]\n",
      "   -------------------------------- ------- 24/30 [torch]\n",
      "   -------------------------------- ------- 24/30 [torch]\n",
      "   -------------------------------- ------- 24/30 [torch]\n",
      "   -------------------------------- ------- 24/30 [torch]\n",
      "   -------------------------------- ------- 24/30 [torch]\n",
      "   -------------------------------- ------- 24/30 [torch]\n",
      "   -------------------------------- ------- 24/30 [torch]\n",
      "   -------------------------------- ------- 24/30 [torch]\n",
      "   -------------------------------- ------- 24/30 [torch]\n",
      "   -------------------------------- ------- 24/30 [torch]\n",
      "   -------------------------------- ------- 24/30 [torch]\n",
      "   -------------------------------- ------- 24/30 [torch]\n",
      "   -------------------------------- ------- 24/30 [torch]\n",
      "   -------------------------------- ------- 24/30 [torch]\n",
      "   -------------------------------- ------- 24/30 [torch]\n",
      "   -------------------------------- ------- 24/30 [torch]\n",
      "   -------------------------------- ------- 24/30 [torch]\n",
      "   -------------------------------- ------- 24/30 [torch]\n",
      "   -------------------------------- ------- 24/30 [torch]\n",
      "   -------------------------------- ------- 24/30 [torch]\n",
      "   -------------------------------- ------- 24/30 [torch]\n",
      "   -------------------------------- ------- 24/30 [torch]\n",
      "   -------------------------------- ------- 24/30 [torch]\n",
      "   -------------------------------- ------- 24/30 [torch]\n",
      "   -------------------------------- ------- 24/30 [torch]\n",
      "   -------------------------------- ------- 24/30 [torch]\n",
      "   -------------------------------- ------- 24/30 [torch]\n",
      "   -------------------------------- ------- 24/30 [torch]\n",
      "   -------------------------------- ------- 24/30 [torch]\n",
      "   -------------------------------- ------- 24/30 [torch]\n",
      "   -------------------------------- ------- 24/30 [torch]\n",
      "   -------------------------------- ------- 24/30 [torch]\n",
      "   -------------------------------- ------- 24/30 [torch]\n",
      "   -------------------------------- ------- 24/30 [torch]\n",
      "   -------------------------------- ------- 24/30 [torch]\n",
      "   -------------------------------- ------- 24/30 [torch]\n",
      "   -------------------------------- ------- 24/30 [torch]\n",
      "   -------------------------------- ------- 24/30 [torch]\n",
      "   -------------------------------- ------- 24/30 [torch]\n",
      "   -------------------------------- ------- 24/30 [torch]\n",
      "   -------------------------------- ------- 24/30 [torch]\n",
      "   -------------------------------- ------- 24/30 [torch]\n",
      "   -------------------------------- ------- 24/30 [torch]\n",
      "   -------------------------------- ------- 24/30 [torch]\n",
      "   -------------------------------- ------- 24/30 [torch]\n",
      "   -------------------------------- ------- 24/30 [torch]\n",
      "   -------------------------------- ------- 24/30 [torch]\n",
      "   -------------------------------- ------- 24/30 [torch]\n",
      "   -------------------------------- ------- 24/30 [torch]\n",
      "   -------------------------------- ------- 24/30 [torch]\n",
      "   -------------------------------- ------- 24/30 [torch]\n",
      "   -------------------------------- ------- 24/30 [torch]\n",
      "   -------------------------------- ------- 24/30 [torch]\n",
      "   -------------------------------- ------- 24/30 [torch]\n",
      "   -------------------------------- ------- 24/30 [torch]\n",
      "   -------------------------------- ------- 24/30 [torch]\n",
      "   -------------------------------- ------- 24/30 [torch]\n",
      "   -------------------------------- ------- 24/30 [torch]\n",
      "   -------------------------------- ------- 24/30 [torch]\n",
      "   -------------------------------- ------- 24/30 [torch]\n",
      "   -------------------------------- ------- 24/30 [torch]\n",
      "   -------------------------------- ------- 24/30 [torch]\n",
      "   -------------------------------- ------- 24/30 [torch]\n",
      "   -------------------------------- ------- 24/30 [torch]\n",
      "   -------------------------------- ------- 24/30 [torch]\n",
      "   -------------------------------- ------- 24/30 [torch]\n",
      "   -------------------------------- ------- 24/30 [torch]\n",
      "   -------------------------------- ------- 24/30 [torch]\n",
      "   -------------------------------- ------- 24/30 [torch]\n",
      "   -------------------------------- ------- 24/30 [torch]\n",
      "   -------------------------------- ------- 24/30 [torch]\n",
      "   -------------------------------- ------- 24/30 [torch]\n",
      "   -------------------------------- ------- 24/30 [torch]\n",
      "   -------------------------------- ------- 24/30 [torch]\n",
      "   -------------------------------- ------- 24/30 [torch]\n",
      "   -------------------------------- ------- 24/30 [torch]\n",
      "   -------------------------------- ------- 24/30 [torch]\n",
      "   -------------------------------- ------- 24/30 [torch]\n",
      "   -------------------------------- ------- 24/30 [torch]\n",
      "   -------------------------------- ------- 24/30 [torch]\n",
      "   -------------------------------- ------- 24/30 [torch]\n",
      "   -------------------------------- ------- 24/30 [torch]\n",
      "   -------------------------------- ------- 24/30 [torch]\n",
      "   -------------------------------- ------- 24/30 [torch]\n",
      "   -------------------------------- ------- 24/30 [torch]\n",
      "   -------------------------------- ------- 24/30 [torch]\n",
      "   -------------------------------- ------- 24/30 [torch]\n",
      "   -------------------------------- ------- 24/30 [torch]\n",
      "   -------------------------------- ------- 24/30 [torch]\n",
      "   -------------------------------- ------- 24/30 [torch]\n",
      "   -------------------------------- ------- 24/30 [torch]\n",
      "   -------------------------------- ------- 24/30 [torch]\n",
      "   -------------------------------- ------- 24/30 [torch]\n",
      "   -------------------------------- ------- 24/30 [torch]\n",
      "   -------------------------------- ------- 24/30 [torch]\n",
      "   -------------------------------- ------- 24/30 [torch]\n",
      "   -------------------------------- ------- 24/30 [torch]\n",
      "   -------------------------------- ------- 24/30 [torch]\n",
      "   -------------------------------- ------- 24/30 [torch]\n",
      "   -------------------------------- ------- 24/30 [torch]\n",
      "   -------------------------------- ------- 24/30 [torch]\n",
      "   -------------------------------- ------- 24/30 [torch]\n",
      "   -------------------------------- ------- 24/30 [torch]\n",
      "   -------------------------------- ------- 24/30 [torch]\n",
      "   -------------------------------- ------- 24/30 [torch]\n",
      "   -------------------------------- ------- 24/30 [torch]\n",
      "   -------------------------------- ------- 24/30 [torch]\n",
      "   -------------------------------- ------- 24/30 [torch]\n",
      "   -------------------------------- ------- 24/30 [torch]\n",
      "   -------------------------------- ------- 24/30 [torch]\n",
      "   -------------------------------- ------- 24/30 [torch]\n",
      "   -------------------------------- ------- 24/30 [torch]\n",
      "   -------------------------------- ------- 24/30 [torch]\n",
      "   -------------------------------- ------- 24/30 [torch]\n",
      "   -------------------------------- ------- 24/30 [torch]\n",
      "   -------------------------------- ------- 24/30 [torch]\n",
      "   -------------------------------- ------- 24/30 [torch]\n",
      "   -------------------------------- ------- 24/30 [torch]\n",
      "   -------------------------------- ------- 24/30 [torch]\n",
      "   -------------------------------- ------- 24/30 [torch]\n",
      "   -------------------------------- ------- 24/30 [torch]\n",
      "   -------------------------------- ------- 24/30 [torch]\n",
      "   -------------------------------- ------- 24/30 [torch]\n",
      "   -------------------------------- ------- 24/30 [torch]\n",
      "   -------------------------------- ------- 24/30 [torch]\n",
      "   -------------------------------- ------- 24/30 [torch]\n",
      "   -------------------------------- ------- 24/30 [torch]\n",
      "   -------------------------------- ------- 24/30 [torch]\n",
      "   -------------------------------- ------- 24/30 [torch]\n",
      "   -------------------------------- ------- 24/30 [torch]\n",
      "   -------------------------------- ------- 24/30 [torch]\n",
      "   -------------------------------- ------- 24/30 [torch]\n",
      "   -------------------------------- ------- 24/30 [torch]\n",
      "   -------------------------------- ------- 24/30 [torch]\n",
      "   -------------------------------- ------- 24/30 [torch]\n",
      "   -------------------------------- ------- 24/30 [torch]\n",
      "   -------------------------------- ------- 24/30 [torch]\n",
      "   -------------------------------- ------- 24/30 [torch]\n",
      "   -------------------------------- ------- 24/30 [torch]\n",
      "   -------------------------------- ------- 24/30 [torch]\n",
      "   -------------------------------- ------- 24/30 [torch]\n",
      "   -------------------------------- ------- 24/30 [torch]\n",
      "   -------------------------------- ------- 24/30 [torch]\n",
      "   -------------------------------- ------- 24/30 [torch]\n",
      "   -------------------------------- ------- 24/30 [torch]\n",
      "   -------------------------------- ------- 24/30 [torch]\n",
      "   -------------------------------- ------- 24/30 [torch]\n",
      "   -------------------------------- ------- 24/30 [torch]\n",
      "   -------------------------------- ------- 24/30 [torch]\n",
      "   -------------------------------- ------- 24/30 [torch]\n",
      "   -------------------------------- ------- 24/30 [torch]\n",
      "   -------------------------------- ------- 24/30 [torch]\n",
      "   -------------------------------- ------- 24/30 [torch]\n",
      "   -------------------------------- ------- 24/30 [torch]\n",
      "   -------------------------------- ------- 24/30 [torch]\n",
      "   -------------------------------- ------- 24/30 [torch]\n",
      "   -------------------------------- ------- 24/30 [torch]\n",
      "   -------------------------------- ------- 24/30 [torch]\n",
      "   -------------------------------- ------- 24/30 [torch]\n",
      "   -------------------------------- ------- 24/30 [torch]\n",
      "   -------------------------------- ------- 24/30 [torch]\n",
      "   -------------------------------- ------- 24/30 [torch]\n",
      "   -------------------------------- ------- 24/30 [torch]\n",
      "   -------------------------------- ------- 24/30 [torch]\n",
      "   -------------------------------- ------- 24/30 [torch]\n",
      "   -------------------------------- ------- 24/30 [torch]\n",
      "   -------------------------------- ------- 24/30 [torch]\n",
      "   -------------------------------- ------- 24/30 [torch]\n",
      "   -------------------------------- ------- 24/30 [torch]\n",
      "   -------------------------------- ------- 24/30 [torch]\n",
      "   -------------------------------- ------- 24/30 [torch]\n",
      "   -------------------------------- ------- 24/30 [torch]\n",
      "   -------------------------------- ------- 24/30 [torch]\n",
      "   -------------------------------- ------- 24/30 [torch]\n",
      "   -------------------------------- ------- 24/30 [torch]\n",
      "   -------------------------------- ------- 24/30 [torch]\n",
      "   -------------------------------- ------- 24/30 [torch]\n",
      "   -------------------------------- ------- 24/30 [torch]\n",
      "   -------------------------------- ------- 24/30 [torch]\n",
      "   -------------------------------- ------- 24/30 [torch]\n",
      "   -------------------------------- ------- 24/30 [torch]\n",
      "   -------------------------------- ------- 24/30 [torch]\n",
      "   -------------------------------- ------- 24/30 [torch]\n",
      "   -------------------------------- ------- 24/30 [torch]\n",
      "   -------------------------------- ------- 24/30 [torch]\n",
      "   -------------------------------- ------- 24/30 [torch]\n",
      "   -------------------------------- ------- 24/30 [torch]\n",
      "   -------------------------------- ------- 24/30 [torch]\n",
      "   -------------------------------- ------- 24/30 [torch]\n",
      "   -------------------------------- ------- 24/30 [torch]\n",
      "   -------------------------------- ------- 24/30 [torch]\n",
      "   -------------------------------- ------- 24/30 [torch]\n",
      "   -------------------------------- ------- 24/30 [torch]\n",
      "   -------------------------------- ------- 24/30 [torch]\n",
      "   -------------------------------- ------- 24/30 [torch]\n",
      "   -------------------------------- ------- 24/30 [torch]\n",
      "   -------------------------------- ------- 24/30 [torch]\n",
      "   -------------------------------- ------- 24/30 [torch]\n",
      "   -------------------------------- ------- 24/30 [torch]\n",
      "   -------------------------------- ------- 24/30 [torch]\n",
      "   -------------------------------- ------- 24/30 [torch]\n",
      "   -------------------------------- ------- 24/30 [torch]\n",
      "   -------------------------------- ------- 24/30 [torch]\n",
      "   -------------------------------- ------- 24/30 [torch]\n",
      "   -------------------------------- ------- 24/30 [torch]\n",
      "   -------------------------------- ------- 24/30 [torch]\n",
      "   -------------------------------- ------- 24/30 [torch]\n",
      "   -------------------------------- ------- 24/30 [torch]\n",
      "   -------------------------------- ------- 24/30 [torch]\n",
      "   -------------------------------- ------- 24/30 [torch]\n",
      "   -------------------------------- ------- 24/30 [torch]\n",
      "   -------------------------------- ------- 24/30 [torch]\n",
      "   -------------------------------- ------- 24/30 [torch]\n",
      "   -------------------------------- ------- 24/30 [torch]\n",
      "   -------------------------------- ------- 24/30 [torch]\n",
      "   -------------------------------- ------- 24/30 [torch]\n",
      "   -------------------------------- ------- 24/30 [torch]\n",
      "   -------------------------------- ------- 24/30 [torch]\n",
      "   -------------------------------- ------- 24/30 [torch]\n",
      "   -------------------------------- ------- 24/30 [torch]\n",
      "   -------------------------------- ------- 24/30 [torch]\n",
      "   -------------------------------- ------- 24/30 [torch]\n",
      "   -------------------------------- ------- 24/30 [torch]\n",
      "   -------------------------------- ------- 24/30 [torch]\n",
      "   -------------------------------- ------- 24/30 [torch]\n",
      "   -------------------------------- ------- 24/30 [torch]\n",
      "   -------------------------------- ------- 24/30 [torch]\n",
      "   -------------------------------- ------- 24/30 [torch]\n",
      "   -------------------------------- ------- 24/30 [torch]\n",
      "   -------------------------------- ------- 24/30 [torch]\n",
      "   -------------------------------- ------- 24/30 [torch]\n",
      "   -------------------------------- ------- 24/30 [torch]\n",
      "   -------------------------------- ------- 24/30 [torch]\n",
      "   -------------------------------- ------- 24/30 [torch]\n",
      "   -------------------------------- ------- 24/30 [torch]\n",
      "   -------------------------------- ------- 24/30 [torch]\n",
      "   -------------------------------- ------- 24/30 [torch]\n",
      "   -------------------------------- ------- 24/30 [torch]\n",
      "   -------------------------------- ------- 24/30 [torch]\n",
      "   -------------------------------- ------- 24/30 [torch]\n",
      "   -------------------------------- ------- 24/30 [torch]\n",
      "   -------------------------------- ------- 24/30 [torch]\n",
      "   -------------------------------- ------- 24/30 [torch]\n",
      "   -------------------------------- ------- 24/30 [torch]\n",
      "   -------------------------------- ------- 24/30 [torch]\n",
      "   -------------------------------- ------- 24/30 [torch]\n",
      "   -------------------------------- ------- 24/30 [torch]\n",
      "   -------------------------------- ------- 24/30 [torch]\n",
      "   -------------------------------- ------- 24/30 [torch]\n",
      "   -------------------------------- ------- 24/30 [torch]\n",
      "   -------------------------------- ------- 24/30 [torch]\n",
      "   -------------------------------- ------- 24/30 [torch]\n",
      "   -------------------------------- ------- 24/30 [torch]\n",
      "   -------------------------------- ------- 24/30 [torch]\n",
      "   -------------------------------- ------- 24/30 [torch]\n",
      "   -------------------------------- ------- 24/30 [torch]\n",
      "   -------------------------------- ------- 24/30 [torch]\n",
      "   -------------------------------- ------- 24/30 [torch]\n",
      "   -------------------------------- ------- 24/30 [torch]\n",
      "   -------------------------------- ------- 24/30 [torch]\n",
      "   -------------------------------- ------- 24/30 [torch]\n",
      "   -------------------------------- ------- 24/30 [torch]\n",
      "   -------------------------------- ------- 24/30 [torch]\n",
      "   -------------------------------- ------- 24/30 [torch]\n",
      "   -------------------------------- ------- 24/30 [torch]\n",
      "   -------------------------------- ------- 24/30 [torch]\n",
      "   -------------------------------- ------- 24/30 [torch]\n",
      "   -------------------------------- ------- 24/30 [torch]\n",
      "   -------------------------------- ------- 24/30 [torch]\n",
      "   -------------------------------- ------- 24/30 [torch]\n",
      "   -------------------------------- ------- 24/30 [torch]\n",
      "   -------------------------------- ------- 24/30 [torch]\n",
      "   -------------------------------- ------- 24/30 [torch]\n",
      "   -------------------------------- ------- 24/30 [torch]\n",
      "   -------------------------------- ------- 24/30 [torch]\n",
      "   -------------------------------- ------- 24/30 [torch]\n",
      "   -------------------------------- ------- 24/30 [torch]\n",
      "   -------------------------------- ------- 24/30 [torch]\n",
      "   -------------------------------- ------- 24/30 [torch]\n",
      "   -------------------------------- ------- 24/30 [torch]\n",
      "   -------------------------------- ------- 24/30 [torch]\n",
      "   -------------------------------- ------- 24/30 [torch]\n",
      "   -------------------------------- ------- 24/30 [torch]\n",
      "   -------------------------------- ------- 24/30 [torch]\n",
      "   -------------------------------- ------- 24/30 [torch]\n",
      "   -------------------------------- ------- 24/30 [torch]\n",
      "   -------------------------------- ------- 24/30 [torch]\n",
      "   -------------------------------- ------- 24/30 [torch]\n",
      "   -------------------------------- ------- 24/30 [torch]\n",
      "   -------------------------------- ------- 24/30 [torch]\n",
      "   -------------------------------- ------- 24/30 [torch]\n",
      "   -------------------------------- ------- 24/30 [torch]\n",
      "   -------------------------------- ------- 24/30 [torch]\n",
      "   -------------------------------- ------- 24/30 [torch]\n",
      "   -------------------------------- ------- 24/30 [torch]\n",
      "   -------------------------------- ------- 24/30 [torch]\n",
      "   -------------------------------- ------- 24/30 [torch]\n",
      "   -------------------------------- ------- 24/30 [torch]\n",
      "   -------------------------------- ------- 24/30 [torch]\n",
      "   -------------------------------- ------- 24/30 [torch]\n",
      "   -------------------------------- ------- 24/30 [torch]\n",
      "   -------------------------------- ------- 24/30 [torch]\n",
      "   -------------------------------- ------- 24/30 [torch]\n",
      "   -------------------------------- ------- 24/30 [torch]\n",
      "   -------------------------------- ------- 24/30 [torch]\n",
      "   -------------------------------- ------- 24/30 [torch]\n",
      "   -------------------------------- ------- 24/30 [torch]\n",
      "   -------------------------------- ------- 24/30 [torch]\n",
      "   -------------------------------- ------- 24/30 [torch]\n",
      "   -------------------------------- ------- 24/30 [torch]\n",
      "   -------------------------------- ------- 24/30 [torch]\n",
      "   -------------------------------- ------- 24/30 [torch]\n",
      "   -------------------------------- ------- 24/30 [torch]\n",
      "   -------------------------------- ------- 24/30 [torch]\n",
      "   -------------------------------- ------- 24/30 [torch]\n",
      "   -------------------------------- ------- 24/30 [torch]\n",
      "   -------------------------------- ------- 24/30 [torch]\n",
      "   -------------------------------- ------- 24/30 [torch]\n",
      "   -------------------------------- ------- 24/30 [torch]\n",
      "   -------------------------------- ------- 24/30 [torch]\n",
      "   -------------------------------- ------- 24/30 [torch]\n",
      "   -------------------------------- ------- 24/30 [torch]\n",
      "   --------------------------------- ------ 25/30 [scikit-learn]\n",
      "   --------------------------------- ------ 25/30 [scikit-learn]\n",
      "   --------------------------------- ------ 25/30 [scikit-learn]\n",
      "   --------------------------------- ------ 25/30 [scikit-learn]\n",
      "   --------------------------------- ------ 25/30 [scikit-learn]\n",
      "   --------------------------------- ------ 25/30 [scikit-learn]\n",
      "   --------------------------------- ------ 25/30 [scikit-learn]\n",
      "   --------------------------------- ------ 25/30 [scikit-learn]\n",
      "   --------------------------------- ------ 25/30 [scikit-learn]\n",
      "   --------------------------------- ------ 25/30 [scikit-learn]\n",
      "   --------------------------------- ------ 25/30 [scikit-learn]\n",
      "   --------------------------------- ------ 25/30 [scikit-learn]\n",
      "   --------------------------------- ------ 25/30 [scikit-learn]\n",
      "   --------------------------------- ------ 25/30 [scikit-learn]\n",
      "   --------------------------------- ------ 25/30 [scikit-learn]\n",
      "   --------------------------------- ------ 25/30 [scikit-learn]\n",
      "   --------------------------------- ------ 25/30 [scikit-learn]\n",
      "   --------------------------------- ------ 25/30 [scikit-learn]\n",
      "   --------------------------------- ------ 25/30 [scikit-learn]\n",
      "   --------------------------------- ------ 25/30 [scikit-learn]\n",
      "   --------------------------------- ------ 25/30 [scikit-learn]\n",
      "   --------------------------------- ------ 25/30 [scikit-learn]\n",
      "   --------------------------------- ------ 25/30 [scikit-learn]\n",
      "   --------------------------------- ------ 25/30 [scikit-learn]\n",
      "   --------------------------------- ------ 25/30 [scikit-learn]\n",
      "   --------------------------------- ------ 25/30 [scikit-learn]\n",
      "   --------------------------------- ------ 25/30 [scikit-learn]\n",
      "   --------------------------------- ------ 25/30 [scikit-learn]\n",
      "   --------------------------------- ------ 25/30 [scikit-learn]\n",
      "   --------------------------------- ------ 25/30 [scikit-learn]\n",
      "   --------------------------------- ------ 25/30 [scikit-learn]\n",
      "   --------------------------------- ------ 25/30 [scikit-learn]\n",
      "   --------------------------------- ------ 25/30 [scikit-learn]\n",
      "   --------------------------------- ------ 25/30 [scikit-learn]\n",
      "   --------------------------------- ------ 25/30 [scikit-learn]\n",
      "   --------------------------------- ------ 25/30 [scikit-learn]\n",
      "   --------------------------------- ------ 25/30 [scikit-learn]\n",
      "   --------------------------------- ------ 25/30 [scikit-learn]\n",
      "   --------------------------------- ------ 25/30 [scikit-learn]\n",
      "   --------------------------------- ------ 25/30 [scikit-learn]\n",
      "   --------------------------------- ------ 25/30 [scikit-learn]\n",
      "   --------------------------------- ------ 25/30 [scikit-learn]\n",
      "   --------------------------------- ------ 25/30 [scikit-learn]\n",
      "   --------------------------------- ------ 25/30 [scikit-learn]\n",
      "   --------------------------------- ------ 25/30 [scikit-learn]\n",
      "   --------------------------------- ------ 25/30 [scikit-learn]\n",
      "   --------------------------------- ------ 25/30 [scikit-learn]\n",
      "   --------------------------------- ------ 25/30 [scikit-learn]\n",
      "   --------------------------------- ------ 25/30 [scikit-learn]\n",
      "   --------------------------------- ------ 25/30 [scikit-learn]\n",
      "   --------------------------------- ------ 25/30 [scikit-learn]\n",
      "   --------------------------------- ------ 25/30 [scikit-learn]\n",
      "   --------------------------------- ------ 25/30 [scikit-learn]\n",
      "   --------------------------------- ------ 25/30 [scikit-learn]\n",
      "   --------------------------------- ------ 25/30 [scikit-learn]\n",
      "   --------------------------------- ------ 25/30 [scikit-learn]\n",
      "   --------------------------------- ------ 25/30 [scikit-learn]\n",
      "   --------------------------------- ------ 25/30 [scikit-learn]\n",
      "   --------------------------------- ------ 25/30 [scikit-learn]\n",
      "   --------------------------------- ------ 25/30 [scikit-learn]\n",
      "   --------------------------------- ------ 25/30 [scikit-learn]\n",
      "   --------------------------------- ------ 25/30 [scikit-learn]\n",
      "   --------------------------------- ------ 25/30 [scikit-learn]\n",
      "   --------------------------------- ------ 25/30 [scikit-learn]\n",
      "   --------------------------------- ------ 25/30 [scikit-learn]\n",
      "   --------------------------------- ------ 25/30 [scikit-learn]\n",
      "   --------------------------------- ------ 25/30 [scikit-learn]\n",
      "   --------------------------------- ------ 25/30 [scikit-learn]\n",
      "   --------------------------------- ------ 25/30 [scikit-learn]\n",
      "   --------------------------------- ------ 25/30 [scikit-learn]\n",
      "   --------------------------------- ------ 25/30 [scikit-learn]\n",
      "   --------------------------------- ------ 25/30 [scikit-learn]\n",
      "   --------------------------------- ------ 25/30 [scikit-learn]\n",
      "   --------------------------------- ------ 25/30 [scikit-learn]\n",
      "   --------------------------------- ------ 25/30 [scikit-learn]\n",
      "   --------------------------------- ------ 25/30 [scikit-learn]\n",
      "   --------------------------------- ------ 25/30 [scikit-learn]\n",
      "   --------------------------------- ------ 25/30 [scikit-learn]\n",
      "   --------------------------------- ------ 25/30 [scikit-learn]\n",
      "   --------------------------------- ------ 25/30 [scikit-learn]\n",
      "   --------------------------------- ------ 25/30 [scikit-learn]\n",
      "   --------------------------------- ------ 25/30 [scikit-learn]\n",
      "   --------------------------------- ------ 25/30 [scikit-learn]\n",
      "   --------------------------------- ------ 25/30 [scikit-learn]\n",
      "   --------------------------------- ------ 25/30 [scikit-learn]\n",
      "   --------------------------------- ------ 25/30 [scikit-learn]\n",
      "   --------------------------------- ------ 25/30 [scikit-learn]\n",
      "   --------------------------------- ------ 25/30 [scikit-learn]\n",
      "   ---------------------------------- ----- 26/30 [huggingface-hub]\n",
      "   ---------------------------------- ----- 26/30 [huggingface-hub]\n",
      "   ---------------------------------- ----- 26/30 [huggingface-hub]\n",
      "   ---------------------------------- ----- 26/30 [huggingface-hub]\n",
      "   ---------------------------------- ----- 26/30 [huggingface-hub]\n",
      "   ---------------------------------- ----- 26/30 [huggingface-hub]\n",
      "   ---------------------------------- ----- 26/30 [huggingface-hub]\n",
      "   ---------------------------------- ----- 26/30 [huggingface-hub]\n",
      "   ---------------------------------- ----- 26/30 [huggingface-hub]\n",
      "   ---------------------------------- ----- 26/30 [huggingface-hub]\n",
      "   ---------------------------------- ----- 26/30 [huggingface-hub]\n",
      "   ---------------------------------- ----- 26/30 [huggingface-hub]\n",
      "   ---------------------------------- ----- 26/30 [huggingface-hub]\n",
      "   ---------------------------------- ----- 26/30 [huggingface-hub]\n",
      "   ---------------------------------- ----- 26/30 [huggingface-hub]\n",
      "   ---------------------------------- ----- 26/30 [huggingface-hub]\n",
      "   ---------------------------------- ----- 26/30 [huggingface-hub]\n",
      "   ---------------------------------- ----- 26/30 [huggingface-hub]\n",
      "   ---------------------------------- ----- 26/30 [huggingface-hub]\n",
      "   ---------------------------------- ----- 26/30 [huggingface-hub]\n",
      "   ---------------------------------- ----- 26/30 [huggingface-hub]\n",
      "   ------------------------------------ --- 27/30 [tokenizers]\n",
      "   ------------------------------------ --- 27/30 [tokenizers]\n",
      "   ------------------------------------ --- 27/30 [tokenizers]\n",
      "   ------------------------------------- -- 28/30 [transformers]\n",
      "   ------------------------------------- -- 28/30 [transformers]\n",
      "   ------------------------------------- -- 28/30 [transformers]\n",
      "   ------------------------------------- -- 28/30 [transformers]\n",
      "   ------------------------------------- -- 28/30 [transformers]\n",
      "   ------------------------------------- -- 28/30 [transformers]\n",
      "   ------------------------------------- -- 28/30 [transformers]\n",
      "   ------------------------------------- -- 28/30 [transformers]\n",
      "   ------------------------------------- -- 28/30 [transformers]\n",
      "   ------------------------------------- -- 28/30 [transformers]\n",
      "   ------------------------------------- -- 28/30 [transformers]\n",
      "   ------------------------------------- -- 28/30 [transformers]\n",
      "   ------------------------------------- -- 28/30 [transformers]\n",
      "   ------------------------------------- -- 28/30 [transformers]\n",
      "   ------------------------------------- -- 28/30 [transformers]\n",
      "   ------------------------------------- -- 28/30 [transformers]\n",
      "   ------------------------------------- -- 28/30 [transformers]\n",
      "   ------------------------------------- -- 28/30 [transformers]\n",
      "   ------------------------------------- -- 28/30 [transformers]\n",
      "   ------------------------------------- -- 28/30 [transformers]\n",
      "   ------------------------------------- -- 28/30 [transformers]\n",
      "   ------------------------------------- -- 28/30 [transformers]\n",
      "   ------------------------------------- -- 28/30 [transformers]\n",
      "   ------------------------------------- -- 28/30 [transformers]\n",
      "   ------------------------------------- -- 28/30 [transformers]\n",
      "   ------------------------------------- -- 28/30 [transformers]\n",
      "   ------------------------------------- -- 28/30 [transformers]\n",
      "   ------------------------------------- -- 28/30 [transformers]\n",
      "   ------------------------------------- -- 28/30 [transformers]\n",
      "   ------------------------------------- -- 28/30 [transformers]\n",
      "   ------------------------------------- -- 28/30 [transformers]\n",
      "   ------------------------------------- -- 28/30 [transformers]\n",
      "   ------------------------------------- -- 28/30 [transformers]\n",
      "   ------------------------------------- -- 28/30 [transformers]\n",
      "   ------------------------------------- -- 28/30 [transformers]\n",
      "   ------------------------------------- -- 28/30 [transformers]\n",
      "   ------------------------------------- -- 28/30 [transformers]\n",
      "   ------------------------------------- -- 28/30 [transformers]\n",
      "   ------------------------------------- -- 28/30 [transformers]\n",
      "   ------------------------------------- -- 28/30 [transformers]\n",
      "   ------------------------------------- -- 28/30 [transformers]\n",
      "   ------------------------------------- -- 28/30 [transformers]\n",
      "   ------------------------------------- -- 28/30 [transformers]\n",
      "   ------------------------------------- -- 28/30 [transformers]\n",
      "   ------------------------------------- -- 28/30 [transformers]\n",
      "   ------------------------------------- -- 28/30 [transformers]\n",
      "   ------------------------------------- -- 28/30 [transformers]\n",
      "   ------------------------------------- -- 28/30 [transformers]\n",
      "   ------------------------------------- -- 28/30 [transformers]\n",
      "   ------------------------------------- -- 28/30 [transformers]\n",
      "   ------------------------------------- -- 28/30 [transformers]\n",
      "   ------------------------------------- -- 28/30 [transformers]\n",
      "   ------------------------------------- -- 28/30 [transformers]\n",
      "   ------------------------------------- -- 28/30 [transformers]\n",
      "   ------------------------------------- -- 28/30 [transformers]\n",
      "   ------------------------------------- -- 28/30 [transformers]\n",
      "   ------------------------------------- -- 28/30 [transformers]\n",
      "   ------------------------------------- -- 28/30 [transformers]\n",
      "   ------------------------------------- -- 28/30 [transformers]\n",
      "   ------------------------------------- -- 28/30 [transformers]\n",
      "   ------------------------------------- -- 28/30 [transformers]\n",
      "   ------------------------------------- -- 28/30 [transformers]\n",
      "   ------------------------------------- -- 28/30 [transformers]\n",
      "   ------------------------------------- -- 28/30 [transformers]\n",
      "   ------------------------------------- -- 28/30 [transformers]\n",
      "   ------------------------------------- -- 28/30 [transformers]\n",
      "   ------------------------------------- -- 28/30 [transformers]\n",
      "   ------------------------------------- -- 28/30 [transformers]\n",
      "   ------------------------------------- -- 28/30 [transformers]\n",
      "   ------------------------------------- -- 28/30 [transformers]\n",
      "   ------------------------------------- -- 28/30 [transformers]\n",
      "   ------------------------------------- -- 28/30 [transformers]\n",
      "   ------------------------------------- -- 28/30 [transformers]\n",
      "   ------------------------------------- -- 28/30 [transformers]\n",
      "   ------------------------------------- -- 28/30 [transformers]\n",
      "   ------------------------------------- -- 28/30 [transformers]\n",
      "   ------------------------------------- -- 28/30 [transformers]\n",
      "   ------------------------------------- -- 28/30 [transformers]\n",
      "   ------------------------------------- -- 28/30 [transformers]\n",
      "   ------------------------------------- -- 28/30 [transformers]\n",
      "   ------------------------------------- -- 28/30 [transformers]\n",
      "   ------------------------------------- -- 28/30 [transformers]\n",
      "   ------------------------------------- -- 28/30 [transformers]\n",
      "   ------------------------------------- -- 28/30 [transformers]\n",
      "   ------------------------------------- -- 28/30 [transformers]\n",
      "   ------------------------------------- -- 28/30 [transformers]\n",
      "   ------------------------------------- -- 28/30 [transformers]\n",
      "   ------------------------------------- -- 28/30 [transformers]\n",
      "   ------------------------------------- -- 28/30 [transformers]\n",
      "   ------------------------------------- -- 28/30 [transformers]\n",
      "   ------------------------------------- -- 28/30 [transformers]\n",
      "   ------------------------------------- -- 28/30 [transformers]\n",
      "   ------------------------------------- -- 28/30 [transformers]\n",
      "   ------------------------------------- -- 28/30 [transformers]\n",
      "   ------------------------------------- -- 28/30 [transformers]\n",
      "   ------------------------------------- -- 28/30 [transformers]\n",
      "   ------------------------------------- -- 28/30 [transformers]\n",
      "   ------------------------------------- -- 28/30 [transformers]\n",
      "   ------------------------------------- -- 28/30 [transformers]\n",
      "   ------------------------------------- -- 28/30 [transformers]\n",
      "   ------------------------------------- -- 28/30 [transformers]\n",
      "   ------------------------------------- -- 28/30 [transformers]\n",
      "   ------------------------------------- -- 28/30 [transformers]\n",
      "   ------------------------------------- -- 28/30 [transformers]\n",
      "   ------------------------------------- -- 28/30 [transformers]\n",
      "   ------------------------------------- -- 28/30 [transformers]\n",
      "   ------------------------------------- -- 28/30 [transformers]\n",
      "   ------------------------------------- -- 28/30 [transformers]\n",
      "   ------------------------------------- -- 28/30 [transformers]\n",
      "   ------------------------------------- -- 28/30 [transformers]\n",
      "   ------------------------------------- -- 28/30 [transformers]\n",
      "   ------------------------------------- -- 28/30 [transformers]\n",
      "   ------------------------------------- -- 28/30 [transformers]\n",
      "   ------------------------------------- -- 28/30 [transformers]\n",
      "   ------------------------------------- -- 28/30 [transformers]\n",
      "   ------------------------------------- -- 28/30 [transformers]\n",
      "   ------------------------------------- -- 28/30 [transformers]\n",
      "   ------------------------------------- -- 28/30 [transformers]\n",
      "   ------------------------------------- -- 28/30 [transformers]\n",
      "   ------------------------------------- -- 28/30 [transformers]\n",
      "   ------------------------------------- -- 28/30 [transformers]\n",
      "   ------------------------------------- -- 28/30 [transformers]\n",
      "   ------------------------------------- -- 28/30 [transformers]\n",
      "   ------------------------------------- -- 28/30 [transformers]\n",
      "   ------------------------------------- -- 28/30 [transformers]\n",
      "   ------------------------------------- -- 28/30 [transformers]\n",
      "   ------------------------------------- -- 28/30 [transformers]\n",
      "   ------------------------------------- -- 28/30 [transformers]\n",
      "   ------------------------------------- -- 28/30 [transformers]\n",
      "   ------------------------------------- -- 28/30 [transformers]\n",
      "   ------------------------------------- -- 28/30 [transformers]\n",
      "   ------------------------------------- -- 28/30 [transformers]\n",
      "   ------------------------------------- -- 28/30 [transformers]\n",
      "   ------------------------------------- -- 28/30 [transformers]\n",
      "   ------------------------------------- -- 28/30 [transformers]\n",
      "   ------------------------------------- -- 28/30 [transformers]\n",
      "   ------------------------------------- -- 28/30 [transformers]\n",
      "   ------------------------------------- -- 28/30 [transformers]\n",
      "   ------------------------------------- -- 28/30 [transformers]\n",
      "   ------------------------------------- -- 28/30 [transformers]\n",
      "   ------------------------------------- -- 28/30 [transformers]\n",
      "   ------------------------------------- -- 28/30 [transformers]\n",
      "   ------------------------------------- -- 28/30 [transformers]\n",
      "   ------------------------------------- -- 28/30 [transformers]\n",
      "   ------------------------------------- -- 28/30 [transformers]\n",
      "   ------------------------------------- -- 28/30 [transformers]\n",
      "   ------------------------------------- -- 28/30 [transformers]\n",
      "   ------------------------------------- -- 28/30 [transformers]\n",
      "   ------------------------------------- -- 28/30 [transformers]\n",
      "   ------------------------------------- -- 28/30 [transformers]\n",
      "   ------------------------------------- -- 28/30 [transformers]\n",
      "   ------------------------------------- -- 28/30 [transformers]\n",
      "   ------------------------------------- -- 28/30 [transformers]\n",
      "   ------------------------------------- -- 28/30 [transformers]\n",
      "   ------------------------------------- -- 28/30 [transformers]\n",
      "   ------------------------------------- -- 28/30 [transformers]\n",
      "   ------------------------------------- -- 28/30 [transformers]\n",
      "   ------------------------------------- -- 28/30 [transformers]\n",
      "   ------------------------------------- -- 28/30 [transformers]\n",
      "   ------------------------------------- -- 28/30 [transformers]\n",
      "   ------------------------------------- -- 28/30 [transformers]\n",
      "   ------------------------------------- -- 28/30 [transformers]\n",
      "   ------------------------------------- -- 28/30 [transformers]\n",
      "   ------------------------------------- -- 28/30 [transformers]\n",
      "   ------------------------------------- -- 28/30 [transformers]\n",
      "   ------------------------------------- -- 28/30 [transformers]\n",
      "   ------------------------------------- -- 28/30 [transformers]\n",
      "   ------------------------------------- -- 28/30 [transformers]\n",
      "   ------------------------------------- -- 28/30 [transformers]\n",
      "   ------------------------------------- -- 28/30 [transformers]\n",
      "   ------------------------------------- -- 28/30 [transformers]\n",
      "   ------------------------------------- -- 28/30 [transformers]\n",
      "   ------------------------------------- -- 28/30 [transformers]\n",
      "   ------------------------------------- -- 28/30 [transformers]\n",
      "   ------------------------------------- -- 28/30 [transformers]\n",
      "   ------------------------------------- -- 28/30 [transformers]\n",
      "   ------------------------------------- -- 28/30 [transformers]\n",
      "   ------------------------------------- -- 28/30 [transformers]\n",
      "   ------------------------------------- -- 28/30 [transformers]\n",
      "   ------------------------------------- -- 28/30 [transformers]\n",
      "   ------------------------------------- -- 28/30 [transformers]\n",
      "   ------------------------------------- -- 28/30 [transformers]\n",
      "   ------------------------------------- -- 28/30 [transformers]\n",
      "   ------------------------------------- -- 28/30 [transformers]\n",
      "   ------------------------------------- -- 28/30 [transformers]\n",
      "   ------------------------------------- -- 28/30 [transformers]\n",
      "   ------------------------------------- -- 28/30 [transformers]\n",
      "   ------------------------------------- -- 28/30 [transformers]\n",
      "   ------------------------------------- -- 28/30 [transformers]\n",
      "   ------------------------------------- -- 28/30 [transformers]\n",
      "   ------------------------------------- -- 28/30 [transformers]\n",
      "   ------------------------------------- -- 28/30 [transformers]\n",
      "   ------------------------------------- -- 28/30 [transformers]\n",
      "   ------------------------------------- -- 28/30 [transformers]\n",
      "   ------------------------------------- -- 28/30 [transformers]\n",
      "   ------------------------------------- -- 28/30 [transformers]\n",
      "   ------------------------------------- -- 28/30 [transformers]\n",
      "   ------------------------------------- -- 28/30 [transformers]\n",
      "   ------------------------------------- -- 28/30 [transformers]\n",
      "   ------------------------------------- -- 28/30 [transformers]\n",
      "   ------------------------------------- -- 28/30 [transformers]\n",
      "   ------------------------------------- -- 28/30 [transformers]\n",
      "   ------------------------------------- -- 28/30 [transformers]\n",
      "   ------------------------------------- -- 28/30 [transformers]\n",
      "   ------------------------------------- -- 28/30 [transformers]\n",
      "   ------------------------------------- -- 28/30 [transformers]\n",
      "   ------------------------------------- -- 28/30 [transformers]\n",
      "   ------------------------------------- -- 28/30 [transformers]\n",
      "   ------------------------------------- -- 28/30 [transformers]\n",
      "   ------------------------------------- -- 28/30 [transformers]\n",
      "   ------------------------------------- -- 28/30 [transformers]\n",
      "   ------------------------------------- -- 28/30 [transformers]\n",
      "   ------------------------------------- -- 28/30 [transformers]\n",
      "   ------------------------------------- -- 28/30 [transformers]\n",
      "   ------------------------------------- -- 28/30 [transformers]\n",
      "   ------------------------------------- -- 28/30 [transformers]\n",
      "   ------------------------------------- -- 28/30 [transformers]\n",
      "   ------------------------------------- -- 28/30 [transformers]\n",
      "   ------------------------------------- -- 28/30 [transformers]\n",
      "   ------------------------------------- -- 28/30 [transformers]\n",
      "   ------------------------------------- -- 28/30 [transformers]\n",
      "   ------------------------------------- -- 28/30 [transformers]\n",
      "   ------------------------------------- -- 28/30 [transformers]\n",
      "   ------------------------------------- -- 28/30 [transformers]\n",
      "   ------------------------------------- -- 28/30 [transformers]\n",
      "   ------------------------------------- -- 28/30 [transformers]\n",
      "   ------------------------------------- -- 28/30 [transformers]\n",
      "   ------------------------------------- -- 28/30 [transformers]\n",
      "   ------------------------------------- -- 28/30 [transformers]\n",
      "   ------------------------------------- -- 28/30 [transformers]\n",
      "   ------------------------------------- -- 28/30 [transformers]\n",
      "   ------------------------------------- -- 28/30 [transformers]\n",
      "   ------------------------------------- -- 28/30 [transformers]\n",
      "   ------------------------------------- -- 28/30 [transformers]\n",
      "   ------------------------------------- -- 28/30 [transformers]\n",
      "   ------------------------------------- -- 28/30 [transformers]\n",
      "   ------------------------------------- -- 28/30 [transformers]\n",
      "   ------------------------------------- -- 28/30 [transformers]\n",
      "   ------------------------------------- -- 28/30 [transformers]\n",
      "   ------------------------------------- -- 28/30 [transformers]\n",
      "   ------------------------------------- -- 28/30 [transformers]\n",
      "   ------------------------------------- -- 28/30 [transformers]\n",
      "   ------------------------------------- -- 28/30 [transformers]\n",
      "   ------------------------------------- -- 28/30 [transformers]\n",
      "   ------------------------------------- -- 28/30 [transformers]\n",
      "   ------------------------------------- -- 28/30 [transformers]\n",
      "   ------------------------------------- -- 28/30 [transformers]\n",
      "   ------------------------------------- -- 28/30 [transformers]\n",
      "   ------------------------------------- -- 28/30 [transformers]\n",
      "   ------------------------------------- -- 28/30 [transformers]\n",
      "   ------------------------------------- -- 28/30 [transformers]\n",
      "   ------------------------------------- -- 28/30 [transformers]\n",
      "   ------------------------------------- -- 28/30 [transformers]\n",
      "   ------------------------------------- -- 28/30 [transformers]\n",
      "   ------------------------------------- -- 28/30 [transformers]\n",
      "   ------------------------------------- -- 28/30 [transformers]\n",
      "   ------------------------------------- -- 28/30 [transformers]\n",
      "   ------------------------------------- -- 28/30 [transformers]\n",
      "   ------------------------------------- -- 28/30 [transformers]\n",
      "   ------------------------------------- -- 28/30 [transformers]\n",
      "   ------------------------------------- -- 28/30 [transformers]\n",
      "   ------------------------------------- -- 28/30 [transformers]\n",
      "   ------------------------------------- -- 28/30 [transformers]\n",
      "   ------------------------------------- -- 28/30 [transformers]\n",
      "   ------------------------------------- -- 28/30 [transformers]\n",
      "   ------------------------------------- -- 28/30 [transformers]\n",
      "   ------------------------------------- -- 28/30 [transformers]\n",
      "   ------------------------------------- -- 28/30 [transformers]\n",
      "   ------------------------------------- -- 28/30 [transformers]\n",
      "   ------------------------------------- -- 28/30 [transformers]\n",
      "   ------------------------------------- -- 28/30 [transformers]\n",
      "   ------------------------------------- -- 28/30 [transformers]\n",
      "   ------------------------------------- -- 28/30 [transformers]\n",
      "   ------------------------------------- -- 28/30 [transformers]\n",
      "   ------------------------------------- -- 28/30 [transformers]\n",
      "   ------------------------------------- -- 28/30 [transformers]\n",
      "   ------------------------------------- -- 28/30 [transformers]\n",
      "   ------------------------------------- -- 28/30 [transformers]\n",
      "   ------------------------------------- -- 28/30 [transformers]\n",
      "   ------------------------------------- -- 28/30 [transformers]\n",
      "   ------------------------------------- -- 28/30 [transformers]\n",
      "   ------------------------------------- -- 28/30 [transformers]\n",
      "   -------------------------------------- - 29/30 [sentence-transformers]\n",
      "   -------------------------------------- - 29/30 [sentence-transformers]\n",
      "   -------------------------------------- - 29/30 [sentence-transformers]\n",
      "   -------------------------------------- - 29/30 [sentence-transformers]\n",
      "   -------------------------------------- - 29/30 [sentence-transformers]\n",
      "   -------------------------------------- - 29/30 [sentence-transformers]\n",
      "   -------------------------------------- - 29/30 [sentence-transformers]\n",
      "   -------------------------------------- - 29/30 [sentence-transformers]\n",
      "   -------------------------------------- - 29/30 [sentence-transformers]\n",
      "   -------------------------------------- - 29/30 [sentence-transformers]\n",
      "   -------------------------------------- - 29/30 [sentence-transformers]\n",
      "   -------------------------------------- - 29/30 [sentence-transformers]\n",
      "   -------------------------------------- - 29/30 [sentence-transformers]\n",
      "   -------------------------------------- - 29/30 [sentence-transformers]\n",
      "   -------------------------------------- - 29/30 [sentence-transformers]\n",
      "   -------------------------------------- - 29/30 [sentence-transformers]\n",
      "   -------------------------------------- - 29/30 [sentence-transformers]\n",
      "   -------------------------------------- - 29/30 [sentence-transformers]\n",
      "   -------------------------------------- - 29/30 [sentence-transformers]\n",
      "   ---------------------------------------- 30/30 [sentence-transformers]\n",
      "\n",
      "Successfully installed MarkupSafe-3.0.2 Pillow-11.2.1 certifi-2025.4.26 charset-normalizer-3.4.2 colorama-0.4.6 filelock-3.18.0 fsspec-2025.3.2 huggingface-hub-0.30.2 idna-3.10 jinja2-3.1.6 joblib-1.5.0 mpmath-1.3.0 networkx-3.4.2 numpy-2.2.5 packaging-25.0 pyyaml-6.0.2 regex-2024.11.6 requests-2.32.3 safetensors-0.5.3 scikit-learn-1.6.1 scipy-1.15.2 sentence-transformers-4.1.0 sympy-1.14.0 threadpoolctl-3.6.0 tokenizers-0.21.1 torch-2.7.0 tqdm-4.67.1 transformers-4.51.3 typing_extensions-4.13.2 urllib3-2.4.0\n"
     ]
    },
    {
     "name": "stderr",
     "output_type": "stream",
     "text": [
      "ERROR: pip's dependency resolver does not currently take into account all the packages that are installed. This behaviour is the source of the following dependency conflicts.\n",
      "datasets 3.5.1 requires fsspec[http]<=2025.3.0,>=2023.1.0, but you have fsspec 2025.3.2 which is incompatible.\n",
      "torchaudio 2.7.0+cu118 requires torch==2.7.0+cu118, but you have torch 2.7.0 which is incompatible.\n",
      "torchvision 0.22.0+cu118 requires torch==2.7.0+cu118, but you have torch 2.7.0 which is incompatible.\n",
      "WARNING: Target directory D:\\torch_env\\Lib\\site-packages\\certifi already exists. Specify --upgrade to force replacement.\n",
      "WARNING: Target directory D:\\torch_env\\Lib\\site-packages\\certifi-2025.4.26.dist-info already exists. Specify --upgrade to force replacement.\n",
      "WARNING: Target directory D:\\torch_env\\Lib\\site-packages\\charset_normalizer already exists. Specify --upgrade to force replacement.\n",
      "WARNING: Target directory D:\\torch_env\\Lib\\site-packages\\charset_normalizer-3.4.2.dist-info already exists. Specify --upgrade to force replacement.\n",
      "WARNING: Target directory D:\\torch_env\\Lib\\site-packages\\colorama already exists. Specify --upgrade to force replacement.\n",
      "WARNING: Target directory D:\\torch_env\\Lib\\site-packages\\colorama-0.4.6.dist-info already exists. Specify --upgrade to force replacement.\n",
      "WARNING: Target directory D:\\torch_env\\Lib\\site-packages\\filelock already exists. Specify --upgrade to force replacement.\n",
      "WARNING: Target directory D:\\torch_env\\Lib\\site-packages\\filelock-3.18.0.dist-info already exists. Specify --upgrade to force replacement.\n",
      "WARNING: Target directory D:\\torch_env\\Lib\\site-packages\\fsspec already exists. Specify --upgrade to force replacement.\n",
      "WARNING: Target directory D:\\torch_env\\Lib\\site-packages\\functorch already exists. Specify --upgrade to force replacement.\n",
      "WARNING: Target directory D:\\torch_env\\Lib\\site-packages\\huggingface_hub already exists. Specify --upgrade to force replacement.\n",
      "WARNING: Target directory D:\\torch_env\\Lib\\site-packages\\huggingface_hub-0.30.2.dist-info already exists. Specify --upgrade to force replacement.\n",
      "WARNING: Target directory D:\\torch_env\\Lib\\site-packages\\idna already exists. Specify --upgrade to force replacement.\n",
      "WARNING: Target directory D:\\torch_env\\Lib\\site-packages\\idna-3.10.dist-info already exists. Specify --upgrade to force replacement.\n",
      "WARNING: Target directory D:\\torch_env\\Lib\\site-packages\\isympy.py already exists. Specify --upgrade to force replacement.\n",
      "WARNING: Target directory D:\\torch_env\\Lib\\site-packages\\jinja2 already exists. Specify --upgrade to force replacement.\n",
      "WARNING: Target directory D:\\torch_env\\Lib\\site-packages\\jinja2-3.1.6.dist-info already exists. Specify --upgrade to force replacement.\n",
      "WARNING: Target directory D:\\torch_env\\Lib\\site-packages\\markupsafe already exists. Specify --upgrade to force replacement.\n",
      "WARNING: Target directory D:\\torch_env\\Lib\\site-packages\\MarkupSafe-3.0.2.dist-info already exists. Specify --upgrade to force replacement.\n",
      "WARNING: Target directory D:\\torch_env\\Lib\\site-packages\\mpmath already exists. Specify --upgrade to force replacement.\n",
      "WARNING: Target directory D:\\torch_env\\Lib\\site-packages\\mpmath-1.3.0.dist-info already exists. Specify --upgrade to force replacement.\n",
      "WARNING: Target directory D:\\torch_env\\Lib\\site-packages\\networkx already exists. Specify --upgrade to force replacement.\n",
      "WARNING: Target directory D:\\torch_env\\Lib\\site-packages\\networkx-3.4.2.dist-info already exists. Specify --upgrade to force replacement.\n",
      "WARNING: Target directory D:\\torch_env\\Lib\\site-packages\\numpy already exists. Specify --upgrade to force replacement.\n",
      "WARNING: Target directory D:\\torch_env\\Lib\\site-packages\\numpy-2.2.5-cp310-cp310-win_amd64.whl already exists. Specify --upgrade to force replacement.\n",
      "WARNING: Target directory D:\\torch_env\\Lib\\site-packages\\numpy-2.2.5.dist-info already exists. Specify --upgrade to force replacement.\n",
      "WARNING: Target directory D:\\torch_env\\Lib\\site-packages\\numpy.libs already exists. Specify --upgrade to force replacement.\n",
      "WARNING: Target directory D:\\torch_env\\Lib\\site-packages\\packaging already exists. Specify --upgrade to force replacement.\n",
      "WARNING: Target directory D:\\torch_env\\Lib\\site-packages\\packaging-25.0.dist-info already exists. Specify --upgrade to force replacement.\n",
      "WARNING: Target directory D:\\torch_env\\Lib\\site-packages\\PIL already exists. Specify --upgrade to force replacement.\n",
      "WARNING: Target directory D:\\torch_env\\Lib\\site-packages\\PyYAML-6.0.2.dist-info already exists. Specify --upgrade to force replacement.\n",
      "WARNING: Target directory D:\\torch_env\\Lib\\site-packages\\regex already exists. Specify --upgrade to force replacement.\n",
      "WARNING: Target directory D:\\torch_env\\Lib\\site-packages\\regex-2024.11.6.dist-info already exists. Specify --upgrade to force replacement.\n",
      "WARNING: Target directory D:\\torch_env\\Lib\\site-packages\\requests already exists. Specify --upgrade to force replacement.\n",
      "WARNING: Target directory D:\\torch_env\\Lib\\site-packages\\requests-2.32.3.dist-info already exists. Specify --upgrade to force replacement.\n",
      "WARNING: Target directory D:\\torch_env\\Lib\\site-packages\\safetensors already exists. Specify --upgrade to force replacement.\n",
      "WARNING: Target directory D:\\torch_env\\Lib\\site-packages\\safetensors-0.5.3.dist-info already exists. Specify --upgrade to force replacement.\n",
      "WARNING: Target directory D:\\torch_env\\Lib\\site-packages\\sympy already exists. Specify --upgrade to force replacement.\n",
      "WARNING: Target directory D:\\torch_env\\Lib\\site-packages\\sympy-1.14.0.dist-info already exists. Specify --upgrade to force replacement.\n",
      "WARNING: Target directory D:\\torch_env\\Lib\\site-packages\\tokenizers already exists. Specify --upgrade to force replacement.\n",
      "WARNING: Target directory D:\\torch_env\\Lib\\site-packages\\tokenizers-0.21.1.dist-info already exists. Specify --upgrade to force replacement.\n",
      "WARNING: Target directory D:\\torch_env\\Lib\\site-packages\\torch already exists. Specify --upgrade to force replacement.\n",
      "WARNING: Target directory D:\\torch_env\\Lib\\site-packages\\torch-2.7.0.dist-info already exists. Specify --upgrade to force replacement.\n",
      "WARNING: Target directory D:\\torch_env\\Lib\\site-packages\\torchgen already exists. Specify --upgrade to force replacement.\n",
      "WARNING: Target directory D:\\torch_env\\Lib\\site-packages\\tqdm already exists. Specify --upgrade to force replacement.\n",
      "WARNING: Target directory D:\\torch_env\\Lib\\site-packages\\tqdm-4.67.1.dist-info already exists. Specify --upgrade to force replacement.\n",
      "WARNING: Target directory D:\\torch_env\\Lib\\site-packages\\transformers already exists. Specify --upgrade to force replacement.\n",
      "WARNING: Target directory D:\\torch_env\\Lib\\site-packages\\transformers-4.51.3.dist-info already exists. Specify --upgrade to force replacement.\n",
      "WARNING: Target directory D:\\torch_env\\Lib\\site-packages\\typing_extensions-4.13.2.dist-info already exists. Specify --upgrade to force replacement.\n",
      "WARNING: Target directory D:\\torch_env\\Lib\\site-packages\\typing_extensions.py already exists. Specify --upgrade to force replacement.\n",
      "WARNING: Target directory D:\\torch_env\\Lib\\site-packages\\urllib3 already exists. Specify --upgrade to force replacement.\n",
      "WARNING: Target directory D:\\torch_env\\Lib\\site-packages\\urllib3-2.4.0.dist-info already exists. Specify --upgrade to force replacement.\n",
      "WARNING: Target directory D:\\torch_env\\Lib\\site-packages\\yaml already exists. Specify --upgrade to force replacement.\n",
      "WARNING: Target directory D:\\torch_env\\Lib\\site-packages\\_yaml already exists. Specify --upgrade to force replacement.\n",
      "WARNING: Target directory D:\\torch_env\\Lib\\site-packages\\__pycache__ already exists. Specify --upgrade to force replacement.\n",
      "WARNING: Target directory D:\\torch_env\\Lib\\site-packages\\bin already exists. Specify --upgrade to force replacement.\n",
      "WARNING: Target directory D:\\torch_env\\Lib\\site-packages\\share already exists. Specify --upgrade to force replacement.\n"
     ]
    }
   ],
   "source": [
    "%pip install sentence-transformers"
   ]
  },
  {
   "cell_type": "code",
   "execution_count": null,
   "id": "2e81f152",
   "metadata": {},
   "outputs": [],
   "source": []
  }
 ],
 "metadata": {
  "kernelspec": {
   "display_name": "Python 3",
   "language": "python",
   "name": "python3"
  },
  "language_info": {
   "codemirror_mode": {
    "name": "ipython",
    "version": 3
   },
   "file_extension": ".py",
   "mimetype": "text/x-python",
   "name": "python",
   "nbconvert_exporter": "python",
   "pygments_lexer": "ipython3",
   "version": "3.10.16"
  }
 },
 "nbformat": 4,
 "nbformat_minor": 5
}
